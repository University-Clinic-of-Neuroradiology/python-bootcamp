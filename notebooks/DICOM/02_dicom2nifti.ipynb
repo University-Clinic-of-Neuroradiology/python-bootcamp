{
 "cells": [
  {
   "cell_type": "markdown",
   "metadata": {},
   "source": [
    "# Introduction of the Nifti File Format\n",
    "You'll learn all about the transformation from DICOM to the NIfTI file format and how you can work with them.\n",
    "\n",
    "This demo is a jupyter notebook, i.e. intended to be run step by step.\n",
    "\n",
    "Author: Eric Einspänner\n",
    "<br>\n",
    "Contributor: Nastaran Takmilhomayouni\n",
    "\n",
    "First version: 6th of July 2023\n",
    "\n",
    "\n",
    "Copyright 2023 Clinic of Neuroradiology, Magdeburg, Germany\n",
    "\n",
    "License: Apache-2.0"
   ]
  },
  {
   "cell_type": "markdown",
   "metadata": {},
   "source": [
    "## Table of contents\n",
    "0. [File Formats](#NIfTI-File-Format-Description)\n",
    "1. [Read DICOM File](#Read-DICOM-File)\n",
    "2. [Print DICOM Header](#Print-DICOM-Header)\n",
    "3. [Print NIfTI Header](#Print-NIfTI-Header)"
   ]
  },
  {
   "cell_type": "markdown",
   "metadata": {},
   "source": [
    "## NIfTI File Format Description\n",
    "NIfTI is one of the most ubiquitous file formats for storing neuroimaging data.\n",
    "The images can be stored as a pair of files (hdr/img), or a single file (nii).\n",
    "The NIfTI format stores spatial transforms so that software can determine the orientation of the image."
   ]
  },
  {
   "cell_type": "markdown",
   "metadata": {},
   "source": [
    "## Read DICOM File\n"
   ]
  },
  {
   "cell_type": "code",
   "execution_count": null,
   "metadata": {},
   "outputs": [],
   "source": [
    "# Make sure figures appears inline and animations works\n",
    "# Edit this to \"%matplotlib notebook\" when using the \"classic\" jupyter notebook interface\n",
    "%matplotlib widget"
   ]
  },
  {
   "cell_type": "code",
   "execution_count": null,
   "metadata": {},
   "outputs": [],
   "source": [
    "from pathlib import Path                        # pathlib for easy path handling\n",
    "import numpy as np\n",
    "import matplotlib.pyplot as plt\n",
    "import pydicom                                  # to read DICOM files\n",
    "from pydicom.data import get_testdata_file      # to load a test dataset\n",
    "\n",
    "import dicom2nifti                              # to convert DICOM files to the NIftI format\n",
    "import nibabel as nib                           # nibabel to handle nifti files\n",
    "\n",
    "# load test file\n",
    "dcm_data = get_testdata_file('MR_small.dcm')\n",
    "\n",
    "# read a DICOM file\n",
    "dcm = pydicom.dcmread(dcm_data)"
   ]
  },
  {
   "cell_type": "markdown",
   "metadata": {},
   "source": [
    "The following function `format_and_render_plot()` is just a simplify formatting method for the plots in this notebook."
   ]
  },
  {
   "cell_type": "code",
   "execution_count": null,
   "metadata": {},
   "outputs": [],
   "source": [
    "def format_and_render_plot(axis=False, legend=False):\n",
    "    '''\n",
    "    Custom function to simplify common formatting operations for exercises. Operations include: \n",
    "    1. Turning off axis grids and legends, if not explicitly requested.\n",
    "    2. Calling `plt.tight_layout` to improve subplot spacing.\n",
    "    3. Calling `plt.show()` to render plot.\n",
    "    '''\n",
    "    fig = plt.gcf()\n",
    "    for ax in fig.axes:\n",
    "        if not axis:\n",
    "            ax.axis('off')\n",
    "        if legend:  \n",
    "            ax.legend(loc='center right')  \n",
    "    plt.tight_layout()\n",
    "    plt.show()"
   ]
  },
  {
   "cell_type": "markdown",
   "metadata": {},
   "source": [
    "## Convert DICOM to Nifti"
   ]
  },
  {
   "cell_type": "markdown",
   "metadata": {},
   "source": [
    "As with the conversion of ordinary image files, we need to convert medical image files for various applications. There are already ready-made modules in Python for this.\n",
    "\n",
    "With the help of `dicom2nifti`, we convert a series of 2D DICOM images (remember: each slice is a separat image) into a 3D Nifti file. This also works for 4D DICOM files."
   ]
  },
  {
   "cell_type": "code",
   "execution_count": null,
   "metadata": {},
   "outputs": [],
   "source": [
    "# Define the path to the DICOM files\n",
    "head_mri_dicom = Path('../ImageAnalysis/Data/Brain/SE000001')\n",
    "\n",
    "# Convert the DICOM files to the NIfTI format\n",
    "dicom2nifti.convert_directory(head_mri_dicom, \".\")"
   ]
  },
  {
   "cell_type": "markdown",
   "metadata": {},
   "source": [
    "## Print NIfTI Header\n",
    "To read a NIfTI file, you can use the load function, which returns a Nifti1Image object containing the data from the NIfTI file."
   ]
  },
  {
   "cell_type": "code",
   "execution_count": null,
   "metadata": {},
   "outputs": [],
   "source": [
    "# Load the NIfTI file\n",
    "nifti = nib.load('201_t2w_tse.nii.gz')\n",
    "\n",
    "# Print the NIfTI object\n",
    "print(nifti)"
   ]
  },
  {
   "cell_type": "markdown",
   "metadata": {},
   "source": [
    "## Print Nifti attributes\n",
    "Similar to the DICOM header, Nifti contains an header with metadata. However, this is significantly reduced and no longer contains any patient- or location-specific information, but only the most important image parameters."
   ]
  },
  {
   "cell_type": "code",
   "execution_count": null,
   "metadata": {},
   "outputs": [],
   "source": [
    "print(nifti.header)"
   ]
  },
  {
   "cell_type": "markdown",
   "metadata": {},
   "source": [
    "<ins>Exercise:</ins> Compare this and the previous output! What do you notice?"
   ]
  },
  {
   "cell_type": "markdown",
   "metadata": {},
   "source": [
    "Similar to DICOM, we can also access the metadata here using different methods and extract individual values."
   ]
  },
  {
   "cell_type": "code",
   "execution_count": null,
   "metadata": {},
   "outputs": [],
   "source": [
    "print(nifti.header['dim'])"
   ]
  },
  {
   "cell_type": "markdown",
   "metadata": {},
   "source": [
    "The field `dim` contains the size of the image array. The first element (`dim[0]`) contains the number of dimensions. The dimensions 1, 2 and 3 are assumed to refer to space (x, y, z), the 4th dimension is assumed to refer to time, and the remaining dimensions, 5, 6 and 7, can be anything else. The value `dim[i]` is a positive integer representing the length of the i-th dimension."
   ]
  },
  {
   "cell_type": "code",
   "execution_count": null,
   "metadata": {},
   "outputs": [],
   "source": [
    "print('Shape of the nifti image is:', nifti.shape)                   # get the image shape\n",
    "print('Shape of the nifti image is:', nifti.header.get_data_shape()) # get the image shape in a different way"
   ]
  },
  {
   "cell_type": "markdown",
   "metadata": {},
   "source": [
    "## Get Pixel Data\n",
    "In order to be able to work with the image data and, for example, create a graphical representation, we need intensity values of the pixels/voxels. Since we have a 3D nifti image here, our array is also 3D."
   ]
  },
  {
   "cell_type": "code",
   "execution_count": null,
   "metadata": {},
   "outputs": [],
   "source": [
    "# Get the image data\n",
    "head_mri = nifti.get_fdata()\n",
    "\n",
    "# Print the image data type\n",
    "print(head_mri.dtype)\n",
    "\n",
    "# Print the image data shape\n",
    "print(head_mri.shape)"
   ]
  },
  {
   "cell_type": "markdown",
   "metadata": {},
   "source": [
    "We now want to create nine subplots over the entire length of the z-axis (27 slices)."
   ]
  },
  {
   "cell_type": "code",
   "execution_count": null,
   "metadata": {},
   "outputs": [],
   "source": [
    "fig, axis = plt.subplots(3, 3, figsize=(10, 10))\n",
    "\n",
    "slice_counter = 0\n",
    "for i in range(3):\n",
    "    for j in range(3):\n",
    "        axis[i][j].imshow(head_mri[:,:,slice_counter],cmap='gray')\n",
    "        slice_counter+=3"
   ]
  },
  {
   "cell_type": "markdown",
   "metadata": {},
   "source": [
    "link :https://www.kaggle.com/code/rinichristy/dicom-to-nifti-conversion-using-nibabel"
   ]
  },
  {
   "cell_type": "markdown",
   "metadata": {},
   "source": [
    "## Write NIfTI files"
   ]
  },
  {
   "cell_type": "markdown",
   "metadata": {},
   "source": [
    "Many times, image data obtained as the results of an algorithm or processing step has to be stored in the NIfTI format. This can be easily done using NiBabel. As an example, the 3D image array from above can be used to perform a simple processing step and save it as a new NIfTI file."
   ]
  },
  {
   "cell_type": "code",
   "execution_count": null,
   "metadata": {},
   "outputs": [],
   "source": [
    "# Here apply a very simple threshold and set all image voxels to 0 that have a value smaller than 300\n",
    "head_mri_processed = np.where(head_mri < 300, 0, head_mri)"
   ]
  },
  {
   "cell_type": "code",
   "execution_count": null,
   "metadata": {},
   "outputs": [],
   "source": [
    "# Now have a look at the results of this processing step (plotting slice number 13)\n",
    "fig, axes = plt.subplots(1, 2)\n",
    "axes[0].imshow(head_mri[:,:,13], cmap='gray')\n",
    "axes[0].set_title('raw image', fontweight =\"bold\")\n",
    "axes[1].imshow(head_mri_processed[:,:,13], cmap='gray')\n",
    "axes[1].set_title('preprocessed image', fontweight =\"bold\")\n",
    "format_and_render_plot()"
   ]
  },
  {
   "cell_type": "markdown",
   "metadata": {},
   "source": [
    "To save this, first, convert the processed head_mri image array file back to a nifti object by using the numpy array of the processed image and header information about the image geometry (affine matrix) from the original NIftI file."
   ]
  },
  {
   "cell_type": "code",
   "execution_count": null,
   "metadata": {},
   "outputs": [],
   "source": [
    "# Convert the processed image to a nifti object\n",
    "processed_nifti = nib.Nifti1Image(head_mri_processed, nifti.affine)"
   ]
  },
  {
   "cell_type": "markdown",
   "metadata": {},
   "source": [
    "Now save the processed image using the save function in NiBabel"
   ]
  },
  {
   "cell_type": "code",
   "execution_count": null,
   "metadata": {},
   "outputs": [],
   "source": [
    "# Save the preprocessed image as a NIfTI file\n",
    "nib.save(processed_nifti, '201_t2w_tse_processed.nii.gz')"
   ]
  },
  {
   "cell_type": "markdown",
   "metadata": {},
   "source": [
    "## ----------------------------------------------------------------------------------------"
   ]
  },
  {
   "cell_type": "markdown",
   "metadata": {},
   "source": [
    "## Optional: Additional File Formats\n",
    "We will briefly introduce other Fie formats below. We will not go into them in detail."
   ]
  }
 ],
 "metadata": {
  "kernelspec": {
   "display_name": "Python 3 (ipykernel)",
   "language": "python",
   "name": "python3"
  },
  "language_info": {
   "codemirror_mode": {
    "name": "ipython",
    "version": 3
   },
   "file_extension": ".py",
   "mimetype": "text/x-python",
   "name": "python",
   "nbconvert_exporter": "python",
   "pygments_lexer": "ipython3",
   "version": "3.9.18"
  }
 },
 "nbformat": 4,
 "nbformat_minor": 2
}
