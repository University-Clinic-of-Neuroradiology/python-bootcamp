{
 "cells": [
  {
   "cell_type": "markdown",
   "metadata": {},
   "source": [
    "# Introduction of further File Formats\n",
    "You'll learn all about the transformation from DICOM to different file formats.\n",
    "\n",
    "This demo is a jupyter notebook, i.e. intended to be run step by step.\n",
    "\n",
    "Author: Eric Einspänner\n",
    "<br>\n",
    "Contributor: Nastaran Takmilhomayouni\n",
    "\n",
    "First version: 6th of July 2023\n",
    "\n",
    "\n",
    "Copyright 2023 Clinic of Neuroradiology, Magdeburg, Germany\n",
    "\n",
    "License: Apache-2.0"
   ]
  },
  {
   "cell_type": "markdown",
   "metadata": {},
   "source": [
    "## Table of contents\n",
    "0. [Initial Set-Up for Google Colab](#initial-set-up-for-google-colab)\n",
    "1. [Initial Set-Up (offline)](#initial-set-up-offline)\n",
    "2. [META](#meta)\n",
    "3. [HDR](#hdr)\n",
    "4. [MNC](#mnc)"
   ]
  },
  {
   "cell_type": "markdown",
   "metadata": {},
   "source": [
    "## Initial Set-Up for Google Colab\n",
    "<u> Execute these code blocks just in Google Colab! </u>"
   ]
  },
  {
   "cell_type": "code",
   "execution_count": null,
   "metadata": {},
   "outputs": [],
   "source": [
    "!wget -q -O - https://github.com/University-Clinic-of-Neuroradiology/python-bootcamp/archive/refs/heads/main.tar.gz | tar -xzf - --strip-components=2 python-bootcamp-main/notebooks/DICOM"
   ]
  },
  {
   "cell_type": "code",
   "execution_count": null,
   "metadata": {},
   "outputs": [],
   "source": [
    "import os\n",
    "import sys\n",
    "from google.colab import output\n",
    "output.enable_custom_widget_manager()\n",
    "\n",
    "sys.path.insert(0,'DICOM')\n",
    "os.chdir(sys.path[0])"
   ]
  },
  {
   "cell_type": "code",
   "execution_count": null,
   "metadata": {},
   "outputs": [],
   "source": [
    "%pip install -q ipympl numpy matplotlib SimpleITK nibabel"
   ]
  },
  {
   "cell_type": "code",
   "execution_count": null,
   "metadata": {},
   "outputs": [],
   "source": [
    "import numpy as np\n",
    "import matplotlib.pyplot as plt\n",
    "\n",
    "import imageio.v2 as imageio\n",
    "import SimpleITK as sitk\n",
    "import nibabel as nib"
   ]
  },
  {
   "cell_type": "markdown",
   "metadata": {},
   "source": [
    "## Initial Set-Up (offline)"
   ]
  },
  {
   "cell_type": "code",
   "execution_count": null,
   "metadata": {},
   "outputs": [],
   "source": [
    "# Make sure figures appears inline and animations works\n",
    "# Edit this to \"%matplotlib notebook\" when using the \"classic\" jupyter notebook interface\n",
    "%matplotlib widget"
   ]
  },
  {
   "cell_type": "code",
   "execution_count": null,
   "metadata": {},
   "outputs": [],
   "source": [
    "import os\n",
    "import numpy as np\n",
    "import matplotlib.pyplot as plt\n",
    "\n",
    "import SimpleITK as sitk\n",
    "import nibabel as nib"
   ]
  },
  {
   "cell_type": "markdown",
   "metadata": {},
   "source": [
    "## --- Start notebook ---"
   ]
  },
  {
   "cell_type": "markdown",
   "metadata": {},
   "source": [
    "The following function `format_and_render_plot()` is just a simplify formatting method for the plots in this notebook."
   ]
  },
  {
   "cell_type": "code",
   "execution_count": null,
   "metadata": {},
   "outputs": [],
   "source": [
    "def format_and_render_plot(axis=False, legend=False):\n",
    "    '''\n",
    "    Custom function to simplify common formatting operations for exercises. Operations include: \n",
    "    1. Turning off axis grids and legends, if not explicitly requested.\n",
    "    2. Calling `plt.tight_layout` to improve subplot spacing.\n",
    "    3. Calling `plt.show()` to render plot.\n",
    "    '''\n",
    "    fig = plt.gcf()\n",
    "    for ax in fig.axes:\n",
    "        if not axis:\n",
    "            ax.axis('off')\n",
    "        if legend:  \n",
    "            ax.legend(loc='center right')  \n",
    "    plt.tight_layout()\n",
    "    plt.show()"
   ]
  },
  {
   "cell_type": "markdown",
   "metadata": {},
   "source": [
    "## META\n",
    "To read a META image/header file, you can use the SimpleITK library."
   ]
  },
  {
   "cell_type": "code",
   "execution_count": null,
   "metadata": {},
   "outputs": [],
   "source": [
    "mr_image = sitk.ReadImage('Data/training_001_mr_T1.mha')\n",
    "npa = sitk.GetArrayViewFromImage(mr_image)\n",
    "\n",
    "# Display the image slice from the middle of the stack, z axis\n",
    "z = int(mr_image.GetDepth()/2)\n",
    "npa_zslice = sitk.GetArrayViewFromImage(mr_image)[z,:,:]\n",
    "\n",
    "fig, axes = plt.subplots(1, 3)\n",
    "axes[0].imshow(npa_zslice)\n",
    "axes[0].set_title('default colormap', fontsize=8, fontweight =\"bold\")\n",
    "axes[1].imshow(npa_zslice, cmap='gray')\n",
    "axes[1].set_title('grey colormap', fontsize=8, fontweight =\"bold\")\n",
    "axes[2].imshow(npa_zslice, cmap='gray', vmin=npa.min(), vmax=npa.max())\n",
    "axes[2].set_title('grey colormap,\\n scaling based on\\n volumetric min and max values', fontsize=8, fontweight =\"bold\")\n",
    "format_and_render_plot()"
   ]
  },
  {
   "cell_type": "markdown",
   "metadata": {},
   "source": [
    "## HDR\n",
    "To work with HDR image, you can use python imageio and/or nibabel package.\n",
    "\n",
    "HDR files can come with both header (.hdr) and image files (.img) or only the image file.\n",
    "\n",
    "In order to load HDR image file through header, you can use `nibabel`:"
   ]
  },
  {
   "cell_type": "code",
   "execution_count": null,
   "metadata": {},
   "outputs": [],
   "source": [
    "img = nib.load(img_path)\n",
    "hdr = nib.load(hdr_path)"
   ]
  },
  {
   "cell_type": "code",
   "execution_count": null,
   "metadata": {},
   "outputs": [],
   "source": [
    "print(img)"
   ]
  },
  {
   "cell_type": "markdown",
   "metadata": {},
   "source": [
    "To convert hdr file you can use load function from python nibabel module to load the image and then save funtion to save it as nifti.\n",
    "\n",
    "Note: both img and hdr files should be in the folder but you can work with .img file"
   ]
  },
  {
   "cell_type": "code",
   "execution_count": null,
   "metadata": {},
   "outputs": [],
   "source": [
    "nib.save(img, img_path.replace('.img', '.nii'))"
   ]
  },
  {
   "cell_type": "markdown",
   "metadata": {},
   "source": [
    "You can also convert .nii to .hdr and .img file will be automatically created!"
   ]
  },
  {
   "cell_type": "code",
   "execution_count": null,
   "metadata": {},
   "outputs": [],
   "source": [
    "fname = 'Data/OAS1_0001_MR1_mpr_n4_anon_111_t88_masked_gfc_fseg.nii'\n",
    "img = nib.load(fname)\n",
    "\n",
    "print(type(img))\n",
    "print(img.affine)\n",
    "\n",
    "nib.nifti1.save(img, fname.replace('.nii','.hdr'))"
   ]
  },
  {
   "cell_type": "markdown",
   "metadata": {},
   "source": [
    "## MNC"
   ]
  },
  {
   "cell_type": "code",
   "execution_count": null,
   "metadata": {},
   "outputs": [],
   "source": [
    "img = nib.load('Data/subject04.mnc')\n",
    "\n",
    "data = img.get_fdata()\n",
    "print(data.mean())\n",
    "print(data.max())\n",
    "print(data.min())\n",
    "print(type(data))\n",
    "print(np.shape(data))"
   ]
  },
  {
   "cell_type": "code",
   "execution_count": null,
   "metadata": {},
   "outputs": [],
   "source": [
    "affine = np.array([[0, 0, 1, 0],\n",
    "                   [0, 1, 0, 0],\n",
    "                   [1, 0, 0, 0],\n",
    "                   [0, 0, 0, 1]])\n",
    "\n",
    "out = nib.Nifti1Image(img.get_fdata(), affine=affine)\n",
    "nib.save(out, 'Data/subject04.nii.gz')"
   ]
  },
  {
   "cell_type": "code",
   "execution_count": null,
   "metadata": {},
   "outputs": [],
   "source": [
    "print(type(img))\n",
    "print(type(out))"
   ]
  },
  {
   "cell_type": "code",
   "execution_count": null,
   "metadata": {},
   "outputs": [],
   "source": [
    "minc_data = img.get_fdata()\n",
    "out_data = out.get_fdata()\n",
    "\n",
    "fig, axes = plt.subplots(1, 2)\n",
    "axes[0].imshow(minc_data[:,100,:], cmap='gray')\n",
    "axes[0].set_title('minc', fontweight =\"bold\")\n",
    "axes[1].imshow(out_data[:,100,:], cmap='gray')\n",
    "axes[1].set_title('Nifti', fontweight =\"bold\")\n",
    "format_and_render_plot()"
   ]
  }
 ],
 "metadata": {
  "kernelspec": {
   "display_name": "bootcamp",
   "language": "python",
   "name": "python3"
  },
  "language_info": {
   "codemirror_mode": {
    "name": "ipython",
    "version": 3
   },
   "file_extension": ".py",
   "mimetype": "text/x-python",
   "name": "python",
   "nbconvert_exporter": "python",
   "pygments_lexer": "ipython3",
   "version": "3.9.18"
  }
 },
 "nbformat": 4,
 "nbformat_minor": 2
}
