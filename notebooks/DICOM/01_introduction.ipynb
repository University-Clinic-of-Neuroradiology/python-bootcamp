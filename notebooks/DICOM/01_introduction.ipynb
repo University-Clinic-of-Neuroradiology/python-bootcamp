{
 "cells": [
  {
   "cell_type": "markdown",
   "metadata": {},
   "source": [
    "# Introduction of the DICOM format\n",
    "You'll learn all about the DICOM file format and how to read, modify and anonymize them.\n",
    "\n",
    "This demo is a jupyter notebook, i.e. intended to be run step by step.\n",
    "\n",
    "Author: Eric Einspänner\n",
    "\n",
    "First version: 6th of July 2023\n",
    "\n",
    "\n",
    "Copyright 2023 Clinic of Neuroradiology, Magdeburg, Germany\n",
    "\n",
    "License: Apache-2.0"
   ]
  },
  {
   "cell_type": "markdown",
   "metadata": {},
   "source": [
    "## Table of contents\n",
    "0. [File Formats](#Neuroimaging-file-formats)\n",
    "1. [Initial set-up](#-Initial-set-up)\n",
    "2. [Print DICOM header](#Print-DICOM-Header)\n",
    "3. [Core elements](#Core-elements)\n",
    "    - [PyDICOM dataset](#PyDicom-Dataset)\n",
    "    - [Exercise 1](#Exercise)\n",
    "4. [Print specific tags](Pprint-specific-tags)\n",
    "5. [Methods](#Methods-for-a-pydicom-dataset)\n",
    "    - [Keys](#.keys()-Method)\n",
    "    - [Values](#.values()-Method)\n",
    "    - [Elements](#.elements()-Method)\n",
    "    - [Group dataset](#.group_dataset()-Method)\n",
    "    - [Dir](#.dir()-Method)\n",
    "6. [Modify tags](#Modify-Tags)\n",
    "7. [Deleting tags](#Deleting-Elements)\n",
    "    - [Exercise 2](#Exercise)\n",
    "8. [Anonymize a DICOM header](#Anonymize-a-Dicom-Header)\n",
    "9. [Writing](#Writing)\n",
    "10. [Attributes for pydicom dataset](#Attributes-for-PyDicom-DataSet)\n",
    "11. [Closing remark](#Closing-Remark)"
   ]
  },
  {
   "cell_type": "markdown",
   "metadata": {},
   "source": [
    "# Neuroimaging file formats\n",
    "| Format Name | File Extension | Origin                                         |\n",
    "|-------------|----------------|------------------------------------------------|\n",
    "| DICOM       | .dcm           | ACR/NEMA Consortium                            |\n",
    "| Analyze     | .img/.hdr      | Analyze Software, Mayo Clinic                  |\n",
    "| NIfTI       | .nii           | Neuroimaging Informatics Technology Initiative |\n",
    "| MINC        | .mnc           | Montreal Neurological Institute                |\n",
    "\n",
    "From the MRI scanner, images are initially collected in the DICOM format and can be converted to these other formats to make working with the data easier."
   ]
  },
  {
   "cell_type": "markdown",
   "metadata": {},
   "source": [
    "## Initial set-up\n",
    "To read a DICOM file, you can use the dcmread function, which returns a Dataset object containing the data from the DICOM file."
   ]
  },
  {
   "cell_type": "code",
   "execution_count": null,
   "metadata": {},
   "outputs": [],
   "source": [
    "# Make sure figures appears inline and animations works\n",
    "# Edit this to \"\"%matplotlib notebook\" when using the \"classic\" jupyter notebook interface\n",
    "%matplotlib widget\n",
    "\n",
    "import numpy\n",
    "import matplotlib.pyplot as plt"
   ]
  },
  {
   "cell_type": "code",
   "execution_count": null,
   "metadata": {},
   "outputs": [],
   "source": [
    "import pydicom\n",
    "from pydicom.data import get_testdata_file\n",
    "\n",
    "# load test file\n",
    "dcm_data = get_testdata_file('MR_small.dcm')\n",
    "\n",
    "# read a DICOM file\n",
    "dcm = pydicom.dcmread(dcm_data)"
   ]
  },
  {
   "cell_type": "markdown",
   "metadata": {},
   "source": [
    "## Print DICOM Header"
   ]
  },
  {
   "cell_type": "code",
   "execution_count": null,
   "metadata": {},
   "outputs": [],
   "source": [
    "print(dcm)"
   ]
  },
  {
   "cell_type": "markdown",
   "metadata": {},
   "source": [
    "We can see a pattern of the output, whereas the DICOM attributes are written row by row. Each row has a unique tag and other core elements of the DICOM attribute."
   ]
  },
  {
   "cell_type": "markdown",
   "metadata": {},
   "source": [
    "## Core elements\n",
    "Applying `.dcmread()` wraps a DataSet, a dictionary data structure {}. This DataSet contains keys and values represented like the following:\n",
    "\n",
    "- Keys: contains the DICOM Tags of the attributes specified in the DICOM file you are reading. Examples of the keys like:\n",
    "    - (0x0010, 0x0010) PatientName attribute.\n",
    "    - (0x0028, 0x0010) Rows attribute.\n",
    "    - (0x7fe0, 0x0010) PixelData attribute.\n",
    "    - The tags’ numbers consist of two hexadecimal, the first refers to the group, and the second refers to a specific element. So, you might find many attributes that have the same first number of tags.\n",
    "\n",
    "- Values: the values of this dictionary generally contain the following:\n",
    "    - Tag: the element’s tag like (0028, 0030), for example.\n",
    "    - Keyword: describes what the attribute refers to. The keyword of the tag (0028, 0030) is “Pixel Spacing”.\n",
    "    - VR: it’s only two characters that refer to the Value Representation of the element, which describes the data type and format of the attribute value. The VR of the tag (0028, 0030) is “DS”, Decimal String. You can see the VR of any tag and how it is represented using Python structures following the [link](https://pydicom.github.io/pydicom/stable/guides/element_value_types.html).\n",
    "    - Value: the actual value of the element. It could be an integer, a string, a list, or even a Sequence, which is a dataset of attributes. The value of the tag (0028, 0030) is a list of two floats that represent the physical distance along the rows and columns, respectively, in mm.\n",
    "\n",
    "![Alt text](img/pydicom_overview.png?raw=true \"The output of 'dcmread()' function\")\n",
    "\n",
    "### PyDicom DataSet\n",
    "A DICOM DataSet is a mutable mapping of DICOM DataElements. Each DataElement, a value of the dictionary, in the DICOM DataSet has a unique tag, a key of the dictionary, that identifies it. For example, the “PatientName” attribute corresponds to the tag (0x0010, 0x0010) in the DICOM standard, which identifies the patient’s name data element.\n",
    "\n",
    "![Alt text](img/pydicom_dataset.png?raw=true \"The contents of PyDicom DataSet class\")"
   ]
  },
  {
   "cell_type": "markdown",
   "metadata": {},
   "source": [
    "### Exercise\n",
    "Explore the DICOM file and answer the following questions:\n",
    "- Which keys contain information that defines the image size (matrix size)?\n",
    "- Specify the largest pixel value. Which VR is it?\n",
    "- On which day was the study recorded? Which VR was used here?"
   ]
  },
  {
   "cell_type": "markdown",
   "metadata": {},
   "source": [
    "## Print specific tags\n",
    "You can access specific DICOM attributes in many different ways like the following:"
   ]
  },
  {
   "cell_type": "code",
   "execution_count": null,
   "metadata": {},
   "outputs": [],
   "source": [
    "# Extract the patient's name.\n",
    "patient_name = dcm.PatientName\n",
    "print(patient_name)\n",
    "\n",
    "# Extract the patient's name using its unique DICOM tag (0010, 0010)\n",
    "patient_value = dcm[0x0010, 0x0010]\n",
    "print(patient_value)"
   ]
  },
  {
   "cell_type": "markdown",
   "metadata": {},
   "source": [
    "Can you see the difference between the two outputs?"
   ]
  },
  {
   "cell_type": "markdown",
   "metadata": {},
   "source": [
    "## Methods for a pydicom dataset"
   ]
  },
  {
   "cell_type": "markdown",
   "metadata": {},
   "source": [
    "### .keys() Method\n",
    "Using .keys() returns the list of the keys of the DataSet dictionary. This method could be helpful when joining metadata from multiple sources of DICOM files that have common DICOM attributes."
   ]
  },
  {
   "cell_type": "code",
   "execution_count": null,
   "metadata": {},
   "outputs": [],
   "source": [
    "# Extract the keys, the DICOM tags, that are in a DICOM file\n",
    "dcm.keys()"
   ]
  },
  {
   "cell_type": "markdown",
   "metadata": {},
   "source": [
    "### .values() Method\n",
    "This method returns a list of the values of the DataSet dictionary. It’s kinda bulky and not preferred to read in this form. But this method could be useful for iterating over a list of values in some cases."
   ]
  },
  {
   "cell_type": "code",
   "execution_count": null,
   "metadata": {},
   "outputs": [],
   "source": [
    "# Extract the values, the DICOM attributes, that are in a DICOM file\n",
    "dcm.values()"
   ]
  },
  {
   "cell_type": "markdown",
   "metadata": {},
   "source": [
    "### .elements() Method\n",
    "Using `.elements()` yields the top-level elements of the Dataset. This method will be useful when you don’t need the DICOM attributes in any of the Sequences that you might find in the DICOM files you’re working with. Notice how the Sequences are represented when using the `.elements()` method in the output figure below."
   ]
  },
  {
   "cell_type": "code",
   "execution_count": null,
   "metadata": {},
   "outputs": [],
   "source": [
    "# Extract the top-level elements of the Dataset Class\n",
    "[*dcm.elements()]"
   ]
  },
  {
   "cell_type": "markdown",
   "metadata": {},
   "source": [
    "### .group_dataset() Method\n",
    "As we’ve mentioned above, you might find many attributes that have the same first number. These tags, the ones with a common first tag, usually describe a common parameter. For example, the attributes with the common first tag (0x0010) usually refer to Patient-related attributes. Attributes with the first tag (0x0028) describe Image Pixel attributes. Sometimes it’s helpful to see all the attributes that are related to a specific parameter. Using the method (.group_dataset) returns a Dataset containing only elements of a certain group."
   ]
  },
  {
   "cell_type": "code",
   "execution_count": null,
   "metadata": {},
   "outputs": [],
   "source": [
    "# Extract the attributes related to 0x0028 tag, these are related to ImagePixel\n",
    "dcm.group_dataset(0x0028)"
   ]
  },
  {
   "cell_type": "markdown",
   "metadata": {},
   "source": [
    "### .dir() Method\n",
    "Return an alphabetical list of element keywords in the Dataset. This is a great choice to give the first insight into the metadata you’re dealing with."
   ]
  },
  {
   "cell_type": "code",
   "execution_count": null,
   "metadata": {},
   "outputs": [],
   "source": [
    "# An alphabetical list of the element keywords in the DICOM DataSet.\n",
    "dcm.dir()"
   ]
  },
  {
   "cell_type": "code",
   "execution_count": null,
   "metadata": {},
   "outputs": [],
   "source": [
    "# Extract all the attributes that have \"Pixel\" in its keywords\n",
    "dcm.dir('Pixel')"
   ]
  },
  {
   "cell_type": "markdown",
   "metadata": {},
   "source": [
    "## Modify Tags\n",
    "You can modify the value of any element by retrieving it and setting the value:"
   ]
  },
  {
   "cell_type": "code",
   "execution_count": null,
   "metadata": {},
   "outputs": [],
   "source": [
    "# use the keyword\n",
    "dcm.PatientName = 'Mustermann^Max'\n",
    "print(dcm[0x0010, 0x0010])\n",
    "\n",
    "# modify the value of any element by retrieving it and setting the value\n",
    "elem = dcm[0x0010, 0x0010]\n",
    "elem.value = 'Musterfrau^Max'\n",
    "print(elem)"
   ]
  },
  {
   "cell_type": "markdown",
   "metadata": {},
   "source": [
    "Multi-valued elements can be set using a list or modified using the list methods:"
   ]
  },
  {
   "cell_type": "code",
   "execution_count": null,
   "metadata": {},
   "outputs": [],
   "source": [
    "print(dcm.ImageType)\n",
    "# replaces the 2nd element of the list\n",
    "dcm.ImageType[1] = 'BLINDTEXT'\n",
    "# inserts the defined element at the 2nd position\n",
    "dcm.ImageType.insert(1, '2.BLINDTEXT')\n",
    "print(dcm.ImageType)"
   ]
  },
  {
   "cell_type": "markdown",
   "metadata": {},
   "source": [
    "## Deleting Elements\n",
    "All elements can be deleted with the del operator in combination with the element tag:"
   ]
  },
  {
   "cell_type": "code",
   "execution_count": null,
   "metadata": {},
   "outputs": [],
   "source": [
    "# use the keyword\n",
    "del dcm.WindowCenter\n",
    "\n",
    "# check, if WindowCenter is in DICOM header\n",
    "print('WindowCenter' in dcm)"
   ]
  },
  {
   "cell_type": "markdown",
   "metadata": {},
   "source": [
    "### Exercise\n",
    "Delete the Window Width using the correct element tag and then check whether the tag is still present."
   ]
  },
  {
   "cell_type": "code",
   "execution_count": null,
   "metadata": {},
   "outputs": [],
   "source": [
    "# Write your code here (the solution is below)\n",
    "\n",
    "\n",
    "\n",
    "\n",
    "\n",
    "\n"
   ]
  },
  {
   "cell_type": "code",
   "execution_count": null,
   "metadata": {},
   "outputs": [],
   "source": [
    "### Solution\n",
    "# use the element tag (here: Window Width)\n",
    "del dcm[0x0028, 0x1051]\n",
    "\n",
    "print('WindowWidth' in dcm)"
   ]
  },
  {
   "cell_type": "markdown",
   "metadata": {},
   "source": [
    "## Anonymize a DICOM Header"
   ]
  },
  {
   "cell_type": "code",
   "execution_count": 32,
   "metadata": {},
   "outputs": [],
   "source": [
    "# change the PatientID\n",
    "dcm.PatientID = \"Anonymous\"\n",
    "\n",
    "# change the PatientBirthDate\n",
    "tag = \"PatientBirthDate\"\n",
    "if tag in dcm:\n",
    "    dcm.data_element(tag).value = \"19000101\""
   ]
  },
  {
   "cell_type": "markdown",
   "metadata": {},
   "source": [
    "We can define a callback function to find all tags corresponding to a person names inside the dataset and set them to 'anonymous'."
   ]
  },
  {
   "cell_type": "code",
   "execution_count": 33,
   "metadata": {},
   "outputs": [],
   "source": [
    "def person_names_callback(dataset, data_element):\n",
    "    if data_element.VR == \"PN\":\n",
    "        data_element.value = \"anonymous\"\n",
    "\n",
    "# use the callback function to iterate through the dataset\n",
    "dcm.walk(person_names_callback)"
   ]
  },
  {
   "cell_type": "markdown",
   "metadata": {},
   "source": [
    "pydicom allows to remove private tags using `remove_private_tags()` method:"
   ]
  },
  {
   "cell_type": "code",
   "execution_count": null,
   "metadata": {},
   "outputs": [],
   "source": [
    "dcm.remove_private_tags()"
   ]
  },
  {
   "cell_type": "markdown",
   "metadata": {},
   "source": [
    "## Writing\n",
    "After changing the dataset, the final step is to write the modifications back to file. This can be done by using `save_as()` to write the dataset to the supplied path:"
   ]
  },
  {
   "cell_type": "code",
   "execution_count": 30,
   "metadata": {},
   "outputs": [],
   "source": [
    "# create a temporary file; the file is deleted as soon as it is closed\n",
    "import tempfile\n",
    "temp = tempfile.NamedTemporaryFile()\n",
    "\n",
    "# save the modify DICOM file as temp file\n",
    "dcm.save_as(temp)"
   ]
  },
  {
   "cell_type": "markdown",
   "metadata": {},
   "source": [
    "## Attributes for PyDicom DataSet\n",
    "There are some attributes that you can use with the DataSet class. The most important and commonly used attribute is pixel_array."
   ]
  },
  {
   "cell_type": "code",
   "execution_count": null,
   "metadata": {},
   "outputs": [],
   "source": [
    "# Extract the image pixels\n",
    "im = dcm.pixel_array\n",
    "print(im)"
   ]
  },
  {
   "cell_type": "markdown",
   "metadata": {},
   "source": [
    "Each value of this matrix represent a pixel in the image. Now, you will plot the image:"
   ]
  },
  {
   "cell_type": "code",
   "execution_count": null,
   "metadata": {},
   "outputs": [],
   "source": [
    "# Image representation\n",
    "plt.imshow(im, cmap='gray')\n",
    "plt.axis('off')\n",
    "plt.title('Pixel Array')\n",
    "plt.show()"
   ]
  },
  {
   "cell_type": "markdown",
   "metadata": {},
   "source": [
    "## Closing Remark\n",
    "PyDicom is the best package to deal with DICOM files. It’s kinda obvious because it’s specifically designed for DICOM. It provides more flexible options, especially when you want to deal with DICOM metadata and not just pixel data. On the other side, if you want only the pixel data, the better solution is ImageIO as it provides only the basic metadata that you need to deal with pixel data."
   ]
  },
  {
   "cell_type": "code",
   "execution_count": null,
   "metadata": {},
   "outputs": [],
   "source": []
  }
 ],
 "metadata": {
  "kernelspec": {
   "display_name": "Python 3 (ipykernel)",
   "language": "python",
   "name": "python3"
  },
  "language_info": {
   "codemirror_mode": {
    "name": "ipython",
    "version": 3
   },
   "file_extension": ".py",
   "mimetype": "text/x-python",
   "name": "python",
   "nbconvert_exporter": "python",
   "pygments_lexer": "ipython3",
   "version": "3.9.7"
  }
 },
 "nbformat": 4,
 "nbformat_minor": 2
}
