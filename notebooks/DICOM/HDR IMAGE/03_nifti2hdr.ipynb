{
 "cells": [
  {
   "cell_type": "markdown",
   "id": "4cea158a",
   "metadata": {},
   "source": [
    "# Introduction to Deep Learning in Python\n",
    "Learn the fundamentals concepts and terminology used working with converting nifti to HDR images.\n",
    "This demo is a jupyter notebook, i.e. intended to be run step by step.\n",
    "\n",
    "Author: Eric Einspänner\n",
    "<br>\n",
    "Contributor: Nastaran Takmilhomayouni\n",
    "\n",
    "First version: 6th of July 2023\n",
    "\n",
    "\n",
    "Copyright 2023 Clinic of Neuroradiology, Magdeburg, Germany\n",
    "\n",
    "License: Apache-2.0\n",
    "    \n",
    "*This dataset used in this tutorial can be found her: https://github.com/GinZhu/RDST/tree/main/data/OASIS/example/OAS1_0001_MR1/FSL_SEG*"
   ]
  },
  {
   "cell_type": "code",
   "execution_count": 6,
   "id": "c8bf0d70",
   "metadata": {},
   "outputs": [
    {
     "name": "stdout",
     "output_type": "stream",
     "text": [
      "<class 'nibabel.nifti1.Nifti1Image'>\n",
      "[[  -1.     0.     0.    87.5]\n",
      " [   0.     1.     0.  -103.5]\n",
      " [   0.     0.     1.   -87.5]\n",
      " [   0.     0.     0.     1. ]]\n"
     ]
    }
   ],
   "source": [
    "#you can convert .nii to .img\n",
    "#hdr file will be automatically created!\n",
    "import nibabel as nib\n",
    "import numpy as np\n",
    "import os\n",
    "np.bool = np.bool_\n",
    "\n",
    "\n",
    "fname='Data/nifti2img/OAS1_0001_MR1_mpr_n4_anon_111_t88_masked_gfc_fseg.nii'\n",
    "img = nib.load(fname)\n",
    "print(type(img))\n",
    "print(img.affine)\n",
    "\n",
    "nib.nifti1.save(img,fname.replace('.nii','.img'))\n",
    "#nib.nifti1.save(img, os.getcwd()+'{}'.format(r'\\nifti2imgOAS1_0001_MR1_mpr_n4_anon_111_t88_masked_gfc_fseg.hdr'))"
   ]
  },
  {
   "cell_type": "code",
   "execution_count": 8,
   "id": "4e079d14",
   "metadata": {},
   "outputs": [
    {
     "name": "stdout",
     "output_type": "stream",
     "text": [
      "<class 'nibabel.nifti1.Nifti1Image'>\n",
      "[[  -1.     0.     0.    87.5]\n",
      " [   0.     1.     0.  -103.5]\n",
      " [   0.     0.     1.   -87.5]\n",
      " [   0.     0.     0.     1. ]]\n"
     ]
    }
   ],
   "source": [
    "#you can convert .nii to .hdr\n",
    "#img file will be automatically created!\n",
    "\n",
    "import nibabel as nib\n",
    "import numpy as np\n",
    "import os\n",
    "np.bool = np.bool_\n",
    "\n",
    "fname='Data/nifti2hdr/OAS1_0001_MR1_mpr_n4_anon_111_t88_masked_gfc_fseg.nii'\n",
    "img = nib.load(fname)\n",
    "print(type(img))\n",
    "print(img.affine)\n",
    "\n",
    "nib.nifti1.save(img,fname.replace('.nii','.hdr'))\n"
   ]
  },
  {
   "cell_type": "code",
   "execution_count": null,
   "id": "04aada8b",
   "metadata": {},
   "outputs": [],
   "source": []
  }
 ],
 "metadata": {
  "kernelspec": {
   "display_name": "Python 3 (ipykernel)",
   "language": "python",
   "name": "python3"
  },
  "language_info": {
   "codemirror_mode": {
    "name": "ipython",
    "version": 3
   },
   "file_extension": ".py",
   "mimetype": "text/x-python",
   "name": "python",
   "nbconvert_exporter": "python",
   "pygments_lexer": "ipython3",
   "version": "3.9.7"
  }
 },
 "nbformat": 4,
 "nbformat_minor": 5
}
