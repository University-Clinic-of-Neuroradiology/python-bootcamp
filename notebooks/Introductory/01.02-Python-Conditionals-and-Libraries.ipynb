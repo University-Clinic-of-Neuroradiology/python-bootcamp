{
  "cells": [
    {
      "cell_type": "markdown",
      "metadata": {
        "id": "gHUtL6cB-Qs-"
      },
      "source": [
        "# Python Conditionals and Libraries\n",
        "The purpose of this Jupyter Notebook is to get you started using control structures. A control structure directs the order of execution of the statements in a program. Sometimes you want to execute code only in certain circumstances.\n",
        "\n",
        "This demo is a jupyter notebook, i.e. intended to be run step by step.\n",
        "\n",
        "Author: Eric Einspänner\n",
        "<br>\n",
        "Contributor: Nastaran Takmilhomayouni\n",
        "\n",
        "First version: 6th of July 2023\n",
        "\n",
        "\n",
        "Copyright 2023 Clinic of Neuroradiology, Magdeburg, Germany\n",
        "\n",
        "License: Apache-2.0\n",
        "\n",
        "*This notebook contains course material from [CBE30338](https://jckantor.github.io/CBE30338) by Jeffrey Kantor (jeff at nd.edu); the content is available [on Github](https://github.com/jckantor/CBE30338.git). The text is released under the [CC-BY-NC-ND-4.0 license](https://creativecommons.org/licenses/by-nc-nd/4.0/legalcode), and code is released under the [MIT license](https://opensource.org/licenses/MIT).*"
      ]
    },
    {
      "cell_type": "markdown",
      "metadata": {
        "id": "1hFZUx7p-QtA"
      },
      "source": [
        "## Introduction\n",
        "In this tutorial, we will cover:\n",
        "\n",
        "- How to use conditionals\n",
        "- Definition of functions\n",
        "- Basic libraries (numpy, matplotlib, pandas)"
      ]
    },
    {
      "cell_type": "markdown",
      "metadata": {
        "id": "MrtFuESR-QtA"
      },
      "source": [
        "## Table of contents\n",
        "0. [Initial Set-Up for Google Colab](#initial-set-up-for-google-colab)\n",
        "1. [Conditionals in Python](#Conditionals-in-Python)\n",
        "    - [if-else Statement](#if-else-Statement)\n",
        "        - [Exercise](#exercise-if-statement)\n",
        "    - [if-elif-else Statement](#if-elif-else-Statement)\n",
        "        - [Exercise](#exercise-symptom-checker)\n",
        "2. [Functions in Python](#Functions-in-Python)\n",
        "    - [Exercise](#Exercise-Functions)\n",
        "3. [Python Libraries](#Python-Libraries)\n",
        "    - [Numpy](#Numpy)\n",
        "    - [Matplotlib](#Plotting-with-Matplotlib)\n",
        "    - [Pandas](#Pandas)\n",
        "        - [Pandas Dataframe](#Pandas-Dataframe)\n",
        "        - [Pandas Series](#Pandas-Series)\n",
        "        - [Read CSV](#Read-CSV)\n",
        "        - [Read JSON](#-Series)"
      ]
    },
    {
      "cell_type": "markdown",
      "metadata": {
        "id": "H3DTSdO4IOHJ"
      },
      "source": [
        "## Initial Setup for Google Colab\n",
        "<u> Execute these code blocks just in Google Colab! </u>"
      ]
    },
    {
      "cell_type": "code",
      "execution_count": null,
      "metadata": {
        "id": "FwY7njFrBSef"
      },
      "outputs": [],
      "source": [
        "!git clone https://github.com/University-Clinic-of-Neuroradiology/python-bootcamp.git"
      ]
    },
    {
      "cell_type": "code",
      "execution_count": null,
      "metadata": {
        "id": "4suqGmYPHPNI"
      },
      "outputs": [],
      "source": [
        "import os\n",
        "import sys\n",
        "from google.colab import output\n",
        "output.enable_custom_widget_manager()\n",
        "\n",
        "sys.path.insert(0,'/content/python-bootcamp/notebooks/Introductory')\n",
        "os.chdir(sys.path[0])"
      ]
    },
    {
      "cell_type": "code",
      "execution_count": null,
      "metadata": {
        "id": "AATtFKfq_DJb"
      },
      "outputs": [],
      "source": [
        "%pip install -q ipympl"
      ]
    },
    {
      "cell_type": "markdown",
      "metadata": {},
      "source": [
        "## --- Start notebook ---"
      ]
    },
    {
      "cell_type": "markdown",
      "metadata": {
        "id": "fiK_nXTt-QtA"
      },
      "source": [
        "## Conditionals in Python\n",
        "Sometimes you want to execute code only in certain circumstances."
      ]
    },
    {
      "cell_type": "markdown",
      "metadata": {
        "id": "oSiCBtb_-QtA"
      },
      "source": [
        "### if-else Statement\n",
        "To express conditional logic in Python, use if statements. When you write an if statement, you are relying on the concept of mathematical operators or Boolean logic.\n",
        "An if statement is an example of a structure that creates a new block. The block includes all of the code that is indented. The indentation (tab character) is imperative. Don't forget it!"
      ]
    },
    {
      "cell_type": "markdown",
      "metadata": {
        "id": "HIPEgRAJ-QtA"
      },
      "source": [
        "You must use an if statement to execute the code only if a certain condition is met. When writing an if statement, you first check the condition using a test expression. You then determine whether the statement evaluates to True or False. If it evaluates to True, the next indented code block is executed:"
      ]
    },
    {
      "cell_type": "code",
      "execution_count": null,
      "metadata": {
        "id": "3VOtLlPo-QtB"
      },
      "outputs": [],
      "source": [
        "a = 97\n",
        "b = 55\n",
        "\n",
        "# test expression\n",
        "if a < b:\n",
        "    # statement to be run\n",
        "    print(b)"
      ]
    },
    {
      "cell_type": "markdown",
      "metadata": {
        "id": "puBd3e6A-QtB"
      },
      "source": [
        "In this example, `a < b` is the test expression. The program evaluates the test expression and only executes the code within the if statement if the test expression is `True`. If you evaluate the expression (a is greater than b), you know that it returns `False`, so the code you write in the if statement is not executed."
      ]
    },
    {
      "cell_type": "markdown",
      "metadata": {
        "id": "gNuTkFvd-QtB"
      },
      "source": [
        "### Exercise (if-statement)\n",
        "Correct the test expression so that the code is executed under the if statement."
      ]
    },
    {
      "cell_type": "code",
      "execution_count": null,
      "metadata": {
        "id": "yGEUv6N3-QtB"
      },
      "outputs": [],
      "source": [
        "# Write your code here (the solution is below)\n",
        "\n",
        "\n",
        "\n",
        "\n",
        "\n"
      ]
    },
    {
      "cell_type": "code",
      "execution_count": null,
      "metadata": {
        "id": "IZs7B7UD-QtC"
      },
      "outputs": [],
      "source": [
        "### Solution\n",
        "if a > b:\n",
        "    print(b)"
      ]
    },
    {
      "cell_type": "markdown",
      "metadata": {
        "id": "FjD3teCm-QtC"
      },
      "source": [
        "### Another example\n",
        "You know that when using an if statement, the program text is only executed if the test expression returns `True`. To add more code that will be executed if your test expression returns `False`, you need to add an else statement.\n",
        "\n",
        "Change answer and see what code is executed:"
      ]
    },
    {
      "cell_type": "code",
      "execution_count": null,
      "metadata": {
        "id": "Jci29kWb-QtC"
      },
      "outputs": [],
      "source": [
        "answer = 3.14\n",
        "\n",
        "if answer == 3.14:\n",
        "    print('Yeah! That\\'s correct!')\n",
        "else:\n",
        "    print('Pity. Try again.')"
      ]
    },
    {
      "cell_type": "markdown",
      "metadata": {
        "id": "sYTjd4_M-QtC"
      },
      "source": [
        "### if-elif-else Statement\n",
        "In Python, the keyword elif is the abbreviation for else if. You can use elif statements to add several test expressions to the program. These statements are executed in the order in which they are written. The program therefore only enters an elif statement if the first if statement is `False`.\n",
        "\n",
        "Change answer and see what code is executed:"
      ]
    },
    {
      "cell_type": "code",
      "execution_count": null,
      "metadata": {
        "id": "AxCJzmIu-QtC"
      },
      "outputs": [],
      "source": [
        "answer = 42\n",
        "\n",
        "if answer == 42:\n",
        "    print('This is the answer to the ultimate question')\n",
        "elif answer < 42:\n",
        "    print('This is less than the answer to the ultimate question')\n",
        "else:\n",
        "    print('This is more than the answer to the ultimate question')\n",
        "\n",
        "print('This print statement is run no matter what because it is not indented!')"
      ]
    },
    {
      "cell_type": "markdown",
      "metadata": {
        "id": "-ltFoaid-QtC"
      },
      "source": [
        "### Exercise (Symptom Checker)\n",
        "Write a Python script that checks a patient's symptoms to determine potential illnesses.\n",
        "\n",
        "- If the symptoms include fever, cough, and sore throat, it should indicate that the patient may have the flu.\n",
        "- If only runny nose and cough are present, the script should suggest that the patient may have a common cold.\n",
        "- If none of these conditions are met, the script should print that the symptoms do not indicate the flu.\n",
        "\n",
        "The script should take into account the presence or absence of these symptoms and provide the appropriate output based on the combinations observed."
      ]
    },
    {
      "cell_type": "code",
      "execution_count": null,
      "metadata": {
        "id": "zqX53j1I-QtC"
      },
      "outputs": [],
      "source": [
        "symptoms = ['fever', 'cough', 'sore throat', 'runny nose']\n",
        "\n",
        "# Write your code here (the solution is below)\n",
        "\n",
        "\n",
        "\n",
        "\n",
        "\n",
        "\n"
      ]
    },
    {
      "cell_type": "code",
      "execution_count": null,
      "metadata": {
        "id": "RRqS2QwT-QtC"
      },
      "outputs": [],
      "source": [
        "### Solution\n",
        "symptoms = ['fever', 'cough', 'sore throat', 'runny nose']\n",
        "\n",
        "if 'fever' in symptoms and 'cough' in symptoms and 'sore throat' in symptoms:\n",
        "    print(\"The patient may have the flu.\")\n",
        "elif 'runny nose' in symptoms and 'cough' in symptoms:\n",
        "    print(\"The patient may have a common cold.\")\n",
        "else:\n",
        "    print(\"The patient's symptoms do not indicate the flu.\")"
      ]
    },
    {
      "cell_type": "markdown",
      "metadata": {
        "id": "BLmbQCXI-QtC"
      },
      "source": [
        "## Functions in Python\n",
        "We can separate off code into functions, that can take input and can give output. They serve as black boxes from the perspective of the rest of our code"
      ]
    },
    {
      "cell_type": "code",
      "execution_count": null,
      "metadata": {
        "id": "OjTg066x-QtC"
      },
      "outputs": [],
      "source": [
        "# use the def keyword, and indent because this creates a new block\n",
        "def capitalize_word(str):\n",
        "    str = str.capitalize()\n",
        "    print(str)\n",
        "\n",
        "   #End with the \"return\" keyword\n",
        "    return\n",
        "\n",
        "# call functions by repeating their name, and putting your variable in the parenthesis.\n",
        "# Your variable need not be named the same thing, but it should be the right type!\n",
        "capitalize_word('hello')\n",
        "capitalize_word('World!')\n",
        "\n",
        "# Your functions can return data if you so choose\n",
        "def step(x):\n",
        "    if (x < 0):\n",
        "        return -1\n",
        "    elif (x > 0):\n",
        "        return 1\n",
        "\n",
        "print(step(-1))\n",
        "print(step(1))\n",
        "\n",
        "# what happens for x = 0?\n",
        "print(step(0))"
      ]
    },
    {
      "cell_type": "markdown",
      "metadata": {
        "id": "iIiEgwiw-QtD"
      },
      "source": [
        "Python automatically adds in a \"return none\" statement if you are missing one. If you see \"none\" make sure your program can work with that!"
      ]
    },
    {
      "cell_type": "markdown",
      "metadata": {
        "id": "VkNEi3kQ-QtD"
      },
      "source": [
        "### Exercise (Functions)\n",
        "Fix the return `none` issue. Modify the `step()` function."
      ]
    },
    {
      "cell_type": "code",
      "execution_count": null,
      "metadata": {
        "id": "IZy0nriW-QtD"
      },
      "outputs": [],
      "source": [
        "# Write your code here (the solution is below)\n",
        "\n",
        "\n",
        "\n",
        "\n",
        "\n"
      ]
    },
    {
      "cell_type": "code",
      "execution_count": null,
      "metadata": {
        "id": "4dKMbLQl-QtD"
      },
      "outputs": [],
      "source": [
        "### Solution\n",
        "def step_v2(x):\n",
        "    if (x < 0):\n",
        "        return -1\n",
        "    elif (x >= 0):\n",
        "        return 1\n",
        "\n",
        "print(step_v2(0))"
      ]
    },
    {
      "cell_type": "markdown",
      "metadata": {
        "id": "bqOakSLc-QtD"
      },
      "source": [
        "## Python Libraries\n",
        "The Python language has only very basic operations. Most math functions are in various math libraries."
      ]
    },
    {
      "cell_type": "markdown",
      "metadata": {
        "id": "hodHCxXm-QtD"
      },
      "source": [
        "### Numpy\n",
        "The `numpy` library is convenient library.  This next cell shows how to import `numpy` with the prefix `np`, then use it to call a common mathematical functions."
      ]
    },
    {
      "cell_type": "code",
      "execution_count": null,
      "metadata": {
        "id": "DEgEbEVN-QtD"
      },
      "outputs": [],
      "source": [
        "import numpy as np\n",
        "\n",
        "# mathematical constants\n",
        "print(np.pi)\n",
        "print(np.e)\n",
        "\n",
        "# trignometric functions\n",
        "angle = np.pi/4\n",
        "print(np.sin(angle))\n",
        "print(np.cos(angle))\n",
        "print(np.tan(angle))"
      ]
    },
    {
      "cell_type": "markdown",
      "metadata": {
        "id": "iwvaKvp5-QtD"
      },
      "source": [
        "### Plotting with Matplotlib\n",
        "Importing the `matplotlib.pyplot` library gives IPython notebooks plotting functionality very similar to Matlab's. Here are some examples using functions from the"
      ]
    },
    {
      "cell_type": "code",
      "execution_count": null,
      "metadata": {
        "id": "EsES8SEp-QtD"
      },
      "outputs": [],
      "source": [
        "# Make sure figures appears inline and animations works\n",
        "# Edit this to \"\"%matplotlib notebook\" when using the \"classic\" jupyter notebook interface\n",
        "%matplotlib widget\n",
        "\n",
        "# import library\n",
        "import matplotlib.pyplot as plt\n",
        "\n",
        "# define\n",
        "x = np.linspace(0,10)\n",
        "y = np.sin(x)\n",
        "\n",
        "# plot\n",
        "plt.plot(x, y)\n",
        "plt.xlabel('Radians')                # add a x label\n",
        "plt.ylabel('Value')                  # add a y label\n",
        "plt.title('Plotting Demonstration')  # add a title\n",
        "plt.legend(['Sin','Cos'])            # add a legend\n",
        "plt.show()"
      ]
    },
    {
      "cell_type": "markdown",
      "metadata": {
        "id": "5Go2_SFC-QtD"
      },
      "source": [
        "### Pandas\n",
        "`pandas` is a spreadsheet application for Python and offers user-friendly functions for data tables. Importing the `pandas` library gives IPython notebooks fast, flexible, and expressive data structures designed to make working with “relational” or “labeled” data both easy and intuitive."
      ]
    },
    {
      "cell_type": "markdown",
      "metadata": {
        "id": "Y6IX1DJK-QtD"
      },
      "source": [
        "<center>\n",
        "<a title=\"BruceBlaus, CC BY 3.0 &lt;https://creativecommons.org/licenses/by/3.0&gt;, via Wikimedia Commons\" href=\"https://pandas.pydata.org/docs/getting_started/intro_tutorials/02_read_write.html\"><img height=\"512\" alt=\"Data Types\" src=\"https://pandas.pydata.org/docs/_images/02_io_readwrite.svg\"></a>\n",
        "\n",
        "</center>"
      ]
    },
    {
      "cell_type": "markdown",
      "metadata": {
        "id": "eHpO_qw--QtD"
      },
      "source": [
        "best python libraries in medicine https://pycad.co/the-best-python-libraries-for-medical-imaging/"
      ]
    },
    {
      "cell_type": "markdown",
      "metadata": {
        "id": "L-FN4FcU-QtE"
      },
      "source": [
        "#### Pandas Dataframe\n",
        "A Pandas DataFrame is a two-dimensional, labeled data structure within the Pandas library for Python. Resembling a table or spreadsheet, it consists of rows and columns, where each column can hold different data types (numeric, string, boolean, etc.). The DataFrame provides powerful tools for data manipulation, cleaning, analysis, and exploration. It allows for easy indexing, slicing, merging, reshaping, and aggregating data, making it a versatile and fundamental tool in data science and analysis workflows."
      ]
    },
    {
      "cell_type": "code",
      "execution_count": null,
      "metadata": {
        "id": "_qn5NGXU-QtE"
      },
      "outputs": [],
      "source": [
        "import pandas as pd\n",
        "\n",
        "# Let's create one dataset as a python dictionary\n",
        "mydict = {\n",
        "  'cars': [\"BMW\", \"Volvo\", \"Ford\"],\n",
        "  'passings': [3, 7, 2]\n",
        "}\n",
        "\n",
        "# Pandas can convert python dictionary to an structure called DataFrame\n",
        "mydtframe = pd.DataFrame(mydict)\n",
        "\n",
        "print(type(mydtframe))\n",
        "print(mydtframe)\n"
      ]
    },
    {
      "cell_type": "markdown",
      "metadata": {
        "id": "abl3wyVH-QtE"
      },
      "source": [
        "#### Pandas Series\n",
        "A Pandas Series is a one-dimensional labeled array capable of holding various data types (integers, strings, floats, etc.) in a tabular form. It resembles a column in a spreadsheet or a simple array/list with associated index labels for each element."
      ]
    },
    {
      "cell_type": "code",
      "execution_count": null,
      "metadata": {
        "id": "uAugoxpE-QtE"
      },
      "outputs": [],
      "source": [
        "# Let's create one dataset as a python list\n",
        "mylist = [1, 7, 2]\n",
        "\n",
        "# Pandas can convert python list to an structure called Series\n",
        "myseries = pd.Series(mylist)\n",
        "\n",
        "print(type(myseries))\n",
        "print(myseries)\n"
      ]
    },
    {
      "cell_type": "code",
      "execution_count": null,
      "metadata": {
        "id": "Irf1KJMZ-QtE"
      },
      "outputs": [],
      "source": [
        "# With the index argument, you can label your data\n",
        "mylabeledseries = pd.Series(mylist, index = [\"x\", \"y\", \"z\"])\n",
        "print(mylabeledseries)\n"
      ]
    },
    {
      "cell_type": "markdown",
      "metadata": {
        "id": "x_lLzM9X-QtE"
      },
      "source": [
        "#### Read CSV\n",
        "The `pandas.read_csv()` function is a versatile tool in the Pandas library used to read and load data from a CSV (Comma-Separated Values) file into a Pandas DataFrame. It offers a simple and efficient way to import data by specifying the file path or URL. This function supports a wide range of parameters to handle various CSV file formats, handle missing or malformed data, specify delimiters, and customize data types."
      ]
    },
    {
      "cell_type": "code",
      "execution_count": null,
      "metadata": {
        "id": "jkcX8WLo-QtE"
      },
      "outputs": [],
      "source": [
        "# Load the CSV into a DataFrame\n",
        "csv2df = pd.read_csv('/Data/data.csv')\n",
        "\n",
        "print('first three rows : \\n', csv2df.head(3)) # see the first 3 rows\n",
        "print('last three rows :\\n',csv2df.tail(3)) # see the last 3 rows\n",
        "\n",
        "print('data information : \\n')\n",
        "print(csv2df.info())  #print information about the data:"
      ]
    },
    {
      "cell_type": "markdown",
      "metadata": {
        "id": "oawFxc6b-QtH"
      },
      "source": [
        "#### Read JSON\n",
        "The `pandas.read_json()` function within the Pandas library is designed to efficiently read and load JSON (JavaScript Object Notation) data into a Pandas DataFrame. It provides a straightforward method to ingest JSON data from a file, string, or URL and convert it into a structured DataFrame format. This function supports various options for handling JSON data with different structures, including nested objects and arrays."
      ]
    },
    {
      "cell_type": "code",
      "execution_count": null,
      "metadata": {
        "id": "YX0PKpMZ-QtH"
      },
      "outputs": [],
      "source": [
        "df = pd.read_json(sys.path[0] + '/Data/data.json') # read json file as pandas DataFrame\n",
        "\n",
        "print(type(df))\n",
        "print(df)"
      ]
    },
    {
      "cell_type": "code",
      "execution_count": null,
      "metadata": {
        "id": "DSFEVigv-QtH"
      },
      "outputs": [],
      "source": [
        "# Set the figure size\n",
        "plt.figure(figsize=(10, 6))\n",
        "\n",
        "# Create the bar plot\n",
        "plt.bar(df.Duration, df.Pulse, color='skyblue', width=2.0)\n",
        "\n",
        "# Add labels and title\n",
        "plt.xlabel('Duration')\n",
        "plt.ylabel('Pulse')\n",
        "plt.title('Pulse by Duration')\n",
        "\n",
        "# Add a grid\n",
        "plt.grid(True)\n",
        "\n",
        "# Show the plot\n",
        "plt.show()"
      ]
    }
  ],
  "metadata": {
    "colab": {
      "provenance": [],
      "toc_visible": true
    },
    "kernelspec": {
      "display_name": "Python 3 (ipykernel)",
      "language": "python",
      "name": "python3"
    },
    "language_info": {
      "codemirror_mode": {
        "name": "ipython",
        "version": 3
      },
      "file_extension": ".py",
      "mimetype": "text/x-python",
      "name": "python",
      "nbconvert_exporter": "python",
      "pygments_lexer": "ipython3",
      "version": "3.9.18"
    }
  },
  "nbformat": 4,
  "nbformat_minor": 0
}
