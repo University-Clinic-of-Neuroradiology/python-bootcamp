{
 "cells": [
  {
   "cell_type": "markdown",
   "metadata": {},
   "source": [
    "# Getting Started with Python and Jupyter Notebooks\n",
    "The purpose of this Jupyter Notebook is to get you started using Python and Jupyter Notebooks. This introduction assumes this is your first exposure to Python or Jupyter notebooks.\n",
    "\n",
    "This demo is a jupyter notebook, i.e. intended to be run step by step.\n",
    "\n",
    "Author: Eric Einspänner\n",
    "\n",
    "First version: 6th of July 2023\n",
    "\n",
    "\n",
    "Copyright 2023 Clinic of Neuroradiology, Magdeburg, Germany\n",
    "\n",
    "License: Apache-2.0\n",
    "\n",
    "*This notebook contains course material from [CBE30338](https://jckantor.github.io/CBE30338) by Jeffrey Kantor (jeff at nd.edu); the content is available [on Github](https://github.com/jckantor/CBE30338.git). The text is released under the [CC-BY-NC-ND-4.0 license](https://creativecommons.org/licenses/by-nc-nd/4.0/legalcode), and code is released under the [MIT license](https://opensource.org/licenses/MIT).*"
   ]
  },
  {
   "cell_type": "markdown",
   "metadata": {},
   "source": [
    "## Introduction\n",
    "Python is a great general-purpose programming language on its own, but with the help of a few popular libraries (numpy, scipy, matplotlib) it becomes a powerful environment for scientific computing.\n",
    "\n",
    "In this tutorial, we will cover:\n",
    "\n",
    "- How to start a Jupyter Notebook Session\n",
    "- Basic Python: Basic data types (Containers, Lists, Dictionaries), Operations"
   ]
  },
  {
   "cell_type": "markdown",
   "metadata": {},
   "source": [
    "## Table of contents\n",
    "1. [Gain Executable Access to Jupyter Notebooks](#Gain-Executable-Access-to-Jupyter-Notebooks)\n",
    "2. [Start a Jupyter Notebook Session](#Start-a-Jupyter-Notebook-Session)\n",
    "3. [Basic data types](#Basic-Data-Types)\n",
    "    - [Variable assignment](#Variable-Assignment)\n",
    "    - [Numbers](#Numbers)\n",
    "    - [Booleans](#Booleans)\n",
    "    - [Strings](#Srings)\n",
    "4. [Containers](#Cntainers)\n",
    "    - [Lists](#Lists)\n",
    "    - [Slicing](#Slicing)\n",
    "    - [List comprehensions](#List-Comprehensions)\n",
    "    - [Loop lists](#Loop-Lists)\n",
    "    - [Dictionaries](#Dictionaries)\n",
    "5. [Basic arithmetic operations](#Basic-Arithmetic-Operations)\n",
    "6. [Loops](#Loops)\n",
    "    - [While loops](#While-Loops)\n",
    "    - [For loops](#For-Loops)"
   ]
  },
  {
   "cell_type": "markdown",
   "metadata": {},
   "source": [
    "## Gain Executable Access to Jupyter Notebooks\n",
    "Jupyter notebooks are documents that can be viewed and executed inside any modern web browser. Since you're reading this notebook, you already know how to view a Jupyter notebook. The next step is to learn how to execute computations that may be embedded in a Jupyter notebook.\n",
    "\n",
    "To execute Python code in a notebook you will need access to a Python kernel. A kernel is simply a program that runs in the background, maintains workspace memory for variables and functions, and executes Python code. The kernal can be located on the same laptop as your web browser or located in an on-line cloud service."
   ]
  },
  {
   "cell_type": "markdown",
   "metadata": {},
   "source": [
    "## Start a Jupyter Notebook Session\n",
    "If you are using a cloud-based service a Jupyter session will be started when you log on. \n",
    "\n",
    "If you have installed a Jupyter/Python distribution on your laptop then you can open a Jupyter session in one of two different ways:\n",
    " \n",
    "* Use the Anaconda Navigator App, or \n",
    "* open a terminal window on your laptop and execute the following statement at the command line: `jupyter notebook`\n",
    " \n",
    "Either way, once you have opened a session you should see a browser window like this:\n",
    "\n",
    "![Screen Shot Jupyter Session](figures/Screen-Shot-Jupyter-Session.png)\n",
    " \n",
    "At this point the browser displays a list of directories and files. You can navigate amoung the directories in the usual way by clicking on directory names or on the 'breadcrumbs' located just about the listing. \n",
    " \n",
    "Jupyter notebooks are simply files in a directory with a `.ipynb` suffix. They can be stored in any directory including Dropbox or Google Drive. Upload and create new Jupyter notebooks in the displayed directory using the appropriate buttons. Use the checkboxes to select items for other actions, such as to duplicate, to rename, or to delete notebooks and directories.\n",
    " \n",
    "* select one of your existing notebooks to work on,\n",
    "* start a new notebook by clicking on the `New Notebook` button, or \n",
    "* import a notebook from another directory by dragging it onto the list of notebooks.\n",
    " \n",
    "An IPython notebook consists of cells that hold headings, text, or python code. The user interface is relatively self-explanatory. Take a few minutes now to open, rename, and save a new notebook. \n",
    " \n",
    "Here's a quick video overview of Jupyter notebooks:"
   ]
  },
  {
   "cell_type": "code",
   "execution_count": 1,
   "metadata": {},
   "outputs": [
    {
     "data": {
      "image/jpeg": "[encoded data removed]",
      "text/html": [
       "\n",
       "        <iframe\n",
       "            width=\"560\"\n",
       "            height=\"315\"\n",
       "            src=\"https://www.youtube.com/embed/HW29067qVWk?rel=0\"\n",
       "            frameborder=\"0\"\n",
       "            allowfullscreen\n",
       "            \n",
       "        ></iframe>\n",
       "        "
      ],
      "text/plain": [
       "<IPython.lib.display.YouTubeVideo at 0x1906341aee0>"
      ]
     },
     "execution_count": 1,
     "metadata": {},
     "output_type": "execute_result"
    }
   ],
   "source": [
    "from IPython.display import YouTubeVideo\n",
    "YouTubeVideo(\"HW29067qVWk\",560,315,rel=0)"
   ]
  },
  {
   "cell_type": "markdown",
   "metadata": {},
   "source": [
    "## Basic data types"
   ]
  },
  {
   "cell_type": "markdown",
   "metadata": {},
   "source": [
    "### Variable Assignment\n",
    "In Python, a variable allows you to refer to a value with a name. To create a variable `x` with a value of `3`, you use `=`, like this example:"
   ]
  },
  {
   "cell_type": "code",
   "execution_count": 2,
   "metadata": {},
   "outputs": [
    {
     "name": "stdout",
     "output_type": "stream",
     "text": [
      "3\n"
     ]
    }
   ],
   "source": [
    "x = 3\n",
    "print(x)"
   ]
  },
  {
   "cell_type": "markdown",
   "metadata": {},
   "source": [
    "You can now use the name of this variable, `x`, instead of the actual value, `3`.\n",
    "\n",
    "WARNING: `=` in Python means assignment, it doesn't test equality!"
   ]
  },
  {
   "cell_type": "markdown",
   "metadata": {},
   "source": [
    "### Numbers\n",
    "Integers and floats work as you would expect from other languages:"
   ]
  },
  {
   "cell_type": "code",
   "execution_count": null,
   "metadata": {},
   "outputs": [],
   "source": [
    "# Integers\n",
    "x = 5\n",
    "print(x)\n",
    "print(type(x))"
   ]
  },
  {
   "cell_type": "code",
   "execution_count": null,
   "metadata": {},
   "outputs": [],
   "source": [
    "# Float: floating point number, or a number containing digits after the decimal point\n",
    "x = 2.53\n",
    "print(x)\n",
    "print(type(x))"
   ]
  },
  {
   "cell_type": "markdown",
   "metadata": {},
   "source": [
    "### Booleans\n",
    "Python implements all of the usual operators for Boolean logic (True and False):"
   ]
  },
  {
   "cell_type": "code",
   "execution_count": null,
   "metadata": {},
   "outputs": [],
   "source": [
    "t, f = True, False\n",
    "x, y = 2, 3.1"
   ]
  },
  {
   "cell_type": "markdown",
   "metadata": {},
   "source": [
    "Now we let's look at the operations:"
   ]
  },
  {
   "cell_type": "code",
   "execution_count": null,
   "metadata": {},
   "outputs": [],
   "source": [
    "# Boolean logic\n",
    "print(t and f) # Logical AND;\n",
    "print(t or f)  # Logical OR;\n",
    "print(not t)   # Logical NOT;\n",
    "print(t != f)  # Logical XOR;\n",
    "\n",
    "# now with mathematical relational operators\n",
    "print(x == y)  # x is identical to y\n",
    "print(x >= y)  # x is greater than or equal to y\n",
    "print(x <= y)  # x is less than or equal to y\n",
    "print(x != y)  # x is not y"
   ]
  },
  {
   "cell_type": "markdown",
   "metadata": {},
   "source": [
    "### Strings\n",
    "A string in Python describes a character string consisting of a sequence of individual characters."
   ]
  },
  {
   "cell_type": "code",
   "execution_count": null,
   "metadata": {},
   "outputs": [],
   "source": [
    "hello = 'hello'   # String literals can use single quotes\n",
    "world = \"world\"   # or double quotes; it does not matter\n",
    "print(hello)\n",
    "print(type(hello))\n",
    "\n",
    "# length of the string\n",
    "print(len(world))\n",
    "\n",
    "# we can add both strings\n",
    "print(hello + world)\n",
    "\n",
    "# and we can use 'mathematical' operations\n",
    "print(hello * 3)"
   ]
  },
  {
   "cell_type": "markdown",
   "metadata": {},
   "source": [
    "String objects have a bunch of useful methods, for example:"
   ]
  },
  {
   "cell_type": "code",
   "execution_count": null,
   "metadata": {},
   "outputs": [],
   "source": [
    "s = \"student\"\n",
    "print(s.capitalize())           # Capitalize a string; prints \"Student\"\n",
    "print(s.upper())                # Convert a string to uppercase; prints \"STUDENT\"\n",
    "print(s.replace('d', '(ddd)'))  # Replace all instances of one substring with another;"
   ]
  },
  {
   "cell_type": "markdown",
   "metadata": {},
   "source": [
    "## Containers\n",
    "Python includes several built-in container types, e.g. lists and dictionaries."
   ]
  },
  {
   "cell_type": "markdown",
   "metadata": {},
   "source": [
    "### Lists\n",
    "Lists are used to store multiple items in a single variable, they are resizeable and can contain elements of different types:"
   ]
  },
  {
   "cell_type": "code",
   "execution_count": null,
   "metadata": {},
   "outputs": [],
   "source": [
    "thislist = [\"apple\", \"banana\", \"cherry\"]\n",
    "print(thislist)\n",
    "print(type(thislist))\n",
    "\n",
    "otherlist = [1, 2, True, 3.14, \"students\"]\n",
    "print(otherlist)"
   ]
  },
  {
   "cell_type": "markdown",
   "metadata": {},
   "source": [
    "It is possible to add, remove and address specific elements in the list (indexing).\n",
    "\n",
    "WARNING: Indexing in Python starts at 0, which means that the first element in a sequence has an index of 0, the second element has an index of 1, and so on."
   ]
  },
  {
   "cell_type": "code",
   "execution_count": null,
   "metadata": {},
   "outputs": [],
   "source": [
    "# indexing\n",
    "print(otherlist[0])\n",
    "print(otherlist[-1])\n",
    "\n",
    "# add a new element to the end of the list\n",
    "otherlist.append(0)\n",
    "print(otherlist)\n",
    "\n",
    "# we can combine to lists -> Concatenation\n",
    "new_list = otherlist + thislist\n",
    "print(new_list)\n",
    "\n",
    "# remove the last element of the list\n",
    "new_list.pop()\n",
    "print(new_list)"
   ]
  },
  {
   "cell_type": "markdown",
   "metadata": {},
   "source": [
    "### Slicing\n",
    "In addition to accessing list elements one at a time, Python provides concise syntax to access sublists; this is known as slicing:"
   ]
  },
  {
   "cell_type": "code",
   "execution_count": null,
   "metadata": {},
   "outputs": [],
   "source": [
    "nums = [*range(5)]     # range is a built-in function to initialize a sequence of numbers\n",
    "print(nums)            # Prints \"[0, 1, 2, 3, 4]\"\n",
    "print(nums[2:4])       # Get a slice from index 2 to 4 (exclusive); prints \"[2, 3]\"\n",
    "print(nums[2:])        # Get a slice from index 2 to the end; prints \"[2, 3, 4]\"\n",
    "print(nums[:2])        # Get a slice from the start to index 2 (exclusive); prints \"[0, 1]\"\n",
    "print(nums[:])         # Get a slice of the whole list; prints [\"0, 1, 2, 3, 4]\"\n",
    "print(nums[:-1])       # Slice indices can be negative; prints [\"0, 1, 2, 3]\"\n",
    "nums[2:4] = [8, 9]     # Assign a new sublist to a slice\n",
    "print(nums)            # Prints \"[0, 1, 8, 9, 4]\""
   ]
  },
  {
   "cell_type": "markdown",
   "metadata": {},
   "source": [
    "### List comprehensions\n",
    "When programming, frequently we want to transform one type of data into another. As a simple example, consider the following code that computes square numbers:"
   ]
  },
  {
   "cell_type": "code",
   "execution_count": null,
   "metadata": {},
   "outputs": [],
   "source": [
    "nums = [*range(5)]\n",
    "squares = [x ** 2 for x in nums]\n",
    "print(squares)"
   ]
  },
  {
   "cell_type": "markdown",
   "metadata": {},
   "source": [
    "### Loop Lists\n",
    "You can loop over the elements of a list like this:"
   ]
  },
  {
   "cell_type": "code",
   "execution_count": null,
   "metadata": {},
   "outputs": [],
   "source": [
    "animals = ['cat', 'dog', 'monkey']\n",
    "for animal in animals:\n",
    "    print(animal)"
   ]
  },
  {
   "cell_type": "markdown",
   "metadata": {},
   "source": [
    "If you want access to the index of each element within the body of a loop, use the built-in enumerate function:"
   ]
  },
  {
   "cell_type": "code",
   "execution_count": null,
   "metadata": {},
   "outputs": [],
   "source": [
    "animals = ['cat', 'dog', 'monkey']\n",
    "for idx, animal in enumerate(animals):\n",
    "    print('#%d: %s' % (idx, animal))"
   ]
  },
  {
   "cell_type": "markdown",
   "metadata": {},
   "source": [
    "### Dictionaries\n",
    "A dictionary stores (key, value) pairs. You can use it like this:"
   ]
  },
  {
   "cell_type": "code",
   "execution_count": null,
   "metadata": {},
   "outputs": [],
   "source": [
    "d = {'cat': 'cute', 'dog': 'furry'}  # Create a new dictionary with some data\n",
    "print(d)\n",
    "print(type(d))\n",
    "\n",
    "print(d['cat'])                      # Get an entry from a dictionary; prints \"cute\"\n",
    "print('cat' in d)                    # Check if a dictionary has a given key; prints \"True\""
   ]
  },
  {
   "cell_type": "code",
   "execution_count": null,
   "metadata": {},
   "outputs": [],
   "source": [
    "d['fish'] = 'wet'    # Set an entry in a dictionary\n",
    "print(d)\n",
    "\n",
    "del d['cat']         # Remove an element from a dictionary\n",
    "print(d)"
   ]
  },
  {
   "cell_type": "markdown",
   "metadata": {},
   "source": [
    "It is easy to iterate over the keys in a dictionary:"
   ]
  },
  {
   "cell_type": "code",
   "execution_count": null,
   "metadata": {},
   "outputs": [],
   "source": [
    "d = {'ostrich': 2, 'dog': 4, 'spider': 8}\n",
    "for animal in d:\n",
    "    legs = d[animal]\n",
    "    print('A %s has %d legs' % (animal, legs))"
   ]
  },
  {
   "cell_type": "markdown",
   "metadata": {},
   "source": [
    "## Basic Operations with Python\n",
    "Python is an elegant and modern language for programming and problem solving that has found increasing use by engineers and scientists.  In the next few cells we'll demonstrate some basic Python functionality."
   ]
  },
  {
   "cell_type": "markdown",
   "metadata": {},
   "source": [
    "### Basic Arithmetic Operations\n",
    "Basic arithmetic operations are built into the Python langauge. Here are some examples. In particular, note that exponentiation is done with the \\*\\* operator."
   ]
  },
  {
   "cell_type": "code",
   "execution_count": null,
   "metadata": {},
   "outputs": [],
   "source": [
    "a = 12\n",
    "b = 2\n",
    "\n",
    "print(a + b)\n",
    "print(a**b)\n",
    "print(a/b)"
   ]
  },
  {
   "cell_type": "markdown",
   "metadata": {},
   "source": [
    "## Loops\n",
    "Repeat code until a conditional statement ends the loop."
   ]
  },
  {
   "cell_type": "markdown",
   "metadata": {},
   "source": [
    "### While Loops"
   ]
  },
  {
   "cell_type": "code",
   "execution_count": null,
   "metadata": {},
   "outputs": [],
   "source": [
    "fib = [1, 1, 2, 3, 5, 8]\n",
    "\n",
    "#While loops are the basic type\n",
    "i = 0\n",
    "while(i < len(fib)):\n",
    "    print(fib[i])\n",
    "    i = i + 1"
   ]
  },
  {
   "cell_type": "markdown",
   "metadata": {},
   "source": [
    "### For Loops"
   ]
  },
  {
   "cell_type": "code",
   "execution_count": null,
   "metadata": {},
   "outputs": [],
   "source": [
    "for num in fib:\n",
    "    print(num)"
   ]
  }
 ],
 "metadata": {
  "kernelspec": {
   "display_name": "Python 3 (ipykernel)",
   "language": "python",
   "name": "python3"
  },
  "language_info": {
   "codemirror_mode": {
    "name": "ipython",
    "version": 3
   },
   "file_extension": ".py",
   "mimetype": "text/x-python",
   "name": "python",
   "nbconvert_exporter": "python",
   "pygments_lexer": "ipython3",
   "version": "3.9.7"
  }
 },
 "nbformat": 4,
 "nbformat_minor": 2
}
