{
 "cells": [
  {
   "cell_type": "markdown",
   "metadata": {},
   "source": [
    "# Python Conditionals and Libraries\n",
    "The purpose of this Jupyter Notebook is to get you started using control structures. A control structure directs the order of execution of the statements in a program. Sometimes you want to execute code only in certain circumstances.\n",
    "\n",
    "This demo is a jupyter notebook, i.e. intended to be run step by step.\n",
    "\n",
    "Author: Eric Einspänner\n",
    "\n",
    "First version: 6th of July 2023\n",
    "\n",
    "\n",
    "Copyright 2023 Clinic of Neuroradiology, Magdeburg, Germany\n",
    "\n",
    "License: Apache-2.0\n",
    "\n",
    "*This notebook contains course material from [CBE30338](https://jckantor.github.io/CBE30338) by Jeffrey Kantor (jeff at nd.edu); the content is available [on Github](https://github.com/jckantor/CBE30338.git). The text is released under the [CC-BY-NC-ND-4.0 license](https://creativecommons.org/licenses/by-nc-nd/4.0/legalcode), and code is released under the [MIT license](https://opensource.org/licenses/MIT).*"
   ]
  },
  {
   "cell_type": "markdown",
   "metadata": {},
   "source": [
    "## Introduction\n",
    "In this tutorial, we will cover:\n",
    "\n",
    "- How to use conditionals\n",
    "- Definition of functions\n",
    "- Basic libraries (numpy, matplotlib)"
   ]
  },
  {
   "cell_type": "markdown",
   "metadata": {},
   "source": [
    "## Table of contents\n",
    "1. [Conditionals in Python](#Conditionals-in-Python)\n",
    "    - [if-else Statement](#if-else-Statement)\n",
    "    - [if-elif-else Statement](#if-elif-else-Statement)\n",
    "2. [Functions in Python](#Functions-in-Python)\n",
    "    - [Exercise](#Exercise)\n",
    "3. [Python Libraries](#Python-Libraries)\n",
    "    - [Numpy](#Numpy)\n",
    "    - [Matplotlib](#Plotting-with-Matplotlib)\n",
    "    - [Pandas](#Pandas)"
   ]
  },
  {
   "cell_type": "markdown",
   "metadata": {},
   "source": [
    "## Conditionals in Python\n",
    "Sometimes you want to execute code only in certain circumstances."
   ]
  },
  {
   "cell_type": "markdown",
   "metadata": {},
   "source": [
    "### if-else Statement\n",
    "An if statement is an example of a structure that creates a new block. The block includes all of the code that is indented. The indentation (tab character) is imperative. Don't forget it!"
   ]
  },
  {
   "cell_type": "code",
   "execution_count": null,
   "metadata": {},
   "outputs": [],
   "source": [
    "# Change answer and see what code is executed:\n",
    "answer = 3.14\n",
    "\n",
    "if answer == 3.14:\n",
    "    print('Yeah! That\\'s correct!')\n",
    "else:\n",
    "    print('Pity. Try again.')"
   ]
  },
  {
   "cell_type": "markdown",
   "metadata": {},
   "source": [
    "### if-elif-else Statement"
   ]
  },
  {
   "cell_type": "code",
   "execution_count": null,
   "metadata": {},
   "outputs": [],
   "source": [
    "# Change answer and see what code is executed:\n",
    "answer = 42\n",
    "\n",
    "if answer == 42:\n",
    "    print('This is the answer to the ultimate question')\n",
    "elif answer < 42:\n",
    "    print('This is less than the answer to the ultimate question')\n",
    "else:\n",
    "    print('This is more than the answer to the ultimate question')\n",
    "\n",
    "print('This print statement is run no matter what because it is not indented!')"
   ]
  },
  {
   "cell_type": "markdown",
   "metadata": {},
   "source": [
    "## Functions in Python\n",
    "We can separate off code into functions, that can take input and can give output. They serve as black boxes from the perspective of the rest of our code"
   ]
  },
  {
   "cell_type": "code",
   "execution_count": null,
   "metadata": {},
   "outputs": [],
   "source": [
    "#use the def keyword, and indent because this creates a new block\n",
    "def capitalize_word(str):\n",
    "    str = str.capitalize()\n",
    "    print(str)\n",
    "   \n",
    "   #End with the \"return\" keyword\n",
    "    return\n",
    "\n",
    "# call functions by repeating their name, and putting your variable in the parenthesis.\n",
    "# Your variable need not be named the same thing, but it should be the right type!\n",
    "capitalize_word('hello')\n",
    "capitalize_word('World!')\n",
    "\n",
    "#Your functions can return data if you so choose\n",
    "def step(x):\n",
    "    if (x < 0):\n",
    "        return -1\n",
    "    elif (x > 0):\n",
    "        return 1\n",
    "\n",
    "print(step(-1))\n",
    "print(step(1))\n",
    "\n",
    "#what happens for x = 0?\n",
    "print(step(0))"
   ]
  },
  {
   "cell_type": "markdown",
   "metadata": {},
   "source": [
    "Python automatically adds in a \"return none\" statement if you are missing one. If you see \"none\" make sure your program can work with that!"
   ]
  },
  {
   "cell_type": "markdown",
   "metadata": {},
   "source": [
    "### Exercise\n",
    "Fix the return `none` issue. Modify the `step()` function."
   ]
  },
  {
   "cell_type": "code",
   "execution_count": null,
   "metadata": {},
   "outputs": [],
   "source": [
    "# Write your code here (the solution is below)\n",
    "\n",
    "\n",
    "\n",
    "\n",
    "\n"
   ]
  },
  {
   "cell_type": "code",
   "execution_count": null,
   "metadata": {},
   "outputs": [],
   "source": [
    "### Solution\n",
    "def step_v2(x):\n",
    "    if (x < 0):\n",
    "        return -1\n",
    "    elif (x >= 0):\n",
    "        return 1\n",
    "    \n",
    "print(step_v2(0))"
   ]
  },
  {
   "cell_type": "markdown",
   "metadata": {},
   "source": [
    "## Python Libraries\n",
    "The Python language has only very basic operations. Most math functions are in various math libraries."
   ]
  },
  {
   "cell_type": "markdown",
   "metadata": {},
   "source": [
    "### Numpy\n",
    "The `numpy` library is convenient library.  This next cell shows how to import `numpy` with the prefix `np`, then use it to call a common mathematical functions."
   ]
  },
  {
   "cell_type": "code",
   "execution_count": 1,
   "metadata": {},
   "outputs": [
    {
     "name": "stdout",
     "output_type": "stream",
     "text": [
      "3.141592653589793\n",
      "2.718281828459045\n",
      "0.7071067811865476\n",
      "0.7071067811865476\n",
      "0.9999999999999999\n"
     ]
    }
   ],
   "source": [
    "import numpy as np\n",
    "\n",
    "# mathematical constants\n",
    "print(np.pi)\n",
    "print(np.e)\n",
    "\n",
    "# trignometric functions\n",
    "angle = np.pi/4\n",
    "print(np.sin(angle))\n",
    "print(np.cos(angle))\n",
    "print(np.tan(angle))"
   ]
  },
  {
   "cell_type": "markdown",
   "metadata": {},
   "source": [
    "### Plotting with Matplotlib\n",
    "Importing the `matplotlib.pyplot` library gives IPython notebooks plotting functionality very similar to Matlab's. Here are some examples using functions from the"
   ]
  },
  {
   "cell_type": "code",
   "execution_count": 41,
   "metadata": {},
   "outputs": [
    {
     "ename": "NameError",
     "evalue": "name 'np' is not defined",
     "output_type": "error",
     "traceback": [
      "\u001b[1;31m---------------------------------------------------------------------------\u001b[0m",
      "\u001b[1;31mNameError\u001b[0m                                 Traceback (most recent call last)",
      "\u001b[1;32m~\\AppData\\Local\\Temp/ipykernel_13172/1366785495.py\u001b[0m in \u001b[0;36m<module>\u001b[1;34m\u001b[0m\n\u001b[0;32m      7\u001b[0m \u001b[1;33m\u001b[0m\u001b[0m\n\u001b[0;32m      8\u001b[0m \u001b[1;31m# define\u001b[0m\u001b[1;33m\u001b[0m\u001b[1;33m\u001b[0m\u001b[0m\n\u001b[1;32m----> 9\u001b[1;33m \u001b[0mx\u001b[0m \u001b[1;33m=\u001b[0m \u001b[0mnp\u001b[0m\u001b[1;33m.\u001b[0m\u001b[0mlinspace\u001b[0m\u001b[1;33m(\u001b[0m\u001b[1;36m0\u001b[0m\u001b[1;33m,\u001b[0m\u001b[1;36m10\u001b[0m\u001b[1;33m)\u001b[0m\u001b[1;33m\u001b[0m\u001b[1;33m\u001b[0m\u001b[0m\n\u001b[0m\u001b[0;32m     10\u001b[0m \u001b[0my\u001b[0m \u001b[1;33m=\u001b[0m \u001b[0mnp\u001b[0m\u001b[1;33m.\u001b[0m\u001b[0msin\u001b[0m\u001b[1;33m(\u001b[0m\u001b[0mx\u001b[0m\u001b[1;33m)\u001b[0m\u001b[1;33m\u001b[0m\u001b[1;33m\u001b[0m\u001b[0m\n\u001b[0;32m     11\u001b[0m \u001b[1;33m\u001b[0m\u001b[0m\n",
      "\u001b[1;31mNameError\u001b[0m: name 'np' is not defined"
     ]
    }
   ],
   "source": [
    "# Make sure figures appears inline and animations works\n",
    "# Edit this to \"\"%matplotlib notebook\" when using the \"classic\" jupyter notebook interface\n",
    "%matplotlib widget\n",
    "\n",
    "# import library\n",
    "import matplotlib.pyplot as plt\n",
    "\n",
    "# define\n",
    "x = np.linspace(0,10)\n",
    "y = np.sin(x)\n",
    "\n",
    "# plot\n",
    "plt.plot(x, y)\n",
    "plt.xlabel('Radians')                # add a x label\n",
    "plt.ylabel('Value')                  # add a y label\n",
    "plt.title('Plotting Demonstration')  # add a title\n",
    "plt.legend(['Sin','Cos'])            # add a legend"
   ]
  },
  {
   "cell_type": "markdown",
   "metadata": {},
   "source": [
    "### Pandas\n",
    "Importing the `pandas` library gives IPython notebooks fast, flexible, and expressive data structures designed to make working with “relational” or “labeled” data both easy and intuitive. "
   ]
  },
  {
   "cell_type": "markdown",
   "metadata": {},
   "source": [
    "<center>\n",
    "<a title=\"BruceBlaus, CC BY 3.0 &lt;https://creativecommons.org/licenses/by/3.0&gt;, via Wikimedia Commons\" href=\"https://pandas.pydata.org/docs/getting_started/intro_tutorials/02_read_write.html\"><img height=\"512\" alt=\"Data Types\" src=\"https://pandas.pydata.org/docs/_images/02_io_readwrite.svg\"></a>\n",
    "\n",
    "</center>"
   ]
  },
  {
   "cell_type": "markdown",
   "metadata": {},
   "source": [
    "best python libraries in medicine https://pycad.co/the-best-python-libraries-for-medical-imaging/"
   ]
  },
  {
   "cell_type": "markdown",
   "metadata": {},
   "source": [
    "Pandas Dataframe"
   ]
  },
  {
   "cell_type": "code",
   "execution_count": 9,
   "metadata": {},
   "outputs": [
    {
     "name": "stdout",
     "output_type": "stream",
     "text": [
      "<class 'dict'>\n",
      "<class 'pandas.core.frame.DataFrame'>\n",
      "    cars  passings\n",
      "0    BMW         3\n",
      "1  Volvo         7\n",
      "2   Ford         2\n"
     ]
    }
   ],
   "source": [
    "import pandas as pd \n",
    "\n",
    "# Let's create one dataset as a python dictionary\n",
    "mydict = {\n",
    "  'cars': [\"BMW\", \"Volvo\", \"Ford\"],\n",
    "  'passings': [3, 7, 2]\n",
    "}\n",
    "# Pandas can convert python dictionary to an structure called DataFrame\n",
    "mydtframe = pd.DataFrame(mydict)\n",
    "\n",
    "print(type(mydtframe))\n",
    "print(mydtframe)\n"
   ]
  },
  {
   "cell_type": "markdown",
   "metadata": {},
   "source": [
    "Python Series"
   ]
  },
  {
   "cell_type": "code",
   "execution_count": 11,
   "metadata": {},
   "outputs": [
    {
     "name": "stdout",
     "output_type": "stream",
     "text": [
      "<class 'list'>\n",
      "<class 'pandas.core.series.Series'>\n",
      "0    1\n",
      "1    7\n",
      "2    2\n",
      "dtype: int64\n"
     ]
    }
   ],
   "source": [
    "# Let's create one dataset as a python list\n",
    "mylist = [1, 7, 2]\n",
    "\n",
    "# Pandas can convert python list to an structure called Series\n",
    "myseries = pd.Series(mylist)\n",
    "\n",
    "print(type(myseries))\n",
    "print(myseries)\n"
   ]
  },
  {
   "cell_type": "code",
   "execution_count": 13,
   "metadata": {},
   "outputs": [
    {
     "name": "stdout",
     "output_type": "stream",
     "text": [
      "x    1\n",
      "y    7\n",
      "z    2\n",
      "dtype: int64\n"
     ]
    }
   ],
   "source": [
    "# With the index argument, you can label your data\n",
    "mylabeledseries = pd.Series(mylist, index = [\"x\", \"y\", \"z\"])\n",
    "print(mylabeledseries)\n"
   ]
  },
  {
   "cell_type": "markdown",
   "metadata": {},
   "source": [
    "Read CSV, JSON"
   ]
  },
  {
   "cell_type": "code",
   "execution_count": 36,
   "metadata": {},
   "outputs": [
    {
     "name": "stdout",
     "output_type": "stream",
     "text": [
      "     Duration  Pulse  Maxpulse  Calories\n",
      "0          60    110       130     409.1\n",
      "1          60    117       145     479.0\n",
      "2          60    103       135     340.0\n",
      "3          45    109       175     282.4\n",
      "4          45    117       148     406.0\n",
      "..        ...    ...       ...       ...\n",
      "164        60    105       140     290.8\n",
      "165        60    110       145     300.0\n",
      "166        60    115       145     310.2\n",
      "167        75    120       150     320.4\n",
      "168        75    125       150     330.4\n",
      "\n",
      "[169 rows x 4 columns]\n",
      "first three rows : \n",
      "    Duration  Pulse  Maxpulse  Calories\n",
      "0        60    110       130     409.1\n",
      "1        60    117       145     479.0\n",
      "2        60    103       135     340.0\n",
      "last three rows :\n",
      "      Duration  Pulse  Maxpulse  Calories\n",
      "166        60    115       145     310.2\n",
      "167        75    120       150     320.4\n",
      "168        75    125       150     330.4\n",
      "data information : \n",
      "\n",
      "<class 'pandas.core.frame.DataFrame'>\n",
      "RangeIndex: 169 entries, 0 to 168\n",
      "Data columns (total 4 columns):\n",
      " #   Column    Non-Null Count  Dtype  \n",
      "---  ------    --------------  -----  \n",
      " 0   Duration  169 non-null    int64  \n",
      " 1   Pulse     169 non-null    int64  \n",
      " 2   Maxpulse  169 non-null    int64  \n",
      " 3   Calories  164 non-null    float64\n",
      "dtypes: float64(1), int64(3)\n",
      "memory usage: 5.4 KB\n",
      "None\n"
     ]
    }
   ],
   "source": [
    "# Load the CSV into a DataFrame\n",
    "pd.options.display.max_rows = 10  # maximally print 10 rows\n",
    "csv2df = pd.read_csv('data.csv')\n",
    "print(csv2df)\n",
    "print('first three rows : \\n', csv2df.head(3)) # see the first 3 rows\n",
    "print('last three rows :\\n',csv2df.tail(3)) # see the last 3 rows\n",
    "\n",
    "print('data information : \\n')\n",
    "print(csv2df.info())  #print information about the data:"
   ]
  },
  {
   "cell_type": "code",
   "execution_count": 21,
   "metadata": {},
   "outputs": [
    {
     "name": "stdout",
     "output_type": "stream",
     "text": [
      "<class 'pandas.core.frame.DataFrame'>\n",
      "     Duration  Pulse  Maxpulse  Calories\n",
      "0          60    110       130     409.1\n",
      "1          60    117       145     479.0\n",
      "2          60    103       135     340.0\n",
      "3          45    109       175     282.4\n",
      "4          45    117       148     406.0\n",
      "..        ...    ...       ...       ...\n",
      "164        60    105       140     290.8\n",
      "165        60    110       145     300.4\n",
      "166        60    115       145     310.2\n",
      "167        75    120       150     320.4\n",
      "168        75    125       150     330.4\n",
      "\n",
      "[169 rows x 4 columns]\n"
     ]
    }
   ],
   "source": [
    "df = pd.read_json('data.json') # read json file as pandas DataFrame\n",
    "print(type(df))\n",
    "print(df)"
   ]
  },
  {
   "cell_type": "code",
   "execution_count": 47,
   "metadata": {},
   "outputs": [
    {
     "data": {
      "application/vnd.jupyter.widget-view+json": {
       "model_id": "d2a6d7bed0b64159be8a6222edcb8f7f",
       "version_major": 2,
       "version_minor": 0
      },
      "image/png": "[encoded data removed]",
      "text/html": [
       "\n",
       "            <div style=\"display: inline-block;\">\n",
       "                <div class=\"jupyter-widgets widget-label\" style=\"text-align: center;\">\n",
       "                    Figure\n",
       "                </div>\n",
       "                <img src='data:image/png;base64,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' width=640.0/>\n",
       "            </div>\n",
       "        "
      ],
      "text/plain": [
       "Canvas(toolbar=Toolbar(toolitems=[('Home', 'Reset original view', 'home', 'home'), ('Back', 'Back to previous …"
      ]
     },
     "metadata": {},
     "output_type": "display_data"
    }
   ],
   "source": [
    "plt.figure()\n",
    "plt.bar(df.Duration, df.Pulse)\n",
    "plt.show()"
   ]
  },
  {
   "cell_type": "code",
   "execution_count": null,
   "metadata": {},
   "outputs": [],
   "source": []
  }
 ],
 "metadata": {
  "kernelspec": {
   "display_name": "Python 3 (ipykernel)",
   "language": "python",
   "name": "python3"
  },
  "language_info": {
   "codemirror_mode": {
    "name": "ipython",
    "version": 3
   },
   "file_extension": ".py",
   "mimetype": "text/x-python",
   "name": "python",
   "nbconvert_exporter": "python",
   "pygments_lexer": "ipython3",
   "version": "3.9.7"
  }
 },
 "nbformat": 4,
 "nbformat_minor": 2
}
