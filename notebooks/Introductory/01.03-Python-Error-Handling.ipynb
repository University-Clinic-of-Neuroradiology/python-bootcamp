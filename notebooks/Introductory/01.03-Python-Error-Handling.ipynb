{
 "cells": [
  {
   "cell_type": "markdown",
   "metadata": {},
   "source": [
    "# Getting Started with Python Error Handling\n",
    "The purpose of this Jupyter Notebook is to handle exceptions and create useful error messages.\n",
    "\n",
    "This demo is a jupyter notebook, i.e. intended to be run step by step.\n",
    "\n",
    "Author: Eric Einspänner\n",
    "<br>\n",
    "Contributor: Nastaran Takmilhomayouni\n",
    "\n",
    "First version: 6th of July 2023\n",
    "\n",
    "\n",
    "Copyright 2023 Clinic of Neuroradiology, Magdeburg, Germany\n",
    "\n",
    "License: Apache-2.0\n"
   ]
  },
  {
   "cell_type": "markdown",
   "metadata": {},
   "source": [
    "## Introduction\n",
    "Even the best-written code will have errors. Errors can happen because of updates, moved files, or other unexpected changes. Fortunately, Python offers rich support for tracking down and handling errors. Exceptions are useful because they help in decision-making by producing descriptive error messages. They can help you handle both expected and unexpected problems."
   ]
  },
  {
   "cell_type": "markdown",
   "metadata": {},
   "source": [
    "## Table of contents\n",
    "1. [Tracebacks](#tracebacks)\n",
    "2. [Try and Except blocks](#try-and-except-blocks)\n",
    "3. [Raise exceptions](#raise-exceptions)\n",
    "4. [Conclusion](#conclusion)"
   ]
  },
  {
   "cell_type": "markdown",
   "metadata": {},
   "source": [
    "## Tracebacks\n",
    "A traceback is the body of text that can point to the origin (and ending) of an unhandled error. Understanding the components of a traceback will make you more effective when you're fixing errors or debugging a program that's not working well."
   ]
  },
  {
   "cell_type": "code",
   "execution_count": null,
   "metadata": {},
   "outputs": [],
   "source": [
    "open(\"/file/doesnt/exists.jpg\")"
   ]
  },
  {
   "cell_type": "markdown",
   "metadata": {},
   "source": [
    "That output has several key parts. First, the traceback mentions the order of the output. The error is `FileNotFoundError` (the exception name), which means that the file doesn't exist or perhaps the directory to it doesn't exist."
   ]
  },
  {
   "cell_type": "markdown",
   "metadata": {},
   "source": [
    "## Try and Except blocks\n",
    "Configuration files can have all kinds of problems, so it's critical to report problems accurately when they come up. We know that if a file or directory doesn't exist, `FileNotFoundError` is raised. If we want to handle that exception, we can do that with a `try` and `except` block:"
   ]
  },
  {
   "cell_type": "code",
   "execution_count": null,
   "metadata": {},
   "outputs": [],
   "source": [
    "try:\n",
    "     open('config.txt')\n",
    "except FileNotFoundError:\n",
    "     print(\"Couldn't find the config.txt file!\")"
   ]
  },
  {
   "cell_type": "markdown",
   "metadata": {},
   "source": [
    "After the `try` keyword, you add code that has the potential to cause an exception. Next, you add the `except` keyword along with the possible exception, followed by any code that needs to run when that condition happens. Because config.txt doesn't exist in the system, Python prints that the configuration file is not there. The `try` and `except` block, along with a helpful message, prevents a traceback and still informs the user about the problem."
   ]
  },
  {
   "cell_type": "markdown",
   "metadata": {},
   "source": [
    "## Raise exceptions\n",
    "You might already know of a situation that could cause an error condition when you're writing code. In these situations, it's useful to raise exceptions that let other code realize what the problem is.\n",
    "\n",
    "Raising exceptions can also help in decision making for other code. As we've seen before, depending on the error, code can make smart decisions to solve, work around, or ignore a problem.\n",
    "\n",
    "Let's assume we have three patients on the ward who have to take 3 tablets every day. We now want to know whether the supply of medication is sufficient over the weekend (2 days):"
   ]
  },
  {
   "cell_type": "code",
   "execution_count": null,
   "metadata": {},
   "outputs": [],
   "source": [
    "def medication_left(patients, tablets_left, days_left):\n",
    "    daily_usage = patients * 3\n",
    "    total_usage = daily_usage * days_left\n",
    "    total_tablets_left = tablets_left - total_usage\n",
    "    return f\"Total tablets left after {days_left} days is: {total_tablets_left}!\"\n",
    "\n",
    "medication_left(3, 15, 2)"
   ]
  },
  {
   "cell_type": "markdown",
   "metadata": {},
   "source": [
    "That's not very useful, because a deficit in tablets should be an error. Then, the system could alert the medical staff that there isn't going to be enough tablets left for everyone in two days. If you're an engineer who's programming the system, you could raise an exception in the `medication_left()` function to alert for the error condition:"
   ]
  },
  {
   "cell_type": "code",
   "execution_count": null,
   "metadata": {},
   "outputs": [],
   "source": [
    "def medication_left(patients, tablets_left, days_left):\n",
    "    daily_usage = patients * 3\n",
    "    total_usage = daily_usage * days_left\n",
    "    total_tablets_left = tablets_left - total_usage\n",
    "    if total_tablets_left < 0:\n",
    "        raise RuntimeError(f\"There is not enough tablets for {patients} patients after {days_left} days!\")\n",
    "    return f\"Total tablets left after {days_left} days is: {total_tablets_left}!\"\n",
    "\n",
    "medication_left(3, 15, 2)"
   ]
  },
  {
   "cell_type": "markdown",
   "metadata": {},
   "source": [
    "## Conclusion\n",
    "In this module, you learned these skills:\n",
    "\n",
    "- Read and use error output from exceptions.\n",
    "- Properly handle exceptions.\n",
    "- Raise exceptions with useful error messages."
   ]
  }
 ],
 "metadata": {
  "kernelspec": {
   "display_name": "Python 3 (ipykernel)",
   "language": "python",
   "name": "python3"
  },
  "language_info": {
   "codemirror_mode": {
    "name": "ipython",
    "version": 3
   },
   "file_extension": ".py",
   "mimetype": "text/x-python",
   "name": "python",
   "nbconvert_exporter": "python",
   "pygments_lexer": "ipython3",
   "version": "3.9.7"
  }
 },
 "nbformat": 4,
 "nbformat_minor": 2
}
