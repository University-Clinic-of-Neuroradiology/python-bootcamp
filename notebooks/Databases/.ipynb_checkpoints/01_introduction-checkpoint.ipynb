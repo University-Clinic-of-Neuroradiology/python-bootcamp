{
 "cells": [
  {
   "cell_type": "markdown",
   "metadata": {},
   "source": [
    "# Introduction to databases in Python\n",
    "You'll learn how to ... \n",
    "\n",
    "This demo is a jupyter notebook, i.e. intended to be run step by step.\n",
    "\n",
    "Author: Eric Einspänner\n",
    "\n",
    "First version: 6th of July 2023\n",
    "\n",
    "\n",
    "Copyright 2023 Clinic of Neuroradiology, Magdeburg, Germany\n",
    "\n",
    "License: Apache-2.0"
   ]
  },
  {
   "cell_type": "markdown",
   "metadata": {},
   "source": [
    "## Medical data file formats\n",
    "| Format Name | File Extension | Origin                                         |\n",
    "|-------------|----------------|------------------------------------------------|\n",
    "| XML         | .xml           | Extensible Markup Language                     |\n",
    "| BDF         | .bdf           | BioSemi Data Format                            |\n",
    "| EDF         | .edf           | European Data Format                           |\n",
    "| CSV         | .csv           | Comma Separated Values                         |"
   ]
  },
  {
   "cell_type": "markdown",
   "metadata": {},
   "source": [
    "## Initial set-up\n",
    "To read an XML file, you can use the parse function, which returns a Dataset object containing the data from the XML file."
   ]
  },
  {
   "cell_type": "code",
   "execution_count": 2,
   "metadata": {
    "scrolled": true
   },
   "outputs": [
    {
     "name": "stdout",
     "output_type": "stream",
     "text": [
      "{http://naaccr.org/naaccrxml}NaaccrData\n",
      "10\n",
      "{http://naaccr.org/naaccrxml}Patient\n",
      "22\n",
      "{http://naaccr.org/naaccrxml}Item\n",
      "0\n"
     ]
    }
   ],
   "source": [
    "from xml.etree import ElementTree as ET\n",
    "\n",
    "# parse an xml file by name\n",
    "file = ET.parse('Data/naaccr-xml-sample-v210-abstract-10.xml')\n",
    "\n",
    "root=file.getroot()\n",
    "\n",
    "print(root.tag)      #print the data we have-->NaaccrData\n",
    "print(len(root))     #print how many data we have?\n",
    "\n",
    "print(root[0].tag)   #print each data is for who?-->patient\n",
    "print(len(root[0]))  #print how many data items we have for each patient?\n",
    "\n",
    "print(root[1][1].tag)\n",
    "print(len(root[0][0]))\n",
    "\n",
    "#indent(root)"
   ]
  },
  {
   "cell_type": "code",
   "execution_count": 3,
   "metadata": {},
   "outputs": [
    {
     "data": {
      "text/html": [
       "<div>\n",
       "<style scoped>\n",
       "    .dataframe tbody tr th:only-of-type {\n",
       "        vertical-align: middle;\n",
       "    }\n",
       "\n",
       "    .dataframe tbody tr th {\n",
       "        vertical-align: top;\n",
       "    }\n",
       "\n",
       "    .dataframe thead th {\n",
       "        text-align: right;\n",
       "    }\n",
       "</style>\n",
       "<table border=\"1\" class=\"dataframe\">\n",
       "  <thead>\n",
       "    <tr style=\"text-align: right;\">\n",
       "      <th></th>\n",
       "      <th>key</th>\n",
       "      <th>value</th>\n",
       "    </tr>\n",
       "  </thead>\n",
       "  <tbody>\n",
       "    <tr>\n",
       "      <th>0</th>\n",
       "      <td>*</td>\n",
       "      <td>\\n</td>\n",
       "    </tr>\n",
       "    <tr>\n",
       "      <th>593</th>\n",
       "      <td>*.*[10]</td>\n",
       "      <td>\\n</td>\n",
       "    </tr>\n",
       "    <tr>\n",
       "      <th>603</th>\n",
       "      <td>*.*[10].*[10]</td>\n",
       "      <td>0</td>\n",
       "    </tr>\n",
       "    <tr>\n",
       "      <th>604</th>\n",
       "      <td>*.*[10].*[11]</td>\n",
       "      <td>Jane</td>\n",
       "    </tr>\n",
       "    <tr>\n",
       "      <th>605</th>\n",
       "      <td>*.*[10].*[12]</td>\n",
       "      <td>634757468</td>\n",
       "    </tr>\n",
       "    <tr>\n",
       "      <th>...</th>\n",
       "      <td>...</td>\n",
       "      <td>...</td>\n",
       "    </tr>\n",
       "    <tr>\n",
       "      <th>529</th>\n",
       "      <td>*.*[9].*[5]</td>\n",
       "      <td>Wong</td>\n",
       "    </tr>\n",
       "    <tr>\n",
       "      <th>530</th>\n",
       "      <td>*.*[9].*[6]</td>\n",
       "      <td>USA</td>\n",
       "    </tr>\n",
       "    <tr>\n",
       "      <th>531</th>\n",
       "      <td>*.*[9].*[7]</td>\n",
       "      <td>1</td>\n",
       "    </tr>\n",
       "    <tr>\n",
       "      <th>532</th>\n",
       "      <td>*.*[9].*[8]</td>\n",
       "      <td>4</td>\n",
       "    </tr>\n",
       "    <tr>\n",
       "      <th>533</th>\n",
       "      <td>*.*[9].*[9]</td>\n",
       "      <td>0000</td>\n",
       "    </tr>\n",
       "  </tbody>\n",
       "</table>\n",
       "<p>661 rows × 2 columns</p>\n",
       "</div>"
      ],
      "text/plain": [
       "               key       value\n",
       "0                *      \\n    \n",
       "593        *.*[10]  \\n        \n",
       "603  *.*[10].*[10]           0\n",
       "604  *.*[10].*[11]        Jane\n",
       "605  *.*[10].*[12]   634757468\n",
       "..             ...         ...\n",
       "529    *.*[9].*[5]        Wong\n",
       "530    *.*[9].*[6]         USA\n",
       "531    *.*[9].*[7]           1\n",
       "532    *.*[9].*[8]           4\n",
       "533    *.*[9].*[9]        0000\n",
       "\n",
       "[661 rows x 2 columns]"
      ]
     },
     "execution_count": 3,
     "metadata": {},
     "output_type": "execute_result"
    }
   ],
   "source": [
    "import pandas as pd\n",
    "from lxml import etree\n",
    "\n",
    "data = 'Data/naaccr-xml-sample-v210-abstract-10.xml'\n",
    "\n",
    "tree = etree.parse(data)\n",
    "\n",
    "lstKey = []\n",
    "lstValue = []\n",
    "for p in tree.iter() :\n",
    "    lstKey.append(tree.getpath(p).replace(\"/\",\".\")[1:])\n",
    "    lstValue.append(p.text)\n",
    "\n",
    "df = pd.DataFrame({'key' : lstKey, 'value' : lstValue})\n",
    "df.sort_values('key')"
   ]
  },
  {
   "cell_type": "code",
   "execution_count": 4,
   "metadata": {},
   "outputs": [
    {
     "ename": "TypeError",
     "evalue": "initial_value must be str or None, not lxml.etree._ElementTree",
     "output_type": "error",
     "traceback": [
      "\u001b[1;31m---------------------------------------------------------------------------\u001b[0m",
      "\u001b[1;31mTypeError\u001b[0m                                 Traceback (most recent call last)",
      "\u001b[1;32m~\\AppData\\Local\\Temp/ipykernel_1684/2066775348.py\u001b[0m in \u001b[0;36m<module>\u001b[1;34m\u001b[0m\n\u001b[0;32m      3\u001b[0m \u001b[1;33m\u001b[0m\u001b[0m\n\u001b[0;32m      4\u001b[0m \u001b[0mtree\u001b[0m \u001b[1;33m=\u001b[0m \u001b[0metree\u001b[0m\u001b[1;33m.\u001b[0m\u001b[0mparse\u001b[0m\u001b[1;33m(\u001b[0m\u001b[0mdata\u001b[0m\u001b[1;33m)\u001b[0m\u001b[1;33m\u001b[0m\u001b[1;33m\u001b[0m\u001b[0m\n\u001b[1;32m----> 5\u001b[1;33m \u001b[0mdf\u001b[0m \u001b[1;33m=\u001b[0m \u001b[0mpd\u001b[0m\u001b[1;33m.\u001b[0m\u001b[0mread_xml\u001b[0m\u001b[1;33m(\u001b[0m\u001b[0mio\u001b[0m\u001b[1;33m.\u001b[0m\u001b[0mStringIO\u001b[0m\u001b[1;33m(\u001b[0m\u001b[0mtree\u001b[0m\u001b[1;33m)\u001b[0m\u001b[1;33m)\u001b[0m\u001b[1;33m\u001b[0m\u001b[1;33m\u001b[0m\u001b[0m\n\u001b[0m",
      "\u001b[1;31mTypeError\u001b[0m: initial_value must be str or None, not lxml.etree._ElementTree"
     ]
    }
   ],
   "source": [
    "import io\n",
    "data = 'Data/naaccr-xml-sample-v210-abstract-10.xml'\n",
    "\n",
    "tree = etree.parse(data)\n",
    "df = pd.read_xml(io.StringIO(tree))"
   ]
  },
  {
   "cell_type": "code",
   "execution_count": 43,
   "metadata": {},
   "outputs": [
    {
     "name": "stdout",
     "output_type": "stream",
     "text": [
      "Extracting EDF parameters from C:\\Users\\nasta\\OneDrive\\Dokumente\\GitHub\\python-bootcamp\\notebooks\\Databases\\Data\\test_generator.edf...\n",
      "EDF file detected\n",
      "Setting channel info structure...\n",
      "Creating raw.info structure...\n",
      "Reading 0 ... 179999  =      0.000 ...   899.995 secs...\n"
     ]
    }
   ],
   "source": [
    "import mne\n",
    "raw = mne.io.read_raw_edf('Data/test_generator.edf').load_data()"
   ]
  },
  {
   "cell_type": "code",
   "execution_count": null,
   "metadata": {},
   "outputs": [],
   "source": [
    "#git clone https://github.com/igmmgi/biosemipy.git\n",
    "\n",
    "#pip install -e biosemipy"
   ]
  },
  {
   "cell_type": "code",
   "execution_count": 5,
   "metadata": {},
   "outputs": [
    {
     "ename": "ModuleNotFoundError",
     "evalue": "No module named 'biosemipy'",
     "output_type": "error",
     "traceback": [
      "\u001b[1;31m---------------------------------------------------------------------------\u001b[0m",
      "\u001b[1;31mModuleNotFoundError\u001b[0m                       Traceback (most recent call last)",
      "\u001b[1;32m~\\AppData\\Local\\Temp/ipykernel_1684/782954962.py\u001b[0m in \u001b[0;36m<module>\u001b[1;34m\u001b[0m\n\u001b[1;32m----> 1\u001b[1;33m \u001b[1;32mfrom\u001b[0m \u001b[0mbiosemipy\u001b[0m \u001b[1;32mimport\u001b[0m \u001b[0mbdf\u001b[0m\u001b[1;33m\u001b[0m\u001b[1;33m\u001b[0m\u001b[0m\n\u001b[0m\u001b[0;32m      2\u001b[0m \u001b[1;33m\u001b[0m\u001b[0m\n\u001b[0;32m      3\u001b[0m \u001b[0mdat1\u001b[0m \u001b[1;33m=\u001b[0m \u001b[0mbdf\u001b[0m\u001b[1;33m.\u001b[0m\u001b[0mBDF\u001b[0m\u001b[1;33m(\u001b[0m\u001b[1;34m\"Data/BDFtestfiles/Newtest17-256.bdf\"\u001b[0m\u001b[1;33m)\u001b[0m\u001b[1;33m\u001b[0m\u001b[1;33m\u001b[0m\u001b[0m\n",
      "\u001b[1;31mModuleNotFoundError\u001b[0m: No module named 'biosemipy'"
     ]
    }
   ],
   "source": [
    "from biosemipy import bdf\n",
    "\n",
    "dat1 = bdf.BDF(\"Data/BDFtestfiles/Newtest17-256.bdf\")"
   ]
  },
  {
   "cell_type": "code",
   "execution_count": null,
   "metadata": {},
   "outputs": [],
   "source": []
  }
 ],
 "metadata": {
  "kernelspec": {
   "display_name": "Python 3 (ipykernel)",
   "language": "python",
   "name": "python3"
  },
  "language_info": {
   "codemirror_mode": {
    "name": "ipython",
    "version": 3
   },
   "file_extension": ".py",
   "mimetype": "text/x-python",
   "name": "python",
   "nbconvert_exporter": "python",
   "pygments_lexer": "ipython3",
   "version": "3.9.7"
  }
 },
 "nbformat": 4,
 "nbformat_minor": 2
}
