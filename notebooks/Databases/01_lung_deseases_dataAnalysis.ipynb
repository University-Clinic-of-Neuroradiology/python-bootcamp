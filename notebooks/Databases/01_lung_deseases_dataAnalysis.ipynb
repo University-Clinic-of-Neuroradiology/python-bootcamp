{
 "cells": [
  {
   "cell_type": "markdown",
   "metadata": {},
   "source": [
    "# Lung deseases data analysis"
   ]
  },
  {
   "cell_type": "markdown",
   "metadata": {},
   "source": [
    "You'll learn how to ... \n",
    "\n",
    "This demo is a jupyter notebook, i.e. intended to be run step by step.\n",
    "\n",
    "Author: Eric Einspänner\n",
    "\n",
    "First version: 6th of July 2023\n",
    "\n",
    "\n",
    "Copyright 2023 Clinic of Neuroradiology, Magdeburg, Germany\n",
    "\n",
    "License: Apache-2.0\n",
    "\n",
    "*This notebook is inspired by: https://www.kaggle.com/code/sbernadac/lung-deseases-data-analysis/notebook*\n",
    "\n",
    "*Dataset: http://openaccess.thecvf.com/content_cvpr_2017/papers/Wang_ChestX-ray8_Hospital-Scale_Chest_CVPR_2017_paper.pdf*"
   ]
  },
  {
   "cell_type": "markdown",
   "metadata": {},
   "source": [
    "## Table Of Contents\n",
    "1. [Intial Set-Up](#initial-set-up)"
   ]
  },
  {
   "cell_type": "markdown",
   "metadata": {},
   "source": [
    "## Initial Set-Up"
   ]
  },
  {
   "cell_type": "code",
   "execution_count": null,
   "metadata": {},
   "outputs": [],
   "source": [
    "# Make sure figures appears inline and animations works\n",
    "# Edit this to \"\"%matplotlib notebook\" when using the \"classic\" jupyter notebook interface\n",
    "%matplotlib widget"
   ]
  },
  {
   "cell_type": "code",
   "execution_count": null,
   "metadata": {},
   "outputs": [],
   "source": [
    "import numpy as np # linear algebra\n",
    "import pandas as pd # data processing, CSV file I/O (e.g. pd.read_csv)\n",
    "import matplotlib.pyplot as plt\n",
    "import seaborn as sns\n",
    "import matplotlib.gridspec as gridspec\n",
    "import matplotlib.ticker as ticker\n",
    "sns.set_style('whitegrid')"
   ]
  },
  {
   "cell_type": "markdown",
   "metadata": {},
   "source": [
    "## Data Analysis"
   ]
  },
  {
   "cell_type": "code",
   "execution_count": null,
   "metadata": {},
   "outputs": [],
   "source": [
    "# import data set description\n",
    "df = pd.read_csv('./Data/Data_Entry_2017.csv')\n",
    "df.head()"
   ]
  },
  {
   "cell_type": "code",
   "execution_count": null,
   "metadata": {},
   "outputs": [],
   "source": [
    "df.describe()"
   ]
  },
  {
   "cell_type": "markdown",
   "metadata": {},
   "source": [
    "### Data cleaning"
   ]
  },
  {
   "cell_type": "code",
   "execution_count": null,
   "metadata": {},
   "outputs": [],
   "source": [
    "#drop unused columns\n",
    "df = df[['Index','Finding Labels','Follow-up #','Patient ID','Patient Age','Patient Gender']]\n",
    "\n",
    "#create new columns for each decease\n",
    "pathology_list = ['Cardiomegaly','Emphysema','Effusion','Hernia','Nodule','Pneumothorax','Atelectasis','Pleural_Thickening','Mass','Edema','Consolidation','Infiltration','Fibrosis','Pneumonia']\n",
    "\n",
    "for pathology in pathology_list :\n",
    "    df[pathology] = df['Finding Labels'].apply(lambda x: 1 if pathology in x else 0)\n",
    "\n",
    "df.head()"
   ]
  },
  {
   "cell_type": "markdown",
   "metadata": {},
   "source": [
    "### Display number of each deseases by patient gender"
   ]
  },
  {
   "cell_type": "code",
   "execution_count": null,
   "metadata": {},
   "outputs": [],
   "source": [
    "plt.figure(figsize=(15,10))\n",
    "gs = gridspec.GridSpec(8,1)\n",
    "ax1 = plt.subplot(gs[:7, :])\n",
    "ax2 = plt.subplot(gs[7, :])\n",
    "\n",
    "data1 = pd.melt(df,\n",
    "             id_vars=['Patient Gender'],\n",
    "             value_vars = list(pathology_list),\n",
    "             var_name = 'Category',\n",
    "             value_name = 'Count')\n",
    "data1 = data1.loc[data1.Count>0]\n",
    "g=sns.countplot(y='Category',hue='Patient Gender',data=data1, ax=ax1, order = data1['Category'].value_counts().index)\n",
    "ax1.set( ylabel=\"\",xlabel=\"\")\n",
    "ax1.legend(fontsize=20)\n",
    "ax1.set_title('X Ray partition (total number = 121120)',fontsize=18);\n",
    "\n",
    "\n",
    "df['Nothing']=df['Finding Labels'].apply(lambda x: 1 if 'No Finding' in x else 0)\n",
    "data2 = pd.melt(df,\n",
    "             id_vars=['Patient Gender'],\n",
    "             value_vars = list(['Nothing']),\n",
    "             var_name = 'Category',\n",
    "             value_name = 'Count')\n",
    "data2 = data2.loc[data2.Count>0]\n",
    "g=sns.countplot(y='Category',hue='Patient Gender',data=data2,ax=ax2)\n",
    "ax2.set( ylabel=\"\",xlabel=\"Number of decease\")\n",
    "ax2.legend('')\n",
    "plt.subplots_adjust(hspace=.5)"
   ]
  },
  {
   "cell_type": "code",
   "execution_count": null,
   "metadata": {},
   "outputs": [],
   "source": [
    "g = sns.catplot(x=\"Patient Age\", col=\"Patient Gender\",data=df, kind=\"count\", aspect=0.8,palette=\"GnBu_d\")\n",
    "g.set_xticklabels(np.arange(0,121))\n",
    "g.set_xticklabels(step=10)\n",
    "g.fig.suptitle('Age distribution by sex',fontsize=14)\n",
    "g.fig.subplots_adjust(top=.8)"
   ]
  },
  {
   "cell_type": "markdown",
   "metadata": {},
   "source": [
    "# Age distribution looks strange -> fix this! (some errors in table)"
   ]
  },
  {
   "cell_type": "code",
   "execution_count": null,
   "metadata": {},
   "outputs": [],
   "source": [
    "df['Age Type']=df['Patient Age'].apply(lambda x: x[-1:])\n",
    "df['Age Type'].unique()  # => Y, M and D\n",
    "#we mainly have ages expressed in Years, but also a few expressed in Months or in Days\n",
    "print(df[df['Age Type']=='Y']['Patient ID'].count())\n",
    "print(df[df['Age Type']=='M']['Patient ID'].count())  \n",
    "print(df[df['Age Type']=='D']['Patient ID'].count())\n",
    "\n",
    "#we are going to remove remove character after patients age, and transform D and M in years\n",
    "df['Age']=df['Patient Age'].apply(lambda x: x[:-1]).astype(int)\n",
    "df.loc[df['Age Type']=='M',['Age']] = df[df['Age Type']=='M']['Age'].apply(lambda x: round(x/12.)).astype(int)\n",
    "df.loc[df['Age Type']=='D',['Age']] = df[df['Age Type']=='D']['Age'].apply(lambda x: round(x/365.)).astype(int)\n",
    "print(df[df['Age Type']=='D']['Age'])\n",
    "df[df['Age Type']=='M']['Age']\n",
    "\n",
    "df['Age'].sort_values(ascending=False).head(20)\n",
    "\n",
    "df.loc[df['Patient ID']==5567,['Patient Age','Finding Labels','Follow-up #']].sort_values('Follow-up #',ascending=True)\n",
    "df.loc[df['Patient ID']==5567,['Patient Age','Finding Labels','Follow-up #']].sort_values('Patient Age',ascending=False)"
   ]
  },
  {
   "cell_type": "code",
   "execution_count": null,
   "metadata": {},
   "outputs": [],
   "source": [
    "g = sns.catplot(x=\"Age\", col=\"Patient Gender\",data=df, kind=\"count\", aspect=0.8,palette=\"GnBu_d\")\n",
    "g.set_xticklabels(np.arange(0,108))\n",
    "g.set_xticklabels(step=10)\n",
    "g.fig.suptitle('Age distribution by sex',fontsize=14)\n",
    "g.fig.subplots_adjust(top=.8)"
   ]
  },
  {
   "cell_type": "markdown",
   "metadata": {},
   "source": [
    "# Distribution looks more realistic now -> Exercise for students: Fix the age column!?"
   ]
  },
  {
   "cell_type": "markdown",
   "metadata": {},
   "source": [
    "## Display pathologies distribution by age&sex"
   ]
  },
  {
   "cell_type": "code",
   "execution_count": null,
   "metadata": {},
   "outputs": [],
   "source": [
    "f, axarr = plt.subplots(7, 2, sharex=True,figsize=(15, 20))\n",
    "\n",
    "i=0\n",
    "j=0\n",
    "x=np.arange(0,100,10)\n",
    "for pathology in pathology_list :\n",
    "    g=sns.countplot(x='Age', hue=\"Patient Gender\",data=df[df['Finding Labels']==pathology], ax=axarr[i, j])\n",
    "    axarr[i, j].set_title(pathology)   \n",
    "    g.set_xlim(0,90)\n",
    "    g.set_xticks(x)\n",
    "    g.set_xticklabels(x)\n",
    "    j=(j+1)%2\n",
    "    if j==0:\n",
    "        i=(i+1)%7\n",
    "f.subplots_adjust(hspace=0.3)"
   ]
  },
  {
   "cell_type": "markdown",
   "metadata": {},
   "source": [
    "### Display patient number by Follow-up in details"
   ]
  },
  {
   "cell_type": "code",
   "execution_count": null,
   "metadata": {},
   "outputs": [],
   "source": [
    "f, (ax1,ax2) = plt.subplots( 2, figsize=(15, 10))\n",
    "\n",
    "data = df[df['Follow-up #']<15]\n",
    "g = sns.countplot(x='Follow-up #',data=data,palette=\"GnBu_d\",ax=ax1);\n",
    "\n",
    "ax1.set_title('Follow-up distribution');\n",
    "data = df[df['Follow-up #']>14]\n",
    "g = sns.countplot(x='Follow-up #',data=data,palette=\"GnBu_d\",ax=ax2);\n",
    "x=np.arange(15,100,10)\n",
    "g.set_ylim(15,450)\n",
    "g.set_xlim(15,100)\n",
    "g.set_xticks(x)\n",
    "g.set_xticklabels(x)\n",
    "f.subplots_adjust(top=1)"
   ]
  },
  {
   "cell_type": "markdown",
   "metadata": {},
   "source": [
    "## Try to find links between pathologies"
   ]
  },
  {
   "cell_type": "code",
   "execution_count": null,
   "metadata": {},
   "outputs": [],
   "source": [
    "#First display Top 10 multiple deseases\n",
    "data=df.groupby('Finding Labels').count().sort_values('Patient ID',ascending=False).head(23)\n",
    "data=data[['|' in index for index in data.index.values]]\n",
    "data"
   ]
  },
  {
   "cell_type": "code",
   "execution_count": null,
   "metadata": {},
   "outputs": [],
   "source": [
    "data=df.groupby('Finding Labels').count().sort_values('Patient ID',ascending=False)\n",
    "df1=data[['|' in index for index in data.index]].copy()\n",
    "df2=data[['|' not in index for index in data.index]]\n",
    "df2=df2[['No Finding' not in index for index in df2.index]]\n",
    "df2['Finding Labels']=df2.index.values\n",
    "df1['Finding Labels']=df1.index.values"
   ]
  },
  {
   "cell_type": "code",
   "execution_count": null,
   "metadata": {},
   "outputs": [],
   "source": [
    "f, ax = plt.subplots(sharex=True,figsize=(15, 10))\n",
    "sns.set_color_codes(\"pastel\")\n",
    "g=sns.countplot(y='Category',data=data1, ax=ax, order = data1['Category'].value_counts().index,color='b',label=\"Multiple Pathologies\")\n",
    "sns.set_color_codes(\"muted\")\n",
    "g=sns.barplot(x='Patient ID',y='Finding Labels',data=df2, ax=ax, color=\"b\",label=\"Simple Pathology\")\n",
    "ax.legend(ncol=2, loc=\"center right\", frameon=True,fontsize=20)\n",
    "ax.set( ylabel=\"\",xlabel=\"Number of decease\")\n",
    "ax.set_title(\"Comparaison between simple or multiple decease\",fontsize=20)      \n",
    "sns.despine(left=True)"
   ]
  },
  {
   "cell_type": "code",
   "execution_count": null,
   "metadata": {},
   "outputs": [],
   "source": [
    "#we just keep groups of pathologies which appear more than 30 times\n",
    "df3=df1.loc[df1['Patient ID']>30,['Patient ID','Finding Labels']]\n",
    "\n",
    "for pathology in pathology_list:\n",
    "    df3[pathology]=df3.apply(lambda x: x['Patient ID'] if pathology in x['Finding Labels'] else 0, axis=1)\n",
    "\n",
    "df3.head(20)"
   ]
  },
  {
   "cell_type": "code",
   "execution_count": null,
   "metadata": {},
   "outputs": [],
   "source": [
    "#'Hernia' has not enough values to figure here\n",
    "df4=df3[df3['Hernia']>0]  # df4.size == 0\n",
    "#remove 'Hernia' from list\n",
    "pat_list=[elem for elem in pathology_list if 'Hernia' not in elem]\n",
    "\n",
    "f, axarr = plt.subplots(13, sharex=True,figsize=(10, 140))\n",
    "i=0\n",
    "for pathology in pat_list :\n",
    "    df4=df3[df3[pathology]>0]\n",
    "    if df4.size>0:  #'Hernia' has not enough values to figure here\n",
    "        axarr[i].pie(df4[pathology],labels=df4['Finding Labels'], autopct='%1.1f%%')\n",
    "        axarr[i].set_title('main desease : '+pathology,fontsize=14)   "
   ]
  }
 ],
 "metadata": {
  "kernelspec": {
   "display_name": "bootcamp",
   "language": "python",
   "name": "python3"
  },
  "language_info": {
   "codemirror_mode": {
    "name": "ipython",
    "version": 3
   },
   "file_extension": ".py",
   "mimetype": "text/x-python",
   "name": "python",
   "nbconvert_exporter": "python",
   "pygments_lexer": "ipython3",
   "version": "3.9.17"
  },
  "orig_nbformat": 4
 },
 "nbformat": 4,
 "nbformat_minor": 2
}
