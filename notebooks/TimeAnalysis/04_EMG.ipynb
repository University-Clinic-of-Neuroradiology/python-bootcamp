{
 "cells": [
  {
   "cell_type": "markdown",
   "id": "05ec2766",
   "metadata": {},
   "source": [
    "# EMG Anylsis\n",
    "\n",
    "You'll learn how to load and analyze EMG signals. \n",
    "\n",
    "This demo is a jupyter notebook, i.e. intended to be run step by step.\n",
    "\n",
    "Author: Eric Einspänner\n",
    "<br>\n",
    "Contributor: Nastaran Takmilhomayouni\n",
    "\n",
    "First version: 6th of July 2023 # to be changed\n",
    "\n",
    "\n",
    "Copyright 2023 Clinic of Neuroradiology, Magdeburg, Germany\n",
    "\n",
    "License: Apache-2.0"
   ]
  },
  {
   "cell_type": "markdown",
   "id": "412f8d87",
   "metadata": {},
   "source": [
    "https://physionet.org/content/emgdb/1.0.0/"
   ]
  },
  {
   "cell_type": "markdown",
   "id": "f3f6cf24",
   "metadata": {},
   "source": [
    "https://stackoverflow.com/questions/66727140/how-can-i-read-a-dat-file-together-with-a-hea-file"
   ]
  },
  {
   "cell_type": "markdown",
   "id": "54d889ae",
   "metadata": {},
   "source": [
    "https://github.com/MIT-LCP/wfdb-python/tree/main/sample-data"
   ]
  },
  {
   "cell_type": "markdown",
   "id": "388af0e3",
   "metadata": {},
   "source": [
    "## Table Of Contents\n",
    "0. [Initial Set-Up for Google Colab](#initial-set-up-for-google-colab)\n",
    "1. [Initial Set-Up (offline)](#initial-set-up-offline)\n",
    "2. [File Formats](#File-Formats)"
   ]
  },
  {
   "cell_type": "markdown",
   "id": "72431665",
   "metadata": {},
   "source": [
    "## Initial Set-Up for Google Colab\n",
    "<u> Execute these code blocks just in Google Colab! </u>"
   ]
  },
  {
   "cell_type": "code",
   "execution_count": null,
   "id": "aab31b26",
   "metadata": {},
   "outputs": [],
   "source": [
    "!git clone https://github.com/University-Clinic-of-Neuroradiology/python-bootcamp.git"
   ]
  },
  {
   "cell_type": "code",
   "execution_count": null,
   "id": "6a6491dc",
   "metadata": {},
   "outputs": [],
   "source": [
    "import os\n",
    "import sys\n",
    "from google.colab import output\n",
    "output.enable_custom_widget_manager()\n",
    "\n",
    "sys.path.insert(0,'/content/python-bootcamp/notebooks/TimeAnalysis')\n",
    "os.chdir(sys.path[0])"
   ]
  },
  {
   "cell_type": "code",
   "execution_count": null,
   "id": "aa0f9a7c",
   "metadata": {},
   "outputs": [],
   "source": [
    "%pip install -q ipympl numpy matplotlib SciPy wfdb biosignalsnotebooks"
   ]
  },
  {
   "cell_type": "code",
   "execution_count": null,
   "id": "42022bb5",
   "metadata": {},
   "outputs": [],
   "source": [
    "import os\n",
    "import numpy as np\n",
    "from numpy import linspace, max, min, average, std, sum, sqrt, where, argmax, mean\n",
    "import matplotlib.pyplot as plt\n",
    "\n",
    "from scipy.integrate import cumtrapz\n",
    "from scipy.signal import welch\n",
    "import wfdb\n",
    "\n",
    "import biosignalsnotebooks as bsnb                  # biosignalsnotebooks python packag"
   ]
  },
  {
   "cell_type": "markdown",
   "id": "acdb69ad",
   "metadata": {},
   "source": [
    "## Initial Set-Up (offline)"
   ]
  },
  {
   "cell_type": "code",
   "execution_count": null,
   "id": "af039775",
   "metadata": {},
   "outputs": [],
   "source": [
    "# Make sure figures appears inline and animations works\n",
    "# Edit this to \"\"%matplotlib notebook\" when using the \"classic\" jupyter notebook interface\n",
    "%matplotlib widget"
   ]
  },
  {
   "cell_type": "code",
   "execution_count": null,
   "id": "fb6b685a",
   "metadata": {},
   "outputs": [],
   "source": [
    "import os\n",
    "import numpy as np\n",
    "from numpy import linspace, max, min, average, std, sum, sqrt, where, argmax, mean\n",
    "import matplotlib.pyplot as plt\n",
    "\n",
    "from scipy.integrate import cumtrapz\n",
    "from scipy.signal import welch\n",
    "import wfdb\n",
    "\n",
    "import biosignalsnotebooks as bsnb                  # biosignalsnotebooks python package"
   ]
  },
  {
   "cell_type": "markdown",
   "id": "7fe94742",
   "metadata": {},
   "source": [
    "## --- Start notebook ---"
   ]
  },
  {
   "cell_type": "markdown",
   "id": "59a48538",
   "metadata": {},
   "source": [
    "# EMG file formats\n",
    "| Format Name | File Extension | Origin                                         |\n",
    "|-------------|----------------|------------------------------------------------|\n",
    "| Text        | .txt           |                                                |\n",
    "| Header      | .mat/.hea      | Analyze Software, Mayo Clinic                  |"
   ]
  },
  {
   "cell_type": "code",
   "execution_count": null,
   "id": "94e7d8f0",
   "metadata": {},
   "outputs": [],
   "source": [
    "fs = 1000\n",
    "dir = os.path.join(os.path.realpath(''),'Data/emg3.txt')\n",
    "emg_raw = []\n",
    "\n",
    "with open(dir) as f:\n",
    "    lines = f.readlines()\n",
    "for l in lines:\n",
    "    emg_raw.append(float(l.replace(\"\\n\",\"\")))\n",
    "\n",
    "time = linspace(0, len(emg_raw) / fs, len(emg_raw))\n",
    "\n",
    "# plot EMG signal\n",
    "fig = plt.figure()\n",
    "plt.plot(time, emg_raw)\n",
    "plt.xlabel('Time (sec)')\n",
    "plt.ylabel('EMG (mV)')\n",
    "fig_name = 'rawEMG.png'\n",
    "fig.set_size_inches(w=11,h=7)\n",
    "fig.savefig(fig_name)"
   ]
  },
  {
   "cell_type": "code",
   "execution_count": null,
   "id": "c2d889b9",
   "metadata": {},
   "outputs": [],
   "source": [
    "emg_detrend = (emg_raw - mean(emg_raw))\n",
    "burst_begin, burst_end = bsnb.detect_emg_activations(emg_detrend, fs, smooth_level=20, threshold_level=10, \n",
    "                                                     time_units=True, plot_result=True)[:2]"
   ]
  },
  {
   "cell_type": "code",
   "execution_count": null,
   "id": "98f4c2ce",
   "metadata": {},
   "outputs": [],
   "source": [
    "print('EMG Onset Points: ',burst_begin)\n",
    "print('EMG Offset Points: ', burst_end)\n",
    "print('Number of Muscular Activations: ', len(burst_begin))\n",
    "\n",
    "# Bursts Duration\n",
    "bursts_time = burst_end - burst_begin\n",
    "\n",
    "# Parameter extraction\n",
    "max_time = max(bursts_time)\n",
    "min_time = min(bursts_time)\n",
    "avg_time = average(bursts_time)\n",
    "std_time = std(bursts_time)\n",
    "\n",
    "duration_extract = {'Maximum Activation Time':max_time, \n",
    "                     'Minimum Activation Time':min_time, \n",
    "                     'Average Activation Time':avg_time, \n",
    "                     'Standard deviation Time':std_time}\n",
    "for x in duration_extract:\n",
    "    print(x, ': ',\"{:.3f}\".format(duration_extract[x]),'s')"
   ]
  },
  {
   "cell_type": "code",
   "execution_count": null,
   "id": "efae5bec",
   "metadata": {},
   "outputs": [],
   "source": [
    "# Maximum Value of EMG \n",
    "max_sample_value = max(emg_detrend)\n",
    "\n",
    "# Minimum Value of EMG\n",
    "min_sample_value = min(emg_detrend)\n",
    "\n",
    "# Average and Standard Deviation\n",
    "avg_sample_value = average(emg_detrend)\n",
    "std_sample_value = std(emg_detrend)\n",
    "\n",
    "emg_extract = {\"Maximum EMG\": max_sample_value, \n",
    "               \"Minimum EMG\": min_sample_value, \n",
    "               \"Average EMG\": avg_sample_value, \n",
    "               \"Standard Deviation EMG\": std_sample_value}\n",
    "for x in emg_extract:\n",
    "    print(x, ': ',emg_extract[x],'mV')"
   ]
  },
  {
   "cell_type": "code",
   "execution_count": null,
   "id": "060f4c02",
   "metadata": {},
   "outputs": [],
   "source": [
    "# Root Mean Square\n",
    "rms = sqrt(sum(emg_detrend * emg_detrend) / len(emg_detrend))\n",
    "\n",
    "# Signal Power Spectrum\n",
    "f, P = welch(emg_detrend, fs=fs, window='hanning', noverlap=0, nfft=int(256.))\n",
    "\n",
    "# Total Power and Median Frequency (Frequency that divides the spectrum into two regions with equal power)\n",
    "area_freq = cumtrapz(P, f, initial=0)\n",
    "total_power = area_freq[-1]\n",
    "median_freq = f[where(area_freq >= total_power / 2)[0][0]]\n",
    "f_max = f[argmax(P)]\n",
    "\n",
    "print ('Root Mean Square: ', rms,'mV')\n",
    "print ('Total Power: ', total_power)\n",
    "print ('Median Frequency: ', median_freq,'Hz')\n",
    "print ('Maximum Power Frequency: ', f_max, 'Hz')\n",
    "bsnb.plot_emg_spect_freq(f, P, f_max, median_freq)"
   ]
  },
  {
   "cell_type": "code",
   "execution_count": null,
   "id": "853bd3e5",
   "metadata": {},
   "outputs": [],
   "source": [
    "# Demo 1 - Read a WFDB record using the 'rdrecord' function into a wfdb.Record object.\n",
    "# Plot the signals, and show the data.\n",
    "record = wfdb.rdrecord('Data/a103l') \n",
    "wfdb.plot_wfdb(record=record, title='Record a103l from PhysioNet Challenge 2015') \n",
    "display(record.__dict__)\n",
    "\n",
    "# Can also read the same files hosted on PhysioNet https://physionet.org/content/challenge-2015/1.0.0\n",
    "# in the /training/ database subdirectory.\n",
    "record2 = wfdb.rdrecord('a103l', pn_dir='challenge-2015/training/')"
   ]
  }
 ],
 "metadata": {
  "kernelspec": {
   "display_name": "Python 3 (ipykernel)",
   "language": "python",
   "name": "python3"
  },
  "language_info": {
   "codemirror_mode": {
    "name": "ipython",
    "version": 3
   },
   "file_extension": ".py",
   "mimetype": "text/x-python",
   "name": "python",
   "nbconvert_exporter": "python",
   "pygments_lexer": "ipython3",
   "version": "3.9.7"
  }
 },
 "nbformat": 4,
 "nbformat_minor": 5
}
