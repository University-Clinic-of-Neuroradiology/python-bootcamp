{
 "cells": [
  {
   "cell_type": "markdown",
   "id": "d47d4373",
   "metadata": {},
   "source": [
    "# ECG Anylsis\n",
    "\n",
    "You'll learn how to load and analyze ECG signals. \n",
    "\n",
    "This demo is a jupyter notebook, i.e. intended to be run step by step.\n",
    "\n",
    "Author: Eric Einspänner\n",
    "<br>\n",
    "Contributor: Nastaran Takmilhomayouni\n",
    "\n",
    "First version: 6th of July 2023 # to be changed\n",
    "\n",
    "\n",
    "Copyright 2023 Clinic of Neuroradiology, Magdeburg, Germany\n",
    "\n",
    "License: Apache-2.0"
   ]
  },
  {
   "cell_type": "markdown",
   "id": "a1495797",
   "metadata": {},
   "source": [
    "## Table Of Contents\n",
    "0. [Initial Set-Up for Google Colab](#initial-set-up-for-google-colab)\n",
    "1. [Initial Set-Up (offline)](#initial-set-up-offline)\n",
    "2. [File Formats](#File-Formats)"
   ]
  },
  {
   "cell_type": "markdown",
   "id": "6bb951c8",
   "metadata": {},
   "source": [
    "## Initial Set-Up for Google Colab\n",
    "<u> Execute these code blocks just in Google Colab! </u>"
   ]
  },
  {
   "cell_type": "code",
   "execution_count": null,
   "id": "78f03ab0",
   "metadata": {},
   "outputs": [],
   "source": [
    "!git clone https://github.com/University-Clinic-of-Neuroradiology/python-bootcamp.git"
   ]
  },
  {
   "cell_type": "code",
   "execution_count": null,
   "id": "66fecbb0",
   "metadata": {},
   "outputs": [],
   "source": [
    "import os\n",
    "import sys\n",
    "from google.colab import output\n",
    "output.enable_custom_widget_manager()\n",
    "\n",
    "sys.path.insert(0,'/content/python-bootcamp/notebooks/TimeAnalysis')\n",
    "os.chdir(sys.path[0])"
   ]
  },
  {
   "cell_type": "code",
   "execution_count": null,
   "id": "45db498d",
   "metadata": {},
   "outputs": [],
   "source": [
    "%pip install -q ipympl numpy wfdb"
   ]
  },
  {
   "cell_type": "code",
   "execution_count": null,
   "id": "9d86e492",
   "metadata": {},
   "outputs": [],
   "source": [
    "import numpy as np\n",
    "import wfdb"
   ]
  },
  {
   "cell_type": "markdown",
   "id": "4105b3e1",
   "metadata": {},
   "source": [
    "## Initial Set-Up (offline)"
   ]
  },
  {
   "cell_type": "code",
   "execution_count": null,
   "id": "48257a48",
   "metadata": {},
   "outputs": [],
   "source": [
    "# Make sure figures appears inline and animations works\n",
    "# Edit this to \"\"%matplotlib notebook\" when using the \"classic\" jupyter notebook interface\n",
    "%matplotlib widget"
   ]
  },
  {
   "cell_type": "code",
   "execution_count": null,
   "id": "47a6a85e",
   "metadata": {},
   "outputs": [],
   "source": [
    "import numpy as np\n",
    "import wfdb"
   ]
  },
  {
   "cell_type": "markdown",
   "id": "782f52c3",
   "metadata": {},
   "source": [
    "## --- Start notebook ---"
   ]
  },
  {
   "cell_type": "markdown",
   "id": "3a90a6de",
   "metadata": {},
   "source": [
    "# File Formats\n",
    "| Signal Type | File Extension       | Origin                                         |\n",
    "|-------------|----------------------|------------------------------------------------|\n",
    "| ECG         | .qrs                 | Fractal Image Format                           |  \n",
    "|             | .xws                 | European data Format                           |"
   ]
  },
  {
   "cell_type": "code",
   "execution_count": null,
   "id": "dc27be09",
   "metadata": {},
   "outputs": [],
   "source": [
    "record = wfdb.rdrecord('Data/ECG/data/a01') #in this folder both .hea and .dat should be \n",
    "wfdb.plot_wfdb(record, title='Record a01 from Physionet Apnea ECG') \n",
    "display(record.__dict__)"
   ]
  },
  {
   "cell_type": "markdown",
   "id": "99944dbc",
   "metadata": {},
   "source": [
    "https://pypi.org/project/ecg-plot/"
   ]
  },
  {
   "cell_type": "code",
   "execution_count": null,
   "id": "a77303a7",
   "metadata": {},
   "outputs": [],
   "source": [
    "annotation = wfdb.rdann('Data/ECG/data/a01', extension=\"apn\") #a01.apn file should be here\n",
    "\n",
    "annotation.contained_labels\n",
    "annotation.get_label_fields()\n",
    "annotation.symbol[:10]\n",
    "np.unique(annotation.symbol, return_counts=True)"
   ]
  },
  {
   "cell_type": "code",
   "execution_count": null,
   "id": "507dd8dc",
   "metadata": {},
   "outputs": [],
   "source": [
    "record = wfdb.rdrecord('Data/ECG/data/a01', sampfrom=0, sampto=1000,channels=None, physical=True, m2s=True, smooth_frames=True, ignore_skew=False, return_res=16, force_channels=True, channel_names=None, warn_empty=False)\n",
    "\n",
    "wfdb.plot_wfdb(record, title='Record a01 from Physionet Apnea ECG') \n",
    "display(record.__dict__)"
   ]
  }
 ],
 "metadata": {
  "kernelspec": {
   "display_name": "Python 3 (ipykernel)",
   "language": "python",
   "name": "python3"
  },
  "language_info": {
   "codemirror_mode": {
    "name": "ipython",
    "version": 3
   },
   "file_extension": ".py",
   "mimetype": "text/x-python",
   "name": "python",
   "nbconvert_exporter": "python",
   "pygments_lexer": "ipython3",
   "version": "3.9.7"
  }
 },
 "nbformat": 4,
 "nbformat_minor": 5
}
