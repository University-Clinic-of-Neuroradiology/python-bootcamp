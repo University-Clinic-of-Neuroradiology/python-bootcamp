{
 "cells": [
  {
   "cell_type": "markdown",
   "id": "5094816b",
   "metadata": {},
   "source": [
    "# Introduction to Time Analysis in python \n",
    "\n",
    "You'll learn how to load and analyze medical time series. \n",
    "\n",
    "This demo is a jupyter notebook, i.e. intended to be run step by step.\n",
    "\n",
    "Author: Eric Einspänner\n",
    "<br>\n",
    "Contributor: Nastaran Takmilhomayouni\n",
    "\n",
    "First version: 6th of July 2023 # to be changed\n",
    "\n",
    "\n",
    "Copyright 2023 Clinic of Neuroradiology, Magdeburg, Germany\n",
    "\n",
    "License: Apache-2.0\n",
    "    "
   ]
  },
  {
   "cell_type": "markdown",
   "id": "d0e9d29b",
   "metadata": {},
   "source": [
    "https://medium.com/@lalesena/how-to-analyze-ecgs-with-python-396e34ece937"
   ]
  },
  {
   "cell_type": "markdown",
   "id": "d4623523",
   "metadata": {},
   "source": [
    "https://github.com/MIT-LCP/wfdb-python/tree/main/sample-data"
   ]
  },
  {
   "cell_type": "markdown",
   "id": "4d0fcb0c",
   "metadata": {},
   "source": [
    "## Medical signal\n",
    "| Signal Type | File Extension       | Origin                                         |\n",
    "|-------------|----------------------|------------------------------------------------|\n",
    "| EEG         | .fif                 | Fractal Image Format                           |  \n",
    "|             | .edf                 | European data Format                           |\n",
    "|             | .eeg                 | BrainVision                                    |\n",
    "|             | .vhdr                | BrainVision                                    |\n",
    "|             | .vmrk                | BrainVision                                    |      \n",
    "|             | .bdf                 | BioSemi data Format                            |\n",
    "|             | .gdf                 | General data Format                            |\n",
    "|             | .cnt                 | Neuroscan CNT                                  |\n",
    "|             | .egi                 | EGI simple binary                              |\n",
    "|             | .mff                 | EGI MFF                                        |\n",
    "|             | .set,.fdt            | EEGLAB files                                   |\n",
    "|             | .data                | Nicolet                                        |\n",
    "|             | .nxe                 | eXimia EEG data                                |\n",
    "|             | .lay .dat            | Persyst EEG data                               |\n",
    "|             | .eeg,.21e,.pnt,.log  | Nihon Kohden EEG data                          |\n",
    "|             | .xdf,.xdfz)          | XDF data                                       |\n",
    "| ECG         | .qrs                 | Fractal Image Format                           |  \n",
    "|             | .xws                 | European data Format                           |\n",
    "| EMG         | .txt                 | Text                                           |  \n",
    "|             | .mat/.hea            | Header( Analyze Software, Mayo Clinic          |\n"
   ]
  },
  {
   "cell_type": "markdown",
   "id": "388085e1",
   "metadata": {},
   "source": []
  },
  {
   "cell_type": "code",
   "execution_count": null,
   "id": "53046334",
   "metadata": {},
   "outputs": [],
   "source": []
  }
 ],
 "metadata": {
  "kernelspec": {
   "display_name": "Python 3 (ipykernel)",
   "language": "python",
   "name": "python3"
  },
  "language_info": {
   "codemirror_mode": {
    "name": "ipython",
    "version": 3
   },
   "file_extension": ".py",
   "mimetype": "text/x-python",
   "name": "python",
   "nbconvert_exporter": "python",
   "pygments_lexer": "ipython3",
   "version": "3.9.7"
  }
 },
 "nbformat": 4,
 "nbformat_minor": 5
}
