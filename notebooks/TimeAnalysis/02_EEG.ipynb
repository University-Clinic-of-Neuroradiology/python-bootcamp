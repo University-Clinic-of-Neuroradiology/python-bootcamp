{
 "cells": [
  {
   "cell_type": "markdown",
   "id": "d5ce4a4a",
   "metadata": {},
   "source": [
    "# EEG analysis\n",
    "You'll learn how to analzye EEG signals.\n",
    "\n",
    "This demo is a jupyter notebook, i.e. intended to be run step by step.\n",
    "\n",
    "Author: Eric Einspänner\n",
    "<br>\n",
    "Contributor: Nastaran Takmilhomayouni\n",
    "\n",
    "First version: 6th of July 2023\n",
    "\n",
    "\n",
    "Copyright 2023 Clinic of Neuroradiology, Magdeburg, Germany\n",
    "\n",
    "License: Apache-2.0\n",
    "\n"
   ]
  },
  {
   "cell_type": "markdown",
   "id": "64a7c9ad",
   "metadata": {},
   "source": [
    "## Table Of Contents\n",
    "0. [Initial Set-Up for Google Colab](#initial-set-up-for-google-colab)\n",
    "1. [Initial Set-Up (offline)](#initial-set-up-offline)\n",
    "2. [File Formats](#File-Formats)\n",
    "3. [fif](#fif)\n",
    "4. [edf](#edf)\n",
    "5. [bdf](#bdf)\n",
    "6. [gdf](#gdf)\n",
    "7. [eeglab](#eeglab)"
   ]
  },
  {
   "cell_type": "markdown",
   "id": "f842a7e0",
   "metadata": {},
   "source": [
    "## Initial Set-Up for Google Colab\n",
    "<u> Execute these code blocks just in Google Colab! </u>"
   ]
  },
  {
   "cell_type": "code",
   "execution_count": null,
   "id": "e584f179",
   "metadata": {},
   "outputs": [],
   "source": [
    "!git clone https://github.com/University-Clinic-of-Neuroradiology/python-bootcamp.git"
   ]
  },
  {
   "cell_type": "code",
   "execution_count": 1,
   "id": "784b80d5",
   "metadata": {},
   "outputs": [
    {
     "ename": "ModuleNotFoundError",
     "evalue": "No module named 'google.colab'",
     "output_type": "error",
     "traceback": [
      "\u001b[1;31m---------------------------------------------------------------------------\u001b[0m",
      "\u001b[1;31mModuleNotFoundError\u001b[0m                       Traceback (most recent call last)",
      "\u001b[1;32m~\\AppData\\Local\\Temp/ipykernel_28332/821003551.py\u001b[0m in \u001b[0;36m<module>\u001b[1;34m\u001b[0m\n\u001b[0;32m      1\u001b[0m \u001b[1;32mimport\u001b[0m \u001b[0mos\u001b[0m\u001b[1;33m\u001b[0m\u001b[1;33m\u001b[0m\u001b[0m\n\u001b[0;32m      2\u001b[0m \u001b[1;32mimport\u001b[0m \u001b[0msys\u001b[0m\u001b[1;33m\u001b[0m\u001b[1;33m\u001b[0m\u001b[0m\n\u001b[1;32m----> 3\u001b[1;33m \u001b[1;32mfrom\u001b[0m \u001b[0mgoogle\u001b[0m\u001b[1;33m.\u001b[0m\u001b[0mcolab\u001b[0m \u001b[1;32mimport\u001b[0m \u001b[0moutput\u001b[0m\u001b[1;33m\u001b[0m\u001b[1;33m\u001b[0m\u001b[0m\n\u001b[0m\u001b[0;32m      4\u001b[0m \u001b[0moutput\u001b[0m\u001b[1;33m.\u001b[0m\u001b[0menable_custom_widget_manager\u001b[0m\u001b[1;33m(\u001b[0m\u001b[1;33m)\u001b[0m\u001b[1;33m\u001b[0m\u001b[1;33m\u001b[0m\u001b[0m\n\u001b[0;32m      5\u001b[0m \u001b[1;33m\u001b[0m\u001b[0m\n",
      "\u001b[1;31mModuleNotFoundError\u001b[0m: No module named 'google.colab'"
     ]
    }
   ],
   "source": [
    "import os\n",
    "import sys\n",
    "from google.colab import output\n",
    "output.enable_custom_widget_manager()\n",
    "\n",
    "sys.path.insert(0,'/content/python-bootcamp/notebooks/TimeAnalysis')\n",
    "os.chdir(sys.path[0])"
   ]
  },
  {
   "cell_type": "code",
   "execution_count": null,
   "id": "95c92ff7",
   "metadata": {},
   "outputs": [],
   "source": [
    "%pip install -q ipympl mne"
   ]
  },
  {
   "cell_type": "code",
   "execution_count": 3,
   "id": "441ef417",
   "metadata": {},
   "outputs": [],
   "source": [
    "import mne"
   ]
  },
  {
   "cell_type": "markdown",
   "id": "cde4ba41",
   "metadata": {},
   "source": [
    "## Initial Set-Up (offline)"
   ]
  },
  {
   "cell_type": "code",
   "execution_count": null,
   "id": "182e16ba",
   "metadata": {},
   "outputs": [],
   "source": [
    "# Make sure figures appears inline and animations works\n",
    "# Edit this to \"\"%matplotlib notebook\" when using the \"classic\" jupyter notebook interface\n",
    "%matplotlib widget"
   ]
  },
  {
   "cell_type": "code",
   "execution_count": null,
   "id": "7c9169b2",
   "metadata": {},
   "outputs": [],
   "source": [
    "import mne"
   ]
  },
  {
   "cell_type": "markdown",
   "id": "d6b9b9ed",
   "metadata": {},
   "source": [
    "## --- Start notebook ---"
   ]
  },
  {
   "cell_type": "markdown",
   "id": "5c19e351",
   "metadata": {},
   "source": [
    "# File Formats\n",
    "## Medical signal\n",
    "| Signal Type | File Extension       | Origin                                         |\n",
    "|-------------|----------------------|------------------------------------------------|\n",
    "| EEG         | .fif                 | Fractal Image Format                           |  \n",
    "|             | .edf                 | European data Format                           |\n",
    "|             | .bdf                 | BioSemi data Format                            |\n",
    "|             | .gdf                 | General data Format                            |\n",
    "|             | .eeg/.vhdr/.vmrk     | BrainVision                                    |\n",
    "|             | .set                 | EEGlab                                         |"
   ]
  },
  {
   "cell_type": "markdown",
   "id": "a6625a7c",
   "metadata": {},
   "source": [
    "## .fif"
   ]
  },
  {
   "cell_type": "markdown",
   "id": "32f081de",
   "metadata": {},
   "source": [
    "To open EEG file in `.fif` format, you can use `read_raw_fif()` function from python `mne.io` module."
   ]
  },
  {
   "cell_type": "code",
   "execution_count": 8,
   "id": "6f880cbe",
   "metadata": {},
   "outputs": [
    {
     "name": "stdout",
     "output_type": "stream",
     "text": [
      "Opening raw data file C:\\Users\\nasta\\mne_data\\MNE-sample-data\\MEG\\sample\\sample_audvis_filt-0-40_raw.fif...\n",
      "    Read a total of 4 projection items:\n",
      "        PCA-v1 (1 x 102)  idle\n",
      "        PCA-v2 (1 x 102)  idle\n",
      "        PCA-v3 (1 x 102)  idle\n",
      "        Average EEG reference (1 x 60)  idle\n",
      "    Range : 6450 ... 48149 =     42.956 ...   320.665 secs\n",
      "Ready.\n"
     ]
    }
   ],
   "source": [
    "# mne python library has sample EEG data in .fif format\n",
    "#sample EEG datasets of mne python package will be downloaded in\n",
    "#sample_data_folder\n",
    "sample_data_folder = mne.datasets.sample.data_path() \n",
    "#print(sample_data_folder)\n",
    "\n",
    "sample_data_raw_file = (\n",
    "    sample_data_folder / \"MEG\" / \"sample\" / \"sample_audvis_filt-0-40_raw.fif\"  #sasmple .fif that contains EEG signals\n",
    ")\n",
    "\n",
    "raw = mne.io.read_raw_fif(sample_data_raw_file)"
   ]
  },
  {
   "cell_type": "markdown",
   "id": "5c88b94d",
   "metadata": {},
   "source": [
    "## .edf"
   ]
  },
  {
   "cell_type": "markdown",
   "id": "863900af",
   "metadata": {},
   "source": [
    "To open EEG file in `.edf` format, you can use `read_raw_edf()` function from python `mne.io` module."
   ]
  },
  {
   "cell_type": "code",
   "execution_count": null,
   "id": "34c6e01a",
   "metadata": {},
   "outputs": [],
   "source": [
    "subj = 0\n",
    "fname = mne.datasets.eegbci.load_data(subj + 1, runs=[3])[0]\n",
    "print(fname)\n",
    "raw = mne.io.read_raw_edf(fname).load_data().resample(50)"
   ]
  },
  {
   "cell_type": "markdown",
   "id": "5c378321",
   "metadata": {},
   "source": [
    "## .bdf"
   ]
  },
  {
   "cell_type": "markdown",
   "id": "667662b0",
   "metadata": {},
   "source": [
    "To open EEG file in `.bdf` format, you can use `read_raw_bdf()` function from python `mne.io` module."
   ]
  },
  {
   "cell_type": "code",
   "execution_count": null,
   "id": "9c624064",
   "metadata": {},
   "outputs": [],
   "source": [
    "sample_bdf_file = 'Data/EEG/Newtest17-2048.bdf'\n",
    "raw = mne.io.read_raw_bdf(sample_bdf_file)"
   ]
  },
  {
   "cell_type": "markdown",
   "id": "25119c6e",
   "metadata": {},
   "source": [
    "## .gdf"
   ]
  },
  {
   "cell_type": "markdown",
   "id": "f6b03a66",
   "metadata": {},
   "source": [
    "To open EEG file in `.gdf` format, you can use `read_raw_gdf()` function from python `mne.io` module."
   ]
  },
  {
   "cell_type": "code",
   "execution_count": null,
   "id": "0db726c6",
   "metadata": {},
   "outputs": [],
   "source": [
    "sample_gdf_file = 'Data/EEG/A08T.gdf'\n",
    "raw = mne.io.read_raw_gdf(sample_gdf_file)"
   ]
  },
  {
   "cell_type": "markdown",
   "id": "70c0a8ce",
   "metadata": {},
   "source": [
    "## .set"
   ]
  },
  {
   "cell_type": "markdown",
   "id": "6ff2f71c",
   "metadata": {},
   "source": [
    "To open EEG file in `.set` format, you can use `read_raw_eeglab()` function from python `mne.io` module."
   ]
  },
  {
   "cell_type": "code",
   "execution_count": null,
   "id": "8a64777b",
   "metadata": {},
   "outputs": [],
   "source": [
    "testing_data_folder = mne.datasets.testing.data_path()\n",
    "eeglab_raw_file = testing_data_folder / \"EEGLAB\" / \"test_raw.set\"\n",
    "eeglab_raw = mne.io.read_raw_eeglab(eeglab_raw_file)\n",
    "print(eeglab_raw.annotations)"
   ]
  },
  {
   "cell_type": "code",
   "execution_count": null,
   "id": "cfaa1cb2",
   "metadata": {},
   "outputs": [],
   "source": [
    "raw.plot(start=5, duration=5)"
   ]
  }
 ],
 "metadata": {
  "kernelspec": {
   "display_name": "Python 3 (ipykernel)",
   "language": "python",
   "name": "python3"
  },
  "language_info": {
   "codemirror_mode": {
    "name": "ipython",
    "version": 3
   },
   "file_extension": ".py",
   "mimetype": "text/x-python",
   "name": "python",
   "nbconvert_exporter": "python",
   "pygments_lexer": "ipython3",
   "version": "3.9.7"
  }
 },
 "nbformat": 4,
 "nbformat_minor": 5
}
