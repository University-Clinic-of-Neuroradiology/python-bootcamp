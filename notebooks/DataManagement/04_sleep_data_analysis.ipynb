{
 "cells": [
  {
   "cell_type": "markdown",
   "id": "8e4b65c2",
   "metadata": {},
   "source": [
    "## Sleep data analysis"
   ]
  },
  {
   "cell_type": "markdown",
   "id": "831bfa91",
   "metadata": {},
   "source": [
    "You'll learn how to analyze sleep EEG data.\n",
    "\n",
    "This demo is a jupyter notebook, i.e. intended to be run step by step.\n",
    "\n",
    "Author: Eric Einspänner\n",
    "<br>\n",
    "Contributor: Nastaran Takmilhomayouni\n",
    "\n",
    "First version: 6th of July 2023 ?\n",
    "\n",
    "\n",
    "Copyright 2023 Clinic of Neuroradiology, Magdeburg, Germany\n",
    "\n",
    "License: Apache-2.0\n",
    "\n",
    "*This notebook is inspired by: https://mne.tools/stable/auto_tutorials/clinical/60_sleep.html*\n",
    "\n",
    "*Dataset: https://ieeexplore.ieee.org/document/867928*"
   ]
  },
  {
   "cell_type": "markdown",
   "id": "543b7d02",
   "metadata": {},
   "source": [
    "0. [Initial Set-Up for Google Colab](#initial-set-up-for-google-colab)\n",
    "1. [Initial Set-Up (offline)](#initial-set-up-offline)\n",
    "2. [Data Analysis](#Data-Analysis)\n",
    "    - [Extract_30s_events_from_annotations](#Extract-30s-events-from-annotations)\n",
    "    - [Create_Epochs](#Create-Epochs)\n"
   ]
  },
  {
   "cell_type": "markdown",
   "id": "215ef8ca",
   "metadata": {},
   "source": [
    "## Initial Set-Up for Google Colab\n",
    "<u> Execute these code blocks just in Google Colab! </u>"
   ]
  },
  {
   "cell_type": "code",
   "execution_count": null,
   "id": "e200022c",
   "metadata": {},
   "outputs": [],
   "source": [
    "!wget -q -O - https://github.com/University-Clinic-of-Neuroradiology/python-bootcamp/archive/refs/heads/main.tar.gz | tar -xzf - --strip-components=2 python-bootcamp-main/notebooks/DataManagement"
   ]
  },
  {
   "cell_type": "code",
   "execution_count": null,
   "id": "34f4ba07",
   "metadata": {},
   "outputs": [],
   "source": [
    "import os\n",
    "import sys\n",
    "from google.colab import output\n",
    "output.enable_custom_widget_manager()\n",
    "\n",
    "sys.path.insert(0,'DataManagement')\n",
    "os.chdir(sys.path[0])"
   ]
  },
  {
   "cell_type": "code",
   "execution_count": null,
   "id": "87eed567",
   "metadata": {},
   "outputs": [],
   "source": [
    "%pip install -q ipympl matplotlib mne"
   ]
  },
  {
   "cell_type": "code",
   "execution_count": null,
   "id": "050407e9",
   "metadata": {},
   "outputs": [],
   "source": [
    "import matplotlib.pyplot as plt\n",
    "\n",
    "import mne\n",
    "from mne.datasets.sleep_physionet.age import fetch_data"
   ]
  },
  {
   "cell_type": "markdown",
   "id": "fd5878b0",
   "metadata": {},
   "source": [
    "## Initial Set-Up (offline)"
   ]
  },
  {
   "cell_type": "code",
   "execution_count": null,
   "id": "3cf10879",
   "metadata": {},
   "outputs": [],
   "source": [
    "# Make sure figures appears inline and animations works\n",
    "# Edit this to \"\"%matplotlib notebook\" when using the \"classic\" jupyter notebook interface\n",
    "%matplotlib widget"
   ]
  },
  {
   "cell_type": "code",
   "execution_count": null,
   "id": "41a1b63a",
   "metadata": {},
   "outputs": [],
   "source": [
    "import matplotlib.pyplot as plt\n",
    "\n",
    "import mne\n",
    "from mne.datasets.sleep_physionet.age import fetch_data"
   ]
  },
  {
   "cell_type": "markdown",
   "id": "31708cc5",
   "metadata": {},
   "source": [
    "## --- Start notebook ---"
   ]
  },
  {
   "cell_type": "markdown",
   "id": "c1d0f733",
   "metadata": {},
   "source": [
    "## Data Analysis"
   ]
  },
  {
   "cell_type": "code",
   "execution_count": null,
   "id": "4c27a23b",
   "metadata": {},
   "outputs": [],
   "source": [
    "# load two data files of two subjects \n",
    "ALICE, BOB = 0, 1\n",
    "\n",
    "[alice_files, bob_files] = fetch_data(subjects=[ALICE, BOB], recording=[1])\n",
    "\n",
    "# two files containing SC4001E0-PSG.edf and # SC4001EC-Hypnogram.edf\n",
    "print(alice_files) \n",
    "\n",
    "# read one file from SC4001E0-PSG.edf\n",
    "raw_train = mne.io.read_raw_edf(\n",
    "    alice_files[0], stim_channel=\"Event marker\", infer_types=True, preload=True\n",
    ")\n",
    "\n",
    "# read annotations from SC4001EC-Hypnogram.edf\n",
    "annot_train = mne.read_annotations(alice_files[1])\n",
    "raw_train.set_annotations(annot_train, emit_warning=False)\n",
    "\n",
    "print('Information of the Sleep dataset', raw_train.info)"
   ]
  },
  {
   "cell_type": "code",
   "execution_count": null,
   "id": "8925234a",
   "metadata": {},
   "outputs": [],
   "source": [
    "# plot some data\n",
    "# scalings were chosen manually to allow for simultaneous visualization of\n",
    "# different channel types in this specific dataset\n",
    "raw_train.plot(\n",
    "    start = 60,\n",
    "    duration = 60,\n",
    "    scalings = dict(eeg=1e-4, resp=1e3, eog=1e-4, emg=1e-7, misc=1e-1),\n",
    ")"
   ]
  },
  {
   "cell_type": "markdown",
   "id": "7e58ecec",
   "metadata": {},
   "source": [
    "### Extract 30s events from annotations"
   ]
  },
  {
   "cell_type": "markdown",
   "id": "269eb77c",
   "metadata": {},
   "source": [
    "The Sleep Physionet dataset is annotated using 8 labels:\n",
    "\n",
    "- Wake (W),\n",
    "- Stage 1, Stage 2, Stage 3, Stage 4 corresponding to the range from light sleep to deep sleep,\n",
    "- REM sleep (R) where REM is the abbreviation for Rapid Eye Movement sleep, movement (M), \n",
    "- and Stage (?) for any none scored segment.\n",
    "\n",
    "We will work only with 5 stages: Wake (W), Stage 1, Stage 2, Stage 3/4, and REM sleep (R)."
   ]
  },
  {
   "cell_type": "code",
   "execution_count": null,
   "id": "573928ed",
   "metadata": {},
   "outputs": [],
   "source": [
    "annotation_desc_2_event_id = {\n",
    "    \"Sleep stage W\": 1,\n",
    "    \"Sleep stage 1\": 2,\n",
    "    \"Sleep stage 2\": 3,\n",
    "    \"Sleep stage 3\": 4,\n",
    "    \"Sleep stage 4\": 4,\n",
    "    \"Sleep stage R\": 5,\n",
    "}\n",
    "\n",
    "# keep last 30-min wake events before sleep and first 30-min wake events after\n",
    "# sleep and redefine annotations on raw data\n",
    "annot_train.crop(annot_train[1][\"onset\"] - 30 * 60, annot_train[-2][\"onset\"] + 30 * 60)\n",
    "raw_train.set_annotations(annot_train, emit_warning=False)\n",
    "\n",
    "#select which events are we interested in and\n",
    "events_train, _ = mne.events_from_annotations(\n",
    "    raw_train, event_id=annotation_desc_2_event_id, chunk_duration=30.0\n",
    ")\n",
    "\n",
    "# create a new event_id that unifies stages 3 and 4\n",
    "event_id = {\n",
    "    \"Sleep stage W\": 1,\n",
    "    \"Sleep stage 1\": 2,\n",
    "    \"Sleep stage 2\": 3,\n",
    "    \"Sleep stage 3/4\": 4,\n",
    "    \"Sleep stage R\": 5,\n",
    "}\n",
    "\n",
    "# plot events\n",
    "fig = mne.viz.plot_events(\n",
    "    events_train,\n",
    "    event_id=event_id,\n",
    "    sfreq=raw_train.info[\"sfreq\"],\n",
    "    first_samp=events_train[0, 0],\n",
    ")\n",
    "\n",
    "# keep the color-code for further plotting\n",
    "stage_colors = plt.rcParams[\"axes.prop_cycle\"].by_key()[\"color\"]"
   ]
  },
  {
   "cell_type": "markdown",
   "id": "f89f19aa",
   "metadata": {},
   "source": [
    "### Create Epochs"
   ]
  },
  {
   "cell_type": "code",
   "execution_count": null,
   "id": "3b5fcfbc",
   "metadata": {},
   "outputs": [],
   "source": [
    "# Create Epochs from the data based on the events found in the annotations\n",
    "tmax = 30.0 - 1.0 / raw_train.info[\"sfreq\"]  # tmax in included , number od samples\n",
    "\n",
    "epochs_train = mne.Epochs(\n",
    "    raw=raw_train,\n",
    "    events=events_train,\n",
    "    event_id=event_id,\n",
    "    tmin=0.0,\n",
    "    tmax=tmax,\n",
    "    baseline=None,\n",
    ")\n",
    "del raw_train # we can delete raw_train object and continue with epochs_train object\n",
    "\n",
    "print(epochs_train) "
   ]
  },
  {
   "cell_type": "code",
   "execution_count": null,
   "id": "8391ceed",
   "metadata": {},
   "outputs": [],
   "source": [
    "# test everything for the other subject, bob !\n",
    "raw_test = mne.io.read_raw_edf(\n",
    "    bob_files[0], stim_channel=\"Event marker\", infer_types=True, preload=True\n",
    ")\n",
    "annot_test = mne.read_annotations(bob_files[1])\n",
    "annot_test.crop(annot_test[1][\"onset\"] - 30 * 60, annot_test[-2][\"onset\"] + 30 * 60)\n",
    "raw_test.set_annotations(annot_test, emit_warning=False)\n",
    "events_test, _ = mne.events_from_annotations(\n",
    "    raw_test, event_id=annotation_desc_2_event_id, chunk_duration=30.0\n",
    ")\n",
    "epochs_test = mne.Epochs(\n",
    "    raw=raw_test,\n",
    "    events=events_test,\n",
    "    event_id=event_id,\n",
    "    tmin=0.0,\n",
    "    tmax=tmax,\n",
    "    baseline=None,\n",
    ")\n",
    "del raw_test\n",
    "\n",
    "print(epochs_test)"
   ]
  }
 ],
 "metadata": {
  "kernelspec": {
   "display_name": "Python 3 (ipykernel)",
   "language": "python",
   "name": "python3"
  },
  "language_info": {
   "codemirror_mode": {
    "name": "ipython",
    "version": 3
   },
   "file_extension": ".py",
   "mimetype": "text/x-python",
   "name": "python",
   "nbconvert_exporter": "python",
   "pygments_lexer": "ipython3",
   "version": "3.9.17"
  }
 },
 "nbformat": 4,
 "nbformat_minor": 5
}
