{
 "cells": [
  {
   "cell_type": "markdown",
   "metadata": {},
   "source": [
    "# Lung deseases data analysis"
   ]
  },
  {
   "cell_type": "markdown",
   "metadata": {},
   "source": [
    "You'll learn how to analyze sample lung desease data\n",
    "\n",
    "This demo is a jupyter notebook, i.e. intended to be run step by step.\n",
    "\n",
    "Author: Eric Einspänner\n",
    "<br>\n",
    "Contributor: Nastaran Takmilhomayouni\n",
    "\n",
    "First version: 6th of July 2023\n",
    "\n",
    "\n",
    "Copyright 2023 Clinic of Neuroradiology, Magdeburg, Germany\n",
    "\n",
    "License: Apache-2.0\n",
    "\n",
    "*This notebook is inspired by: https://www.kaggle.com/code/sbernadac/lung-deseases-data-analysis/notebook*\n",
    "\n",
    "*Dataset: http://openaccess.thecvf.com/content_cvpr_2017/papers/Wang_ChestX-ray8_Hospital-Scale_Chest_CVPR_2017_paper.pdf*"
   ]
  },
  {
   "cell_type": "markdown",
   "metadata": {},
   "source": [
    "# Table Of Contents\n",
    "0. [Initial Set-Up for Google Colab](#initial-set-up-for-google-colab)\n",
    "1. [Initial Set-Up (offline)](#initial-set-up-offline)\n",
    "2. [Data Analysis](#Data-Analysis)\n",
    "    - [Data cleaning](#Data-cleaning)\n",
    "    - [Display number of each deseases by patient gender ](#Display-number-of-each-deseases-by-patient-gender)\n",
    "2. [Age distribution](#Age-distribution)"
   ]
  },
  {
   "cell_type": "markdown",
   "metadata": {},
   "source": [
    "## Initial Set-Up for Google Colab\n",
    "<u> Execute these code blocks just in Google Colab! </u>"
   ]
  },
  {
   "cell_type": "code",
   "execution_count": null,
   "metadata": {},
   "outputs": [],
   "source": [
    "!git clone https://github.com/University-Clinic-of-Neuroradiology/python-bootcamp.git"
   ]
  },
  {
   "cell_type": "code",
   "execution_count": null,
   "metadata": {},
   "outputs": [],
   "source": [
    "import os\n",
    "import sys\n",
    "from google.colab import output\n",
    "output.enable_custom_widget_manager()\n",
    "\n",
    "sys.path.insert(0,'/content/python-bootcamp/notebooks/DataManagement')\n",
    "os.chdir(sys.path[0])"
   ]
  },
  {
   "cell_type": "code",
   "execution_count": null,
   "metadata": {},
   "outputs": [],
   "source": [
    "%pip install -q ipympl numpy matplotlib pandas seaborn"
   ]
  },
  {
   "cell_type": "code",
   "execution_count": null,
   "metadata": {},
   "outputs": [],
   "source": [
    "import numpy as np                          # linear algebra\n",
    "import pandas as pd                         # data processing, CSV file I/O (e.g. pd.read_csv)\n",
    "import matplotlib.pyplot as plt             # visualization\n",
    "import seaborn as sns                       # visualization\n",
    "import matplotlib.gridspec as gridspec      # grid layout to place subplots within a figure.\n",
    "import matplotlib.ticker as ticker          # configuring plot tick locating and formatting\n",
    "sns.set_style('whitegrid')                  # color of the background and whether a grid is enabled"
   ]
  },
  {
   "cell_type": "markdown",
   "metadata": {},
   "source": [
    "## Initial Set-Up (offline)"
   ]
  },
  {
   "cell_type": "code",
   "execution_count": null,
   "metadata": {},
   "outputs": [],
   "source": [
    "# Make sure figures appears inline and animations works\n",
    "# Edit this to \"\"%matplotlib notebook\" when using the \"classic\" jupyter notebook interface\n",
    "%matplotlib widget"
   ]
  },
  {
   "cell_type": "code",
   "execution_count": null,
   "metadata": {},
   "outputs": [],
   "source": [
    "import numpy as np                          # linear algebra\n",
    "import pandas as pd                         # data processing, CSV file I/O (e.g. pd.read_csv)\n",
    "import matplotlib.pyplot as plt             # visualization\n",
    "import seaborn as sns                       # visualization\n",
    "import matplotlib.gridspec as gridspec      # grid layout to place subplots within a figure.\n",
    "import matplotlib.ticker as ticker          # configuring plot tick locating and formatting\n",
    "sns.set_style('whitegrid')                  # color of the background and whether a grid is enabled"
   ]
  },
  {
   "cell_type": "markdown",
   "metadata": {},
   "source": [
    "## --- Start notebook ---"
   ]
  },
  {
   "cell_type": "markdown",
   "metadata": {},
   "source": [
    "## Data Analysis\n",
    "To read a csv file you can use read_csv function from python pandas module"
   ]
  },
  {
   "cell_type": "code",
   "execution_count": null,
   "metadata": {},
   "outputs": [],
   "source": [
    "# import data set description\n",
    "df = pd.read_csv('./Data/Data_Entry_2017.csv') # read the csv file from the given location\n",
    "df.head() # return the first n rows. n=int, default 5"
   ]
  },
  {
   "cell_type": "code",
   "execution_count": null,
   "metadata": {},
   "outputs": [],
   "source": [
    "df.describe() # generate descriptive statistics of quantitative variables"
   ]
  },
  {
   "cell_type": "markdown",
   "metadata": {},
   "source": [
    "### Data cleaning\n",
    "you can select whichever columns you want to work from your dataframe"
   ]
  },
  {
   "cell_type": "code",
   "execution_count": null,
   "metadata": {},
   "outputs": [],
   "source": [
    "# drop unused columns\n",
    "# keep the columns of the dataframe you want\n",
    "df = df[['Index','Finding Labels','Follow-up #','Patient ID','Patient Age','Patient Gender']]\n",
    "df.head() # return the first n rows. n=int, default 5"
   ]
  },
  {
   "cell_type": "code",
   "execution_count": null,
   "metadata": {},
   "outputs": [],
   "source": [
    "# create new columns for each decease\n",
    "# List of labels you are looking for\n",
    "pathology_list = ['Cardiomegaly','Emphysema','Effusion','Hernia','Nodule','Pneumothorax','Atelectasis','Pleural_Thickening','Mass','Edema','Consolidation','Infiltration','Fibrosis','Pneumonia']\n",
    "\n",
    "# print all the labels in 'Finding Labels' column of the df\n",
    "print(df['Finding Labels'])\n"
   ]
  },
  {
   "cell_type": "markdown",
   "metadata": {},
   "source": [
    "you can add column(s) to your dataframe which content can be filled through applying a function on already existing columns of your dataframe"
   ]
  },
  {
   "cell_type": "code",
   "execution_count": null,
   "metadata": {},
   "outputs": [],
   "source": [
    "# apply a function on the labels in 'Finding Labels' column of the df\n",
    "# which adds a column for each pathology and 1 if the pathology is in 'Finding Labels' and 0 if not\n",
    "for pathology in pathology_list:\n",
    "    df[pathology] = df['Finding Labels'].apply(lambda x: 1 if pathology in x else 0) #Function to apply to each column or row\n",
    "    \n",
    "df.head()"
   ]
  },
  {
   "cell_type": "code",
   "execution_count": null,
   "metadata": {},
   "outputs": [],
   "source": [
    "print(df.select_dtypes(include=['category']))"
   ]
  },
  {
   "cell_type": "markdown",
   "metadata": {},
   "source": [
    "### Display number of each deseases by patient gender"
   ]
  },
  {
   "cell_type": "code",
   "execution_count": null,
   "metadata": {},
   "outputs": [],
   "source": [
    "df.head()"
   ]
  },
  {
   "cell_type": "code",
   "execution_count": null,
   "metadata": {},
   "outputs": [],
   "source": [
    "# use melt to transform or reshape data\n",
    "# investigate only the 'Patient Gender' column of the dataset. How?\n",
    "# values in the columns in the 'pathology_list' will be printed for each row of'Patient Gender' column\n",
    "data1 = pd.melt(df, id_vars=['Patient Gender'], value_vars = list(pathology_list))\n",
    "data1"
   ]
  },
  {
   "cell_type": "code",
   "execution_count": null,
   "metadata": {},
   "outputs": [],
   "source": [
    "# change the column name 'variable' to 'Category' and 'value' to 'Count'\n",
    "data1 = pd.melt(df,                             #dataframe\n",
    "             id_vars = ['Patient Gender'],        #columns to keep\n",
    "             value_vars = list(pathology_list), #variables with values of those columns\n",
    "             var_name = 'Category',             #change 'variable' name to 'Category'\n",
    "             value_name = 'Count')              #change 'value'  name to 'Count' \n",
    "data1"
   ]
  },
  {
   "cell_type": "code",
   "execution_count": null,
   "metadata": {},
   "outputs": [],
   "source": [
    "# Let's keep only those rows that have Count>0\n",
    "data1 = data1.loc[data1.Count > 0]\n",
    "data1"
   ]
  },
  {
   "cell_type": "code",
   "execution_count": null,
   "metadata": {},
   "outputs": [],
   "source": [
    "# Let's take a look at the dataframe one more time\n",
    "# In the 'Finding Labels' column we have 'No Finding' entries\n",
    "df"
   ]
  },
  {
   "cell_type": "code",
   "execution_count": null,
   "metadata": {},
   "outputs": [],
   "source": [
    "# Let's create a 'Nothing' column with value 1 if 'No Finding' was in that row of the 'Finding Labels' column  and 0 if not\n",
    "df['Nothing'] = df['Finding Labels'].apply(lambda x: 1 if 'No Finding' in x else 0)\n",
    "df"
   ]
  },
  {
   "cell_type": "code",
   "execution_count": null,
   "metadata": {},
   "outputs": [],
   "source": [
    "# use melt to transform or reshape data\n",
    "# investigate only the 'Patient Gender' column of the dataset. How?\n",
    "# values in the 'Nothing' column will be printed for each row of 'Patient Gender' column\n",
    "# change the column name 'variable' to 'Category' and 'value' to 'Count'\n",
    "data2 = pd.melt(df,\n",
    "             id_vars=['Patient Gender'],\n",
    "             value_vars = list(['Nothing']),\n",
    "             var_name = 'Category',\n",
    "             value_name = 'Count')\n",
    "# Let's keep only those rows that have Count>0\n",
    "data2 = data2.loc[data2.Count>0]\n",
    "data2"
   ]
  },
  {
   "cell_type": "markdown",
   "metadata": {},
   "source": [
    "Pathology and Non-pathology counts in female and male cases "
   ]
  },
  {
   "cell_type": "code",
   "execution_count": null,
   "metadata": {},
   "outputs": [],
   "source": [
    "# Let's plot\n",
    "plt.figure(figsize=(15,10)) # generate a new figure\n",
    "gs = gridspec.GridSpec(8,1) # create a new grid layout with 8 rows and 1 column\n",
    "ax1 = plt.subplot(gs[:7, :]) # ax1 to plot the first 7 rows\n",
    "ax2 = plt.subplot(gs[7, :])  # ax2 to plot the last row\n",
    "#-------------------------------------------\n",
    "# Plot 'Cardiomegaly','Emphysema','Effusion','Hernia','Nodule',\n",
    "#      'Pneumothorax','Atelectasis','Pleural_Thickening','Mass',\n",
    "#      'Edema','Consolidation','Infiltration','Fibrosis','Pneumonia' counts for male and female\n",
    "\n",
    "g = sns.countplot(y='Category', hue='Patient Gender', data=data1, ax=ax1, order = data1['Category'].value_counts().index)\n",
    "ax1.set(ylabel=\"\",xlabel=\"\")\n",
    "ax1.figure.set_size_inches(9, 9)\n",
    "ax1.legend(fontsize=13)\n",
    "ax1.set_title('X Ray partition (total number = 121120)', fontsize=15)\n",
    "ax1.set_xlim([0,12000])\n",
    "plt.tight_layout()\n",
    "\n",
    "# Plot 'Nothing' counts for male and female\n",
    "\n",
    "g = sns.countplot(y='Category', hue='Patient Gender', data=data2, ax=ax2)\n",
    "ax2.set(ylabel=\"\", xlabel=\"Number of decease\")\n",
    "ax2.legend('')\n",
    "plt.subplots_adjust(hspace=.5)"
   ]
  },
  {
   "cell_type": "markdown",
   "metadata": {},
   "source": [
    "Patient age counts in female and male cases"
   ]
  },
  {
   "cell_type": "code",
   "execution_count": null,
   "metadata": {},
   "outputs": [],
   "source": [
    "# Let's draw a categorical plot for number of each \"Patient Age\" value over each \"Patient Age\" value at ordinal positions\n",
    "# Do it for each \"Patient Gender\"\n",
    "g = sns.catplot(x=\"Patient Age\", col=\"Patient Gender\", data=df, kind=\"count\", aspect=0.8, palette=\"GnBu_d\")\n",
    "g.set_xticklabels(np.arange(0,121))\n",
    "g.set_xticklabels(step=10)\n",
    "g.fig.suptitle('Age distribution by sex', fontsize=15)\n",
    "g.fig.subplots_adjust(top=.8)\n",
    "g.figure.set_size_inches(9, 9)"
   ]
  },
  {
   "cell_type": "markdown",
   "metadata": {},
   "source": [
    "# Age distribution "
   ]
  },
  {
   "cell_type": "code",
   "execution_count": null,
   "metadata": {},
   "outputs": [],
   "source": [
    "# Let's take a look at the dataframe \n",
    "df"
   ]
  },
  {
   "cell_type": "code",
   "execution_count": null,
   "metadata": {},
   "outputs": [],
   "source": [
    "# Let's add 'Age Type' column\n",
    "df['Age Type'] = df['Patient Age'].apply(lambda x: x[-1:]) # keep only the last value Y, M or D\n",
    "df['Age Type'].unique()  # only keep unique values => Y, M and D\n",
    "\n",
    "# we mainly have ages expressed in Years, but also a few expressed in Months or in Days\n",
    "print('age expressed in years', df[df['Age Type']=='Y']['Patient ID'].count())\n",
    "print('age expressed in months', df[df['Age Type']=='M']['Patient ID'].count())  \n",
    "print('age expressed in days', df[df['Age Type']=='D']['Patient ID'].count())\n",
    "df"
   ]
  },
  {
   "cell_type": "code",
   "execution_count": null,
   "metadata": {},
   "outputs": [],
   "source": [
    "#we are going to remove character after patients age, and transform D and M in years\n",
    "df['Age'] = df['Patient Age'].apply(lambda x: x[:-1]).astype(int) # keep all before last digits, e.g. 058 and then remove 0 ->58\n",
    "df"
   ]
  },
  {
   "cell_type": "code",
   "execution_count": null,
   "metadata": {},
   "outputs": [],
   "source": [
    "# convert those age values in 'Age' column that are in months, 'M' or days, 'D' into years, 'Y'\n",
    "\n",
    "df.loc[df['Age Type']=='M',['Age']] = df[df['Age Type']=='M']['Age'].apply(lambda x: round(x/12.)).astype(int)\n",
    "\n",
    "df.loc[df['Age Type']=='D',['Age']] = df[df['Age Type']=='D']['Age'].apply(lambda x: round(x/365.)).astype(int)\n",
    "print(df[df['Age Type']=='D']['Age'])\n",
    "df[df['Age Type']=='M']['Age']\n",
    "\n",
    "df['Age'].sort_values(ascending=False).head(20) # sort the age values in an ascending order\n",
    "\n",
    "df.loc[df['Patient ID']==5567, ['Patient Age','Finding Labels','Follow-up #']].sort_values('Follow-up #', ascending=True)\n",
    "df.loc[df['Patient ID']==5567, ['Patient Age','Finding Labels','Follow-up #']].sort_values('Patient Age', ascending=False)\n",
    "df.head()"
   ]
  },
  {
   "cell_type": "code",
   "execution_count": null,
   "metadata": {},
   "outputs": [],
   "source": [
    "# Let's draw a categorical plot for number of each \"Age\" value over each \"Age\" value at ordinal positions\n",
    "# Do it for each \"Patient Gender\"\n",
    "g = sns.catplot(x=\"Age\", col=\"Patient Gender\",data=df, kind=\"count\", aspect=0.8, palette=\"GnBu_d\")\n",
    "g.set_xticklabels(np.arange(0,108))\n",
    "g.set_xticklabels(step=10)\n",
    "g.fig.suptitle('Age distribution by sex', fontsize=14)\n",
    "g.fig.subplots_adjust(top=.8)"
   ]
  },
  {
   "cell_type": "markdown",
   "metadata": {},
   "source": [
    "# Distribution looks more realistic now -> Exercise for students: Fix the age column!?"
   ]
  },
  {
   "cell_type": "markdown",
   "metadata": {},
   "source": [
    "## Display pathologies distribution by age&sex"
   ]
  },
  {
   "cell_type": "code",
   "execution_count": null,
   "metadata": {},
   "outputs": [],
   "source": [
    "f, axarr = plt.subplots(7, 2, sharex=True, figsize=(10, 20)) # create layout with 7 rows and 2 columns\n",
    "\n",
    "i = 0\n",
    "j = 0\n",
    "x = np.arange(0, 100, 10)\n",
    "for pathology in pathology_list : # Count the occurence of each pathology for each age value for each \"Patient Gender\"\n",
    "    g = sns.countplot(x='Age', hue=\"Patient Gender\", data=df[df['Finding Labels']==pathology], ax=axarr[i, j])\n",
    "    axarr[i, j].set_title(pathology)   \n",
    "    g.set_xlim(0, 90)\n",
    "    g.set_xticks(x) # use each 'Age' value as ticks\n",
    "    g.set_xticklabels(x)\n",
    "    j = (j + 1) % 2\n",
    "    if j == 0:\n",
    "        i = (i + 1) % 7\n",
    "f.subplots_adjust(hspace=0.4) # height of the padding between subplots for a better view\n",
    "f.subplots_adjust(wspace=0.1) # width of the padding between subplots for a better view"
   ]
  },
  {
   "cell_type": "markdown",
   "metadata": {},
   "source": [
    "## Display patient number by Follow-up in details"
   ]
  },
  {
   "cell_type": "code",
   "execution_count": null,
   "metadata": {},
   "outputs": [],
   "source": [
    "f, (ax1,ax2) = plt.subplots( 2, figsize=(15, 10))\n",
    "\n",
    "# get those patient data with less that 15 times 'Follow-up #'\n",
    "data = df[df['Follow-up #'] < 15]\n",
    "\n",
    "# plot number of patients having each number of 'Follow-up #' in an ordinal distribution\n",
    "g = sns.countplot(x='Follow-up #', data=data, palette=\"GnBu_d\", ax=ax1)\n",
    "\n",
    "ax1.set_title('Follow-up distribution')\n",
    "data = df[df['Follow-up #']>14] # get those patient data with more  that 15 times 'Follow-up #'\n",
    "\n",
    "# plot number of patients having each number of 'Follow-up #' in an ordinal distribution\n",
    "g = sns.countplot(x='Follow-up #', data=data, palette=\"GnBu_d\", ax=ax2)\n",
    "\n",
    "x = np.arange(15,100,10)\n",
    "g.set_ylim(15,450)\n",
    "g.set_xlim(15,100)\n",
    "g.set_xticks(x)\n",
    "g.set_xticklabels(x)\n",
    "f.subplots_adjust(top=1)"
   ]
  },
  {
   "cell_type": "markdown",
   "metadata": {},
   "source": [
    "## Try to find links between pathologies"
   ]
  },
  {
   "cell_type": "code",
   "execution_count": null,
   "metadata": {},
   "outputs": [],
   "source": [
    "# Let's look at the dataframe again\n",
    "df"
   ]
  },
  {
   "cell_type": "code",
   "execution_count": null,
   "metadata": {},
   "outputs": [],
   "source": [
    "#First display Top 10 multiple deseases\n",
    "data = df.groupby('Finding Labels').count().sort_values('Patient ID', ascending=False).head(23)\n",
    "data = data[['|' in index for index in data.index.values]]\n",
    "data"
   ]
  },
  {
   "cell_type": "code",
   "execution_count": null,
   "metadata": {},
   "outputs": [],
   "source": [
    "# Group dataframe by 'Finding Labels' column and count all the values for each\n",
    "# sort them based on 'Patient ID' column values in an ascending order\n",
    "data = df.groupby('Finding Labels').count().sort_values('Patient ID', ascending=False)\n",
    "data.head()"
   ]
  },
  {
   "cell_type": "code",
   "execution_count": null,
   "metadata": {},
   "outputs": [],
   "source": [
    "# Some row labels of data contains more than one label separated by a '|'\n",
    "print(data.index) #The index (row labels) of the DataFrame."
   ]
  },
  {
   "cell_type": "code",
   "execution_count": null,
   "metadata": {},
   "outputs": [],
   "source": [
    "df1 = data[['|' in index for index in data.index]].copy()  # those rows containing information of many labels\n",
    "\n",
    "df2 = data[['|' not in index for index in data.index]]     # those rows containing information of at least one label\n",
    "df2 = df2[['No Finding' not in index for index in df2.index]] \n",
    "\n",
    "df2['Finding Labels'] = df2.index.values  # Simple Pathology dataframe \n",
    "df1['Finding Labels'] = df1.index.values  # Multiple Pathology dataframe"
   ]
  },
  {
   "cell_type": "code",
   "execution_count": null,
   "metadata": {},
   "outputs": [],
   "source": [
    "f, ax = plt.subplots(sharex=True, figsize=(15, 10))\n",
    "\n",
    "sns.set_color_codes(\"pastel\")\n",
    "g = sns.countplot(y='Category',data=data1, ax=ax, order = data1['Category'].value_counts().index,color='b',label=\"Multiple Pathologies\")\n",
    "\n",
    "sns.set_color_codes(\"muted\")\n",
    "g = sns.barplot(x='Patient ID', y='Finding Labels', data=df2, ax=ax, color=\"b\", label=\"Simple Pathology\")\n",
    "\n",
    "ax.legend(ncol=2, loc=\"center right\", frameon=True, fontsize=20)\n",
    "ax.set(ylabel=\"\", xlabel=\"Number of decease\")\n",
    "ax.set_title(\"Comparaison between simple or multiple decease\", fontsize=20)\n",
    "\n",
    "sns.despine(left=True)"
   ]
  },
  {
   "cell_type": "code",
   "execution_count": null,
   "metadata": {},
   "outputs": [],
   "source": [
    "#we just keep groups of pathologies which appear more than 30 times\n",
    "df3 = df1.loc[df1['Patient ID'] > 30, ['Patient ID','Finding Labels']]\n",
    "\n",
    "for pathology in pathology_list:\n",
    "    df3[pathology] = df3.apply(lambda x: x['Patient ID'] if pathology in x['Finding Labels'] else 0, axis=1)\n",
    "\n",
    "df3.head(20)"
   ]
  },
  {
   "cell_type": "code",
   "execution_count": null,
   "metadata": {},
   "outputs": [],
   "source": [
    "# 'Hernia' has not enough values to figure here\n",
    "df4 = df3[df3['Hernia'] > 0]  # df4.size == 0\n",
    "\n",
    "# remove 'Hernia' from list\n",
    "pat_list = [elem for elem in pathology_list if 'Hernia' not in elem]\n",
    "\n",
    "f, axarr = plt.subplots(13, sharex=True, figsize=(10, 140))\n",
    "i = 0\n",
    "for pathology in pat_list :\n",
    "    df4 = df3[df3[pathology] > 0]\n",
    "    if df4.size > 0:  #'Hernia' has not enough values to figure here\n",
    "        axarr[i].pie(df4[pathology], labels = df4['Finding Labels'], autopct='%1.1f%%')\n",
    "        axarr[i].set_title('main desease : ' + pathology, fontsize=14)   "
   ]
  }
 ],
 "metadata": {
  "kernelspec": {
   "display_name": "Python 3 (ipykernel)",
   "language": "python",
   "name": "python3"
  },
  "language_info": {
   "codemirror_mode": {
    "name": "ipython",
    "version": 3
   },
   "file_extension": ".py",
   "mimetype": "text/x-python",
   "name": "python",
   "nbconvert_exporter": "python",
   "pygments_lexer": "ipython3",
   "version": "3.9.7"
  }
 },
 "nbformat": 4,
 "nbformat_minor": 2
}
