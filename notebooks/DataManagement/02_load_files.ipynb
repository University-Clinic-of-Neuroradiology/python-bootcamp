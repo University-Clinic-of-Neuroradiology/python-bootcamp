{
 "cells": [
  {
   "cell_type": "markdown",
   "metadata": {},
   "source": [
    "# Load different file formats with Pandas\n",
    "You'll learn how to load data files in Python.\n",
    "\n",
    "This demo is a jupyter notebook, i.e. intended to be run step by step.\n",
    "\n",
    "Author: Eric Einspänner\n",
    "<br>\n",
    "Contributor: Nastaran Takmilhomayouni\n",
    "\n",
    "First version: 6th of July 2023\n",
    "\n",
    "\n",
    "Copyright 2023 Clinic of Neuroradiology, Magdeburg, Germany\n",
    "\n",
    "License: Apache-2.0"
   ]
  },
  {
   "cell_type": "markdown",
   "metadata": {},
   "source": [
    "## Table of contents\n",
    "0. [Initial Set-Up for Google Colab](#initial-set-up-for-google-colab)\n",
    "1. [Initial Set-Up (offline)](#initial-set-up-offline)\n",
    "2. [File Formats](#Medical-data-file-formats)\n",
    "3. [CSV](#CSV)\n",
    "4. [XLSX](#XLSX)\n",
    "5. [XML](#XML)\n",
    "    - [XML to Dataframe](#Converting-xml-to-pandas-dataframe)\n",
    "6. [RD](#RD)\n",
    "7. [EDF](#EDF)\n",
    "8. [BDF](#BDF)"
   ]
  },
  {
   "cell_type": "markdown",
   "metadata": {},
   "source": [
    "## Initial Set-Up for Google Colab\n",
    "<u> Execute these code blocks just in Google Colab! </u>"
   ]
  },
  {
   "cell_type": "code",
   "execution_count": null,
   "metadata": {},
   "outputs": [],
   "source": [
    "!git clone https://github.com/University-Clinic-of-Neuroradiology/python-bootcamp.git"
   ]
  },
  {
   "cell_type": "code",
   "execution_count": null,
   "metadata": {},
   "outputs": [],
   "source": [
    "import os\n",
    "import sys\n",
    "from google.colab import output\n",
    "output.enable_custom_widget_manager()\n",
    "\n",
    "sys.path.insert(0,'/content/python-bootcamp/notebooks/DataManagement')\n",
    "os.chdir(sys.path[0])"
   ]
  },
  {
   "cell_type": "code",
   "execution_count": null,
   "metadata": {},
   "outputs": [],
   "source": [
    "%pip install -q ipympl numpy matplotlib pandas seaborn mne pybdf"
   ]
  },
  {
   "cell_type": "code",
   "execution_count": null,
   "metadata": {},
   "outputs": [],
   "source": [
    "import os\n",
    "import shutil\n",
    "import gzip\n",
    "import tarfile\n",
    "import pandas as pd\n",
    "import numpy as np\n",
    "import gzip\n",
    "import mne\n",
    "from biosemipy import bdf\n",
    "import seaborn as sn\n",
    "import matplotlib.pyplot as plt\n",
    "from xml.etree import ElementTree as ET                     # Parse XML file in a tree structure\n",
    "\n",
    "from Utilities.EEG_load_function import import_eeg_file"
   ]
  },
  {
   "cell_type": "markdown",
   "metadata": {},
   "source": [
    "## Initial Set-Up (offline)"
   ]
  },
  {
   "cell_type": "code",
   "execution_count": null,
   "metadata": {},
   "outputs": [],
   "source": [
    "# Initial imports etc\n",
    "import os\n",
    "import shutil\n",
    "import gzip\n",
    "import tarfile\n",
    "import pandas as pd\n",
    "import numpy as np\n",
    "import gzip\n",
    "import mne\n",
    "from biosemipy import bdf\n",
    "import seaborn as sn\n",
    "import matplotlib.pyplot as plt\n",
    "from xml.etree import ElementTree as ET                     # Parse XML file in a tree structure\n",
    "\n",
    "from Utilities.EEG_load_function import import_eeg_file"
   ]
  },
  {
   "cell_type": "markdown",
   "metadata": {},
   "source": [
    "## --- Start notebook ---"
   ]
  },
  {
   "cell_type": "markdown",
   "metadata": {},
   "source": [
    "Mostly, medical files are shared as .gz or tar.gz files, which are compressed files containing medical data files with the formats in the table above.\n",
    "\n",
    "To read a .gz file, you can use `open` function from python `gzip` module.\n",
    "\n",
    "To read a tar.gz file, you can use `open` function from python `tarfile` module or `unpack_archive` function from `shutil`."
   ]
  },
  {
   "cell_type": "code",
   "execution_count": null,
   "metadata": {},
   "outputs": [],
   "source": [
    "# tarfile\n",
    "tar = tarfile.open('Data/smni_eeg_data/a_1_co2a0000364.tar.gz', \"r:gz\")\n",
    "tar.extractall()\n",
    "tar.close()\n",
    "print(tar)"
   ]
  },
  {
   "cell_type": "code",
   "execution_count": null,
   "metadata": {},
   "outputs": [],
   "source": [
    "# shutil\n",
    "shutil.unpack_archive('Data/smni_eeg_data/a_1_co2a0000364.tar.gz', 'Data/smni_eeg_data')"
   ]
  },
  {
   "cell_type": "code",
   "execution_count": null,
   "metadata": {},
   "outputs": [],
   "source": [
    "# gzip\n",
    "fc = gzip.open('Data/SMNI_CMI_TRAIN/co2c0000347/co2c0000347.rd.000.gz', 'rb')"
   ]
  },
  {
   "cell_type": "code",
   "execution_count": null,
   "metadata": {},
   "outputs": [],
   "source": [
    "# gzip - loop\n",
    "sleepdata_path='Data/smni_eeg_data/'\n",
    "for tar_filename in os.listdir(sleepdata_path):\n",
    "     if 'tar.gz' in tar_filename: \n",
    "        shutil.unpack_archive(sleepdata_path+tar_filename,sleepdata_path)\n",
    "        \n",
    "        for gz_filename in os.listdir(sleepdata_path+tar_filename.split('.')[0]):\n",
    "            \n",
    "            with gzip.open(sleepdata_path+tar_filename.split('.')[0]+'/'+gz_filename, 'rb') as f_in:\n",
    "                \n",
    "                with open(sleepdata_path+tar_filename.split('.')[0]+'/'+gz_filename.split('.gz')[0], 'wb') as f_out:\n",
    "                    shutil.copyfileobj(f_in, f_out)"
   ]
  },
  {
   "cell_type": "markdown",
   "metadata": {},
   "source": [
    "## Medical data file formats\n",
    "| Format Name | File Extension | Origin                                         |\n",
    "|-------------|----------------|------------------------------------------------|\n",
    "| XML         | .xml           | Extensible Markup Language                     |\n",
    "| RD          | .rd            | R Documentation                                |\n",
    "| EDF         | .edf           | European Data Format                           |\n",
    "| BDF         | .bdf           | BioSemi Data Format                            |\n",
    "| CSV         | .csv           | Comma Separated Values                         |\n",
    "| XLSX        | .xlsx          | Microsoft Excel Spreadsheet                    |"
   ]
  },
  {
   "cell_type": "markdown",
   "metadata": {},
   "source": [
    "## CSV\n",
    "To read a csv file, you can use `read_csv()` function from python `Pandas` module."
   ]
  },
  {
   "cell_type": "code",
   "execution_count": null,
   "metadata": {},
   "outputs": [],
   "source": [
    "dat2 = pd.read_csv(\"Data/Data_Entry_2017.csv\")\n",
    "\n",
    "print(type(dat2))\n",
    "dat2.head()"
   ]
  },
  {
   "cell_type": "markdown",
   "metadata": {},
   "source": [
    "## XLSX\n",
    "To read an xlsx file, you can use `read_excel()` function from python `Pandas` module."
   ]
  },
  {
   "cell_type": "code",
   "execution_count": null,
   "metadata": {},
   "outputs": [],
   "source": [
    "dat3 = pd.read_excel(\"Data/ESAC-Net_report_2021_downloadable_tables.xlsx\",sheet_name='D1_J01A_AC',skiprows=1)\n",
    "\n",
    "print(type(dat3))\n",
    "dat3.head()"
   ]
  },
  {
   "cell_type": "markdown",
   "metadata": {},
   "source": [
    "## XML\n",
    "To read an XML file, you can use the `parse` function from python XML parsing module, which returns a Dataset object containing the data from the XML file.\n",
    "\n",
    "Parsing means to read information from a file and split it into pieces"
   ]
  },
  {
   "cell_type": "code",
   "execution_count": null,
   "metadata": {
    "scrolled": true
   },
   "outputs": [],
   "source": [
    "# parse an xml file by name\n",
    "file = ET.parse('Data/naaccr-xml-sample-v210-abstract-10.xml')\n",
    "\n",
    "# What main data our file has?\n",
    "root=file.getroot() # fetch the root element of the file\n",
    "print('root element of your file is:', root)\n",
    "print('tag of the root element is:',root.tag)      # the data we have-->NaaccrData\n",
    "\n",
    "print() # print new line\n",
    "# What is the subselement of each root? \n",
    "print('First subelement of each root is;',root[0].tag)  # patient\n",
    "print('number of patients is',len(root))    # how many patients \n",
    "for x in root: # for all root subelements\n",
    "    print(x.tag, x.attrib) # print each subelement's tag , attribute\n",
    "print()\n",
    "\n",
    "# What is the first subselement of each data? \n",
    "print('First subelement of each patient is;',root[0][0].tag)  # Item\n",
    "print('number of Items for each patient is',len(root[0]), ': 21 Items and 1 Tumor')    # how many Items for each patient \n",
    "for x in root[0]: # for all patient subelements\n",
    "    print(x.tag, x.attrib) # print each subelement's tag , attribute\n",
    "    \n",
    "for x in root[0]:\n",
    "    if len(x)!=0:\n",
    "        print(len(x),'Items for each Tumor subelement:')\n",
    "        for y in x:\n",
    "            print(y.tag, y.attrib)"
   ]
  },
  {
   "cell_type": "markdown",
   "metadata": {},
   "source": [
    "### Converting xml to pandas dataframe"
   ]
  },
  {
   "cell_type": "code",
   "execution_count": null,
   "metadata": {},
   "outputs": [],
   "source": [
    "# parse an xml file by name\n",
    "file = ET.parse('Data/naaccr-xml-sample-v210-abstract-10.xml')\n",
    "root=file.getroot() # fetch the root element of the file\n",
    "#mldict = XmlDictConfig(root)\n",
    "\n",
    "#for x in root.iter():\n",
    "    #print(x)\n",
    "def xml2df(root):\n",
    "    all_records=[]\n",
    "    \n",
    "    for i, child in enumerate(root): #patient\n",
    "        record={}\n",
    "        my_dict={}\n",
    "        values=[]\n",
    "        for subchild in child:\n",
    "            #print(subchild)\n",
    "            values.append(subchild.tag.split('}')[1])\n",
    "            #for i in len(np.unique(values)):\n",
    "                #print(list(np.unique(values))[i])\n",
    "            for key in list(np.unique(values)):\n",
    "                my_dict[key]=values.count(key)\n",
    "            record[child.tag.split('}')[1]]=my_dict\n",
    "        #print(record)      \n",
    "        all_records.append(record)\n",
    "    return pd.DataFrame(all_records)\n",
    "\n",
    "df=xml2df(root)\n",
    "print(type(df))\n",
    "df.head()"
   ]
  },
  {
   "cell_type": "markdown",
   "metadata": {},
   "source": [
    "## RD\n",
    "To read an RD file, you can use the `TextIOWrapper` function from python `io` module and then read and save it as a pandas dataframe by using python `Pandas` module.\n",
    "\n",
    "In the following we call `EEG_load_function.py` in which `import_eeg_file` reads the .rd file."
   ]
  },
  {
   "cell_type": "code",
   "execution_count": null,
   "metadata": {},
   "outputs": [],
   "source": [
    "# Import data from one trial from participant 338 in control group\n",
    "fc = gzip.open('Data/SMNI_CMI_TRAIN/co2c0000347/co2c0000347.rd.000.gz', 'rb')\n",
    "dfc = import_eeg_file(fc)\n",
    "print(type(dfc)) # Pandas Data Frame\n",
    "\n",
    "dfc.head()"
   ]
  },
  {
   "cell_type": "code",
   "execution_count": null,
   "metadata": {},
   "outputs": [],
   "source": [
    "# correlation matrix for partcipant\n",
    "corrMatrix_c = dfc.corr()\n",
    "ax = plt.axes()\n",
    "sn.heatmap(corrMatrix_c,\n",
    "           cbar=False,\n",
    "           square=True,\n",
    "           xticklabels=False,\n",
    "           yticklabels=False,\n",
    "           ax = ax\n",
    "           )\n",
    "ax.set_title('Correlation Matrix - Participant in Control Group')\n",
    "ax.set_xlabel('Electrodes') # x-axis label with fontsize 15\n",
    "ax.set_ylabel('Electrodes') # y-axis label with fontsize 15\n",
    "\n",
    "plt.show()"
   ]
  },
  {
   "cell_type": "markdown",
   "metadata": {},
   "source": [
    "## EDF\n",
    "To read an EDF file, you can use the `read_raw_edf` function from python `mne.io` module"
   ]
  },
  {
   "cell_type": "code",
   "execution_count": null,
   "metadata": {},
   "outputs": [],
   "source": [
    "raw = mne.io.read_raw_edf('Data/test_generator.edf').load_data()\n",
    "print()\n",
    "print('Information of the data is:',raw.info)"
   ]
  },
  {
   "cell_type": "markdown",
   "metadata": {},
   "source": [
    "## BDF\n",
    "To read a BDF file, you can use BDF function from python biosemipy module\n",
    "#git clone https://github.com/igmmgi/biosemipy.git\n",
    "#pip install -e biosemipy"
   ]
  },
  {
   "cell_type": "code",
   "execution_count": null,
   "metadata": {},
   "outputs": [],
   "source": [
    "dat1 = bdf.BDF(\"Data/BDFtestfiles/Newtest17-256.bdf\")\n",
    "print(type(dat1))\n"
   ]
  }
 ],
 "metadata": {
  "kernelspec": {
   "display_name": "Python 3 (ipykernel)",
   "language": "python",
   "name": "python3"
  },
  "language_info": {
   "codemirror_mode": {
    "name": "ipython",
    "version": 3
   },
   "file_extension": ".py",
   "mimetype": "text/x-python",
   "name": "python",
   "nbconvert_exporter": "python",
   "pygments_lexer": "ipython3",
   "version": "3.9.7"
  }
 },
 "nbformat": 4,
 "nbformat_minor": 2
}
