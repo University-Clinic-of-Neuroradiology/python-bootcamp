{
  "cells": [
    {
      "cell_type": "markdown",
      "metadata": {
        "id": "Hg-WFvaGqyQl"
      },
      "source": [
        "# Intermediate Prompt Engineering Notebook\n",
        "\n",
        "---\n",
        "\n",
        "\n",
        "\n",
        "This notebook expands on the basics of prompt engineering to explore intermediate techniques such as **Chain-of-Thought (CoT)** prompting, **role-based prompting**, and **prompt templates**. You’ll learn how to guide Large Language Models (LLMs) to reason through complex tasks, adopt specific roles, and use templated prompts for consistency, with a focus on medical applications. New additions include interactive widgets, advanced examples, and visualizations to enhance learning.\n",
        "\n",
        "This demo is a Jupyter notebook, intended to be run step by step.\n",
        "\n",
        "Author: Mohammad Rezapourian\n",
        "\n",
        "First version: 8th of April 2025\n",
        "\n",
        "Updated: 30th of April 2025\n",
        "\n",
        "License: Apache-2.0"
      ],
      "id": "Hg-WFvaGqyQl"
    },
    {
      "cell_type": "markdown",
      "metadata": {
        "id": "Vl7DE3pCqyQs"
      },
      "source": [
        "## Table of Contents\n",
        "1. [Initial Set-Up](#Initial-Set-Up)\n",
        "2. [Introduction to Intermediate Techniques](#Introduction-to-Intermediate-Techniques)\n",
        "3. [Chain-of-Thought Prompting](#Chain-of-Thought-Prompting)\n",
        "4. [Role-Based Prompting](#Role-Based-Prompting)\n",
        "5. [Prompt Templates](#Prompt-Templates)\n",
        "6. [Hands-on Exercises](#Hands-on-Exercises)\n",
        "7. [Interactive Prompt Testing with Widgets](#Interactive-Prompt-Testing-with-Widgets)\n",
        "8. [Optional: Using Promptify for Structured Outputs](#Optional-Using-Promptify-for-Structured-Outputs)\n",
        "9. [Visualizing Medical Data](#Visualizing-Medical-Data)\n",
        "10. [Conclusion and Next Steps](#Conclusion-and-Next-Steps)"
      ],
      "id": "Vl7DE3pCqyQs"
    },
    {
      "cell_type": "markdown",
      "metadata": {
        "id": "PUR7TVSsqyQt"
      },
      "source": [
        "## Initial Set-Up\n",
        "\n",
        "This notebook requires minimal dependencies for basic exercises. For advanced tasks, ensure you have the relevant libraries installed. We'll check for installations and guide API key setup for tools like OpenAI or Promptify.\n",
        "\n",
        "**Prerequisites**:\n",
        "- Familiarity with zero-shot and few-shot prompting (Beginner Prompt Engineering Notebook).\n",
        "- Basic Python knowledge (required for coding exercises).\n",
        "- Optional: Install `openai`, `promptify`, `ipywidgets`, and `matplotlib` for advanced tasks (`pip install openai promptify ipywidgets matplotlib`).\n",
        "\n",
        "The following cell sets up libraries and checks for their availability."
      ],
      "id": "PUR7TVSsqyQt"
    },
    {
      "cell_type": "code",
      "execution_count": null,
      "metadata": {
        "id": "RZ5od-ihqyQw"
      },
      "outputs": [],
      "source": [
        "# Import necessary libraries\n",
        "import numpy as np  # For data manipulation\n",
        "import json  # For structured outputs\n",
        "import matplotlib.pyplot as plt  # For visualizations\n",
        "%matplotlib inline\n",
        "\n",
        "# Check for optional libraries\n",
        "try:\n",
        "    import openai\n",
        "    print(\"OpenAI library is installed.\")\n",
        "except ImportError:\n",
        "    print(\"OpenAI library not installed. Install with `pip install openai` for API examples.\")\n",
        "\n",
        "try:\n",
        "    import promptify\n",
        "    print(\"Promptify library is installed.\")\n",
        "except ImportError:\n",
        "    print(\"Promptify not installed. Install with `pip install promptify` for structured output examples.\")\n",
        "\n",
        "try:\n",
        "    import ipywidgets\n",
        "    print(\"ipywidgets library is installed.\")\n",
        "except ImportError:\n",
        "    print(\"ipywidgets not installed. Install with `pip install ipywidgets` for interactive exercises.\")\n",
        "\n",
        "# Optional: Set up OpenAI API key (replace with your own key)\n",
        "# import os\n",
        "# os.environ['OPENAI_API_KEY'] = 'your-api-key-here'\n",
        "# print(\"OpenAI API key set. Ensure you replace 'your-api-key-here' with your actual key.\")"
      ],
      "id": "RZ5od-ihqyQw"
    },
    {
      "cell_type": "markdown",
      "metadata": {
        "id": "7CclXqDTqyQ0"
      },
      "source": [
        "## --- Start Notebook ---"
      ],
      "id": "7CclXqDTqyQ0"
    },
    {
      "cell_type": "markdown",
      "metadata": {
        "id": "z2dOm37xqyQ1"
      },
      "source": [
        "## Introduction to Intermediate Techniques\n",
        "\n",
        "Intermediate prompt engineering focuses on guiding LLMs to produce accurate and contextually relevant outputs for complex tasks. This notebook covers:\n",
        "- **Chain-of-Thought (CoT) Prompting**: Encourages step-by-step reasoning to solve problems.\n",
        "- **Role-Based Prompting**: Assigns personas (e.g., doctor, educator) to tailor responses.\n",
        "- **Prompt Templates**: Uses reusable formats for consistent outputs.\n",
        "\n",
        "These techniques are vital in medical contexts, where precision and clarity are critical. For example, CoT can help diagnose conditions, while role-based prompting ensures patient-friendly explanations. The [Awesome Prompt Engineering](https://github.com/promptslab/Awesome-Prompt-Engineering) repository highlights CoT as a key method for reasoning tasks. We'll also explore interactive widgets and visualizations to enhance learning."
      ],
      "id": "z2dOm37xqyQ1"
    },
    {
      "cell_type": "markdown",
      "metadata": {
        "id": "2dnWmM53qyQ3"
      },
      "source": [
        "## Chain-of-Thought Prompting\n",
        "\n",
        "Chain-of-Thought (CoT) prompting prompts LLMs to reason through problems step by step, improving accuracy for tasks like calculations, decision-making, or diagnostics. It’s particularly effective for tasks requiring logic or multi-step analysis.\n",
        "\n",
        "**General Example Prompt**:\n",
        "```plaintext\n",
        "To solve 'A store offers a 20% discount on a $50 item. What is the final price?', reason step by step.\n",
        "```\n",
        "\n",
        "**Expected Output**:\n",
        "- Step 1: Calculate the discount: 20% of $50 = 0.20 * 50 = $10.\n",
        "- Step 2: Subtract the discount from the original price: $50 - $10 = $40.\n",
        "- Final Answer: The final price is $40.\n",
        "\n",
        "**Medical Example Prompt 1**:\n",
        "```plaintext\n",
        "A patient has a fever of 101°F, persistent cough, and shortness of breath. Reason step by step to suggest a possible diagnosis, considering common respiratory conditions.\n",
        "```\n",
        "\n",
        "**Expected Output**:\n",
        "- Step 1: Fever, cough, and shortness of breath suggest a respiratory or systemic issue.\n",
        "- Step 2: Possible conditions include pneumonia, bronchitis, or COVID-19.\n",
        "- Step 3: Pneumonia is likely due to the combination of high fever and shortness of breath.\n",
        "- Final Answer: The patient may have pneumonia, pending confirmation with a chest X-ray.\n",
        "\n",
        "**Medical Example Prompt 2**:\n",
        "```plaintext\n",
        "A patient is prescribed amoxicillin at 25 mg/kg/day, divided into 3 doses, and weighs 30 kg. Calculate the dosage per administration step by step.\n",
        "```\n",
        "\n",
        "**Expected Output**:\n",
        "- Step 1: Calculate total daily dosage: 25 mg/kg * 30 kg = 750 mg/day.\n",
        "- Step 2: Divide into 3 doses: 750 mg / 3 = 250 mg per dose.\n",
        "- Final Answer: 250 mg per administration.\n",
        "\n",
        "**Diagram**:\n",
        "```\n",
        "[Input Symptoms or Data] --> [Step 1: Analyze Input] --> [Step 2: List Possibilities] --> [Step 3: Narrow Down] --> [Final Answer]\n",
        "```"
      ],
      "id": "2dnWmM53qyQ3"
    },
    {
      "cell_type": "code",
      "execution_count": null,
      "metadata": {
        "id": "newCoTCode"
      },
      "outputs": [],
      "source": [
        "# Example: Simulate CoT reasoning for dosage calculation\n",
        "def simulate_cot_dosage(weight, dosage_per_kg, doses_per_day):\n",
        "    print(f\"Step 1: Calculate total daily dosage: {dosage_per_kg} mg/kg * {weight} kg = {dosage_per_kg * weight} mg/day.\")\n",
        "    total_dosage = dosage_per_kg * weight\n",
        "    print(f\"Step 2: Divide into {doses_per_day} doses: {total_dosage} mg / {doses_per_day} = {total_dosage / doses_per_day} mg per dose.\")\n",
        "    print(f\"Final Answer: {total_dosage / doses_per_day} mg per administration.\")\n",
        "\n",
        "# Test the function\n",
        "simulate_cot_dosage(weight=30, dosage_per_kg=25, doses_per_day=3)"
      ],
      "id": "newCoTCode"
    },
    {
      "cell_type": "markdown",
      "metadata": {
        "id": "w5OoIdNpqyQ4"
      },
      "source": [
        "## Role-Based Prompting\n",
        "\n",
        "Role-based prompting instructs the LLM to adopt a specific persona, ensuring responses match the desired tone, expertise, or audience. This is useful for tailoring medical explanations to patients, students, or professionals.\n",
        "\n",
        "**General Example Prompt**:\n",
        "```plaintext\n",
        "Act as a science teacher and explain gravity to a 12-year-old student in simple terms.\n",
        "```\n",
        "\n",
        "**Expected Output**: Gravity is like an invisible force that pulls things toward each other, like how the Earth pulls you down so you don’t float away.\n",
        "\n",
        "**Medical Example Prompt 1**:\n",
        "```plaintext\n",
        "Act as a pediatrician and explain to a parent why their child’s fever needs monitoring in clear, reassuring terms.\n",
        "```\n",
        "\n",
        "**Expected Output**: A fever means your child’s body is fighting an infection, and we’ll monitor it to ensure it stays safe, usually with rest and fluids, but call if it exceeds 102°F.\n",
        "\n",
        "**Medical Example Prompt 2**:\n",
        "```plaintext\n",
        "Act as a medical educator and explain the pathophysiology of hypertension to a medical student in detailed, technical terms.\n",
        "```\n",
        "\n",
        "**Expected Output**: Hypertension results from increased peripheral vascular resistance or cardiac output, often due to sympathetic nervous system activation, renin-angiotensin-aldosterone system dysregulation, or endothelial dysfunction, leading to elevated arterial pressure.\n",
        "\n",
        "**Diagram**:\n",
        "```\n",
        "[Prompt with Role] --> [LLM Adopts Persona] --> [Tailored Response]\n",
        "```"
      ],
      "id": "w5OoIdNpqyQ4"
    },
    {
      "cell_type": "code",
      "execution_count": null,
      "metadata": {
        "id": "newRoleCode"
      },
      "outputs": [],
      "source": [
        "# Example: Simulate role-based response formatting\n",
        "def simulate_role_response(role, topic, audience):\n",
        "    print(f\"Acting as a {role}, explaining {topic} to {audience}:\")\n",
        "    if role == 'pediatrician' and topic == 'fever' and audience == 'parent':\n",
        "        print(\"A fever means your child’s body is fighting an infection. Monitor their temperature, ensure they rest and stay hydrated, and call us if it goes above 102°F.\")\n",
        "    elif role == 'medical educator' and topic == 'hypertension' and audience == 'medical student':\n",
        "        print(\"Hypertension is characterized by elevated arterial pressure due to increased peripheral resistance or cardiac output, often involving sympathetic activation or RAAS dysregulation.\")\n",
        "\n",
        "# Test the function\n",
        "simulate_role_response('pediatrician', 'fever', 'parent')\n",
        "simulate_role_response('medical educator', 'hypertension', 'medical student')"
      ],
      "id": "newRoleCode"
    },
    {
      "cell_type": "markdown",
      "metadata": {
        "id": "lpxlHFDXqyQ5"
      },
      "source": [
        "## Prompt Templates\n",
        "\n",
        "Prompt templates provide reusable formats to ensure consistent LLM outputs. They’re ideal for tasks requiring structured responses, such as medical reports or data extraction. The [Awesome Prompt Engineering](https://github.com/promptslab/Awesome-Prompt-Engineering) repository mentions tools like Promptify for templating.\n",
        "\n",
        "**General Example Prompt**:\n",
        "```plaintext\n",
        "Template: Summarize the following article in one sentence.\n",
        "Article: [Insert article text]\n",
        "```\n",
        "\n",
        "**Expected Output**: [One-sentence summary]\n",
        "\n",
        "**Medical Example Prompt 1**:\n",
        "```plaintext\n",
        "Template: Extract medical conditions from the following text in a list: Conditions: []\n",
        "Text: The patient has hypertension and type 2 diabetes.\n",
        "```\n",
        "\n",
        "**Expected Output**: Conditions: [\"hypertension\", \"type 2 diabetes\"]\n",
        "\n",
        "**Medical Example Prompt 2**:\n",
        "```plaintext\n",
        "Template: Generate a patient summary with fields: [Patient ID, Diagnosis, Treatment Plan].\n",
        "Text: Patient 12345 has asthma and uses an albuterol inhaler.\n",
        "```\n",
        "\n",
        "**Expected Output**:\n",
        "{\n",
        "  \"Patient ID\": \"12345\",\n",
        "  \"Diagnosis\": \"asthma\",\n",
        "  \"Treatment Plan\": \"albuterol inhaler\"\n",
        "}"
      ],
      "id": "lpxlHFDXqyQ5"
    },
    {
      "cell_type": "code",
      "execution_count": null,
      "metadata": {
        "id": "newTemplateCode"
      },
      "outputs": [],
      "source": [
        "# Example: Simulate prompt template for extracting conditions\n",
        "def extract_conditions(text):\n",
        "    conditions = []\n",
        "    if 'hypertension' in text.lower():\n",
        "        conditions.append('hypertension')\n",
        "    if 'type 2 diabetes' in text.lower():\n",
        "        conditions.append('type 2 diabetes')\n",
        "    return {'Conditions': conditions}\n",
        "\n",
        "# Test the function\n",
        "text = \"The patient has hypertension and type 2 diabetes.\"\n",
        "print(\"Extracted Conditions:\")\n",
        "print(json.dumps(extract_conditions(text), indent=2))\n",
        "\n",
        "# Example: Simulate patient summary template\n",
        "def generate_patient_summary(patient_id, diagnosis, treatment):\n",
        "    return {\n",
        "        'Patient ID': patient_id,\n",
        "        'Diagnosis': diagnosis,\n",
        "        'Treatment Plan': treatment\n",
        "    }\n",
        "\n",
        "# Test the function\n",
        "print(\"\\nPatient Summary:\")\n",
        "print(json.dumps(generate_patient_summary('12345', 'asthma', 'albuterol inhaler'), indent=2))"
      ],
      "id": "newTemplateCode"
    },
    {
      "cell_type": "markdown",
      "metadata": {
        "id": "xgABHGhsqyQ6"
      },
      "source": [
        "## Hands-on Exercises\n",
        "\n",
        "Practice crafting intermediate prompts with the following tasks.\n",
        "\n",
        "**Tasks**:\n",
        "1. **CoT Prompt**: Calculate a pediatric medication dosage.\n",
        "2. **Role-Based Prompt**: Explain a medical condition to a patient.\n",
        "3. **Prompt Template**: Extract symptoms from a medical note.\n",
        "4. **Combined Prompt**: Use CoT and role-based prompting for a diagnosis.\n",
        "5. **New CoT Prompt**: Determine insulin dosage for a diabetic patient.\n",
        "6. **New Role-Based Prompt**: Explain diabetes management to a teenager.\n",
        "7. **New Prompt Template**: Generate a structured radiology report."
      ],
      "id": "xgABHGhsqyQ6"
    },
    {
      "cell_type": "code",
      "execution_count": null,
      "metadata": {
        "id": "W5Jb_7QcqyQ7"
      },
      "outputs": [],
      "source": [
        "# Exercise 1: CoT Prompt\n",
        "prompt_1 = \"\"\"A child weighs 20 kg, and the recommended dosage of acetaminophen is 15 mg per kg every 6 hours. Reason step by step to calculate the total dosage per administration.\"\"\"\n",
        "print(\"Exercise 1: CoT Prompt\")\n",
        "print(prompt_1)\n",
        "\n",
        "# Exercise 2: Role-Based Prompt\n",
        "prompt_2 = \"\"\"Act as a general practitioner and explain to a patient what asthma is and how it’s managed in simple, reassuring terms.\"\"\"\n",
        "print(\"\\nExercise 2: Role-Based Prompt\")\n",
        "print(prompt_2)\n",
        "\n",
        "# Exercise 3: Prompt Template\n",
        "prompt_3 = \"\"\"Template: Extract symptoms from the following medical note in a list: Symptoms: []\n",
        "Note: Patient reports fever, sore throat, and fatigue.\"\"\"\n",
        "print(\"\\nExercise 3: Prompt Template\")\n",
        "print(prompt_3)\n",
        "\n",
        "# Exercise 4: Combined Prompt\n",
        "prompt_4 = \"\"\"Act as a doctor and use step-by-step reasoning to suggest a diagnosis for a patient with symptoms: headache, nausea, and dizziness.\"\"\"\n",
        "print(\"\\nExercise 4: Combined Prompt\")\n",
        "print(prompt_4)\n",
        "\n",
        "# Exercise 5: New CoT Prompt\n",
        "prompt_5 = \"\"\"A diabetic patient weighs 70 kg, and the insulin dosage is 0.5 units/kg/day, divided into 2 doses. Calculate the dosage per administration step by step.\"\"\"\n",
        "print(\"\\nExercise 5: New CoT Prompt\")\n",
        "print(prompt_5)\n",
        "\n",
        "# Exercise 6: New Role-Based Prompt\n",
        "prompt_6 = \"\"\"Act as a diabetes educator and explain to a teenager how to manage type 1 diabetes in simple, engaging terms.\"\"\"\n",
        "print(\"\\nExercise 6: New Role-Based Prompt\")\n",
        "print(prompt_6)\n",
        "\n",
        "# Exercise 7: New Prompt Template\n",
        "prompt_7 = \"\"\"Template: Generate a radiology report with fields: [Patient ID, Findings, Impression].\n",
        "Text: Patient 67890 has a chest X-ray showing bilateral infiltrates.\"\"\"\n",
        "print(\"\\nExercise 7: New Prompt Template\")\n",
        "print(prompt_7)"
      ],
      "id": "W5Jb_7QcqyQ7"
    },
    {
      "cell_type": "markdown",
      "metadata": {
        "id": "RyfcGkbGqyQ8"
      },
      "source": [
        "**Expected Outputs**:\n",
        "\n",
        "1. Step 1: Dosage is 15 mg/kg. Step 2: For 20 kg, 15 * 20 = 300 mg. Final Answer: 300 mg per administration.\n",
        "2. Asthma is a condition where your airways narrow, causing wheezing or breathing trouble, but it’s manageable with inhalers and avoiding triggers like dust.\n",
        "3. Symptoms: [\"fever\", \"sore throat\", \"fatigue\"]\n",
        "4. Step 1: Symptoms suggest neurological or systemic issues. Step 2: Possible causes include migraine or dehydration. Step 3: Migraine is likely. Final Answer: Migraine, pending further evaluation.\n",
        "5. Step 1: Calculate total daily dosage: 0.5 units/kg * 70 kg = 35 units/day. Step 2: Divide into 2 doses: 35 / 2 = 17.5 units per dose. Final Answer: 17.5 units per administration.\n",
        "6. Type 1 diabetes means your body doesn’t make insulin, so you’ll use a pump or injections, check your blood sugar often, and eat smart to keep your energy up.\n",
        "7. {\n",
        "  \"Patient ID\": \"67890\",\n",
        "  \"Findings\": \"bilateral infiltrates on chest X-ray\",\n",
        "  \"Impression\": \"possible pneumonia\"\n",
        "}"
      ],
      "id": "RyfcGkbGqyQ8"
    },
    {
      "cell_type": "markdown",
      "metadata": {
        "id": "newWidgetSection"
      },
      "source": [
        "## Interactive Prompt Testing with Widgets\n",
        "\n",
        "To make learning interactive, we’ll use `ipywidgets` to create a simple interface for testing prompts. Users can input a medical scenario and select a prompt type (CoT, Role-Based, or Template) to generate a response.\n",
        "\n",
        "**Example**: Input symptoms and select 'CoT' to see step-by-step reasoning for a diagnosis."
      ],
      "id": "newWidgetSection"
    },
    {
      "cell_type": "code",
      "execution_count": null,
      "metadata": {
        "id": "newWidgetCode"
      },
      "outputs": [],
      "source": [
        "from ipywidgets import interact, widgets\n",
        "\n",
        "def simulate_prompt_response(prompt_type, scenario):\n",
        "    if prompt_type == 'Chain-of-Thought':\n",
        "        print(f\"Reasoning step by step for scenario: {scenario}\")\n",
        "        print(\"Step 1: Analyze symptoms or data.\")\n",
        "        print(\"Step 2: List possible conditions or calculations.\")\n",
        "        print(\"Step 3: Narrow down to most likely outcome.\")\n",
        "        print(f\"Final Answer: [Simulated diagnosis or result for {scenario}]\")\n",
        "    elif prompt_type == 'Role-Based':\n",
        "        print(f\"Acting as a doctor, explaining for scenario: {scenario}\")\n",
        "        print(f\"Explanation: [Simulated patient-friendly explanation for {scenario}]\")\n",
        "    elif prompt_type == 'Prompt Template':\n",
        "        print(f\"Template output for scenario: {scenario}\")\n",
        "        print(json.dumps({'Symptoms': scenario.split(', ')}, indent=2))\n",
        "\n",
        "# Create interactive widget\n",
        "interact(\n",
        "    simulate_prompt_response,\n",
        "    prompt_type=widgets.Dropdown(options=['Chain-of-Thought', 'Role-Based', 'Prompt Template'], description='Prompt Type:'),\n",
        "    scenario=widgets.Text(value='fever, cough', description='Scenario:')\n",
        ")"
      ],
      "id": "newWidgetCode"
    },
    {
      "cell_type": "markdown",
      "metadata": {
        "id": "fgWNmukiqyQ9"
      },
      "source": [
        "## Optional: Using Promptify for Structured Outputs\n",
        "\n",
        "Promptify is a Python library for generating structured outputs from LLMs, as noted in [Awesome Prompt Engineering](https://github.com/promptslab/Awesome-Prompt-Engineering). Below are two examples: one for medical named entity recognition (NER) and another for generating a structured medical report.\n",
        "\n",
        "**Example 1: Medical NER**"
      ],
      "id": "fgWNmukiqyQ9"
    },
    {
      "cell_type": "code",
      "execution_count": null,
      "metadata": {
        "id": "eMHovMTPqyQ9"
      },
      "outputs": [],
      "source": [
        "# Example 1: Medical NER using Promptify (requires installation and OpenAI API key)\n",
        "try:\n",
        "    from promptify import Prompter, OpenAI, Pipeline\n",
        "\n",
        "    # Sample medical text\n",
        "    sentence = \"\"\"The patient has hypertension and type 2 diabetes.\"\"\"\n",
        "\n",
        "    # Initialize Promptify\n",
        "    model = OpenAI('your-api-key-here')  # Replace with your key\n",
        "    prompter = Prompter('ner.jinja')\n",
        "    pipe = Pipeline(prompter, model)\n",
        "\n",
        "    # Run NER\n",
        "    result = pipe.fit(sentence, domain=\"medical\", labels=None)\n",
        "    print(\"NER Output:\")\n",
        "    print(json.dumps(result, indent=2))\n",
        "except ImportError:\n",
        "    print(\"Promptify not installed. Install with `pip install promptify`.\")\n",
        "\n",
        "# Example 2: Structured Medical Report\n",
        "try:\n",
        "    # Sample medical text for report\n",
        "    report_text = \"\"\"Patient 45678 presents with chest pain and shortness of breath. ECG shows ST elevation.\"\"\"\n",
        "\n",
        "    # Simulated structured output (since Promptify requires API)\n",
        "    def simulate_medical_report(text):\n",
        "        return {\n",
        "            'Patient ID': '45678',\n",
        "            'Findings': 'chest pain, shortness of breath, ST elevation on ECG',\n",
        "            'Impression': 'possible acute myocardial infarction'\n",
        "        }\n",
        "\n",
        "    print(\"\\nMedical Report Output:\")\n",
        "    print(json.dumps(simulate_medical_report(report_text), indent=2))\n",
        "except Exception as e:\n",
        "    print(f\"Error in medical report simulation: {e}\")"
      ],
      "id": "eMHovMTPqyQ9"
    },
    {
      "cell_type": "markdown",
      "metadata": {
        "id": "PL7Xw9SnqyQ-"
      },
      "source": [
        "**Expected Outputs**:\n",
        "\n",
        "**Example 1: Medical NER**:\n",
        "Entities: [\n",
        "  {\"entity\": \"hypertension\", \"type\": \"Medical Condition\"},\n",
        "  {\"entity\": \"type 2 diabetes\", \"type\": \"Medical Condition\"}\n",
        "]\n",
        "\n",
        "**Example 2: Medical Report**:\n",
        "{\n",
        "  \"Patient ID\": \"45678\",\n",
        "  \"Findings\": \"chest pain, shortness of breath, ST elevation on ECG\",\n",
        "  \"Impression\": \"possible acute myocardial infarction\"\n",
        "}"
      ],
      "id": "PL7Xw9SnqyQ-"
    },
    {
      "cell_type": "markdown",
      "metadata": {
        "id": "newVizSection"
      },
      "source": [
        "## Visualizing Medical Data\n",
        "\n",
        "To enhance understanding, we’ll visualize medical data using matplotlib. For example, we’ll plot a patient’s temperature readings over time to identify fever trends.\n",
        "\n",
        "**Example**: Plot temperature readings for a patient."
      ],
      "id": "newVizSection"
    },
    {
      "cell_type": "code",
      "execution_count": null,
      "metadata": {
        "id": "newVizCode"
      },
      "outputs": [],
      "source": [
        "# Example: Visualize patient temperature data\n",
        "def plot_temperature_data():\n",
        "    days = np.array([1, 2, 3, 4, 5])\n",
        "    temperatures = np.array([99.5, 100.2, 101.0, 102.1, 99.8])\n",
        "    plt.figure(figsize=(8, 6))\n",
        "    plt.plot(days, temperatures, marker='o', color='red', label='Temperature (°F)')\n",
        "    plt.axhline(y=100.4, color='gray', linestyle='--', label='Fever Threshold')\n",
        "    plt.title('Patient Temperature Over Time')\n",
        "    plt.xlabel('Day')\n",
        "    plt.ylabel('Temperature (°F)')\n",
        "    plt.grid(True)\n",
        "    plt.legend()\n",
        "    plt.savefig('temperature_plot.png')\n",
        "    plt.show()\n",
        "\n",
        "# Run the visualization\n",
        "plot_temperature_data()"
      ],
      "id": "newVizCode"
    },
    {
      "cell_type": "markdown",
      "metadata": {
        "id": "Dsf3WJl7qyQ_"
      },
      "source": [
        "## Conclusion and Next Steps\n",
        "\n",
        "You’ve explored CoT, role-based prompting, prompt templates, interactive widgets, and visualizations, with practical medical applications. **Next Steps**:\n",
        "- Experiment with CoT for multi-step medical diagnostics.\n",
        "- Use role-based prompts for different audiences (e.g., patients vs. doctors).\n",
        "- Explore structured prompting and APIs in the Advanced I notebook.\n",
        "- Create visualizations for other medical datasets (e.g., blood pressure, glucose levels).\n",
        "\n",
        "**Homework**:\n",
        "- Write five prompts (two CoT, two role-based, one template) with medical scenarios.\n",
        "- Test and refine your prompts for clarity and effectiveness.\n",
        "- Create a visualization for a medical dataset (e.g., heart rate over time).\n",
        "- Implement an interactive widget for a new medical scenario.\n",
        "\n",
        "**Example Homework Solution**:\n",
        "- **CoT Prompt**: Calculate the fluid maintenance rate for a 15 kg child (use 100 mL/kg/day for first 10 kg, 50 mL/kg/day for next 5 kg).\n",
        "- **Role-Based Prompt**: Act as a nurse and explain insulin injection technique to a new patient.\n",
        "- **Prompt Template**: Extract medications from a note: Medications: [].\n",
        "- **Visualization**: Plot heart rate data for a patient over 7 days.\n",
        "- **Widget**: Create an interactive widget to select symptoms and prompt type."
      ],
      "id": "Dsf3WJl7qyQ_"
    },
    {
      "cell_type": "code",
      "execution_count": null,
      "metadata": {
        "id": "newHomeworkCode"
      },
      "outputs": [],
      "source": [
        "# Example Homework Solution: Visualization for heart rate\n",
        "def plot_heart_rate():\n",
        "    days = np.array([1, 2, 3, 4, 5, 6, 7])\n",
        "    heart_rates = np.array([72, 75, 80, 78, 76, 74, 73])\n",
        "    plt.figure(figsize=(8, 6))\n",
        "    plt.plot(days, heart_rates, marker='o', color='blue', label='Heart Rate (bpm)')\n",
        "    plt.title('Patient Heart Rate Over Time')\n",
        "    plt.xlabel('Day')\n",
        "    plt.ylabel('Heart Rate (bpm)')\n",
        "    plt.grid(True)\n",
        "    plt.legend()\n",
        "    plt.savefig('heart_rate_plot.png')\n",
        "    plt.show()\n",
        "\n",
        "# Run the visualization\n",
        "plot_heart_rate()"
      ],
      "id": "newHomeworkCode"
    }
  ],
  "metadata": {
    "kernelspec": {
      "display_name": "Python 3 (ipykernel)",
      "language": "python",
      "name": "python3"
    },
    "language_info": {
      "codemirror_mode": {
        "name": "ipython",
        "version": 3
      },
      "file_extension": ".py",
      "mimetype": "text/x-python",
      "name": "python",
      "nbconvert_exporter": "python",
      "pygments_lexer": "ipython3",
      "version": "3.9.7"
    },
    "colab": {
      "provenance": []
    }
  },
  "nbformat": 4,
  "nbformat_minor": 5
}