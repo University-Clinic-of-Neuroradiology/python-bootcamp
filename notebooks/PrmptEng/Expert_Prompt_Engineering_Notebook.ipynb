{
  "cells": [
    {
      "cell_type": "markdown",
      "metadata": {
        "id": "QkHkfkTfv1Ns"
      },
      "source": [
        "# Expert Prompt Engineering Notebook\n",
        "\n",
        "This notebook covers expert-level techniques like **self-consistency**, **prompt optimization**, **handling ambiguous queries**, and **multi-agent prompting**. You’ll learn to maximize LLM reliability and handle complex medical tasks with precision.\n",
        "\n",
        "This demo is a Jupyter notebook, intended to be run step by step.\n",
        "\n",
        "Author: Mohammad Rezapourian\n",
        "\n",
        "First version: 10th of April 2025\n",
        "\n",
        "License: Apache-2.0"
      ],
      "id": "QkHkfkTfv1Ns"
    },
    {
      "cell_type": "markdown",
      "metadata": {
        "id": "fb13e7MEv1Nx"
      },
      "source": [
        "## Table of Contents\n",
        "1. [Initial Set-Up](#Initial-Set-Up)\n",
        "2. [Introduction to Expert Techniques](#Introduction-to-Expert-Techniques)\n",
        "3. [Self-Consistency](#Self-Consistency)\n",
        "4. [Prompt Optimization](#Prompt-Optimization)\n",
        "5. [Handling Ambiguous Queries](#Handling-Ambiguous-Queries)\n",
        "6. [Multi-Agent Prompting](#Multi-Agent-Prompting)\n",
        "7. [Hands-on Exercises](#Hands-on-Exercises)\n",
        "8. [Optional: Advanced API Integration](#Optional-Advanced-API-Integration)\n",
        "9. [Conclusion and Next Steps](#Conclusion-and-Next-Steps)"
      ],
      "id": "fb13e7MEv1Nx"
    },
    {
      "cell_type": "markdown",
      "metadata": {
        "id": "VL_7pCTBv1Ny"
      },
      "source": [
        "## Initial Set-Up\n",
        "\n",
        "This notebook requires libraries for handling outputs and optional API tasks."
      ],
      "id": "VL_7pCTBv1Ny"
    },
    {
      "cell_type": "code",
      "execution_count": null,
      "metadata": {
        "id": "-emzoG6wv1Nz"
      },
      "outputs": [],
      "source": [
        "# Import necessary libraries\n",
        "import numpy as np\n",
        "\n",
        "# Ensure matplotlib plots appear inline\n",
        "%matplotlib inline"
      ],
      "id": "-emzoG6wv1Nz"
    },
    {
      "cell_type": "markdown",
      "metadata": {
        "id": "j8GJAugXv1N2"
      },
      "source": [
        "## Introduction to Expert Techniques\n",
        "\n",
        "Expert prompt engineering ensures robust, reliable LLM outputs for high-stakes tasks. This notebook covers:\n",
        "- **Self-Consistency**: Aggregating multiple responses for reliability.\n",
        "- **Prompt Optimization**: Systematically improving prompts.\n",
        "- **Handling Ambiguous Queries**: Clarifying vague inputs.\n",
        "- **Multi-Agent Prompting**: Simulating collaborative reasoning.\n",
        "\n",
        "The [Awesome Prompt Engineering](https://github.com/promptslab/Awesome-Prompt-Engineering) repository highlights self-consistency for improving accuracy."
      ],
      "id": "j8GJAugXv1N2"
    },
    {
      "cell_type": "markdown",
      "metadata": {
        "id": "xrb-34Rgv1N2"
      },
      "source": [
        "## Self-Consistency\n",
        "\n",
        "Self-consistency generates multiple responses to the same prompt, selecting the most consistent answer.\n",
        "\n",
        "**Medical Example Prompt**:\n",
        "```plaintext\n",
        "Act as a doctor and diagnose a patient with chest pain, sweating, and shortness of breath. Generate three responses and select the most consistent diagnosis.\n",
        "```\n",
        "\n",
        "**Expected Output**:\n",
        "- Response 1: Heart attack; recommend ECG.\n",
        "- Response 2: Acute coronary syndrome; order blood tests.\n",
        "- Response 3: Heart attack; urgent hospitalization.\n",
        "- Final Answer: Heart attack."
      ],
      "id": "xrb-34Rgv1N2"
    },
    {
      "cell_type": "markdown",
      "metadata": {
        "id": "WAK9wPuRv1N3"
      },
      "source": [
        "## Prompt Optimization\n",
        "\n",
        "Prompt optimization tests variations to maximize performance.\n",
        "\n",
        "**Medical Example**:\n",
        "- Initial: Explain cancer.\n",
        "- Optimized: Explain lung cancer in 150 words, covering causes, symptoms, and treatments, for medical students in a professional tone.\n",
        "\n",
        "**Expected Output**: Lung cancer is caused by smoking or genetic factors, presents with cough and weight loss, and is treated with surgery or chemotherapy."
      ],
      "id": "WAK9wPuRv1N3"
    },
    {
      "cell_type": "markdown",
      "metadata": {
        "id": "ImXPUUslv1N3"
      },
      "source": [
        "## Handling Ambiguous Queries\n",
        "\n",
        "Ambiguous queries require clarification prompts.\n",
        "\n",
        "**Medical Example Prompt**:\n",
        "```plaintext\n",
        "A patient feels unwell. Ask three clarifying questions, then suggest a diagnosis.\n",
        "```\n",
        "\n",
        "**Expected Output**:\n",
        "- Questions: Do you have fever, fatigue, or pain?\n",
        "- Diagnosis: Possible flu if fever is present."
      ],
      "id": "ImXPUUslv1N3"
    },
    {
      "cell_type": "markdown",
      "metadata": {
        "id": "kjQpxJEtv1N3"
      },
      "source": [
        "## Multi-Agent Prompting\n",
        "\n",
        "Multi-agent prompting simulates collaboration between roles to refine answers.\n",
        "\n",
        "**Medical Example Prompt**:\n",
        "```plaintext\n",
        "Simulate a discussion: A doctor suggests a diagnosis for fever and rash. A nurse reviews symptoms, and a specialist confirms. Output the final diagnosis.\n",
        "```\n",
        "\n",
        "**Expected Output**: Measles, confirmed by specialist."
      ],
      "id": "kjQpxJEtv1N3"
    },
    {
      "cell_type": "markdown",
      "metadata": {
        "id": "stE_MFjsv1N4"
      },
      "source": [
        "## Hands-on Exercises\n",
        "\n",
        "Practice expert techniques.\n",
        "\n",
        "**Tasks**:\n",
        "1. **Self-Consistency**: Diagnose symptoms.\n",
        "2. **Prompt Optimization**: Optimize a vague prompt.\n",
        "3. **Ambiguous Query**: Clarify a complaint.\n",
        "4. **Multi-Agent Prompt**: Simulate a medical team."
      ],
      "id": "stE_MFjsv1N4"
    },
    {
      "cell_type": "code",
      "execution_count": null,
      "metadata": {
        "colab": {
          "base_uri": "https://localhost:8080/"
        },
        "id": "VrX2L00yv1N4",
        "outputId": "25055540-1803-4651-c0fe-eae132929c6a"
      },
      "outputs": [
        {
          "output_type": "stream",
          "name": "stdout",
          "text": [
            "Exercise 1: Self-Consistency\n",
            "Diagnose a patient with fever, rash, and fatigue. Generate three responses and select the most consistent diagnosis.\n",
            "\n",
            "Exercise 2: Prompt Optimization\n",
            "Initial: Explain diabetes.\n",
            "Optimized: Explain type 1 diabetes in 150 words, covering causes, symptoms, and treatments, for medical students.\n",
            "\n",
            "Exercise 3: Ambiguous Query\n",
            "A patient feels weak. Ask three clarifying questions, then suggest a diagnosis.\n",
            "\n",
            "Exercise 4: Multi-Agent Prompt\n",
            "Simulate a discussion: A doctor diagnoses headache and nausea. A nurse reviews history. A neurologist confirms. Output the final diagnosis.\n"
          ]
        }
      ],
      "source": [
        "# Exercise 1: Self-Consistency\n",
        "prompt_1 = \"\"\"Diagnose a patient with fever, rash, and fatigue. Generate three responses and select the most consistent diagnosis.\"\"\"\n",
        "print(\"Exercise 1: Self-Consistency\")\n",
        "print(prompt_1)\n",
        "\n",
        "# Exercise 2: Prompt Optimization\n",
        "prompt_2_initial = \"\"\"Explain diabetes.\"\"\"\n",
        "prompt_2_optimized = \"\"\"Explain type 1 diabetes in 150 words, covering causes, symptoms, and treatments, for medical students.\"\"\"\n",
        "print(\"\\nExercise 2: Prompt Optimization\")\n",
        "print(\"Initial:\", prompt_2_initial)\n",
        "print(\"Optimized:\", prompt_2_optimized)\n",
        "\n",
        "# Exercise 3: Ambiguous Query\n",
        "prompt_3 = \"\"\"A patient feels weak. Ask three clarifying questions, then suggest a diagnosis.\"\"\"\n",
        "print(\"\\nExercise 3: Ambiguous Query\")\n",
        "print(prompt_3)\n",
        "\n",
        "# Exercise 4: Multi-Agent Prompt\n",
        "prompt_4 = \"\"\"Simulate a discussion: A doctor diagnoses headache and nausea. A nurse reviews history. A neurologist confirms. Output the final diagnosis.\"\"\"\n",
        "print(\"\\nExercise 4: Multi-Agent Prompt\")\n",
        "print(prompt_4)"
      ],
      "id": "VrX2L00yv1N4"
    },
    {
      "cell_type": "markdown",
      "metadata": {
        "id": "y8uACepNv1N4"
      },
      "source": [
        "**Expected Outputs**:\n",
        "\n",
        "1. Responses: Measles, Measles, Viral infection. Final Answer: Measles.\n",
        "2. Optimized: Type 1 diabetes is caused by autoimmune destruction of insulin-producing cells, presenting with thirst and fatigue, treated with insulin injections.\n",
        "3. Questions: Do you have fatigue, dizziness, or recent illness? Diagnosis: Possible anemia.\n",
        "4. Migraine, confirmed by neurologist."
      ],
      "id": "y8uACepNv1N4"
    },
    {
      "cell_type": "markdown",
      "metadata": {
        "id": "TruU3__Ev1N5"
      },
      "source": [
        "## Optional: Advanced API Integration\n",
        "\n",
        "Test self-consistency with multiple API calls."
      ],
      "id": "TruU3__Ev1N5"
    },
    {
      "cell_type": "code",
      "execution_count": null,
      "metadata": {
        "colab": {
          "base_uri": "https://localhost:8080/"
        },
        "id": "BXgiaxlXv1N5",
        "outputId": "c7532386-a307-462f-db25-c05138074762"
      },
      "outputs": [
        {
          "output_type": "stream",
          "name": "stdout",
          "text": [
            "API key required or error occurred.\n"
          ]
        }
      ],
      "source": [
        "# Example self-consistency test\n",
        "import openai\n",
        "\n",
        "openai.api_key = 'your-api-key-here'\n",
        "prompt = \"\"\"Diagnose a patient with fever, rash, and fatigue.\"\"\"\n",
        "responses = []\n",
        "\n",
        "try:\n",
        "    for _ in range(3):\n",
        "        response = openai.Completion.create(\n",
        "            model=\"text-davinci-003\",\n",
        "            prompt=prompt,\n",
        "            max_tokens=100\n",
        "        )\n",
        "        responses.append(response.choices[0].text.strip())\n",
        "    print(\"Responses:\", responses)\n",
        "except:\n",
        "    print(\"API key required or error occurred.\")"
      ],
      "id": "BXgiaxlXv1N5"
    },
    {
      "cell_type": "markdown",
      "metadata": {
        "id": "QRXJ4PDWv1N5"
      },
      "source": [
        "## Conclusion and Next Steps\n",
        "\n",
        "You’ve mastered expert techniques for reliable LLM outputs. **Next Steps**:\n",
        "- Apply multi-agent prompting to complex medical cases.\n",
        "- Explore [Awesome Prompt Engineering](https://github.com/promptslab/Awesome-Prompt-Engineering).\n",
        "\n",
        "**Homework**:\n",
        "- Write six prompts (two self-consistency, two optimized, one ambiguous, one multi-agent) with medical scenarios."
      ],
      "id": "QRXJ4PDWv1N5"
    }
  ],
  "metadata": {
    "kernelspec": {
      "display_name": "Python 3 (ipykernel)",
      "language": "python",
      "name": "python3"
    },
    "language_info": {
      "codemirror_mode": {
        "name": "ipython",
        "version": 3
      },
      "file_extension": ".py",
      "mimetype": "text/x-python",
      "name": "python",
      "nbconvert_exporter": "python",
      "pygments_lexer": "ipython3",
      "version": "3.9.7"
    },
    "colab": {
      "provenance": []
    }
  },
  "nbformat": 4,
  "nbformat_minor": 5
}