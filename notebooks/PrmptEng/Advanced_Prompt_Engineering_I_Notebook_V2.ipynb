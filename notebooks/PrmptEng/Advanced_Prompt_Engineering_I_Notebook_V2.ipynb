{
  "cells": [
    {
      "cell_type": "markdown",
      "metadata": {
        "id": "C_lw7UBLr7nm"
      },
      "source": [
        "# Advanced Prompt Engineering I Notebook\n",
        "\n",
        "This notebook introduces advanced techniques like **structured prompting**, **prompt chaining**, and **few-shot learning for complex tasks**. You’ll learn to design prompts for precise, programmatic outputs, chain tasks for sequential reasoning, and guide LLMs with detailed examples, emphasizing medical applications. New additions include interactive widgets, visualizations, and expanded examples to enhance learning.\n",
        "\n",
        "This demo is a Jupyter notebook, intended to be run step by step.\n",
        "\n",
        "Author: Mohammad Rezapourian\n",
        "\n",
        "First version: 8th of April 2025\n",
        "\n",
        "Updated: 30th of April 2025\n",
        "\n",
        "License: Apache-2.0"
      ],
      "id": "C_lw7UBLr7nm"
    },
    {
      "cell_type": "markdown",
      "metadata": {
        "id": "GSIkzIKHr7ns"
      },
      "source": [
        "## Table of Contents\n",
        "1. [Initial Set-Up](#Initial-Set-Up)\n",
        "2. [Introduction to Advanced Techniques](#Introduction-to-Advanced-Techniques)\n",
        "3. [Structured Prompting](#Structured-Prompting)\n",
        "4. [Prompt Chaining](#Prompt-Chaining)\n",
        "5. [Few-Shot Learning for Complex Tasks](#Few-Shot-Learning-for-Complex-Tasks)\n",
        "6. [Hands-on Exercises](#Hands-on-Exercises)\n",
        "7. [Interactive Prompt Testing with Widgets](#Interactive-Prompt-Testing-with-Widgets)\n",
        "8. [Visualizing Medical Prompt Outputs](#Visualizing-Medical-Prompt-Outputs)\n",
        "9. [Optional: Using LangChain for Prompt Chaining](#Optional-Using-LangChain-for-Prompt-Chaining)\n",
        "10. [Conclusion and Next Steps](#Conclusion-and-Next-Steps)"
      ],
      "id": "GSIkzIKHr7ns"
    },
    {
      "cell_type": "markdown",
      "metadata": {
        "id": "dqo3DzpGr7nt"
      },
      "source": [
        "## Initial Set-Up\n",
        "\n",
        "This notebook requires libraries for structured outputs, visualizations, and optional API tasks. Install `langchain`, `openai`, `ipywidgets`, and `matplotlib` for full functionality.\n",
        "\n",
        "**Prerequisites**:\n",
        "- Knowledge of CoT and role-based prompting (Intermediate Prompt Engineering Notebook).\n",
        "- Basic Python knowledge (required for coding exercises).\n",
        "- Optional: Install `langchain`, `openai`, `ipywidgets`, and `matplotlib` (`pip install langchain openai ipywidgets matplotlib`).\n",
        "\n",
        "The following cell sets up libraries and checks for their availability."
      ],
      "id": "dqo3DzpGr7nt"
    },
    {
      "cell_type": "code",
      "execution_count": null,
      "metadata": {
        "id": "lNPoceKsr7nu"
      },
      "outputs": [],
      "source": [
        "# Import necessary libraries\n",
        "import numpy as np  # For data manipulation\n",
        "import json  # For structured outputs\n",
        "import matplotlib.pyplot as plt  # For visualizations\n",
        "%matplotlib inline\n",
        "\n",
        "# Check for optional libraries\n",
        "try:\n",
        "    import langchain\n",
        "    print(\"LangChain library is installed.\")\n",
        "except ImportError:\n",
        "    print(\"LangChain not installed. Install with `pip install langchain` for chaining examples.\")\n",
        "\n",
        "try:\n",
        "    import openai\n",
        "    print(\"OpenAI library is installed.\")\n",
        "except ImportError:\n",
        "    print(\"OpenAI library not installed. Install with `pip install openai` for API examples.\")\n",
        "\n",
        "try:\n",
        "    import ipywidgets\n",
        "    print(\"ipywidgets library is installed.\")\n",
        "except ImportError:\n",
        "    print(\"ipywidgets not installed. Install with `pip install ipywidgets` for interactive exercises.\")\n",
        "\n",
        "# Optional: Set up OpenAI API key (replace with your own key)\n",
        "# import os\n",
        "# os.environ['OPENAI_API_KEY'] = 'your-api-key-here'\n",
        "# print(\"OpenAI API key set. Ensure you replace 'your-api-key-here' with your actual key.\")"
      ],
      "id": "lNPoceKsr7nu"
    },
    {
      "cell_type": "markdown",
      "metadata": {
        "id": "mbWwDtzsr7nw"
      },
      "source": [
        "## --- Start Notebook ---"
      ],
      "id": "mbWwDtzsr7nw"
    },
    {
      "cell_type": "markdown",
      "metadata": {
        "id": "ySdJJQJCr7nw"
      },
      "source": [
        "## Introduction to Advanced Techniques\n",
        "\n",
        "Advanced prompt engineering enables precise control over LLM outputs for complex tasks. This notebook covers:\n",
        "- **Structured Prompting**: Formats outputs (e.g., lists, tables) for consistency and programmatic use.\n",
        "- **Prompt Chaining**: Breaks tasks into sequential prompts for step-by-step reasoning.\n",
        "- **Few-Shot Learning for Complex Tasks**: Uses detailed examples to guide intricate tasks.\n",
        "\n",
        "These techniques are crucial for medical tasks like generating reports, treatment plans, or diagnostic workflows. We’ll also explore interactive widgets and visualizations to enhance learning."
      ],
      "id": "ySdJJQJCr7nw"
    },
    {
      "cell_type": "markdown",
      "metadata": {
        "id": "UBOTV6yar7nw"
      },
      "source": [
        "## Structured Prompting\n",
        "\n",
        "Structured prompting ensures outputs follow a specific format, making them easy to parse or integrate into applications.\n",
        "\n",
        "**General Example Prompt**:\n",
        "```plaintext\n",
        "List three benefits of exercise in a list format:\n",
        "Benefits: []\n",
        "```\n",
        "\n",
        "**Expected Output**:\n",
        "Benefits: [\"Improves heart health\", \"Boosts mood\", \"Increases strength\"]\n",
        "\n",
        "**Medical Example Prompt 1**:\n",
        "```plaintext\n",
        "Generate a patient summary in a list format:\n",
        "Summary: [patient_id, conditions, medications]\n",
        "Input: Patient 123 has asthma and takes albuterol.\n",
        "```\n",
        "\n",
        "**Expected Output**:\n",
        "Summary: [\"123\", \"asthma\", \"albuterol\"]\n",
        "\n",
        "**Medical Example Prompt 2**:\n",
        "```plaintext\n",
        "Extract symptoms from the following note in a dictionary format:\n",
        "Symptoms: {symptom: severity}\n",
        "Input: Patient reports severe chest pain and mild shortness of breath.\n",
        "```\n",
        "\n",
        "**Expected Output**:\n",
        "Symptoms: {\"chest pain\": \"severe\", \"shortness of breath\": \"mild\"}\n",
        "\n",
        "**Diagram**:\n",
        "```\n",
        "[Input Data] --> [Structured Prompt] --> [Formatted Output (e.g., List, Dictionary)]\n",
        "```"
      ],
      "id": "UBOTV6yar7nw"
    },
    {
      "cell_type": "code",
      "execution_count": null,
      "metadata": {
        "id": "newStructuredCode"
      },
      "outputs": [],
      "source": [
        "# Example: Simulate structured prompting\n",
        "def simulate_structured_prompt(input_text, format_type):\n",
        "    print(f\"Input: {input_text}\")\n",
        "    if format_type == 'list':\n",
        "        output = {\"Summary\": [\"123\", \"asthma\", \"albuterol\"]}\n",
        "    elif format_type == 'dictionary':\n",
        "        output = {\"Symptoms\": {\"chest pain\": \"severe\", \"shortness of breath\": \"mild\"}}\n",
        "    print(f\"Simulated Output ({format_type}):\")\n",
        "    print(json.dumps(output, indent=2))\n",
        "\n",
        "# Test the function\n",
        "simulate_structured_prompt(\"Patient 123 has asthma and takes albuterol.\", \"list\")\n",
        "simulate_structured_prompt(\"Patient reports severe chest pain and mild shortness of breath.\", \"dictionary\")"
      ],
      "id": "newStructuredCode"
    },
    {
      "cell_type": "markdown",
      "metadata": {
        "id": "KpUPHpNgr7nx"
      },
      "source": [
        "## Prompt Chaining\n",
        "\n",
        "Prompt chaining splits complex tasks into sequential prompts, using outputs from one as inputs for the next.\n",
        "\n",
        "**General Example**:\n",
        "- Prompt 1: \"List three sustainable energy sources.\"\n",
        "- Prompt 2: \"Explain how [output from Prompt 1] reduce carbon emissions.\"\n",
        "\n",
        "**Medical Example 1**:\n",
        "- Prompt 1: \"List three symptoms of type 2 diabetes.\"\n",
        "- Prompt 2: \"For [output from Prompt 1], recommend lifestyle changes in a bulleted list.\"\n",
        "\n",
        "**Expected Outputs**:\n",
        "- Prompt 1: \"High blood sugar, fatigue, frequent urination\"\n",
        "- Prompt 2:\n",
        "  - Follow a low-carb diet\n",
        "  - Exercise regularly\n",
        "  - Monitor blood sugar levels\n",
        "\n",
        "**Medical Example 2**:\n",
        "- Prompt 1: \"Identify the primary condition based on symptoms: chest pain, shortness of breath, palpitations.\"\n",
        "- Prompt 2: \"For [output from Prompt 1], list three diagnostic tests in a table format: | Test | Purpose |.\"\n",
        "\n",
        "**Expected Outputs**:\n",
        "- Prompt 1: \"Possible cardiac arrhythmia\"\n",
        "- Prompt 2:\n",
        "  | Test             | Purpose                              |\n",
        "  |------------------|--------------------------------------|\n",
        "  | ECG              | Detect abnormal heart rhythms       |\n",
        "  | Echocardiogram   | Assess heart structure and function |\n",
        "  | Stress Test      | Evaluate heart under physical stress |"
      ],
      "id": "KpUPHpNgr7nx"
    },
    {
      "cell_type": "code",
      "execution_count": null,
      "metadata": {
        "id": "newChainingCode"
      },
      "outputs": [],
      "source": [
        "# Example: Simulate prompt chaining\n",
        "def simulate_prompt_chaining(symptoms):\n",
        "    print(f\"Step 1: Identify condition for symptoms: {symptoms}\")\n",
        "    condition = \"Possible cardiac arrhythmia\"\n",
        "    print(f\"Output: {condition}\")\n",
        "    print(\"\\nStep 2: Recommend diagnostic tests:\")\n",
        "    tests = [\n",
        "        {\"Test\": \"ECG\", \"Purpose\": \"Detect abnormal heart rhythms\"},\n",
        "        {\"Test\": \"Echocardiogram\", \"Purpose\": \"Assess heart structure and function\"},\n",
        "        {\"Test\": \"Stress Test\", \"Purpose\": \"Evaluate heart under physical stress\"}\n",
        "    ]\n",
        "    print(\"| Test | Purpose |\")\n",
        "    print(\"|------|---------|\")\n",
        "    for test in tests:\n",
        "        print(f\"| {test['Test']} | {test['Purpose']} |\")\n",
        "\n",
        "# Test the function\n",
        "simulate_prompt_chaining(\"chest pain, shortness of breath, palpitations\")"
      ],
      "id": "newChainingCode"
    },
    {
      "cell_type": "markdown",
      "metadata": {
        "id": "JkqVv6tkr7nx"
      },
      "source": [
        "## Few-Shot Learning for Complex Tasks\n",
        "\n",
        "Few-shot learning uses detailed examples to guide LLMs on complex tasks, such as generating medical reports or plans.\n",
        "\n",
        "**Medical Example Prompt 1**:\n",
        "```plaintext\n",
        "Generate a treatment plan based on these examples:\n",
        "1. Condition: Hypertension\n",
        "   Symptoms: Headaches, dizziness\n",
        "   Plan: Start lisinopril 10 mg daily, monitor blood pressure, low-sodium diet.\n",
        "2. Condition: Asthma\n",
        "   Symptoms: Wheezing, shortness of breath\n",
        "   Plan: Use albuterol inhaler, start inhaled corticosteroids, avoid triggers.\n",
        "\n",
        "Now generate a plan for:\n",
        "Condition: Type 2 Diabetes\n",
        "Symptoms: Fatigue, frequent urination\n",
        "```\n",
        "\n",
        "**Expected Output**:\n",
        "Plan: Start metformin 500 mg twice daily, monitor blood glucose, follow a low-carb diet.\n",
        "\n",
        "**Medical Example Prompt 2**:\n",
        "```plaintext\n",
        "Generate a radiology report based on these examples:\n",
        "1. Input: Chest X-ray, bilateral infiltrates\n",
        "   Report: {patient_id: '789', findings: 'bilateral infiltrates', impression: 'possible pneumonia'}\n",
        "2. Input: MRI brain, abnormal mass\n",
        "   Report: {patient_id: '456', findings: 'abnormal mass in left temporal lobe', impression: 'possible tumor'}\n",
        "\n",
        "Now generate a report for:\n",
        "Input: CT abdomen, enlarged liver\n",
        "```\n",
        "\n",
        "**Expected Output**:\n",
        "Report: {patient_id: '123', findings: 'enlarged liver', impression: 'possible hepatomegaly'}"
      ],
      "id": "JkqVv6tkr7nx"
    },
    {
      "cell_type": "code",
      "execution_count": null,
      "metadata": {
        "id": "newFewShotCode"
      },
      "outputs": [],
      "source": [
        "# Example: Simulate few-shot learning for radiology report\n",
        "def simulate_few_shot_radiology(input_text):\n",
        "    print(f\"Input: {input_text}\")\n",
        "    output = {\"patient_id\": \"123\", \"findings\": \"enlarged liver\", \"impression\": \"possible hepatomegaly\"}\n",
        "    print(\"Simulated Output:\")\n",
        "    print(json.dumps(output, indent=2))\n",
        "\n",
        "# Test the function\n",
        "simulate_few_shot_radiology(\"CT abdomen, enlarged liver\")"
      ],
      "id": "newFewShotCode"
    },
    {
      "cell_type": "markdown",
      "metadata": {
        "id": "qjzAL6tJr7ny"
      },
      "source": [
        "## Hands-on Exercises\n",
        "\n",
        "Practice advanced techniques with these tasks.\n",
        "\n",
        "**Tasks**:\n",
        "1. **Structured Prompt**: Generate a medical report.\n",
        "2. **Prompt Chaining**: Diagnose and recommend tests.\n",
        "3. **Few-Shot Prompt**: Create a discharge summary.\n",
        "4. **Combined Prompt**: Use chaining and structured output.\n",
        "5. **New Structured Prompt**: Extract lab results in JSON format.\n",
        "6. **New Prompt Chaining**: Analyze symptoms and suggest a follow-up plan.\n",
        "7. **New Few-Shot Prompt**: Generate a medication reconciliation report."
      ],
      "id": "qjzAL6tJr7ny"
    },
    {
      "cell_type": "code",
      "execution_count": null,
      "metadata": {
        "id": "2rxQd2ibr7ny"
      },
      "outputs": [],
      "source": [
        "# Exercise 1: Structured Prompt\n",
        "prompt_1 = \"\"\"Generate a medical report in a list format:\n",
        "Report: [patient_id, diagnosis, treatment]\n",
        "Input: Patient 456 has pneumonia and is prescribed antibiotics.\"\"\"\n",
        "print(\"Exercise 1: Structured Prompt\")\n",
        "print(prompt_1)\n",
        "\n",
        "# Exercise 2: Prompt Chaining\n",
        "prompt_2a = \"\"\"List three symptoms of pneumonia.\"\"\"\n",
        "prompt_2b = \"\"\"For [insert symptoms], recommend diagnostic tests in a bulleted list.\"\"\"\n",
        "print(\"\\nExercise 2a: Prompt Chaining (Symptoms)\")\n",
        "print(prompt_2a)\n",
        "print(\"\\nExercise 2b: Prompt Chaining (Tests)\")\n",
        "print(prompt_2b)\n",
        "\n",
        "# Exercise 3: Few-Shot Prompt\n",
        "prompt_3 = \"\"\"Generate a discharge summary based on:\n",
        "1. Condition: Flu\n",
        "   Summary: Patient recovered, advised rest and hydration.\n",
        "2. Condition: Bronchitis\n",
        "   Summary: Patient improved, continue antibiotics, follow up in 1 week.\n",
        "\n",
        "Now for:\n",
        "Condition: Pneumonia\"\"\"\n",
        "print(\"\\nExercise 3: Few-Shot Prompt\")\n",
        "print(prompt_3)\n",
        "\n",
        "# Exercise 4: Combined Prompt\n",
        "prompt_4 = \"\"\"Step 1: List symptoms of hypertension.\n",
        "Step 2: Generate a treatment plan in a list: Treatments: [] for those symptoms.\"\"\"\n",
        "print(\"\\nExercise 4: Combined Prompt\")\n",
        "print(prompt_4)\n",
        "\n",
        "# Exercise 5: New Structured Prompt\n",
        "prompt_5 = \"\"\"Extract lab results in JSON format:\n",
        "Results: {test: value}\n",
        "Input: Blood glucose 180 mg/dL, hemoglobin 13 g/dL.\"\"\"\n",
        "print(\"\\nExercise 5: New Structured Prompt\")\n",
        "print(prompt_5)\n",
        "\n",
        "# Exercise 6: New Prompt Chaining\n",
        "prompt_6a = \"\"\"List symptoms of migraines.\"\"\"\n",
        "prompt_6b = \"\"\"For [insert symptoms], suggest a follow-up plan in a numbered list.\"\"\"\n",
        "print(\"\\nExercise 6a: New Prompt Chaining (Symptoms)\")\n",
        "print(prompt_6a)\n",
        "print(\"\\nExercise 6b: New Prompt Chaining (Follow-up)\")\n",
        "print(prompt_6b)\n",
        "\n",
        "# Exercise 7: New Few-Shot Prompt\n",
        "prompt_7 = \"\"\"Generate a medication reconciliation report based on:\n",
        "1. Input: Lisinopril 10 mg daily, aspirin 81 mg daily\n",
        "   Report: {patient_id: '789', medications: ['lisinopril 10 mg daily', 'aspirin 81 mg daily'], status: 'continued'}\n",
        "2. Input: Metformin 500 mg twice daily\n",
        "   Report: {patient_id: '456', medications: ['metformin 500 mg twice daily'], status: 'new'}\n",
        "\n",
        "Now for:\n",
        "Input: Albuterol inhaler as needed, prednisone 20 mg daily\"\"\"\n",
        "print(\"\\nExercise 7: New Few-Shot Prompt\")\n",
        "print(prompt_7)"
      ],
      "id": "2rxQd2ibr7ny"
    },
    {
      "cell_type": "markdown",
      "metadata": {
        "id": "oMI9iJKJr7nz"
      },
      "source": [
        "**Expected Outputs**:\n",
        "\n",
        "1. Report: [\"456\", \"pneumonia\", \"antibiotics\"]\n",
        "2.\n",
        "- 2a: \"Fever, cough, shortness of breath\"\n",
        "- 2b:\n",
        "  - Chest X-ray\n",
        "  - Blood tests\n",
        "  - Sputum culture\n",
        "3. Patient improved, complete antibiotics, follow up in 1 week.\n",
        "4.\n",
        "- Step 1: \"Headaches, dizziness, chest pain\"\n",
        "- Step 2: Treatments: [\"lisinopril\", \"low-sodium diet\", \"blood pressure monitoring\"]\n",
        "5. Results: {\"blood glucose\": \"180 mg/dL\", \"hemoglobin\": \"13 g/dL\"}\n",
        "6.\n",
        "- 6a: \"Severe headache, nausea, light sensitivity\"\n",
        "- 6b:\n",
        "  1. Consult neurologist\n",
        "  2. Keep headache diary\n",
        "  3. Consider triptan medication\n",
        "7. Report: {patient_id: '123', medications: ['albuterol inhaler as needed', 'prednisone 20 mg daily'], status: 'temporary'}"
      ],
      "id": "oMI9iJKJr7nz"
    },
    {
      "cell_type": "markdown",
      "metadata": {
        "id": "newWidgetSection"
      },
      "source": [
        "## Interactive Prompt Testing with Widgets\n",
        "\n",
        "To enhance learning, we’ll use `ipywidgets` to create an interactive interface for testing structured prompts, chaining, and few-shot learning. Users can input a medical scenario and select a technique to generate a simulated response.\n",
        "\n",
        "**Example**: Input symptoms and select 'Structured' to get a formatted report."
      ],
      "id": "newWidgetSection"
    },
    {
      "cell_type": "code",
      "execution_count": null,
      "metadata": {
        "id": "newWidgetCode"
      },
      "outputs": [],
      "source": [
        "from ipywidgets import interact, widgets\n",
        "\n",
        "def simulate_advanced_prompt(technique, input_text):\n",
        "    if technique == 'Structured':\n",
        "        print(f\"Structured Prompt for: {input_text}\")\n",
        "        output = {\"Summary\": [\"123\", \"condition\", \"treatment\"]}\n",
        "        print(json.dumps(output, indent=2))\n",
        "    elif technique == 'Chaining':\n",
        "        print(f\"Chaining Prompt for: {input_text}\")\n",
        "        print(\"Step 1: List symptoms\")\n",
        "        print(\"Output: [Simulated symptoms]\")\n",
        "        print(\"Step 2: Recommend tests\")\n",
        "        print(\"Output: [Simulated tests]\")\n",
        "    elif technique == 'Few-Shot':\n",
        "        print(f\"Few-Shot Prompt for: {input_text}\")\n",
        "        output = {\"Plan\": \"[Simulated treatment plan]\"}\n",
        "        print(json.dumps(output, indent=2))\n",
        "\n",
        "# Create interactive widget\n",
        "interact(\n",
        "    simulate_advanced_prompt,\n",
        "    technique=widgets.Dropdown(options=['Structured', 'Chaining', 'Few-Shot'], description='Technique:'),\n",
        "    input_text=widgets.Text(value='Patient with chest pain', description='Input:')\n",
        ")"
      ],
      "id": "newWidgetCode"
    },
    {
      "cell_type": "markdown",
      "metadata": {
        "id": "newVizSection"
      },
      "source": [
        "## Visualizing Medical Prompt Outputs\n",
        "\n",
        "To enhance understanding, we’ll visualize medical prompt outputs using matplotlib. For example, we’ll plot the frequency of symptoms mentioned in structured prompt outputs.\n",
        "\n",
        "**Example**: Bar chart of symptom frequencies."
      ],
      "id": "newVizSection"
    },
    {
      "cell_type": "code",
      "execution_count": null,
      "metadata": {
        "id": "newVizCode"
      },
      "outputs": [],
      "source": [
        "# Example: Visualize symptom frequencies\n",
        "def plot_symptom_frequencies():\n",
        "    symptoms = ['Chest Pain', 'Shortness of Breath', 'Fatigue', 'Headache']\n",
        "    frequencies = [4, 3, 2, 2]  # Simulated frequencies\n",
        "    plt.figure(figsize=(8, 6))\n",
        "    plt.bar(symptoms, frequencies, color='lightcoral')\n",
        "    plt.title('Frequency of Symptoms in Prompt Outputs')\n",
        "    plt.xlabel('Symptom')\n",
        "    plt.ylabel('Frequency')\n",
        "    plt.grid(True, axis='y')\n",
        "    plt.savefig('symptom_frequencies.png')\n",
        "    plt.show()\n",
        "\n",
        "# Run the visualization\n",
        "plot_symptom_frequencies()"
      ],
      "id": "newVizCode"
    },
    {
      "cell_type": "markdown",
      "metadata": {
        "id": "0jeCPDl-r7nz"
      },
      "source": [
        "## Optional: Using LangChain for Prompt Chaining\n",
        "\n",
        "LangChain is a framework for chaining prompts and managing LLM interactions, as noted in [Awesome Prompt Engineering](https://github.com/promptslab/Awesome-Prompt-Engineering). Below are two examples: a basic chaining example and a multi-step chain with conditional logic."
      ],
      "id": "0jeCPDl-r7nz"
    },
    {
      "cell_type": "code",
      "execution_count": null,
      "metadata": {
        "id": "aYBCZVcEr7nz"
      },
      "outputs": [],
      "source": [
        "# Example 1: Basic LangChain Prompt Chaining\n",
        "try:\n",
        "    from langchain.prompts import PromptTemplate\n",
        "    from langchain.chains import LLMChain, SequentialChain\n",
        "    from langchain.llms import OpenAI\n",
        "\n",
        "    # Initialize LLM\n",
        "    llm = OpenAI(api_key='your-api-key-here')  # Replace with your key\n",
        "\n",
        "    # Prompt 1: Symptoms\n",
        "    prompt1 = PromptTemplate(\n",
        "        input_variables=[\"condition\"],\n",
        "        template=\"List three symptoms of {condition}.\"\n",
        "    )\n",
        "    chain1 = LLMChain(llm=llm, prompt=prompt1, output_key=\"symptoms\")\n",
        "\n",
        "    # Prompt 2: Tests\n",
        "    prompt2 = PromptTemplate(\n",
        "        input_variables=[\"symptoms\"],\n",
        "        template=\"For {symptoms}, recommend three diagnostic tests in a list format: Tests: []\"\n",
        "    )\n",
        "    chain2 = LLMChain(llm=llm, prompt=prompt2, output_key=\"tests\")\n",
        "\n",
        "    # Chain prompts\n",
        "    overall_chain = SequentialChain(\n",
        "        chains=[chain1, chain2],\n",
        "        input_variables=[\"condition\"],\n",
        "        output_variables=[\"symptoms\", \"tests\"]\n",
        "    )\n",
        "\n",
        "    # Run chain\n",
        "    result = overall_chain({\"condition\": \"pneumonia\"})\n",
        "    print(\"Basic LangChain Output:\")\n",
        "    print(json.dumps(result, indent=2))\n",
        "except ImportError:\n",
        "    print(\"LangChain not installed. Install with `pip install langchain openai`.\")\n",
        "except Exception as e:\n",
        "    print(f\"Error with LangChain: {e}\")\n",
        "\n",
        "# Example 2: Multi-Step LangChain with Conditional Logic\n",
        "try:\n",
        "    # Prompt 1: Identify condition\n",
        "    prompt1 = PromptTemplate(\n",
        "        input_variables=[\"symptoms\"],\n",
        "        template=\"Identify the primary condition for symptoms: {symptoms}.\"\n",
        "    )\n",
        "    chain1 = LLMChain(llm=llm, prompt=prompt1, output_key=\"condition\")\n",
        "\n",
        "    # Prompt 2: Generate treatment plan or tests based on condition\n",
        "    prompt2 = PromptTemplate(\n",
        "        input_variables=[\"condition\"],\n",
        "        template=\"If {condition} is respiratory, list three diagnostic tests; otherwise, list three treatments in a list format: Output: []\"\n",
        "    )\n",
        "    chain2 = LLMChain(llm=llm, prompt=prompt2, output_key=\"follow_up\")\n",
        "\n",
        "    # Chain prompts\n",
        "    conditional_chain = SequentialChain(\n",
        "        chains=[chain1, chain2],\n",
        "        input_variables=[\"symptoms\"],\n",
        "        output_variables=[\"condition\", \"follow_up\"]\n",
        "    )\n",
        "\n",
        "    # Run chain\n",
        "    result = conditional_chain({\"symptoms\": \"fever, cough, shortness of breath\"})\n",
        "    print(\"\\nMulti-Step LangChain Output:\")\n",
        "    print(json.dumps(result, indent=2))\n",
        "except ImportError:\n",
        "    print(\"LangChain not installed. Install with `pip install langchain openai`.\")\n",
        "except Exception as e:\n",
        "    print(f\"Error with Multi-Step LangChain: {e}\")"
      ],
      "id": "aYBCZVcEr7nz"
    },
    {
      "cell_type": "markdown",
      "metadata": {
        "id": "P4TZEJn1r7nz"
      },
      "source": [
        "**Expected Outputs**:\n",
        "\n",
        "**Example 1**:\n",
        "{\n",
        "  \"symptoms\": \"Fever, cough, shortness of breath\",\n",
        "  \"tests\": [\"Chest X-ray\", \"Blood tests\", \"Sputum culture\"]\n",
        "}\n",
        "\n",
        "**Example 2**:\n",
        "{\n",
        "  \"condition\": \"Possible pneumonia\",\n",
        "  \"follow_up\": [\"Chest X-ray\", \"Blood tests\", \"Sputum culture\"]\n",
        "}"
      ],
      "id": "P4TZEJn1r7nz"
    },
    {
      "cell_type": "markdown",
      "metadata": {
        "id": "Bi3Kzhqgr7n0"
      },
      "source": [
        "## Conclusion and Next Steps\n",
        "\n",
        "You’ve mastered structured prompting, prompt chaining, few-shot learning, interactive widgets, and visualizations for medical applications. **Next Steps**:\n",
        "- Apply structured prompting to medical data extraction (e.g., EHR parsing).\n",
        "- Experiment with LangChain for automated workflows.\n",
        "- Explore iterative refinement and multi-agent prompting in Advanced II.\n",
        "- Create visualizations for other medical datasets (e.g., lab result trends).\n",
        "\n",
        "**Homework**:\n",
        "- Write five prompts (two structured, two chained, one few-shot) with medical scenarios.\n",
        "- Test chaining with multiple steps (e.g., symptoms -> diagnosis -> treatment -> follow-up).\n",
        "- Create a visualization for a medical prompt output (e.g., treatment plan frequency).\n",
        "- Implement an interactive widget for a new medical scenario.\n",
        "\n",
        "**Example Homework Solution**:\n",
        "- **Structured Prompt**: Extract vital signs in JSON: {pulse: value, bp: value}.\n",
        "- **Chained Prompt**: Step 1: List symptoms of heart failure. Step 2: Suggest three monitoring strategies.\n",
        "- **Few-Shot Prompt**: Generate a surgical report based on examples.\n",
        "- **Visualization**: Bar chart of medication frequencies in reconciliation reports.\n",
        "- **Widget**: Interactive widget to select condition and prompt type."
      ],
      "id": "Bi3Kzhqgr7n0"
    },
    {
      "cell_type": "code",
      "execution_count": null,
      "metadata": {
        "id": "newHomeworkCode"
      },
      "outputs": [],
      "source": [
        "# Example Homework Solution: Visualization for medication frequencies\n",
        "def plot_medication_frequencies():\n",
        "    medications = ['Lisinopril', 'Metformin', 'Albuterol', 'Prednisone']\n",
        "    frequencies = [3, 2, 2, 1]  # Simulated frequencies\n",
        "    plt.figure(figsize=(8, 6))\n",
        "    plt.bar(medications, frequencies, color='lightblue')\n",
        "    plt.title('Frequency of Medications in Reconciliation Reports')\n",
        "    plt.xlabel('Medication')\n",
        "    plt.ylabel('Frequency')\n",
        "    plt.grid(True, axis='y')\n",
        "    plt.savefig('medication_frequencies.png')\n",
        "    plt.show()\n",
        "\n",
        "# Run the visualization\n",
        "plot_medication_frequencies()"
      ],
      "id": "newHomeworkCode"
    }
  ],
  "metadata": {
    "kernelspec": {
      "display_name": "Python 3 (ipykernel)",
      "language": "python",
      "name": "python3"
    },
    "language_info": {
      "codemirror_mode": {
        "name": "ipython",
        "version": 3
      },
      "file_extension": ".py",
      "mimetype": "text/x-python",
      "name": "python",
      "nbconvert_exporter": "python",
      "pygments_lexer": "ipython3",
      "version": "3.9.7"
    },
    "colab": {
      "provenance": []
    }
  },
  "nbformat": 4,
  "nbformat_minor": 5
}