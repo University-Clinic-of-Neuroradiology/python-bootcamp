{
 "cells": [
  {
   "cell_type": "markdown",
   "metadata": {},
   "source": [
    "# Building deep learning models with keras\n",
    "You'll use the Keras library to build deep learning models for classification. By the end of the chapter, you'll have all the tools necessary to build deep neural networks.\n",
    "\n",
    "This demo is a jupyter notebook, i.e. intended to be run step by step.\n",
    "\n",
    "Author: Eric Einspänner, Nastaran Takmilhomayouni\n",
    "\n",
    "First version: 6th of July 2023\n",
    "\n",
    "\n",
    "Copyright 2023 Clinic of Neuroradiology, Magdeburg, Germany\n",
    "\n",
    "License: Apache-2.0\n",
    "\n",
    "*This notebook is inspired by: https://machinelearningmastery.com/tutorial-first-neural-network-python-keras/*"
   ]
  },
  {
   "cell_type": "markdown",
   "metadata": {},
   "source": [
    "## Table Of Contents\n",
    "1. [Intial set-up](#Initial-Set-Up)\n",
    "2. [Load Data](#Load-Data)\n",
    "    - [The Dataset](#The-Dataset)\n",
    "    - [Details](#Details)\n",
    "3. [Define Keras Model](#Define-Keras-Model)\n",
    "    - [Summarize model](#Summarize-Model)\n",
    "    - [Visualize model](#Visualize-Model)\n",
    "4. [Compile Keras Model](#Compile-Keras-Model)\n",
    "5. [Fit Keras Model](#Fit-Keras-Model)\n",
    "6. [Evaluate Keras Model](#Evaluate-Keras-Model)\n",
    "    - [Visualize Model Training History](#Visualize-Model-Training-History-in-Keras)\n",
    "7. [Save a Keras Model](#Save-a-Keras-Model)\n",
    "8. [Load a Keras Model](#Load-a-Keras-Model)\n",
    "9. [Make Predictions](#Make-Predictions)\n",
    "10. [Changing Optimization Parameters](#Changing-Optimization-Parameters)\n",
    "11. [Try Yourself](#Try-Yourself)"
   ]
  },
  {
   "cell_type": "markdown",
   "metadata": {},
   "source": [
    "## Initial Set-Up"
   ]
  },
  {
   "cell_type": "code",
   "execution_count": 30,
   "metadata": {},
   "outputs": [],
   "source": [
    "# Make sure figures appears inline and animations works\n",
    "# Edit this to \"\"%matplotlib notebook\" when using the \"classic\" jupyter notebook interface\n",
    "%matplotlib widget"
   ]
  },
  {
   "cell_type": "code",
   "execution_count": 31,
   "metadata": {},
   "outputs": [],
   "source": [
    "import numpy as np\n",
    "import matplotlib.pyplot as plt\n",
    "from tensorflow.keras.models import Sequential\n",
    "from tensorflow.keras.layers import Dense\n",
    "from keras.utils import plot_model\n",
    "from tensorflow.keras.models import load_model\n",
    "from tensorflow.keras.optimizers import Adam"
   ]
  },
  {
   "cell_type": "code",
   "execution_count": 32,
   "metadata": {},
   "outputs": [],
   "source": [
    "def format_and_render_plot():\n",
    "    '''Custom function to simplify common formatting operations for exercises. Operations include: \n",
    "    1. Turning off axis grids.\n",
    "    2. Calling `plt.tight_layout` to improve subplot spacing.\n",
    "    3. Calling `plt.show()` to render plot.'''\n",
    "    fig = plt.gcf()\n",
    "    for ax in fig.axes:\n",
    "        ax.legend(loc='center right')\n",
    "    plt.show()"
   ]
  },
  {
   "cell_type": "markdown",
   "metadata": {},
   "source": [
    "## Load Data\n",
    "We will use the `NumPy` library to load the dataset and two classes from the Keras library to define the model."
   ]
  },
  {
   "cell_type": "markdown",
   "metadata": {},
   "source": [
    "### The Dataset\n",
    "In this Keras tutorial, we will use the Pima Indians onset of diabetes dataset. This is a standard machine learning dataset from the UCI Machine Learning repository. It describes patient medical record data for Pima Indians and whether they had an onset of diabetes within five years.\n",
    "\n",
    "As such, it is a binary classification problem (onset of diabetes as 1 or not as 0). All of the input variables that describe each patient are numerical. This makes it easy to use directly with neural networks that expect numerical input and output values and is an ideal choice for our first neural network in Keras.\n",
    "\n",
    "The dataset is available here:\n",
    "\n",
    "- [Dataset CSV File (pima-indians-diabetes.csv)](/notebooks/DeepLearning/Data/pima-indians-diabetes.csv)\n",
    "- [Dataset Details](/notebooks/DeepLearning/Data/details_pima-indians-diabetes.txt)"
   ]
  },
  {
   "cell_type": "code",
   "execution_count": 33,
   "metadata": {},
   "outputs": [
    {
     "name": "stdout",
     "output_type": "stream",
     "text": [
      "[[  6.    148.     72.    ...   0.627  50.      1.   ]\n",
      " [  1.     85.     66.    ...   0.351  31.      0.   ]\n",
      " [  8.    183.     64.    ...   0.672  32.      1.   ]\n",
      " ...\n",
      " [  5.    121.     72.    ...   0.245  30.      0.   ]\n",
      " [  1.    126.     60.    ...   0.349  47.      1.   ]\n",
      " [  1.     93.     70.    ...   0.315  23.      0.   ]]\n",
      "(768, 9)\n"
     ]
    }
   ],
   "source": [
    "data_path = 'Data/pima-indians-diabetes.csv'\n",
    "\n",
    "# load the dataset\n",
    "dataset = np.loadtxt(data_path, delimiter=',')\n",
    "print(dataset)\n",
    "print(np.shape(dataset))"
   ]
  },
  {
   "cell_type": "markdown",
   "metadata": {},
   "source": [
    "### Details\n",
    "There are eight input variables and one output variable (the last column). You will be learning a model to map rows of input variables (X) to an output variable (y), which is often summarized as *y = f(X)*.\n",
    "\n",
    "The variables can be summarized as follows:\n",
    "\n",
    "Input Variables (X):\n",
    "\n",
    "- Number of times pregnant\n",
    "- Plasma glucose concentration at 2 hours in an oral glucose tolerance test\n",
    "- Diastolic blood pressure (mm Hg)\n",
    "- Triceps skin fold thickness (mm)\n",
    "- 2-hour serum insulin (mu U/ml)\n",
    "- Body mass index (weight in kg/(height in m)^2)\n",
    "- Diabetes pedigree function\n",
    "- Age (years)\n",
    "\n",
    "Output Variables (y):\n",
    "\n",
    "- Class variable (0 or 1)\n",
    "\n",
    "Once the CSV file is loaded into memory, you can split the columns of data into input and output variables.\n",
    "\n",
    "The data will be stored in a 2D array where the first dimension is rows and the second dimension is columns, e.g., [rows, columns].\n",
    "\n",
    "You can split the array into two arrays by selecting subsets of columns using the standard NumPy slice operator or `:`. You can select the first eight columns from index 0 to index 7 via the slice 0:8. We can then select the output column (the 9th variable) via index 8."
   ]
  },
  {
   "cell_type": "code",
   "execution_count": 34,
   "metadata": {},
   "outputs": [
    {
     "name": "stdout",
     "output_type": "stream",
     "text": [
      "[1. 0. 1. 0. 1. 0. 1. 0. 1. 1. 0. 1. 0. 1. 1. 1. 1. 1. 0. 1. 0. 0. 1. 1.\n",
      " 1. 1. 1. 0. 0. 0. 0. 1. 0. 0. 0. 0. 0. 1. 1. 1. 0. 0. 0. 1. 0. 1. 0. 0.\n",
      " 1. 0. 0. 0. 0. 1. 0. 0. 1. 0. 0. 0. 0. 1. 0. 0. 1. 0. 1. 0. 0. 0. 1. 0.\n",
      " 1. 0. 0. 0. 0. 0. 1. 0. 0. 0. 0. 0. 1. 0. 0. 0. 1. 0. 0. 0. 0. 1. 0. 0.\n",
      " 0. 0. 0. 1. 1. 0. 0. 0. 0. 0. 0. 0. 0. 1. 1. 1. 0. 0. 1. 1. 1. 0. 0. 0.\n",
      " 1. 0. 0. 0. 1. 1. 0. 0. 1. 1. 1. 1. 1. 0. 0. 0. 0. 0. 0. 0. 0. 0. 0. 1.\n",
      " 0. 0. 0. 0. 0. 0. 0. 0. 1. 0. 1. 1. 0. 0. 0. 1. 0. 0. 0. 0. 1. 1. 0. 0.\n",
      " 0. 0. 1. 1. 0. 0. 0. 1. 0. 1. 0. 1. 0. 0. 0. 0. 0. 1. 1. 1. 1. 1. 0. 0.\n",
      " 1. 1. 0. 1. 0. 1. 1. 1. 0. 0. 0. 0. 0. 0. 1. 1. 0. 1. 0. 0. 0. 1. 1. 1.\n",
      " 1. 0. 1. 1. 1. 1. 0. 0. 0. 0. 0. 1. 0. 0. 1. 1. 0. 0. 0. 1. 1. 1. 1. 0.\n",
      " 0. 0. 1. 1. 0. 1. 0. 0. 0. 0. 0. 0. 0. 0. 1. 1. 0. 0. 0. 1. 0. 1. 0. 0.\n",
      " 1. 0. 1. 0. 0. 1. 1. 0. 0. 0. 0. 0. 1. 0. 0. 0. 1. 0. 0. 1. 1. 0. 0. 1.\n",
      " 0. 0. 0. 1. 1. 1. 0. 0. 1. 0. 1. 0. 1. 1. 0. 1. 0. 0. 1. 0. 1. 1. 0. 0.\n",
      " 1. 0. 1. 0. 0. 1. 0. 1. 0. 1. 1. 1. 0. 0. 1. 0. 1. 0. 0. 0. 1. 0. 0. 0.\n",
      " 0. 1. 1. 1. 0. 0. 0. 0. 0. 0. 0. 0. 0. 1. 0. 0. 0. 0. 0. 1. 1. 1. 0. 1.\n",
      " 1. 0. 0. 1. 0. 0. 1. 0. 0. 1. 1. 0. 0. 0. 0. 1. 0. 0. 1. 0. 0. 0. 0. 0.\n",
      " 0. 0. 1. 1. 1. 0. 0. 1. 0. 0. 1. 0. 0. 1. 0. 1. 1. 0. 1. 0. 1. 0. 1. 0.\n",
      " 1. 1. 0. 0. 0. 0. 1. 1. 0. 1. 0. 1. 0. 0. 0. 0. 1. 1. 0. 1. 0. 1. 0. 0.\n",
      " 0. 0. 0. 1. 0. 0. 0. 0. 1. 0. 0. 1. 1. 1. 0. 0. 1. 0. 0. 1. 0. 0. 0. 1.\n",
      " 0. 0. 1. 0. 0. 0. 0. 0. 0. 0. 0. 0. 1. 0. 0. 0. 0. 0. 0. 0. 1. 0. 0. 0.\n",
      " 1. 0. 0. 0. 1. 1. 0. 0. 0. 0. 0. 0. 0. 1. 0. 0. 0. 0. 1. 0. 0. 0. 1. 0.\n",
      " 0. 0. 1. 0. 0. 0. 1. 0. 0. 0. 0. 1. 1. 0. 0. 0. 0. 0. 0. 1. 0. 0. 0. 0.\n",
      " 0. 0. 0. 0. 0. 0. 0. 1. 0. 0. 0. 1. 1. 1. 1. 0. 0. 1. 1. 0. 0. 0. 0. 0.\n",
      " 0. 0. 0. 0. 0. 0. 0. 0. 1. 1. 0. 0. 0. 0. 0. 0. 0. 1. 0. 0. 0. 0. 0. 0.\n",
      " 0. 1. 0. 1. 1. 0. 0. 0. 1. 0. 1. 0. 1. 0. 1. 0. 1. 0. 0. 1. 0. 0. 1. 0.\n",
      " 0. 0. 0. 1. 1. 0. 1. 0. 0. 0. 0. 1. 1. 0. 1. 0. 0. 0. 1. 1. 0. 0. 0. 0.\n",
      " 0. 0. 0. 0. 0. 0. 1. 0. 0. 0. 0. 1. 0. 0. 1. 0. 0. 0. 1. 0. 0. 0. 1. 1.\n",
      " 1. 0. 0. 0. 0. 0. 0. 1. 0. 0. 0. 1. 0. 1. 1. 1. 1. 0. 1. 1. 0. 0. 0. 0.\n",
      " 0. 0. 0. 1. 1. 0. 1. 0. 0. 1. 0. 1. 0. 0. 0. 0. 0. 1. 0. 1. 0. 1. 0. 1.\n",
      " 1. 0. 0. 0. 0. 1. 1. 0. 0. 0. 1. 0. 1. 1. 0. 0. 1. 0. 0. 1. 1. 0. 0. 1.\n",
      " 0. 0. 1. 0. 0. 0. 0. 0. 0. 0. 1. 1. 1. 0. 0. 0. 0. 0. 0. 1. 1. 0. 0. 1.\n",
      " 0. 0. 1. 0. 1. 1. 1. 0. 0. 1. 1. 1. 0. 1. 0. 1. 0. 1. 0. 0. 0. 0. 1. 0.]\n",
      "768\n"
     ]
    }
   ],
   "source": [
    "# split into input (X) and output (y) variables\n",
    "X = dataset[:,0:8]\n",
    "y = dataset[:,8]\n",
    "print(y)\n",
    "print(len(y))"
   ]
  },
  {
   "cell_type": "markdown",
   "metadata": {},
   "source": [
    "## Define Keras Model\n",
    "Models in Keras are defined as a sequence of layers.\n",
    "\n",
    "We create a Sequential model and add layers one at a time until we are happy with our network architecture.\n",
    "\n",
    "The first thing to get right is to ensure the input layer has the correct number of input features. This can be specified when creating the first layer with the `input_shape` argument and setting it to (8,) for presenting the eight input variables as a vector.\n",
    "\n",
    "How do we know the number of layers and their types?\n",
    "\n",
    "This is a tricky question. There are heuristics that you can use, and often the best network structure is found through a process of trial and error experimentation (I explain more about this here). Generally, you need a network large enough to capture the structure of the problem.\n",
    "\n",
    "In this example, let’s use a fully-connected network structure with three layers.\n",
    "\n",
    "Fully connected layers are defined using the Dense class. You can specify the number of neurons or nodes in the layer as the first argument and the activation function using the activation argument.\n",
    "\n",
    "Also, you will use the rectified linear unit activation function referred to as ReLU on the first two layers and the Sigmoid function in the output layer.\n",
    "\n",
    "It used to be the case that Sigmoid and Tanh activation functions were preferred for all layers. These days, better performance is achieved using the ReLU activation function. Using a sigmoid on the output layer ensures your network output is between 0 and 1 and is easy to map to either a probability of class 1 or snap to a hard classification of either class with a default threshold of 0.5.\n",
    "\n",
    "You can piece it all together by adding each layer:\n",
    "\n",
    "The model expects rows of data with 8 variables (the `input_shape=(8,)` argument).\n",
    "- The first hidden layer has 12 nodes and uses the relu activation function.\n",
    "- The second hidden layer has 8 nodes and uses the relu activation function.\n",
    "- The output layer has one node and uses the sigmoid activation function."
   ]
  },
  {
   "cell_type": "code",
   "execution_count": 35,
   "metadata": {},
   "outputs": [],
   "source": [
    "# define the keras model\n",
    "def get_model():\n",
    "    model = Sequential()\n",
    "    model.add(Dense(12, input_shape=(8,), activation='relu'))\n",
    "    model.add(Dense(8, activation='relu'))\n",
    "    model.add(Dense(1, activation='sigmoid'))\n",
    "    return model"
   ]
  },
  {
   "cell_type": "markdown",
   "metadata": {},
   "source": [
    "### Summarize Model\n",
    "Keras provides a way to summarize a model.\n",
    "\n",
    "The summary is textual and includes information about:\n",
    "- The layers and their order in the model.\n",
    "- The output shape of each layer.\n",
    "- The number of parameters (weights) in each layer.\n",
    "- The total number of parameters (weights) in the model.\n",
    "- The summary can be created by calling the `summary()` function on the model that returns a string that in turn can be printed.\n"
   ]
  },
  {
   "cell_type": "code",
   "execution_count": 36,
   "metadata": {},
   "outputs": [
    {
     "name": "stdout",
     "output_type": "stream",
     "text": [
      "Model: \"sequential_5\"\n",
      "_________________________________________________________________\n",
      " Layer (type)                Output Shape              Param #   \n",
      "=================================================================\n",
      " dense_15 (Dense)            (None, 12)                108       \n",
      "                                                                 \n",
      " dense_16 (Dense)            (None, 8)                 104       \n",
      "                                                                 \n",
      " dense_17 (Dense)            (None, 1)                 9         \n",
      "                                                                 \n",
      "=================================================================\n",
      "Total params: 221\n",
      "Trainable params: 221\n",
      "Non-trainable params: 0\n",
      "_________________________________________________________________\n",
      "None\n"
     ]
    }
   ],
   "source": [
    "model = get_model()\n",
    "print(model.summary())"
   ]
  },
  {
   "cell_type": "markdown",
   "metadata": {},
   "source": [
    "### Visualize Model\n",
    "The summary is useful for simple models, but can be confusing for models that have multiple inputs or outputs.\n",
    "\n",
    "Keras also provides a function to create a plot of the network neural network graph that can make more complex models easier to understand.\n",
    "\n",
    "The `plot_model()` function in Keras will create a plot of your network. This function takes a few useful arguments:\n",
    "- model: (required) The model that you wish to plot.\n",
    "- to_file: (required) The name of the file to which to save the plot.\n",
    "- show_shapes: (optional, defaults to False) Whether or not to show the output shapes of each layer.\n",
    "- show_layer_names: (optional, defaults to True) Whether or not to show the name for each layer."
   ]
  },
  {
   "cell_type": "code",
   "execution_count": 37,
   "metadata": {},
   "outputs": [
    {
     "data": {
      "image/png": "[encoded data removed]",
      "text/plain": [
       "<IPython.core.display.Image object>"
      ]
     },
     "execution_count": 37,
     "metadata": {},
     "output_type": "execute_result"
    }
   ],
   "source": [
    "import graphviz\n",
    "import pydot\n",
    "plot_model(model, to_file='Images/model_plot.png', show_shapes=True, show_layer_names=True)"
   ]
  },
  {
   "cell_type": "code",
   "execution_count": null,
   "metadata": {},
   "outputs": [],
   "source": []
  },
  {
   "cell_type": "markdown",
   "metadata": {},
   "source": [
    "## Compile Keras Model"
   ]
  },
  {
   "cell_type": "markdown",
   "metadata": {},
   "source": [
    "Now that the model is defined, you can compile it.\n",
    "\n",
    "Compiling the model uses the efficient numerical libraries under the covers (the so-called backend) such as Theano or TensorFlow. The backend automatically chooses the best way to represent the network for training and making predictions to run on your hardware, such as CPU, GPU, or even distributed.\n",
    "\n",
    "When compiling, you must specify some additional properties required when training the network. Remember training a network means finding the best set of weights to map inputs to outputs in your dataset.\n",
    "\n",
    "You must specify the loss function to use to evaluate a set of weights, the optimizer used to search through different weights for the network, and any optional metrics you want to collect and report during training.\n",
    "\n",
    "In this case, use cross entropy as the loss argument. This loss is for a binary classification problems and is defined in Keras as “binary_crossentropy“.\n",
    "\n",
    "We will define the optimizer as the efficient stochastic gradient descent algorithm “adam“. This is a popular version of gradient descent because it automatically tunes itself and gives good results in a wide range of problems.\n",
    "\n",
    "Finally, because it is a classification problem, you will collect and report the classification accuracy defined via the metrics argument."
   ]
  },
  {
   "cell_type": "code",
   "execution_count": 38,
   "metadata": {},
   "outputs": [],
   "source": [
    "# compile the keras model\n",
    "model.compile(loss='binary_crossentropy', optimizer='adam', metrics=['accuracy'])"
   ]
  },
  {
   "cell_type": "markdown",
   "metadata": {},
   "source": [
    "## Fit Keras Model\n",
    "ou have defined your model and compiled it to get ready for efficient computation.\n",
    "\n",
    "Now it is time to execute the model on some data.\n",
    "\n",
    "You can train or fit your model on your loaded data by calling the fit() function on the model.\n",
    "\n",
    "Training occurs over epochs, and each epoch is split into batches.\n",
    "- Epoch: One pass through all of the rows in the training dataset\n",
    "- Batch: One or more samples considered by the model within an epoch before weights are updated\n",
    "\n",
    "One epoch comprises one or more batches, based on the chosen batch size, and the model is fit for many epochs.\n",
    "\n",
    "The training process will run for a fixed number of epochs (iterations) through the dataset that you must specify using the epochs argument. You must also set the number of dataset rows that are considered before the model weights are updated within each epoch, called the batch size, and set using the `batch_size` argument.\n",
    "\n",
    "This problem will run for a small number of epochs (150) and use a relatively small batch size of 10.\n",
    "\n",
    "These configurations can be chosen experimentally by trial and error. You want to train the model enough so that it learns a good (or good enough) mapping of rows of input data to the output classification. The model will always have some error, but the amount of error will level out after some point for a given model configuration. This is called model convergence."
   ]
  },
  {
   "cell_type": "code",
   "execution_count": 39,
   "metadata": {},
   "outputs": [
    {
     "name": "stdout",
     "output_type": "stream",
     "text": [
      "Epoch 1/150\n",
      "77/77 [==============================] - 0s 796us/step - loss: 24.2302 - accuracy: 0.5651\n",
      "Epoch 2/150\n",
      "77/77 [==============================] - 0s 816us/step - loss: 6.0401 - accuracy: 0.4128\n",
      "Epoch 3/150\n",
      "77/77 [==============================] - 0s 856us/step - loss: 3.1488 - accuracy: 0.4688\n",
      "Epoch 4/150\n",
      "77/77 [==============================] - 0s 830us/step - loss: 2.2132 - accuracy: 0.5378\n",
      "Epoch 5/150\n",
      "77/77 [==============================] - 0s 842us/step - loss: 1.7024 - accuracy: 0.5651\n",
      "Epoch 6/150\n",
      "77/77 [==============================] - 0s 895us/step - loss: 1.3807 - accuracy: 0.5807\n",
      "Epoch 7/150\n",
      "77/77 [==============================] - 0s 843us/step - loss: 1.1502 - accuracy: 0.5924\n",
      "Epoch 8/150\n",
      "77/77 [==============================] - 0s 816us/step - loss: 0.9329 - accuracy: 0.6341\n",
      "Epoch 9/150\n",
      "77/77 [==============================] - 0s 830us/step - loss: 0.8679 - accuracy: 0.6432\n",
      "Epoch 10/150\n",
      "77/77 [==============================] - 0s 843us/step - loss: 0.7849 - accuracy: 0.6471\n",
      "Epoch 11/150\n",
      "77/77 [==============================] - 0s 947us/step - loss: 0.7720 - accuracy: 0.6445\n",
      "Epoch 12/150\n",
      "77/77 [==============================] - 0s 961us/step - loss: 0.7378 - accuracy: 0.6497\n",
      "Epoch 13/150\n",
      "77/77 [==============================] - 0s 1ms/step - loss: 0.7131 - accuracy: 0.6497\n",
      "Epoch 14/150\n",
      "77/77 [==============================] - 0s 1ms/step - loss: 0.6990 - accuracy: 0.6680\n",
      "Epoch 15/150\n",
      "77/77 [==============================] - 0s 1ms/step - loss: 0.7029 - accuracy: 0.6484\n",
      "Epoch 16/150\n",
      "77/77 [==============================] - 0s 1ms/step - loss: 0.6843 - accuracy: 0.6667\n",
      "Epoch 17/150\n",
      "77/77 [==============================] - 0s 1ms/step - loss: 0.6690 - accuracy: 0.6680\n",
      "Epoch 18/150\n",
      "77/77 [==============================] - 0s 922us/step - loss: 0.6626 - accuracy: 0.6536\n",
      "Epoch 19/150\n",
      "77/77 [==============================] - 0s 921us/step - loss: 0.6385 - accuracy: 0.6888\n",
      "Epoch 20/150\n",
      "77/77 [==============================] - 0s 1ms/step - loss: 0.6812 - accuracy: 0.6693\n",
      "Epoch 21/150\n",
      "77/77 [==============================] - 0s 1ms/step - loss: 0.6240 - accuracy: 0.6693\n",
      "Epoch 22/150\n",
      "77/77 [==============================] - 0s 1ms/step - loss: 0.6527 - accuracy: 0.6771\n",
      "Epoch 23/150\n",
      "77/77 [==============================] - 0s 1ms/step - loss: 0.6288 - accuracy: 0.6732\n",
      "Epoch 24/150\n",
      "77/77 [==============================] - 0s 1ms/step - loss: 0.6323 - accuracy: 0.6875\n",
      "Epoch 25/150\n",
      "77/77 [==============================] - 0s 978us/step - loss: 0.6254 - accuracy: 0.6758\n",
      "Epoch 26/150\n",
      "77/77 [==============================] - 0s 1ms/step - loss: 0.6366 - accuracy: 0.6758\n",
      "Epoch 27/150\n",
      "77/77 [==============================] - 0s 871us/step - loss: 0.6427 - accuracy: 0.6823\n",
      "Epoch 28/150\n",
      "77/77 [==============================] - 0s 882us/step - loss: 0.6631 - accuracy: 0.6810\n",
      "Epoch 29/150\n",
      "77/77 [==============================] - 0s 936us/step - loss: 0.6424 - accuracy: 0.6706\n",
      "Epoch 30/150\n",
      "77/77 [==============================] - 0s 862us/step - loss: 0.6087 - accuracy: 0.7044\n",
      "Epoch 31/150\n",
      "77/77 [==============================] - 0s 1ms/step - loss: 0.6023 - accuracy: 0.6992\n",
      "Epoch 32/150\n",
      "77/77 [==============================] - 0s 947us/step - loss: 0.6250 - accuracy: 0.6979\n",
      "Epoch 33/150\n",
      "77/77 [==============================] - 0s 781us/step - loss: 0.5973 - accuracy: 0.6823\n",
      "Epoch 34/150\n",
      "77/77 [==============================] - 0s 796us/step - loss: 0.6023 - accuracy: 0.7083\n",
      "Epoch 35/150\n",
      "77/77 [==============================] - 0s 776us/step - loss: 0.6193 - accuracy: 0.6940\n",
      "Epoch 36/150\n",
      "77/77 [==============================] - 0s 796us/step - loss: 0.6037 - accuracy: 0.7018\n",
      "Epoch 37/150\n",
      "77/77 [==============================] - 0s 888us/step - loss: 0.6267 - accuracy: 0.6849\n",
      "Epoch 38/150\n",
      "77/77 [==============================] - 0s 868us/step - loss: 0.5951 - accuracy: 0.7070\n",
      "Epoch 39/150\n",
      "77/77 [==============================] - 0s 843us/step - loss: 0.5837 - accuracy: 0.7031\n",
      "Epoch 40/150\n",
      "77/77 [==============================] - 0s 862us/step - loss: 0.5886 - accuracy: 0.7135\n",
      "Epoch 41/150\n",
      "77/77 [==============================] - 0s 908us/step - loss: 0.6061 - accuracy: 0.6979\n",
      "Epoch 42/150\n",
      "77/77 [==============================] - 0s 1ms/step - loss: 0.6030 - accuracy: 0.6953\n",
      "Epoch 43/150\n",
      "77/77 [==============================] - 0s 923us/step - loss: 0.5752 - accuracy: 0.7214\n",
      "Epoch 44/150\n",
      "77/77 [==============================] - 0s 817us/step - loss: 0.5847 - accuracy: 0.7044\n",
      "Epoch 45/150\n",
      "77/77 [==============================] - 0s 789us/step - loss: 0.6253 - accuracy: 0.6914\n",
      "Epoch 46/150\n",
      "77/77 [==============================] - 0s 782us/step - loss: 0.5976 - accuracy: 0.7109\n",
      "Epoch 47/150\n",
      "77/77 [==============================] - 0s 770us/step - loss: 0.5816 - accuracy: 0.7122\n",
      "Epoch 48/150\n",
      "77/77 [==============================] - 0s 829us/step - loss: 0.6069 - accuracy: 0.7070\n",
      "Epoch 49/150\n",
      "77/77 [==============================] - 0s 804us/step - loss: 0.5764 - accuracy: 0.7031\n",
      "Epoch 50/150\n",
      "77/77 [==============================] - 0s 844us/step - loss: 0.5912 - accuracy: 0.6979\n",
      "Epoch 51/150\n",
      "77/77 [==============================] - 0s 855us/step - loss: 0.6084 - accuracy: 0.7083\n",
      "Epoch 52/150\n",
      "77/77 [==============================] - 0s 804us/step - loss: 0.5795 - accuracy: 0.6966\n",
      "Epoch 53/150\n",
      "77/77 [==============================] - 0s 790us/step - loss: 0.5759 - accuracy: 0.7227\n",
      "Epoch 54/150\n",
      "77/77 [==============================] - 0s 870us/step - loss: 0.5799 - accuracy: 0.7253\n",
      "Epoch 55/150\n",
      "77/77 [==============================] - 0s 2ms/step - loss: 0.5530 - accuracy: 0.7253\n",
      "Epoch 56/150\n",
      "77/77 [==============================] - 0s 2ms/step - loss: 0.5640 - accuracy: 0.7279\n",
      "Epoch 57/150\n",
      "77/77 [==============================] - 0s 1ms/step - loss: 0.5737 - accuracy: 0.7083\n",
      "Epoch 58/150\n",
      "77/77 [==============================] - 0s 1ms/step - loss: 0.5647 - accuracy: 0.7279\n",
      "Epoch 59/150\n",
      "77/77 [==============================] - 0s 1ms/step - loss: 0.5787 - accuracy: 0.7279\n",
      "Epoch 60/150\n",
      "77/77 [==============================] - 0s 1ms/step - loss: 0.5708 - accuracy: 0.7279\n",
      "Epoch 61/150\n",
      "77/77 [==============================] - 0s 1ms/step - loss: 0.5568 - accuracy: 0.7357\n",
      "Epoch 62/150\n",
      "77/77 [==============================] - 0s 1ms/step - loss: 0.5969 - accuracy: 0.7266\n",
      "Epoch 63/150\n",
      "77/77 [==============================] - 0s 901us/step - loss: 0.5624 - accuracy: 0.7305\n",
      "Epoch 64/150\n",
      "77/77 [==============================] - 0s 1ms/step - loss: 0.5489 - accuracy: 0.7253\n",
      "Epoch 65/150\n",
      "77/77 [==============================] - 0s 1ms/step - loss: 0.5500 - accuracy: 0.7266\n",
      "Epoch 66/150\n",
      "77/77 [==============================] - 0s 961us/step - loss: 0.5475 - accuracy: 0.7305\n",
      "Epoch 67/150\n",
      "77/77 [==============================] - 0s 849us/step - loss: 0.5438 - accuracy: 0.7174\n",
      "Epoch 68/150\n",
      "77/77 [==============================] - 0s 783us/step - loss: 0.5675 - accuracy: 0.7188\n",
      "Epoch 69/150\n",
      "77/77 [==============================] - 0s 961us/step - loss: 0.5531 - accuracy: 0.7331\n",
      "Epoch 70/150\n",
      "77/77 [==============================] - 0s 1ms/step - loss: 0.5482 - accuracy: 0.7344\n",
      "Epoch 71/150\n",
      "77/77 [==============================] - 0s 1ms/step - loss: 0.5325 - accuracy: 0.7474\n",
      "Epoch 72/150\n",
      "77/77 [==============================] - 0s 1ms/step - loss: 0.5414 - accuracy: 0.7357\n",
      "Epoch 73/150\n",
      "77/77 [==============================] - 0s 1ms/step - loss: 0.5651 - accuracy: 0.7161\n",
      "Epoch 74/150\n",
      "77/77 [==============================] - 0s 1ms/step - loss: 0.5676 - accuracy: 0.7266\n",
      "Epoch 75/150\n",
      "77/77 [==============================] - 0s 1ms/step - loss: 0.5728 - accuracy: 0.7383\n",
      "Epoch 76/150\n",
      "77/77 [==============================] - 0s 1ms/step - loss: 0.5739 - accuracy: 0.7201\n",
      "Epoch 77/150\n",
      "77/77 [==============================] - 0s 1ms/step - loss: 0.5264 - accuracy: 0.7370\n",
      "Epoch 78/150\n",
      "77/77 [==============================] - 0s 1ms/step - loss: 0.5450 - accuracy: 0.7266\n",
      "Epoch 79/150\n",
      "77/77 [==============================] - 0s 1ms/step - loss: 0.5327 - accuracy: 0.7461\n",
      "Epoch 80/150\n",
      "77/77 [==============================] - 0s 1ms/step - loss: 0.5379 - accuracy: 0.7487\n",
      "Epoch 81/150\n",
      "77/77 [==============================] - 0s 1ms/step - loss: 0.5461 - accuracy: 0.7279\n",
      "Epoch 82/150\n"
     ]
    },
    {
     "name": "stdout",
     "output_type": "stream",
     "text": [
      "77/77 [==============================] - 0s 2ms/step - loss: 0.5616 - accuracy: 0.7435\n",
      "Epoch 83/150\n",
      "77/77 [==============================] - 0s 1ms/step - loss: 0.5423 - accuracy: 0.7305\n",
      "Epoch 84/150\n",
      "77/77 [==============================] - 0s 980us/step - loss: 0.5428 - accuracy: 0.7383\n",
      "Epoch 85/150\n",
      "77/77 [==============================] - 0s 868us/step - loss: 0.5679 - accuracy: 0.7214\n",
      "Epoch 86/150\n",
      "77/77 [==============================] - 0s 830us/step - loss: 0.5239 - accuracy: 0.7448\n",
      "Epoch 87/150\n",
      "77/77 [==============================] - 0s 810us/step - loss: 0.5293 - accuracy: 0.7539\n",
      "Epoch 88/150\n",
      "77/77 [==============================] - 0s 829us/step - loss: 0.5282 - accuracy: 0.7448\n",
      "Epoch 89/150\n",
      "77/77 [==============================] - 0s 783us/step - loss: 0.5865 - accuracy: 0.7174\n",
      "Epoch 90/150\n",
      "77/77 [==============================] - 0s 803us/step - loss: 0.5470 - accuracy: 0.7318\n",
      "Epoch 91/150\n",
      "77/77 [==============================] - 0s 807us/step - loss: 0.5393 - accuracy: 0.7474\n",
      "Epoch 92/150\n",
      "77/77 [==============================] - 0s 783us/step - loss: 0.5266 - accuracy: 0.7461\n",
      "Epoch 93/150\n",
      "77/77 [==============================] - 0s 763us/step - loss: 0.5211 - accuracy: 0.7474\n",
      "Epoch 94/150\n",
      "77/77 [==============================] - 0s 770us/step - loss: 0.5439 - accuracy: 0.7422\n",
      "Epoch 95/150\n",
      "77/77 [==============================] - 0s 848us/step - loss: 0.5891 - accuracy: 0.7174\n",
      "Epoch 96/150\n",
      "77/77 [==============================] - 0s 947us/step - loss: 0.5591 - accuracy: 0.7292\n",
      "Epoch 97/150\n",
      "77/77 [==============================] - 0s 847us/step - loss: 0.5202 - accuracy: 0.7357\n",
      "Epoch 98/150\n",
      "77/77 [==============================] - 0s 862us/step - loss: 0.5162 - accuracy: 0.7487\n",
      "Epoch 99/150\n",
      "77/77 [==============================] - 0s 816us/step - loss: 0.5288 - accuracy: 0.7591\n",
      "Epoch 100/150\n",
      "77/77 [==============================] - 0s 849us/step - loss: 0.5261 - accuracy: 0.7435\n",
      "Epoch 101/150\n",
      "77/77 [==============================] - 0s 821us/step - loss: 0.5408 - accuracy: 0.7461\n",
      "Epoch 102/150\n",
      "77/77 [==============================] - 0s 816us/step - loss: 0.5101 - accuracy: 0.7461\n",
      "Epoch 103/150\n",
      "77/77 [==============================] - 0s 836us/step - loss: 0.5239 - accuracy: 0.7565\n",
      "Epoch 104/150\n",
      "77/77 [==============================] - 0s 847us/step - loss: 0.5478 - accuracy: 0.7174\n",
      "Epoch 105/150\n",
      "77/77 [==============================] - 0s 882us/step - loss: 0.5248 - accuracy: 0.7630\n",
      "Epoch 106/150\n",
      "77/77 [==============================] - 0s 1ms/step - loss: 0.5150 - accuracy: 0.7552\n",
      "Epoch 107/150\n",
      "77/77 [==============================] - 0s 1ms/step - loss: 0.5534 - accuracy: 0.7253\n",
      "Epoch 108/150\n",
      "77/77 [==============================] - 0s 901us/step - loss: 0.5461 - accuracy: 0.7305\n",
      "Epoch 109/150\n",
      "77/77 [==============================] - 0s 896us/step - loss: 0.5211 - accuracy: 0.7422\n",
      "Epoch 110/150\n",
      "77/77 [==============================] - 0s 790us/step - loss: 0.5217 - accuracy: 0.7487\n",
      "Epoch 111/150\n",
      "77/77 [==============================] - 0s 764us/step - loss: 0.5438 - accuracy: 0.7383\n",
      "Epoch 112/150\n",
      "77/77 [==============================] - 0s 809us/step - loss: 0.5116 - accuracy: 0.7565\n",
      "Epoch 113/150\n",
      "77/77 [==============================] - 0s 1ms/step - loss: 0.5395 - accuracy: 0.7435\n",
      "Epoch 114/150\n",
      "77/77 [==============================] - 0s 2ms/step - loss: 0.5185 - accuracy: 0.7461\n",
      "Epoch 115/150\n",
      "77/77 [==============================] - 0s 2ms/step - loss: 0.5221 - accuracy: 0.7383\n",
      "Epoch 116/150\n",
      "77/77 [==============================] - 0s 1ms/step - loss: 0.5182 - accuracy: 0.7526\n",
      "Epoch 117/150\n",
      "77/77 [==============================] - 0s 1ms/step - loss: 0.5399 - accuracy: 0.7305\n",
      "Epoch 118/150\n",
      "77/77 [==============================] - 0s 1ms/step - loss: 0.5127 - accuracy: 0.7448\n",
      "Epoch 119/150\n",
      "77/77 [==============================] - 0s 1ms/step - loss: 0.5111 - accuracy: 0.7565\n",
      "Epoch 120/150\n",
      "77/77 [==============================] - 0s 1ms/step - loss: 0.5268 - accuracy: 0.7435\n",
      "Epoch 121/150\n",
      "77/77 [==============================] - 0s 816us/step - loss: 0.5256 - accuracy: 0.7422\n",
      "Epoch 122/150\n",
      "77/77 [==============================] - 0s 783us/step - loss: 0.5124 - accuracy: 0.7500\n",
      "Epoch 123/150\n",
      "77/77 [==============================] - 0s 783us/step - loss: 0.5167 - accuracy: 0.7513\n",
      "Epoch 124/150\n",
      "77/77 [==============================] - 0s 789us/step - loss: 0.5168 - accuracy: 0.7578\n",
      "Epoch 125/150\n",
      "77/77 [==============================] - 0s 783us/step - loss: 0.5036 - accuracy: 0.7604\n",
      "Epoch 126/150\n",
      "77/77 [==============================] - 0s 790us/step - loss: 0.5133 - accuracy: 0.7370\n",
      "Epoch 127/150\n",
      "77/77 [==============================] - 0s 776us/step - loss: 0.5393 - accuracy: 0.7344\n",
      "Epoch 128/150\n",
      "77/77 [==============================] - 0s 778us/step - loss: 0.5256 - accuracy: 0.7487\n",
      "Epoch 129/150\n",
      "77/77 [==============================] - 0s 789us/step - loss: 0.5094 - accuracy: 0.7552\n",
      "Epoch 130/150\n",
      "77/77 [==============================] - 0s 770us/step - loss: 0.5245 - accuracy: 0.7604\n",
      "Epoch 131/150\n",
      "77/77 [==============================] - 0s 783us/step - loss: 0.5137 - accuracy: 0.7539\n",
      "Epoch 132/150\n",
      "77/77 [==============================] - 0s 790us/step - loss: 0.5185 - accuracy: 0.7461\n",
      "Epoch 133/150\n",
      "77/77 [==============================] - 0s 777us/step - loss: 0.5422 - accuracy: 0.7422\n",
      "Epoch 134/150\n",
      "77/77 [==============================] - 0s 790us/step - loss: 0.5121 - accuracy: 0.7643\n",
      "Epoch 135/150\n",
      "77/77 [==============================] - 0s 767us/step - loss: 0.5155 - accuracy: 0.7461\n",
      "Epoch 136/150\n",
      "77/77 [==============================] - 0s 790us/step - loss: 0.5260 - accuracy: 0.7396\n",
      "Epoch 137/150\n",
      "77/77 [==============================] - 0s 776us/step - loss: 0.5054 - accuracy: 0.7500\n",
      "Epoch 138/150\n",
      "77/77 [==============================] - 0s 806us/step - loss: 0.5123 - accuracy: 0.7526\n",
      "Epoch 139/150\n",
      "77/77 [==============================] - 0s 783us/step - loss: 0.5141 - accuracy: 0.7474\n",
      "Epoch 140/150\n",
      "77/77 [==============================] - 0s 816us/step - loss: 0.5073 - accuracy: 0.7578\n",
      "Epoch 141/150\n",
      "77/77 [==============================] - 0s 783us/step - loss: 0.5072 - accuracy: 0.7435\n",
      "Epoch 142/150\n",
      "77/77 [==============================] - 0s 790us/step - loss: 0.5346 - accuracy: 0.7422\n",
      "Epoch 143/150\n",
      "77/77 [==============================] - 0s 803us/step - loss: 0.4985 - accuracy: 0.7708\n",
      "Epoch 144/150\n",
      "77/77 [==============================] - 0s 770us/step - loss: 0.5261 - accuracy: 0.7370\n",
      "Epoch 145/150\n",
      "77/77 [==============================] - 0s 790us/step - loss: 0.4987 - accuracy: 0.7695\n",
      "Epoch 146/150\n",
      "77/77 [==============================] - 0s 790us/step - loss: 0.5120 - accuracy: 0.7578\n",
      "Epoch 147/150\n",
      "77/77 [==============================] - 0s 796us/step - loss: 0.4948 - accuracy: 0.7539\n",
      "Epoch 148/150\n",
      "77/77 [==============================] - 0s 776us/step - loss: 0.5061 - accuracy: 0.7591\n",
      "Epoch 149/150\n",
      "77/77 [==============================] - 0s 888us/step - loss: 0.5203 - accuracy: 0.7435\n",
      "Epoch 150/150\n",
      "77/77 [==============================] - 0s 807us/step - loss: 0.5100 - accuracy: 0.7578\n"
     ]
    },
    {
     "data": {
      "text/plain": [
       "<keras.callbacks.History at 0x24864eaca30>"
      ]
     },
     "execution_count": 39,
     "metadata": {},
     "output_type": "execute_result"
    }
   ],
   "source": [
    "# fit the keras model on the dataset\n",
    "model.fit(X, y, epochs=150, batch_size=10)"
   ]
  },
  {
   "cell_type": "markdown",
   "metadata": {},
   "source": [
    "## Evaluate Keras Model\n",
    "You have trained our neural network on the entire dataset, and you can evaluate the performance of the network on the same dataset.\n",
    "\n",
    "This will only give you an idea of how well you have modeled the dataset (e.g., train accuracy), but no idea of how well the algorithm might perform on new data. This was done for simplicity, but ideally, you could separate your data into train and test datasets for training and evaluation of your model.\n",
    "\n",
    "You can evaluate your model on your training dataset using the `evaluate()` function and pass it the same input and output used to train the model.\n",
    "\n",
    "This will generate a prediction for each input and output pair and collect scores, including the average loss and any metrics you have configured, such as accuracy.\n",
    "\n",
    "The `evaluate()` function will return a list with two values. The first will be the loss of the model on the dataset, and the second will be the accuracy of the model on the dataset."
   ]
  },
  {
   "cell_type": "code",
   "execution_count": 29,
   "metadata": {},
   "outputs": [
    {
     "name": "stdout",
     "output_type": "stream",
     "text": [
      "24/24 [==============================] - 0s 783us/step - loss: 0.6758\n"
     ]
    },
    {
     "ename": "TypeError",
     "evalue": "'float' object is not subscriptable",
     "output_type": "error",
     "traceback": [
      "\u001b[1;31m---------------------------------------------------------------------------\u001b[0m",
      "\u001b[1;31mTypeError\u001b[0m                                 Traceback (most recent call last)",
      "\u001b[1;32m~\\AppData\\Local\\Temp/ipykernel_22908/729475409.py\u001b[0m in \u001b[0;36m<module>\u001b[1;34m\u001b[0m\n\u001b[0;32m      1\u001b[0m \u001b[1;31m# evaluate the keras model\u001b[0m\u001b[1;33m\u001b[0m\u001b[1;33m\u001b[0m\u001b[0m\n\u001b[0;32m      2\u001b[0m \u001b[0mscores\u001b[0m \u001b[1;33m=\u001b[0m \u001b[0mmodel\u001b[0m\u001b[1;33m.\u001b[0m\u001b[0mevaluate\u001b[0m\u001b[1;33m(\u001b[0m\u001b[0mX\u001b[0m\u001b[1;33m,\u001b[0m \u001b[0my\u001b[0m\u001b[1;33m)\u001b[0m\u001b[1;33m\u001b[0m\u001b[1;33m\u001b[0m\u001b[0m\n\u001b[1;32m----> 3\u001b[1;33m \u001b[0mprint\u001b[0m\u001b[1;33m(\u001b[0m\u001b[1;34m'Accuracy: %.2f'\u001b[0m \u001b[1;33m%\u001b[0m \u001b[1;33m(\u001b[0m\u001b[0mscores\u001b[0m\u001b[1;33m[\u001b[0m\u001b[1;36m1\u001b[0m\u001b[1;33m]\u001b[0m\u001b[1;33m)\u001b[0m\u001b[1;33m)\u001b[0m\u001b[1;33m\u001b[0m\u001b[1;33m\u001b[0m\u001b[0m\n\u001b[0m\u001b[0;32m      4\u001b[0m \u001b[0mprint\u001b[0m\u001b[1;33m(\u001b[0m\u001b[1;34m'Loss: %.2f'\u001b[0m \u001b[1;33m%\u001b[0m \u001b[1;33m(\u001b[0m\u001b[0mscores\u001b[0m\u001b[1;33m[\u001b[0m\u001b[1;36m0\u001b[0m\u001b[1;33m]\u001b[0m\u001b[1;33m)\u001b[0m\u001b[1;33m)\u001b[0m\u001b[1;33m\u001b[0m\u001b[1;33m\u001b[0m\u001b[0m\n",
      "\u001b[1;31mTypeError\u001b[0m: 'float' object is not subscriptable"
     ]
    }
   ],
   "source": [
    "# evaluate the keras model\n",
    "scores = model.evaluate(X, y)\n",
    "print('Accuracy: %.2f' % (scores[1]))\n",
    "print('Loss: %.2f' % (scores[0]))"
   ]
  },
  {
   "cell_type": "markdown",
   "metadata": {},
   "source": [
    "### Visualize Model Training History in Keras\n",
    "Keras provides the capability to register callbacks when training a deep learning model.\n",
    "\n",
    "One of the default callbacks registered when training all deep learning models is the History callback. It records training metrics for each epoch. This includes the loss and the accuracy (for classification problems) and the loss and accuracy for the validation dataset if one is set.\n",
    "\n",
    "The history object is returned from calls to the fit() function used to train the model. Metrics are stored in a dictionary in the history member of the object returned.\n",
    "\n",
    "The example collects the history returned from training the model and creates two charts:\n",
    "- A plot of accuracy on the training and validation datasets over training epochs\n",
    "- A plot of loss on the training and validation datasets over training epochs\n",
    "\n",
    "*One more thing:*\n",
    "\n",
    "With the `validation_split` option it is possible to split our data into two different datasets: one for training and the other for validation."
   ]
  },
  {
   "cell_type": "code",
   "execution_count": 22,
   "metadata": {},
   "outputs": [
    {
     "name": "stdout",
     "output_type": "stream",
     "text": [
      "dict_keys(['loss', 'accuracy', 'val_loss', 'val_accuracy'])\n"
     ]
    }
   ],
   "source": [
    "model = get_model()\n",
    "model.compile(loss='binary_crossentropy', optimizer='adam', metrics=['accuracy'])\n",
    "\n",
    "# Fit the model\n",
    "history = model.fit(X, y, validation_split=0.33, epochs=150, batch_size=10, verbose=0)\n",
    "\n",
    "# list all data in history\n",
    "print(history.history.keys())"
   ]
  },
  {
   "cell_type": "code",
   "execution_count": 23,
   "metadata": {},
   "outputs": [
    {
     "data": {
      "application/vnd.jupyter.widget-view+json": {
       "model_id": "196e621704404b229fc87a2556a5b206",
       "version_major": 2,
       "version_minor": 0
      },
      "image/png": "[encoded data removed]",
      "text/html": [
       "\n",
       "            <div style=\"display: inline-block;\">\n",
       "                <div class=\"jupyter-widgets widget-label\" style=\"text-align: center;\">\n",
       "                    Figure\n",
       "                </div>\n",
       "                <img src='data:image/png;base64,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' width=640.0/>\n",
       "            </div>\n",
       "        "
      ],
      "text/plain": [
       "Canvas(toolbar=Toolbar(toolitems=[('Home', 'Reset original view', 'home', 'home'), ('Back', 'Back to previous …"
      ]
     },
     "metadata": {},
     "output_type": "display_data"
    }
   ],
   "source": [
    "# summarize history for accuracy and loss\n",
    "fig, axes = plt.subplots(2, 1, sharex=True)\n",
    "axes[0].plot(history.history['accuracy'], label='accuracy')\n",
    "axes[0].plot(history.history['val_accuracy'], label='val_accuracy')\n",
    "axes[0].set_title('model accuracy', fontweight =\"bold\")\n",
    "axes[0].set_ylabel('accuracy')\n",
    "axes[0].set_ylim([0, 1])\n",
    "\n",
    "axes[1].plot(history.history['loss'], label='loss')\n",
    "axes[1].plot(history.history['val_loss'], label='val_loss')\n",
    "axes[1].set_title('model loss', fontweight =\"bold\")\n",
    "axes[1].set_ylabel('val_loss')\n",
    "axes[1].set_xlabel('epoch')\n",
    "axes[1].set_ylim([0, max(history.history['loss'])])\n",
    "format_and_render_plot()"
   ]
  },
  {
   "cell_type": "markdown",
   "metadata": {},
   "source": [
    "The plots can provide an indication of useful things about the training of the model, such as:\n",
    "- Its speed of convergence over epochs (slope)\n",
    "- Whether the model may have already converged (plateau of the line)\n",
    "- Whether the mode may be over-learning the training data (inflection for validation line)"
   ]
  },
  {
   "cell_type": "markdown",
   "metadata": {},
   "source": [
    "## Save a Keras Model\n",
    "You can save your model by calling the save() function on the model and specifying the filename."
   ]
  },
  {
   "cell_type": "code",
   "execution_count": 24,
   "metadata": {},
   "outputs": [
    {
     "name": "stdout",
     "output_type": "stream",
     "text": [
      "Saved model to disk\n"
     ]
    }
   ],
   "source": [
    "# save model and architecture to single file\n",
    "model.save(\"model.h5\")\n",
    "print(\"Saved model to disk\")"
   ]
  },
  {
   "cell_type": "markdown",
   "metadata": {},
   "source": [
    "## Load a Keras Model\n",
    "Your saved model can then be loaded later by calling the load_model() function and passing the filename. The function returns the model with the same architecture and weights."
   ]
  },
  {
   "cell_type": "code",
   "execution_count": 25,
   "metadata": {},
   "outputs": [
    {
     "name": "stdout",
     "output_type": "stream",
     "text": [
      "Model: \"sequential_1\"\n",
      "_________________________________________________________________\n",
      " Layer (type)                Output Shape              Param #   \n",
      "=================================================================\n",
      " dense_3 (Dense)             (None, 12)                108       \n",
      "                                                                 \n",
      " dense_4 (Dense)             (None, 8)                 104       \n",
      "                                                                 \n",
      " dense_5 (Dense)             (None, 1)                 9         \n",
      "                                                                 \n",
      "=================================================================\n",
      "Total params: 221\n",
      "Trainable params: 221\n",
      "Non-trainable params: 0\n",
      "_________________________________________________________________\n",
      "accuracy: 65.36%\n"
     ]
    }
   ],
   "source": [
    "# load model\n",
    "model = load_model('model.h5')\n",
    "# summarize model.\n",
    "model.summary()\n",
    "\n",
    "# evaluate the model\n",
    "score = model.evaluate(X, y, verbose=0)\n",
    "print(\"%s: %.2f%%\" % (model.metrics_names[1], score[1]*100))"
   ]
  },
  {
   "cell_type": "markdown",
   "metadata": {},
   "source": [
    "## Make Predictions\n",
    "The number one question I get asked is: *After I train my model, how can I use it to make predictions on new data?*\n",
    "\n",
    "You can adapt the above example and use it to generate predictions on the training dataset, pretending it is a new dataset you have not seen before.\n",
    "\n",
    "Making predictions is as easy as calling the `predict()` function on the model. You are using a sigmoid activation function on the output layer, so the predictions will be a probability in the range between 0 and 1. You can easily convert them into a crisp binary prediction for this classification task by rounding them."
   ]
  },
  {
   "cell_type": "code",
   "execution_count": 26,
   "metadata": {},
   "outputs": [
    {
     "name": "stdout",
     "output_type": "stream",
     "text": [
      "24/24 [==============================] - 0s 783us/step\n",
      "[6.0, 148.0, 72.0, 35.0, 0.0, 33.6, 0.627, 50.0] => 1 (expected 1)\n",
      "[1.0, 85.0, 66.0, 29.0, 0.0, 26.6, 0.351, 31.0] => 0 (expected 0)\n",
      "[8.0, 183.0, 64.0, 0.0, 0.0, 23.3, 0.672, 32.0] => 1 (expected 1)\n",
      "[1.0, 89.0, 66.0, 23.0, 94.0, 28.1, 0.167, 21.0] => 0 (expected 0)\n",
      "[0.0, 137.0, 40.0, 35.0, 168.0, 43.1, 2.288, 33.0] => 1 (expected 1)\n"
     ]
    }
   ],
   "source": [
    "# make probability predictions with the model\n",
    "predictions = (model.predict(X) > 0.5).astype(int)\n",
    "\n",
    "# summarize the first 5 cases\n",
    "for i in range(5):\n",
    "    print('%s => %d (expected %d)' % (X[i].tolist(), predictions[i], y[i]))"
   ]
  },
  {
   "cell_type": "markdown",
   "metadata": {},
   "source": [
    "## Changing Optimization Parameters\n",
    "We'll now try optimizing a model at different learning rates. You'll want to look at the results after running this exercise, remembering that a low value for the loss function is good."
   ]
  },
  {
   "cell_type": "code",
   "execution_count": 27,
   "metadata": {},
   "outputs": [
    {
     "name": "stdout",
     "output_type": "stream",
     "text": [
      "\n",
      "\n",
      "Testing model with learning rate: 0.000001\n",
      "\n",
      "24/24 [==============================] - 0s 956us/step - loss: 11.0672\n",
      "\n",
      "\n",
      "Testing model with learning rate: 0.010000\n",
      "\n",
      "24/24 [==============================] - 0s 891us/step - loss: 1.5764\n",
      "\n",
      "\n",
      "Testing model with learning rate: 1.000000\n",
      "\n",
      "24/24 [==============================] - 0s 1ms/step - loss: 40.9717\n"
     ]
    }
   ],
   "source": [
    "# Create list of learning rates: lr_to_test\n",
    "lr_to_test = [.000001, 0.01, 1]\n",
    "\n",
    "# Loop over learning rates\n",
    "for lr in lr_to_test:\n",
    "    print('\\n\\nTesting model with learning rate: %f\\n'%lr )\n",
    "    \n",
    "    # Build new model to test, unaffected by previous models\n",
    "    model = get_model()\n",
    "    \n",
    "    # Create SGD optimizer with specified learning rate: my_optimizer\n",
    "    my_optimizer = Adam(learning_rate=lr)\n",
    "    \n",
    "    # Compile the model\n",
    "    model.compile(optimizer=my_optimizer, loss='binary_crossentropy')\n",
    "    \n",
    "    # Fit the model\n",
    "    model.fit(X, y)"
   ]
  },
  {
   "cell_type": "markdown",
   "metadata": {},
   "source": [
    "## Try Yourself\n",
    "Tune the Model. Change the configuration of the model or training process and see if you can improve the performance of the model, e.g., achieve better than 76% accuracy.\n",
    "Some hints:\n",
    "- Add layers\n",
    "- Find the optimal learning rate\n",
    "- ..."
   ]
  },
  {
   "cell_type": "code",
   "execution_count": null,
   "metadata": {},
   "outputs": [],
   "source": [
    "# Write your code here\n",
    "\n",
    "#https://machinelearningmastery.com/improve-deep-learning-performance/\n",
    "\n",
    "\n"
   ]
  }
 ],
 "metadata": {
  "kernelspec": {
   "display_name": "Python 3 (ipykernel)",
   "language": "python",
   "name": "python3"
  },
  "language_info": {
   "codemirror_mode": {
    "name": "ipython",
    "version": 3
   },
   "file_extension": ".py",
   "mimetype": "text/x-python",
   "name": "python",
   "nbconvert_exporter": "python",
   "pygments_lexer": "ipython3",
   "version": "3.9.7"
  }
 },
 "nbformat": 4,
 "nbformat_minor": 2
}
