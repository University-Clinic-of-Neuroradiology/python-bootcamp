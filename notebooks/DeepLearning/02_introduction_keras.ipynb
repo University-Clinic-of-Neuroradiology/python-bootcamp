{
 "cells": [
  {
   "cell_type": "markdown",
   "metadata": {},
   "source": [
    "# Building deep learning models with keras\n",
    "You'll use the Keras library to build deep learning models for classification. By the end of the chapter, you'll have all the tools necessary to build deep neural networks.\n",
    "\n",
    "This demo is a jupyter notebook, i.e. intended to be run step by step.\n",
    "\n",
    "Author: Eric Einspänner\n",
    "<br>\n",
    "Contributor: Nastaran Takmilhomayouni\n",
    "\n",
    "First version: 6th of July 2023\n",
    "\n",
    "\n",
    "Copyright 2023 Clinic of Neuroradiology, Magdeburg, Germany\n",
    "\n",
    "License: Apache-2.0\n",
    "\n",
    "*This notebook is inspired by: https://machinelearningmastery.com/tutorial-first-neural-network-python-keras/*"
   ]
  },
  {
   "cell_type": "markdown",
   "metadata": {},
   "source": [
    "## Table Of Contents\n",
    "0. [Initial Set-Up for Google Colab](#initial-set-up-for-google-colab)\n",
    "1. [Initial Set-Up (offline)](#initial-set-up-offline)\n",
    "2. [Load Data](#Load-Data)\n",
    "    - [The Dataset](#The-Dataset)\n",
    "    - [Details](#Details)\n",
    "3. [Define Keras Model](#Define-Keras-Model)\n",
    "    - [Summarize model](#Summarize-Model)\n",
    "    - [Visualize model](#Visualize-Model)\n",
    "4. [Compile Keras Model](#Compile-Keras-Model)\n",
    "5. [Fit Keras Model](#Fit-Keras-Model)\n",
    "6. [Evaluate Keras Model](#Evaluate-Keras-Model)\n",
    "    - [Visualize Model Training History](#Visualize-Model-Training-History-in-Keras)\n",
    "7. [Save a Keras Model](#Save-a-Keras-Model)\n",
    "8. [Load a Keras Model](#Load-a-Keras-Model)\n",
    "9. [Make Predictions](#Make-Predictions)\n",
    "10. [Changing Optimization Parameters](#Changing-Optimization-Parameters)\n",
    "11. [Try Yourself](#Try-Yourself)"
   ]
  },
  {
   "cell_type": "markdown",
   "metadata": {},
   "source": [
    "## Initial Set-Up for Google Colab\n",
    "<u> Execute these code blocks just in Google Colab! </u>"
   ]
  },
  {
   "cell_type": "code",
   "execution_count": 11,
   "metadata": {},
   "outputs": [
    {
     "name": "stderr",
     "output_type": "stream",
     "text": [
      "Cloning into 'python-bootcamp'...\n",
      "Updating files:   0% (464/104292)\n",
      "Updating files:   1% (1043/104292)\n",
      "Updating files:   2% (2086/104292)\n",
      "Updating files:   2% (2654/104292)\n",
      "Updating files:   3% (3129/104292)\n",
      "Updating files:   4% (4172/104292)\n",
      "Updating files:   4% (4853/104292)\n",
      "Updating files:   5% (5215/104292)\n",
      "Updating files:   6% (6258/104292)\n",
      "Updating files:   6% (7095/104292)\n",
      "Updating files:   7% (7301/104292)\n",
      "Updating files:   8% (8344/104292)\n",
      "Updating files:   8% (9368/104292)\n",
      "Updating files:   9% (9387/104292)\n",
      "Updating files:  10% (10430/104292)\n",
      "Updating files:  11% (11473/104292)\n",
      "Updating files:  11% (11582/104292)\n",
      "Updating files:  12% (12516/104292)\n",
      "Updating files:  13% (13558/104292)\n",
      "Updating files:  13% (13838/104292)\n",
      "Updating files:  14% (14601/104292)\n",
      "Updating files:  15% (15644/104292)\n",
      "Updating files:  15% (16153/104292)\n",
      "Updating files:  16% (16687/104292)\n",
      "Updating files:  17% (17730/104292)\n",
      "Updating files:  17% (18487/104292)\n",
      "Updating files:  18% (18773/104292)\n",
      "Updating files:  19% (19816/104292)\n",
      "Updating files:  19% (20712/104292)\n",
      "Updating files:  20% (20859/104292)\n",
      "Updating files:  21% (21902/104292)\n",
      "Updating files:  21% (22883/104292)\n",
      "Updating files:  22% (22945/104292)\n",
      "Updating files:  23% (23988/104292)\n",
      "Updating files:  23% (24993/104292)\n",
      "Updating files:  24% (25031/104292)\n",
      "Updating files:  25% (26073/104292)\n",
      "Updating files:  26% (27116/104292)\n",
      "Updating files:  26% (27301/104292)\n",
      "Updating files:  27% (28159/104292)\n",
      "Updating files:  28% (29202/104292)\n",
      "Updating files:  28% (29587/104292)\n",
      "Updating files:  29% (30245/104292)\n",
      "Updating files:  30% (31288/104292)\n",
      "Updating files:  30% (31837/104292)\n",
      "Updating files:  31% (32331/104292)\n",
      "Updating files:  32% (33374/104292)\n",
      "Updating files:  32% (34135/104292)\n",
      "Updating files:  33% (34417/104292)\n",
      "Updating files:  34% (35460/104292)\n",
      "Updating files:  34% (36281/104292)\n",
      "Updating files:  35% (36503/104292)\n",
      "Updating files:  36% (37546/104292)\n",
      "Updating files:  37% (38589/104292)\n",
      "Updating files:  37% (38594/104292)\n",
      "Updating files:  38% (39631/104292)\n",
      "Updating files:  39% (40674/104292)\n",
      "Updating files:  39% (40774/104292)\n",
      "Updating files:  40% (41717/104292)\n",
      "Updating files:  41% (42760/104292)\n",
      "Updating files:  41% (43070/104292)\n",
      "Updating files:  42% (43803/104292)\n",
      "Updating files:  43% (44846/104292)\n",
      "Updating files:  43% (45255/104292)\n",
      "Updating files:  44% (45889/104292)\n",
      "Updating files:  45% (46932/104292)\n",
      "Updating files:  45% (47396/104292)\n",
      "Updating files:  46% (47975/104292)\n",
      "Updating files:  47% (49018/104292)\n",
      "Updating files:  47% (49494/104292)\n",
      "Updating files:  48% (50061/104292)\n",
      "Updating files:  49% (51104/104292)\n",
      "Updating files:  49% (51593/104292)\n",
      "Updating files:  50% (52146/104292)\n",
      "Updating files:  51% (53189/104292)\n",
      "Updating files:  51% (53723/104292)\n",
      "Updating files:  52% (54232/104292)\n",
      "Updating files:  53% (55275/104292)\n",
      "Updating files:  53% (55807/104292)\n",
      "Updating files:  54% (56318/104292)\n",
      "Updating files:  55% (57361/104292)\n",
      "Updating files:  55% (57952/104292)\n",
      "Updating files:  56% (58404/104292)\n",
      "Updating files:  57% (59447/104292)\n",
      "Updating files:  57% (60082/104292)\n",
      "Updating files:  58% (60490/104292)\n",
      "Updating files:  59% (61533/104292)\n",
      "Updating files:  59% (61974/104292)\n",
      "Updating files:  60% (62576/104292)\n",
      "Updating files:  61% (63619/104292)\n",
      "Updating files:  61% (64091/104292)\n",
      "Updating files:  62% (64662/104292)\n",
      "Updating files:  63% (65704/104292)\n",
      "Updating files:  63% (66237/104292)\n",
      "Updating files:  64% (66747/104292)\n",
      "Updating files:  65% (67790/104292)\n",
      "Updating files:  65% (68186/104292)\n",
      "Updating files:  66% (68833/104292)\n",
      "Updating files:  67% (69876/104292)\n",
      "Updating files:  67% (70202/104292)\n",
      "Updating files:  68% (70919/104292)\n",
      "Updating files:  69% (71962/104292)\n",
      "Updating files:  69% (72383/104292)\n",
      "Updating files:  70% (73005/104292)\n",
      "Updating files:  71% (74048/104292)\n",
      "Updating files:  71% (74266/104292)\n",
      "Updating files:  72% (75091/104292)\n",
      "Updating files:  73% (76134/104292)\n",
      "Updating files:  73% (76500/104292)\n",
      "Updating files:  74% (77177/104292)\n",
      "Updating files:  75% (78219/104292)\n",
      "Updating files:  75% (78704/104292)\n",
      "Updating files:  76% (79262/104292)\n",
      "Updating files:  77% (80305/104292)\n",
      "Updating files:  77% (80738/104292)\n",
      "Updating files:  78% (81348/104292)\n",
      "Updating files:  79% (82391/104292)\n",
      "Updating files:  79% (82791/104292)\n",
      "Updating files:  80% (83434/104292)\n",
      "Updating files:  81% (84477/104292)\n",
      "Updating files:  81% (84754/104292)\n",
      "Updating files:  82% (85520/104292)\n",
      "Updating files:  83% (86563/104292)\n",
      "Updating files:  83% (86912/104292)\n",
      "Updating files:  84% (87606/104292)\n",
      "Updating files:  85% (88649/104292)\n",
      "Updating files:  85% (89086/104292)\n",
      "Updating files:  86% (89692/104292)\n",
      "Updating files:  87% (90735/104292)\n",
      "Updating files:  87% (90943/104292)\n",
      "Updating files:  88% (91777/104292)\n",
      "Updating files:  89% (92820/104292)\n",
      "Updating files:  89% (93022/104292)\n",
      "Updating files:  90% (93863/104292)\n",
      "Updating files:  91% (94906/104292)\n",
      "Updating files:  91% (94989/104292)\n",
      "Updating files:  92% (95949/104292)\n",
      "Updating files:  93% (96992/104292)\n",
      "Updating files:  93% (97065/104292)\n",
      "Updating files:  94% (98035/104292)\n",
      "Updating files:  95% (99078/104292)\n",
      "Updating files:  95% (99129/104292)\n",
      "Updating files:  96% (100121/104292)\n",
      "Updating files:  96% (101104/104292)\n",
      "Updating files:  97% (101164/104292)\n",
      "Updating files:  98% (102207/104292)\n",
      "Updating files:  98% (103120/104292)\n",
      "Updating files:  99% (103250/104292)\n",
      "Updating files: 100% (104292/104292)\n",
      "Updating files: 100% (104292/104292), done.\n"
     ]
    }
   ],
   "source": [
    "!git clone https://github.com/University-Clinic-of-Neuroradiology/python-bootcamp.git"
   ]
  },
  {
   "cell_type": "code",
   "execution_count": 13,
   "metadata": {},
   "outputs": [
    {
     "ename": "ModuleNotFoundError",
     "evalue": "No module named 'google.colab'",
     "output_type": "error",
     "traceback": [
      "\u001b[1;31m---------------------------------------------------------------------------\u001b[0m",
      "\u001b[1;31mModuleNotFoundError\u001b[0m                       Traceback (most recent call last)",
      "\u001b[1;32m~\\AppData\\Local\\Temp/ipykernel_24028/2618474908.py\u001b[0m in \u001b[0;36m<module>\u001b[1;34m\u001b[0m\n\u001b[0;32m      1\u001b[0m \u001b[1;32mimport\u001b[0m \u001b[0mos\u001b[0m\u001b[1;33m\u001b[0m\u001b[1;33m\u001b[0m\u001b[0m\n\u001b[0;32m      2\u001b[0m \u001b[1;32mimport\u001b[0m \u001b[0msys\u001b[0m\u001b[1;33m\u001b[0m\u001b[1;33m\u001b[0m\u001b[0m\n\u001b[1;32m----> 3\u001b[1;33m \u001b[1;32mfrom\u001b[0m \u001b[0mgoogle\u001b[0m\u001b[1;33m.\u001b[0m\u001b[0mcolab\u001b[0m \u001b[1;32mimport\u001b[0m \u001b[0moutput\u001b[0m\u001b[1;33m\u001b[0m\u001b[1;33m\u001b[0m\u001b[0m\n\u001b[0m\u001b[0;32m      4\u001b[0m \u001b[0moutput\u001b[0m\u001b[1;33m.\u001b[0m\u001b[0menable_custom_widget_manager\u001b[0m\u001b[1;33m(\u001b[0m\u001b[1;33m)\u001b[0m\u001b[1;33m\u001b[0m\u001b[1;33m\u001b[0m\u001b[0m\n\u001b[0;32m      5\u001b[0m \u001b[1;33m\u001b[0m\u001b[0m\n",
      "\u001b[1;31mModuleNotFoundError\u001b[0m: No module named 'google.colab'"
     ]
    }
   ],
   "source": [
    "import os\n",
    "import sys\n",
    "from google.colab import output\n",
    "output.enable_custom_widget_manager()\n",
    "\n",
    "sys.path.insert(0,'/content/python-bootcamp/notebooks/DeepLearning')\n",
    "os.chdir(sys.path[0])"
   ]
  },
  {
   "cell_type": "code",
   "execution_count": null,
   "metadata": {},
   "outputs": [],
   "source": [
    "%pip install -q ipympl numpy matplotlib tensorflow keras"
   ]
  },
  {
   "cell_type": "code",
   "execution_count": 14,
   "metadata": {},
   "outputs": [],
   "source": [
    "import numpy as np\n",
    "import matplotlib.pyplot as plt\n",
    "\n",
    "from tensorflow.keras.models import Sequential\n",
    "from tensorflow.keras.layers import Dense\n",
    "from keras.utils import plot_model\n",
    "from tensorflow.keras.models import load_model\n",
    "from tensorflow.keras.optimizers import Adam"
   ]
  },
  {
   "cell_type": "markdown",
   "metadata": {},
   "source": [
    "## Initial Set-Up (offline)"
   ]
  },
  {
   "cell_type": "code",
   "execution_count": 15,
   "metadata": {},
   "outputs": [],
   "source": [
    "# Make sure figures appears inline and animations works\n",
    "# Edit this to \"\"%matplotlib notebook\" when using the \"classic\" jupyter notebook interface\n",
    "%matplotlib widget"
   ]
  },
  {
   "cell_type": "code",
   "execution_count": 16,
   "metadata": {},
   "outputs": [],
   "source": [
    "import numpy as np\n",
    "import matplotlib.pyplot as plt\n",
    "\n",
    "from tensorflow.keras.models import Sequential\n",
    "from tensorflow.keras.layers import Dense\n",
    "from keras.utils import plot_model\n",
    "from tensorflow.keras.models import load_model\n",
    "from tensorflow.keras.optimizers import Adam"
   ]
  },
  {
   "cell_type": "markdown",
   "metadata": {},
   "source": [
    "## --- Start notebook ---"
   ]
  },
  {
   "cell_type": "markdown",
   "metadata": {},
   "source": [
    "The following function `format_and_render_plot()` is just a simplify formatting method for the plots in this notebook."
   ]
  },
  {
   "cell_type": "code",
   "execution_count": 17,
   "metadata": {},
   "outputs": [],
   "source": [
    "def format_and_render_plot():\n",
    "    '''\n",
    "    Custom function to simplify common formatting operations for exercises. Operations include: \n",
    "    1. Turning off axis grids.\n",
    "    2. Calling `plt.tight_layout` to improve subplot spacing.\n",
    "    3. Calling `plt.show()` to render plot.\n",
    "    '''\n",
    "    fig = plt.gcf()\n",
    "    for ax in fig.axes:\n",
    "        ax.legend(loc='center right')\n",
    "    plt.show()"
   ]
  },
  {
   "cell_type": "markdown",
   "metadata": {},
   "source": [
    "## Load Data\n",
    "We will use the `NumPy` library to load the dataset and two classes from the Keras library to define the model."
   ]
  },
  {
   "cell_type": "markdown",
   "metadata": {},
   "source": [
    "### The Dataset\n",
    "In this Keras tutorial, we will use the Pima Indians onset of diabetes dataset. This is a standard machine learning dataset from the UCI Machine Learning repository. It describes patient medical record data for Pima Indians and whether they had an onset of diabetes within five years.\n",
    "\n",
    "As such, it is a binary classification problem (onset of diabetes as 1 or not as 0). All of the input variables that describe each patient are numerical. This makes it easy to use directly with neural networks that expect numerical input and output values and is an ideal choice for our first neural network in Keras.\n",
    "\n",
    "The dataset is available here:\n",
    "\n",
    "- [Dataset CSV File (pima-indians-diabetes.csv)](/notebooks/DeepLearning/Data/pima-indians-diabetes.csv)\n",
    "- [Dataset Details](/notebooks/DeepLearning/Data/details_pima-indians-diabetes.txt)"
   ]
  },
  {
   "cell_type": "code",
   "execution_count": 18,
   "metadata": {},
   "outputs": [
    {
     "name": "stdout",
     "output_type": "stream",
     "text": [
      "[[  6.    148.     72.    ...   0.627  50.      1.   ]\n",
      " [  1.     85.     66.    ...   0.351  31.      0.   ]\n",
      " [  8.    183.     64.    ...   0.672  32.      1.   ]\n",
      " ...\n",
      " [  5.    121.     72.    ...   0.245  30.      0.   ]\n",
      " [  1.    126.     60.    ...   0.349  47.      1.   ]\n",
      " [  1.     93.     70.    ...   0.315  23.      0.   ]]\n",
      "(768, 9)\n"
     ]
    }
   ],
   "source": [
    "data_path = 'Data/pima-indians-diabetes.csv'\n",
    "\n",
    "# load the dataset\n",
    "dataset = np.loadtxt(data_path, delimiter=',')\n",
    "print(dataset)\n",
    "print(np.shape(dataset))"
   ]
  },
  {
   "cell_type": "markdown",
   "metadata": {},
   "source": [
    "### Details\n",
    "There are eight input variables and one output variable (the last column). You will be learning a model to map rows of input variables (X) to an output variable (y), which is often summarized as *y = f(X)*.\n",
    "\n",
    "The variables can be summarized as follows:\n",
    "\n",
    "Input Variables (X):\n",
    "\n",
    "- Number of times pregnant\n",
    "- Plasma glucose concentration at 2 hours in an oral glucose tolerance test\n",
    "- Diastolic blood pressure (mm Hg)\n",
    "- Triceps skin fold thickness (mm)\n",
    "- 2-hour serum insulin (mu U/ml)\n",
    "- Body mass index (weight in kg/(height in m)^2)\n",
    "- Diabetes pedigree function\n",
    "- Age (years)\n",
    "\n",
    "Output Variables (y):\n",
    "\n",
    "- Class variable (0 or 1)\n",
    "\n",
    "Once the CSV file is loaded into memory, you can split the columns of data into input and output variables.\n",
    "\n",
    "The data will be stored in a 2D array where the first dimension is rows and the second dimension is columns, e.g., [rows, columns].\n",
    "\n",
    "You can split the array into two arrays by selecting subsets of columns using the standard NumPy slice operator or `:`. You can select the first eight columns from index 0 to index 7 via the slice 0:8. We can then select the output column (the 9th variable) via index 8."
   ]
  },
  {
   "cell_type": "code",
   "execution_count": 19,
   "metadata": {},
   "outputs": [
    {
     "name": "stdout",
     "output_type": "stream",
     "text": [
      "[1. 0. 1. 0. 1. 0. 1. 0. 1. 1. 0. 1. 0. 1. 1. 1. 1. 1. 0. 1. 0. 0. 1. 1.\n",
      " 1. 1. 1. 0. 0. 0. 0. 1. 0. 0. 0. 0. 0. 1. 1. 1. 0. 0. 0. 1. 0. 1. 0. 0.\n",
      " 1. 0. 0. 0. 0. 1. 0. 0. 1. 0. 0. 0. 0. 1. 0. 0. 1. 0. 1. 0. 0. 0. 1. 0.\n",
      " 1. 0. 0. 0. 0. 0. 1. 0. 0. 0. 0. 0. 1. 0. 0. 0. 1. 0. 0. 0. 0. 1. 0. 0.\n",
      " 0. 0. 0. 1. 1. 0. 0. 0. 0. 0. 0. 0. 0. 1. 1. 1. 0. 0. 1. 1. 1. 0. 0. 0.\n",
      " 1. 0. 0. 0. 1. 1. 0. 0. 1. 1. 1. 1. 1. 0. 0. 0. 0. 0. 0. 0. 0. 0. 0. 1.\n",
      " 0. 0. 0. 0. 0. 0. 0. 0. 1. 0. 1. 1. 0. 0. 0. 1. 0. 0. 0. 0. 1. 1. 0. 0.\n",
      " 0. 0. 1. 1. 0. 0. 0. 1. 0. 1. 0. 1. 0. 0. 0. 0. 0. 1. 1. 1. 1. 1. 0. 0.\n",
      " 1. 1. 0. 1. 0. 1. 1. 1. 0. 0. 0. 0. 0. 0. 1. 1. 0. 1. 0. 0. 0. 1. 1. 1.\n",
      " 1. 0. 1. 1. 1. 1. 0. 0. 0. 0. 0. 1. 0. 0. 1. 1. 0. 0. 0. 1. 1. 1. 1. 0.\n",
      " 0. 0. 1. 1. 0. 1. 0. 0. 0. 0. 0. 0. 0. 0. 1. 1. 0. 0. 0. 1. 0. 1. 0. 0.\n",
      " 1. 0. 1. 0. 0. 1. 1. 0. 0. 0. 0. 0. 1. 0. 0. 0. 1. 0. 0. 1. 1. 0. 0. 1.\n",
      " 0. 0. 0. 1. 1. 1. 0. 0. 1. 0. 1. 0. 1. 1. 0. 1. 0. 0. 1. 0. 1. 1. 0. 0.\n",
      " 1. 0. 1. 0. 0. 1. 0. 1. 0. 1. 1. 1. 0. 0. 1. 0. 1. 0. 0. 0. 1. 0. 0. 0.\n",
      " 0. 1. 1. 1. 0. 0. 0. 0. 0. 0. 0. 0. 0. 1. 0. 0. 0. 0. 0. 1. 1. 1. 0. 1.\n",
      " 1. 0. 0. 1. 0. 0. 1. 0. 0. 1. 1. 0. 0. 0. 0. 1. 0. 0. 1. 0. 0. 0. 0. 0.\n",
      " 0. 0. 1. 1. 1. 0. 0. 1. 0. 0. 1. 0. 0. 1. 0. 1. 1. 0. 1. 0. 1. 0. 1. 0.\n",
      " 1. 1. 0. 0. 0. 0. 1. 1. 0. 1. 0. 1. 0. 0. 0. 0. 1. 1. 0. 1. 0. 1. 0. 0.\n",
      " 0. 0. 0. 1. 0. 0. 0. 0. 1. 0. 0. 1. 1. 1. 0. 0. 1. 0. 0. 1. 0. 0. 0. 1.\n",
      " 0. 0. 1. 0. 0. 0. 0. 0. 0. 0. 0. 0. 1. 0. 0. 0. 0. 0. 0. 0. 1. 0. 0. 0.\n",
      " 1. 0. 0. 0. 1. 1. 0. 0. 0. 0. 0. 0. 0. 1. 0. 0. 0. 0. 1. 0. 0. 0. 1. 0.\n",
      " 0. 0. 1. 0. 0. 0. 1. 0. 0. 0. 0. 1. 1. 0. 0. 0. 0. 0. 0. 1. 0. 0. 0. 0.\n",
      " 0. 0. 0. 0. 0. 0. 0. 1. 0. 0. 0. 1. 1. 1. 1. 0. 0. 1. 1. 0. 0. 0. 0. 0.\n",
      " 0. 0. 0. 0. 0. 0. 0. 0. 1. 1. 0. 0. 0. 0. 0. 0. 0. 1. 0. 0. 0. 0. 0. 0.\n",
      " 0. 1. 0. 1. 1. 0. 0. 0. 1. 0. 1. 0. 1. 0. 1. 0. 1. 0. 0. 1. 0. 0. 1. 0.\n",
      " 0. 0. 0. 1. 1. 0. 1. 0. 0. 0. 0. 1. 1. 0. 1. 0. 0. 0. 1. 1. 0. 0. 0. 0.\n",
      " 0. 0. 0. 0. 0. 0. 1. 0. 0. 0. 0. 1. 0. 0. 1. 0. 0. 0. 1. 0. 0. 0. 1. 1.\n",
      " 1. 0. 0. 0. 0. 0. 0. 1. 0. 0. 0. 1. 0. 1. 1. 1. 1. 0. 1. 1. 0. 0. 0. 0.\n",
      " 0. 0. 0. 1. 1. 0. 1. 0. 0. 1. 0. 1. 0. 0. 0. 0. 0. 1. 0. 1. 0. 1. 0. 1.\n",
      " 1. 0. 0. 0. 0. 1. 1. 0. 0. 0. 1. 0. 1. 1. 0. 0. 1. 0. 0. 1. 1. 0. 0. 1.\n",
      " 0. 0. 1. 0. 0. 0. 0. 0. 0. 0. 1. 1. 1. 0. 0. 0. 0. 0. 0. 1. 1. 0. 0. 1.\n",
      " 0. 0. 1. 0. 1. 1. 1. 0. 0. 1. 1. 1. 0. 1. 0. 1. 0. 1. 0. 0. 0. 0. 1. 0.]\n",
      "768\n"
     ]
    }
   ],
   "source": [
    "# split into input (X) and output (y) variables\n",
    "X = dataset[:,0:8]\n",
    "y = dataset[:,8]\n",
    "print(y)\n",
    "print(len(y))"
   ]
  },
  {
   "cell_type": "markdown",
   "metadata": {},
   "source": [
    "## Define Keras Model\n",
    "Models in Keras are defined as a sequence of layers.\n",
    "\n",
    "We create a Sequential model and add layers one at a time until we are happy with our network architecture.\n",
    "\n",
    "The first thing to get right is to ensure the input layer has the correct number of input features. This can be specified when creating the first layer with the `input_shape` argument and setting it to (8,) for presenting the eight input variables as a vector.\n",
    "\n",
    "How do we know the number of layers and their types?\n",
    "\n",
    "This is a tricky question. There are heuristics that you can use, and often the best network structure is found through a process of trial and error experimentation (I explain more about this here). Generally, you need a network large enough to capture the structure of the problem.\n",
    "\n",
    "In this example, let’s use a fully-connected network structure with three layers.\n",
    "\n",
    "Fully connected layers are defined using the Dense class. You can specify the number of neurons or nodes in the layer as the first argument and the activation function using the activation argument.\n",
    "\n",
    "Also, you will use the rectified linear unit activation function referred to as ReLU on the first two layers and the Sigmoid function in the output layer.\n",
    "\n",
    "It used to be the case that Sigmoid and Tanh activation functions were preferred for all layers. These days, better performance is achieved using the ReLU activation function. Using a sigmoid on the output layer ensures your network output is between 0 and 1 and is easy to map to either a probability of class 1 or snap to a hard classification of either class with a default threshold of 0.5.\n",
    "\n",
    "You can piece it all together by adding each layer:\n",
    "\n",
    "The model expects rows of data with 8 variables (the `input_shape=(8,)` argument).\n",
    "- The first hidden layer has 12 nodes and uses the relu activation function.\n",
    "- The second hidden layer has 8 nodes and uses the relu activation function.\n",
    "- The output layer has one node and uses the sigmoid activation function."
   ]
  },
  {
   "cell_type": "code",
   "execution_count": 20,
   "metadata": {},
   "outputs": [],
   "source": [
    "# define the keras model\n",
    "def get_model():\n",
    "    model = Sequential()\n",
    "    model.add(Dense(12, input_shape=(8,), activation='relu'))\n",
    "    model.add(Dense(8, activation='relu'))\n",
    "    model.add(Dense(1, activation='sigmoid'))\n",
    "    return model"
   ]
  },
  {
   "cell_type": "markdown",
   "metadata": {},
   "source": [
    "### Summarize Model\n",
    "Keras provides a way to summarize a model.\n",
    "\n",
    "The summary is textual and includes information about:\n",
    "- The layers and their order in the model.\n",
    "- The output shape of each layer.\n",
    "- The number of parameters (weights) in each layer.\n",
    "- The total number of parameters (weights) in the model.\n",
    "- The summary can be created by calling the `summary()` function on the model that returns a string that in turn can be printed.\n"
   ]
  },
  {
   "cell_type": "code",
   "execution_count": 21,
   "metadata": {},
   "outputs": [
    {
     "name": "stdout",
     "output_type": "stream",
     "text": [
      "Model: \"sequential\"\n",
      "_________________________________________________________________\n",
      " Layer (type)                Output Shape              Param #   \n",
      "=================================================================\n",
      " dense (Dense)               (None, 12)                108       \n",
      "                                                                 \n",
      " dense_1 (Dense)             (None, 8)                 104       \n",
      "                                                                 \n",
      " dense_2 (Dense)             (None, 1)                 9         \n",
      "                                                                 \n",
      "=================================================================\n",
      "Total params: 221\n",
      "Trainable params: 221\n",
      "Non-trainable params: 0\n",
      "_________________________________________________________________\n",
      "None\n"
     ]
    }
   ],
   "source": [
    "model = get_model()\n",
    "print(model.summary())"
   ]
  },
  {
   "cell_type": "markdown",
   "metadata": {},
   "source": [
    "### Visualize Model\n",
    "The summary is useful for simple models, but can be confusing for models that have multiple inputs or outputs.\n",
    "\n",
    "Keras also provides a function to create a plot of the network neural network graph that can make more complex models easier to understand.\n",
    "\n",
    "The `plot_model()` function in Keras will create a plot of your network. This function takes a few useful arguments:\n",
    "- model: (required) The model that you wish to plot.\n",
    "- to_file: (required) The name of the file to which to save the plot.\n",
    "- show_shapes: (optional, defaults to False) Whether or not to show the output shapes of each layer.\n",
    "- show_layer_names: (optional, defaults to True) Whether or not to show the name for each layer."
   ]
  },
  {
   "cell_type": "code",
   "execution_count": 22,
   "metadata": {},
   "outputs": [
    {
     "data": {
      "image/png": "[encoded data removed]",
      "text/plain": [
       "<IPython.core.display.Image object>"
      ]
     },
     "execution_count": 22,
     "metadata": {},
     "output_type": "execute_result"
    }
   ],
   "source": [
    "import graphviz\n",
    "import pydot\n",
    "plot_model(model, to_file='Images/model_plot.png', show_shapes=True, show_layer_names=True)"
   ]
  },
  {
   "cell_type": "markdown",
   "metadata": {},
   "source": [
    "## Compile Keras Model"
   ]
  },
  {
   "cell_type": "markdown",
   "metadata": {},
   "source": [
    "Now that the model is defined, you can compile it.\n",
    "\n",
    "Compiling the model uses the efficient numerical libraries under the covers (the so-called backend) such as Theano or TensorFlow. The backend automatically chooses the best way to represent the network for training and making predictions to run on your hardware, such as CPU, GPU, or even distributed.\n",
    "\n",
    "When compiling, you must specify some additional properties required when training the network. Remember training a network means finding the best set of weights to map inputs to outputs in your dataset.\n",
    "\n",
    "You must specify the loss function to use to evaluate a set of weights, the optimizer used to search through different weights for the network, and any optional metrics you want to collect and report during training.\n",
    "\n",
    "In this case, use cross entropy as the loss argument. This loss is for a binary classification problems and is defined in Keras as “binary_crossentropy“.\n",
    "\n",
    "We will define the optimizer as the efficient stochastic gradient descent algorithm “adam“. This is a popular version of gradient descent because it automatically tunes itself and gives good results in a wide range of problems.\n",
    "\n",
    "Finally, because it is a classification problem, you will collect and report the classification accuracy defined via the metrics argument."
   ]
  },
  {
   "cell_type": "code",
   "execution_count": 24,
   "metadata": {},
   "outputs": [],
   "source": [
    "# compile the keras model\n",
    "model.compile(loss='binary_crossentropy', optimizer='adam', metrics=['accuracy'])"
   ]
  },
  {
   "cell_type": "markdown",
   "metadata": {},
   "source": [
    "## Fit Keras Model\n",
    "ou have defined your model and compiled it to get ready for efficient computation.\n",
    "\n",
    "Now it is time to execute the model on some data.\n",
    "\n",
    "You can train or fit your model on your loaded data by calling the fit() function on the model.\n",
    "\n",
    "Training occurs over epochs, and each epoch is split into batches.\n",
    "- Epoch: One pass through all of the rows in the training dataset\n",
    "- Batch: One or more samples considered by the model within an epoch before weights are updated\n",
    "\n",
    "One epoch comprises one or more batches, based on the chosen batch size, and the model is fit for many epochs.\n",
    "\n",
    "The training process will run for a fixed number of epochs (iterations) through the dataset that you must specify using the epochs argument. You must also set the number of dataset rows that are considered before the model weights are updated within each epoch, called the batch size, and set using the `batch_size` argument.\n",
    "\n",
    "This problem will run for a small number of epochs (150) and use a relatively small batch size of 10.\n",
    "\n",
    "These configurations can be chosen experimentally by trial and error. You want to train the model enough so that it learns a good (or good enough) mapping of rows of input data to the output classification. The model will always have some error, but the amount of error will level out after some point for a given model configuration. This is called model convergence."
   ]
  },
  {
   "cell_type": "code",
   "execution_count": 25,
   "metadata": {},
   "outputs": [
    {
     "name": "stdout",
     "output_type": "stream",
     "text": [
      "Epoch 1/150\n",
      "77/77 [==============================] - 0s 899us/step - loss: 2.7854 - accuracy: 0.5990\n",
      "Epoch 2/150\n",
      "77/77 [==============================] - 0s 889us/step - loss: 1.5342 - accuracy: 0.6393\n",
      "Epoch 3/150\n",
      "77/77 [==============================] - 0s 882us/step - loss: 1.2094 - accuracy: 0.6302\n",
      "Epoch 4/150\n",
      "77/77 [==============================] - 0s 941us/step - loss: 0.9622 - accuracy: 0.6263\n",
      "Epoch 5/150\n",
      "77/77 [==============================] - 0s 875us/step - loss: 0.8658 - accuracy: 0.6315\n",
      "Epoch 6/150\n",
      "77/77 [==============================] - 0s 869us/step - loss: 0.7945 - accuracy: 0.6523\n",
      "Epoch 7/150\n",
      "77/77 [==============================] - 0s 941us/step - loss: 0.7435 - accuracy: 0.6354\n",
      "Epoch 8/150\n",
      "77/77 [==============================] - 0s 849us/step - loss: 0.7165 - accuracy: 0.6562\n",
      "Epoch 9/150\n",
      "77/77 [==============================] - 0s 913us/step - loss: 0.6776 - accuracy: 0.6549\n",
      "Epoch 10/150\n",
      "77/77 [==============================] - 0s 934us/step - loss: 0.6577 - accuracy: 0.6628\n",
      "Epoch 11/150\n",
      "77/77 [==============================] - 0s 849us/step - loss: 0.6314 - accuracy: 0.6667\n",
      "Epoch 12/150\n",
      "77/77 [==============================] - 0s 836us/step - loss: 0.6245 - accuracy: 0.6589\n",
      "Epoch 13/150\n",
      "77/77 [==============================] - 0s 816us/step - loss: 0.6124 - accuracy: 0.6771\n",
      "Epoch 14/150\n",
      "77/77 [==============================] - 0s 849us/step - loss: 0.6030 - accuracy: 0.6836\n",
      "Epoch 15/150\n",
      "77/77 [==============================] - 0s 888us/step - loss: 0.5917 - accuracy: 0.6888\n",
      "Epoch 16/150\n",
      "77/77 [==============================] - 0s 855us/step - loss: 0.6021 - accuracy: 0.6953\n",
      "Epoch 17/150\n",
      "77/77 [==============================] - 0s 836us/step - loss: 0.5921 - accuracy: 0.6862\n",
      "Epoch 18/150\n",
      "77/77 [==============================] - 0s 836us/step - loss: 0.5828 - accuracy: 0.7005\n",
      "Epoch 19/150\n",
      "77/77 [==============================] - 0s 855us/step - loss: 0.5899 - accuracy: 0.6927\n",
      "Epoch 20/150\n",
      "77/77 [==============================] - 0s 836us/step - loss: 0.6027 - accuracy: 0.6810\n",
      "Epoch 21/150\n",
      "77/77 [==============================] - 0s 823us/step - loss: 0.5841 - accuracy: 0.6953\n",
      "Epoch 22/150\n",
      "77/77 [==============================] - 0s 816us/step - loss: 0.6040 - accuracy: 0.6849\n",
      "Epoch 23/150\n",
      "77/77 [==============================] - 0s 809us/step - loss: 0.5987 - accuracy: 0.6979\n",
      "Epoch 24/150\n",
      "77/77 [==============================] - 0s 823us/step - loss: 0.5671 - accuracy: 0.6914\n",
      "Epoch 25/150\n",
      "77/77 [==============================] - 0s 829us/step - loss: 0.5841 - accuracy: 0.6901\n",
      "Epoch 26/150\n",
      "77/77 [==============================] - 0s 822us/step - loss: 0.5867 - accuracy: 0.6940\n",
      "Epoch 27/150\n",
      "77/77 [==============================] - 0s 809us/step - loss: 0.5661 - accuracy: 0.7148\n",
      "Epoch 28/150\n",
      "77/77 [==============================] - 0s 842us/step - loss: 0.5718 - accuracy: 0.7148\n",
      "Epoch 29/150\n",
      "77/77 [==============================] - 0s 849us/step - loss: 0.5580 - accuracy: 0.7174\n",
      "Epoch 30/150\n",
      "77/77 [==============================] - 0s 823us/step - loss: 0.5597 - accuracy: 0.7448\n",
      "Epoch 31/150\n",
      "77/77 [==============================] - 0s 816us/step - loss: 0.5767 - accuracy: 0.6979\n",
      "Epoch 32/150\n",
      "77/77 [==============================] - 0s 941us/step - loss: 0.5682 - accuracy: 0.7005\n",
      "Epoch 33/150\n",
      "77/77 [==============================] - 0s 941us/step - loss: 0.5722 - accuracy: 0.7031\n",
      "Epoch 34/150\n",
      "77/77 [==============================] - 0s 803us/step - loss: 0.5736 - accuracy: 0.7135\n",
      "Epoch 35/150\n",
      "77/77 [==============================] - 0s 796us/step - loss: 0.5715 - accuracy: 0.7044\n",
      "Epoch 36/150\n",
      "77/77 [==============================] - 0s 816us/step - loss: 0.5567 - accuracy: 0.7253\n",
      "Epoch 37/150\n",
      "77/77 [==============================] - 0s 816us/step - loss: 0.5667 - accuracy: 0.7122\n",
      "Epoch 38/150\n",
      "77/77 [==============================] - 0s 809us/step - loss: 0.5643 - accuracy: 0.7044\n",
      "Epoch 39/150\n",
      "77/77 [==============================] - 0s 809us/step - loss: 0.5552 - accuracy: 0.7135\n",
      "Epoch 40/150\n",
      "77/77 [==============================] - 0s 816us/step - loss: 0.5486 - accuracy: 0.7409\n",
      "Epoch 41/150\n",
      "77/77 [==============================] - 0s 849us/step - loss: 0.5474 - accuracy: 0.7214\n",
      "Epoch 42/150\n",
      "77/77 [==============================] - 0s 836us/step - loss: 0.5466 - accuracy: 0.7266\n",
      "Epoch 43/150\n",
      "77/77 [==============================] - 0s 803us/step - loss: 0.5594 - accuracy: 0.6966\n",
      "Epoch 44/150\n",
      "77/77 [==============================] - 0s 823us/step - loss: 0.5577 - accuracy: 0.7201\n",
      "Epoch 45/150\n",
      "77/77 [==============================] - 0s 862us/step - loss: 0.5487 - accuracy: 0.7240\n",
      "Epoch 46/150\n",
      "77/77 [==============================] - 0s 816us/step - loss: 0.5601 - accuracy: 0.7201\n",
      "Epoch 47/150\n",
      "77/77 [==============================] - 0s 849us/step - loss: 0.5417 - accuracy: 0.7318\n",
      "Epoch 48/150\n",
      "77/77 [==============================] - 0s 809us/step - loss: 0.5387 - accuracy: 0.7279\n",
      "Epoch 49/150\n",
      "77/77 [==============================] - 0s 842us/step - loss: 0.5374 - accuracy: 0.7279\n",
      "Epoch 50/150\n",
      "77/77 [==============================] - 0s 823us/step - loss: 0.5423 - accuracy: 0.7461\n",
      "Epoch 51/150\n",
      "77/77 [==============================] - 0s 823us/step - loss: 0.5285 - accuracy: 0.7253\n",
      "Epoch 52/150\n",
      "77/77 [==============================] - 0s 816us/step - loss: 0.5312 - accuracy: 0.7409\n",
      "Epoch 53/150\n",
      "77/77 [==============================] - 0s 836us/step - loss: 0.5343 - accuracy: 0.7214\n",
      "Epoch 54/150\n",
      "77/77 [==============================] - 0s 763us/step - loss: 0.5303 - accuracy: 0.7422\n",
      "Epoch 55/150\n",
      "77/77 [==============================] - 0s 790us/step - loss: 0.5460 - accuracy: 0.7266\n",
      "Epoch 56/150\n",
      "77/77 [==============================] - 0s 796us/step - loss: 0.5267 - accuracy: 0.7513\n",
      "Epoch 57/150\n",
      "77/77 [==============================] - 0s 776us/step - loss: 0.5220 - accuracy: 0.7357\n",
      "Epoch 58/150\n",
      "77/77 [==============================] - 0s 809us/step - loss: 0.5397 - accuracy: 0.7109\n",
      "Epoch 59/150\n",
      "77/77 [==============================] - 0s 796us/step - loss: 0.5294 - accuracy: 0.7435\n",
      "Epoch 60/150\n",
      "77/77 [==============================] - 0s 816us/step - loss: 0.5447 - accuracy: 0.7500\n",
      "Epoch 61/150\n",
      "77/77 [==============================] - 0s 823us/step - loss: 0.5397 - accuracy: 0.7240\n",
      "Epoch 62/150\n",
      "77/77 [==============================] - 0s 796us/step - loss: 0.5308 - accuracy: 0.7396\n",
      "Epoch 63/150\n",
      "77/77 [==============================] - 0s 776us/step - loss: 0.5173 - accuracy: 0.7500\n",
      "Epoch 64/150\n",
      "77/77 [==============================] - 0s 849us/step - loss: 0.5190 - accuracy: 0.7396\n",
      "Epoch 65/150\n",
      "77/77 [==============================] - 0s 816us/step - loss: 0.5279 - accuracy: 0.7461\n",
      "Epoch 66/150\n",
      "77/77 [==============================] - 0s 816us/step - loss: 0.5383 - accuracy: 0.7227\n",
      "Epoch 67/150\n",
      "77/77 [==============================] - 0s 783us/step - loss: 0.5261 - accuracy: 0.7422\n",
      "Epoch 68/150\n",
      "77/77 [==============================] - 0s 790us/step - loss: 0.5275 - accuracy: 0.7474\n",
      "Epoch 69/150\n",
      "77/77 [==============================] - 0s 849us/step - loss: 0.5321 - accuracy: 0.7448\n",
      "Epoch 70/150\n",
      "77/77 [==============================] - 0s 796us/step - loss: 0.5316 - accuracy: 0.7474\n",
      "Epoch 71/150\n",
      "77/77 [==============================] - 0s 790us/step - loss: 0.5163 - accuracy: 0.7344\n",
      "Epoch 72/150\n",
      "77/77 [==============================] - 0s 809us/step - loss: 0.5521 - accuracy: 0.7227\n",
      "Epoch 73/150\n",
      "77/77 [==============================] - 0s 809us/step - loss: 0.5389 - accuracy: 0.7344\n",
      "Epoch 74/150\n",
      "77/77 [==============================] - 0s 816us/step - loss: 0.5223 - accuracy: 0.7474\n",
      "Epoch 75/150\n",
      "77/77 [==============================] - 0s 780us/step - loss: 0.5131 - accuracy: 0.7409\n",
      "Epoch 76/150\n",
      "77/77 [==============================] - 0s 796us/step - loss: 0.5379 - accuracy: 0.7279\n",
      "Epoch 77/150\n",
      "77/77 [==============================] - 0s 776us/step - loss: 0.5133 - accuracy: 0.7357\n",
      "Epoch 78/150\n",
      "77/77 [==============================] - 0s 783us/step - loss: 0.5131 - accuracy: 0.7435\n",
      "Epoch 79/150\n",
      "77/77 [==============================] - 0s 803us/step - loss: 0.5518 - accuracy: 0.7161\n",
      "Epoch 80/150\n",
      "77/77 [==============================] - 0s 807us/step - loss: 0.5434 - accuracy: 0.7188\n",
      "Epoch 81/150\n",
      "77/77 [==============================] - 0s 862us/step - loss: 0.5148 - accuracy: 0.7422\n",
      "Epoch 82/150\n",
      "77/77 [==============================] - 0s 829us/step - loss: 0.5129 - accuracy: 0.7396\n",
      "Epoch 83/150\n",
      "77/77 [==============================] - 0s 809us/step - loss: 0.5089 - accuracy: 0.7513\n",
      "Epoch 84/150\n",
      "77/77 [==============================] - 0s 817us/step - loss: 0.5385 - accuracy: 0.7188\n",
      "Epoch 85/150\n",
      "77/77 [==============================] - 0s 816us/step - loss: 0.5235 - accuracy: 0.7292\n",
      "Epoch 86/150\n",
      "77/77 [==============================] - 0s 847us/step - loss: 0.5368 - accuracy: 0.7435\n",
      "Epoch 87/150\n",
      "77/77 [==============================] - 0s 875us/step - loss: 0.5271 - accuracy: 0.7344\n",
      "Epoch 88/150\n",
      "77/77 [==============================] - 0s 842us/step - loss: 0.5138 - accuracy: 0.7461\n",
      "Epoch 89/150\n",
      "77/77 [==============================] - 0s 836us/step - loss: 0.5186 - accuracy: 0.7396\n",
      "Epoch 90/150\n",
      "77/77 [==============================] - 0s 809us/step - loss: 0.5134 - accuracy: 0.7500\n",
      "Epoch 91/150\n",
      "77/77 [==============================] - 0s 842us/step - loss: 0.5078 - accuracy: 0.7565\n",
      "Epoch 92/150\n",
      "77/77 [==============================] - 0s 875us/step - loss: 0.5069 - accuracy: 0.7383\n",
      "Epoch 93/150\n",
      "77/77 [==============================] - 0s 915us/step - loss: 0.5031 - accuracy: 0.7591\n",
      "Epoch 94/150\n",
      "77/77 [==============================] - 0s 994us/step - loss: 0.5262 - accuracy: 0.7422\n",
      "Epoch 95/150\n",
      "77/77 [==============================] - 0s 895us/step - loss: 0.5039 - accuracy: 0.7604\n",
      "Epoch 96/150\n",
      "77/77 [==============================] - 0s 796us/step - loss: 0.5125 - accuracy: 0.7435\n",
      "Epoch 97/150\n",
      "77/77 [==============================] - 0s 796us/step - loss: 0.5173 - accuracy: 0.7396\n",
      "Epoch 98/150\n",
      "77/77 [==============================] - 0s 789us/step - loss: 0.5111 - accuracy: 0.7409\n",
      "Epoch 99/150\n",
      "77/77 [==============================] - 0s 994us/step - loss: 0.5364 - accuracy: 0.7318\n",
      "Epoch 100/150\n",
      "77/77 [==============================] - 0s 1ms/step - loss: 0.5006 - accuracy: 0.7643\n",
      "Epoch 101/150\n",
      "77/77 [==============================] - 0s 915us/step - loss: 0.5213 - accuracy: 0.7396\n",
      "Epoch 102/150\n",
      "77/77 [==============================] - 0s 882us/step - loss: 0.5220 - accuracy: 0.7474\n",
      "Epoch 103/150\n",
      "77/77 [==============================] - 0s 862us/step - loss: 0.5139 - accuracy: 0.7604\n",
      "Epoch 104/150\n",
      "77/77 [==============================] - 0s 862us/step - loss: 0.5032 - accuracy: 0.7318\n",
      "Epoch 105/150\n",
      "77/77 [==============================] - 0s 829us/step - loss: 0.5127 - accuracy: 0.7357\n",
      "Epoch 106/150\n",
      "77/77 [==============================] - 0s 875us/step - loss: 0.5247 - accuracy: 0.7500\n",
      "Epoch 107/150\n",
      "77/77 [==============================] - 0s 888us/step - loss: 0.5098 - accuracy: 0.7500\n",
      "Epoch 108/150\n",
      "77/77 [==============================] - 0s 869us/step - loss: 0.4950 - accuracy: 0.7539\n",
      "Epoch 109/150\n",
      "77/77 [==============================] - 0s 849us/step - loss: 0.5025 - accuracy: 0.7552\n",
      "Epoch 110/150\n",
      "77/77 [==============================] - 0s 888us/step - loss: 0.5011 - accuracy: 0.7500\n",
      "Epoch 111/150\n",
      "77/77 [==============================] - 0s 869us/step - loss: 0.4986 - accuracy: 0.7500\n",
      "Epoch 112/150\n",
      "77/77 [==============================] - 0s 928us/step - loss: 0.5055 - accuracy: 0.7526\n",
      "Epoch 113/150\n",
      "77/77 [==============================] - 0s 902us/step - loss: 0.4950 - accuracy: 0.7721\n",
      "Epoch 114/150\n",
      "77/77 [==============================] - 0s 849us/step - loss: 0.4936 - accuracy: 0.7513\n",
      "Epoch 115/150\n",
      "77/77 [==============================] - 0s 855us/step - loss: 0.4961 - accuracy: 0.7539\n",
      "Epoch 116/150\n",
      "77/77 [==============================] - 0s 888us/step - loss: 0.4966 - accuracy: 0.7487\n",
      "Epoch 117/150\n",
      "77/77 [==============================] - 0s 1ms/step - loss: 0.4994 - accuracy: 0.7474\n",
      "Epoch 118/150\n",
      "77/77 [==============================] - 0s 908us/step - loss: 0.5178 - accuracy: 0.7487\n",
      "Epoch 119/150\n",
      "77/77 [==============================] - 0s 1ms/step - loss: 0.4894 - accuracy: 0.7617\n",
      "Epoch 120/150\n",
      "77/77 [==============================] - 0s 888us/step - loss: 0.4994 - accuracy: 0.7656\n",
      "Epoch 121/150\n",
      "77/77 [==============================] - 0s 809us/step - loss: 0.4959 - accuracy: 0.7552\n",
      "Epoch 122/150\n",
      "77/77 [==============================] - 0s 829us/step - loss: 0.5087 - accuracy: 0.7578\n",
      "Epoch 123/150\n",
      "77/77 [==============================] - 0s 809us/step - loss: 0.4946 - accuracy: 0.7552\n",
      "Epoch 124/150\n",
      "77/77 [==============================] - 0s 809us/step - loss: 0.4981 - accuracy: 0.7565\n",
      "Epoch 125/150\n",
      "77/77 [==============================] - 0s 816us/step - loss: 0.4931 - accuracy: 0.7526\n",
      "Epoch 126/150\n",
      "77/77 [==============================] - 0s 823us/step - loss: 0.4984 - accuracy: 0.7565\n",
      "Epoch 127/150\n",
      "77/77 [==============================] - 0s 810us/step - loss: 0.4928 - accuracy: 0.7539\n",
      "Epoch 128/150\n",
      "77/77 [==============================] - 0s 829us/step - loss: 0.5023 - accuracy: 0.7487\n",
      "Epoch 129/150\n",
      "77/77 [==============================] - 0s 796us/step - loss: 0.4825 - accuracy: 0.7656\n",
      "Epoch 130/150\n",
      "77/77 [==============================] - 0s 776us/step - loss: 0.4893 - accuracy: 0.7578\n",
      "Epoch 131/150\n",
      "77/77 [==============================] - 0s 795us/step - loss: 0.4953 - accuracy: 0.7552\n",
      "Epoch 132/150\n",
      "77/77 [==============================] - 0s 783us/step - loss: 0.4706 - accuracy: 0.7839\n",
      "Epoch 133/150\n",
      "77/77 [==============================] - 0s 790us/step - loss: 0.4833 - accuracy: 0.7656\n",
      "Epoch 134/150\n",
      "77/77 [==============================] - 0s 770us/step - loss: 0.5232 - accuracy: 0.7370\n",
      "Epoch 135/150\n",
      "77/77 [==============================] - 0s 809us/step - loss: 0.4830 - accuracy: 0.7643\n",
      "Epoch 136/150\n",
      "77/77 [==============================] - 0s 803us/step - loss: 0.4820 - accuracy: 0.7591\n",
      "Epoch 137/150\n",
      "77/77 [==============================] - 0s 779us/step - loss: 0.4827 - accuracy: 0.7656\n",
      "Epoch 138/150\n",
      "77/77 [==============================] - 0s 783us/step - loss: 0.4918 - accuracy: 0.7656\n",
      "Epoch 139/150\n",
      "77/77 [==============================] - 0s 816us/step - loss: 0.4791 - accuracy: 0.7682\n",
      "Epoch 140/150\n",
      "77/77 [==============================] - 0s 783us/step - loss: 0.4822 - accuracy: 0.7682\n",
      "Epoch 141/150\n",
      "77/77 [==============================] - 0s 842us/step - loss: 0.4893 - accuracy: 0.7591\n",
      "Epoch 142/150\n",
      "77/77 [==============================] - 0s 796us/step - loss: 0.5049 - accuracy: 0.7539\n",
      "Epoch 143/150\n",
      "77/77 [==============================] - 0s 783us/step - loss: 0.4860 - accuracy: 0.7617\n",
      "Epoch 144/150\n",
      "77/77 [==============================] - 0s 816us/step - loss: 0.4916 - accuracy: 0.7591\n",
      "Epoch 145/150\n",
      "77/77 [==============================] - 0s 770us/step - loss: 0.4843 - accuracy: 0.7643\n",
      "Epoch 146/150\n",
      "77/77 [==============================] - 0s 783us/step - loss: 0.4793 - accuracy: 0.7695\n",
      "Epoch 147/150\n",
      "77/77 [==============================] - 0s 816us/step - loss: 0.4754 - accuracy: 0.7669\n",
      "Epoch 148/150\n",
      "77/77 [==============================] - 0s 823us/step - loss: 0.4907 - accuracy: 0.7617\n",
      "Epoch 149/150\n",
      "77/77 [==============================] - 0s 823us/step - loss: 0.4938 - accuracy: 0.7630\n",
      "Epoch 150/150\n",
      "77/77 [==============================] - 0s 816us/step - loss: 0.4808 - accuracy: 0.7708\n"
     ]
    },
    {
     "data": {
      "text/plain": [
       "<keras.callbacks.History at 0x230a73b62b0>"
      ]
     },
     "execution_count": 25,
     "metadata": {},
     "output_type": "execute_result"
    }
   ],
   "source": [
    "# fit the keras model on the dataset\n",
    "model.fit(X, y, epochs=150, batch_size=10)"
   ]
  },
  {
   "cell_type": "markdown",
   "metadata": {},
   "source": [
    "## Evaluate Keras Model\n",
    "You have trained our neural network on the entire dataset, and you can evaluate the performance of the network on the same dataset.\n",
    "\n",
    "This will only give you an idea of how well you have modeled the dataset (e.g., train accuracy), but no idea of how well the algorithm might perform on new data. This was done for simplicity, but ideally, you could separate your data into train and test datasets for training and evaluation of your model.\n",
    "\n",
    "You can evaluate your model on your training dataset using the `evaluate()` function and pass it the same input and output used to train the model.\n",
    "\n",
    "This will generate a prediction for each input and output pair and collect scores, including the average loss and any metrics you have configured, such as accuracy.\n",
    "\n",
    "The `evaluate()` function will return a list with two values. The first will be the loss of the model on the dataset, and the second will be the accuracy of the model on the dataset."
   ]
  },
  {
   "cell_type": "code",
   "execution_count": 26,
   "metadata": {},
   "outputs": [
    {
     "name": "stdout",
     "output_type": "stream",
     "text": [
      "24/24 [==============================] - 0s 802us/step - loss: 0.4675 - accuracy: 0.7852\n",
      "Accuracy: 0.79\n",
      "Loss: 0.47\n"
     ]
    }
   ],
   "source": [
    "# evaluate the keras model\n",
    "scores = model.evaluate(X, y)\n",
    "print('Accuracy: %.2f' % (scores[1]))\n",
    "print('Loss: %.2f' % (scores[0]))"
   ]
  },
  {
   "cell_type": "markdown",
   "metadata": {},
   "source": [
    "### Visualize Model Training History in Keras\n",
    "Keras provides the capability to register callbacks when training a deep learning model.\n",
    "\n",
    "One of the default callbacks registered when training all deep learning models is the History callback. It records training metrics for each epoch. This includes the loss and the accuracy (for classification problems) and the loss and accuracy for the validation dataset if one is set.\n",
    "\n",
    "The history object is returned from calls to the fit() function used to train the model. Metrics are stored in a dictionary in the history member of the object returned.\n",
    "\n",
    "The example collects the history returned from training the model and creates two charts:\n",
    "- A plot of accuracy on the training and validation datasets over training epochs\n",
    "- A plot of loss on the training and validation datasets over training epochs\n",
    "\n",
    "*One more thing:*\n",
    "\n",
    "With the `validation_split` option it is possible to split our data into two different datasets: one for training and the other for validation."
   ]
  },
  {
   "cell_type": "code",
   "execution_count": 27,
   "metadata": {},
   "outputs": [
    {
     "name": "stdout",
     "output_type": "stream",
     "text": [
      "dict_keys(['loss', 'accuracy', 'val_loss', 'val_accuracy'])\n"
     ]
    }
   ],
   "source": [
    "model = get_model()\n",
    "model.compile(loss='binary_crossentropy', optimizer='adam', metrics=['accuracy'])\n",
    "\n",
    "# Fit the model\n",
    "history = model.fit(X, y, validation_split=0.33, epochs=150, batch_size=10, verbose=0)\n",
    "\n",
    "# list all data in history\n",
    "print(history.history.keys())"
   ]
  },
  {
   "cell_type": "code",
   "execution_count": 28,
   "metadata": {},
   "outputs": [
    {
     "data": {
      "application/vnd.jupyter.widget-view+json": {
       "model_id": "0f22bb5fb50b47b8a020a4204d6b2e58",
       "version_major": 2,
       "version_minor": 0
      },
      "image/png": "[encoded data removed]",
      "text/html": [
       "\n",
       "            <div style=\"display: inline-block;\">\n",
       "                <div class=\"jupyter-widgets widget-label\" style=\"text-align: center;\">\n",
       "                    Figure\n",
       "                </div>\n",
       "                <img src='data:image/png;base64,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' width=640.0/>\n",
       "            </div>\n",
       "        "
      ],
      "text/plain": [
       "Canvas(toolbar=Toolbar(toolitems=[('Home', 'Reset original view', 'home', 'home'), ('Back', 'Back to previous …"
      ]
     },
     "metadata": {},
     "output_type": "display_data"
    }
   ],
   "source": [
    "# summarize history for accuracy and loss\n",
    "fig, axes = plt.subplots(2, 1, sharex=True)\n",
    "axes[0].plot(history.history['accuracy'], label='accuracy')\n",
    "axes[0].plot(history.history['val_accuracy'], label='val_accuracy')\n",
    "axes[0].set_title('model accuracy', fontweight =\"bold\")\n",
    "axes[0].set_ylabel('accuracy')\n",
    "axes[0].set_ylim([0, 1])\n",
    "\n",
    "axes[1].plot(history.history['loss'], label='loss')\n",
    "axes[1].plot(history.history['val_loss'], label='val_loss')\n",
    "axes[1].set_title('model loss', fontweight =\"bold\")\n",
    "axes[1].set_ylabel('val_loss')\n",
    "axes[1].set_xlabel('epoch')\n",
    "axes[1].set_ylim([0, max(history.history['loss'])])\n",
    "format_and_render_plot()"
   ]
  },
  {
   "cell_type": "markdown",
   "metadata": {},
   "source": [
    "The plots can provide an indication of useful things about the training of the model, such as:\n",
    "- Its speed of convergence over epochs (slope)\n",
    "- Whether the model may have already converged (plateau of the line)\n",
    "- Whether the mode may be over-learning the training data (inflection for validation line)"
   ]
  },
  {
   "cell_type": "markdown",
   "metadata": {},
   "source": [
    "## Save a Keras Model\n",
    "You can save your model by calling the save() function on the model and specifying the filename."
   ]
  },
  {
   "cell_type": "code",
   "execution_count": 31,
   "metadata": {},
   "outputs": [
    {
     "name": "stdout",
     "output_type": "stream",
     "text": [
      "Saved model to disk\n"
     ]
    }
   ],
   "source": [
    "# save model and architecture to single file\n",
    "model.save(\"model.h5\")\n",
    "print(\"Saved model to disk\")"
   ]
  },
  {
   "cell_type": "markdown",
   "metadata": {},
   "source": [
    "## Load a Keras Model\n",
    "Your saved model can then be loaded later by calling the load_model() function and passing the filename. The function returns the model with the same architecture and weights."
   ]
  },
  {
   "cell_type": "code",
   "execution_count": 32,
   "metadata": {},
   "outputs": [
    {
     "name": "stdout",
     "output_type": "stream",
     "text": [
      "Model: \"sequential_6\"\n",
      "_________________________________________________________________\n",
      " Layer (type)                Output Shape              Param #   \n",
      "=================================================================\n",
      " dense_18 (Dense)            (None, 12)                108       \n",
      "                                                                 \n",
      " dense_19 (Dense)            (None, 8)                 104       \n",
      "                                                                 \n",
      " dense_20 (Dense)            (None, 1)                 9         \n",
      "                                                                 \n",
      "=================================================================\n",
      "Total params: 221\n",
      "Trainable params: 221\n",
      "Non-trainable params: 0\n",
      "_________________________________________________________________\n",
      "accuracy: 74.87%\n"
     ]
    }
   ],
   "source": [
    "# load model\n",
    "model = load_model('model.h5')\n",
    "# summarize model.\n",
    "model.summary()\n",
    "\n",
    "# evaluate the model\n",
    "score = model.evaluate(X, y, verbose=0)\n",
    "print(\"%s: %.2f%%\" % (model.metrics_names[1], score[1]*100))"
   ]
  },
  {
   "cell_type": "markdown",
   "metadata": {},
   "source": [
    "## Make Predictions\n",
    "The number one question I get asked is: *After I train my model, how can I use it to make predictions on new data?*\n",
    "\n",
    "You can adapt the above example and use it to generate predictions on the training dataset, pretending it is a new dataset you have not seen before.\n",
    "\n",
    "Making predictions is as easy as calling the `predict()` function on the model. You are using a sigmoid activation function on the output layer, so the predictions will be a probability in the range between 0 and 1. You can easily convert them into a crisp binary prediction for this classification task by rounding them."
   ]
  },
  {
   "cell_type": "code",
   "execution_count": 33,
   "metadata": {},
   "outputs": [
    {
     "name": "stdout",
     "output_type": "stream",
     "text": [
      "24/24 [==============================] - 0s 743us/step\n",
      "[6.0, 148.0, 72.0, 35.0, 0.0, 33.6, 0.627, 50.0] => 0 (expected 1)\n",
      "[1.0, 85.0, 66.0, 29.0, 0.0, 26.6, 0.351, 31.0] => 0 (expected 0)\n",
      "[8.0, 183.0, 64.0, 0.0, 0.0, 23.3, 0.672, 32.0] => 1 (expected 1)\n",
      "[1.0, 89.0, 66.0, 23.0, 94.0, 28.1, 0.167, 21.0] => 0 (expected 0)\n",
      "[0.0, 137.0, 40.0, 35.0, 168.0, 43.1, 2.288, 33.0] => 1 (expected 1)\n"
     ]
    }
   ],
   "source": [
    "# make probability predictions with the model\n",
    "predictions = (model.predict(X) > 0.5).astype(int)\n",
    "\n",
    "# summarize the first 5 cases\n",
    "for i in range(5):\n",
    "    print('%s => %d (expected %d)' % (X[i].tolist(), predictions[i], y[i]))"
   ]
  },
  {
   "cell_type": "markdown",
   "metadata": {},
   "source": [
    "## Changing Optimization Parameters\n",
    "We'll now try optimizing a model at different learning rates. You'll want to look at the results after running this exercise, remembering that a low value for the loss function is good."
   ]
  },
  {
   "cell_type": "code",
   "execution_count": 34,
   "metadata": {},
   "outputs": [
    {
     "name": "stdout",
     "output_type": "stream",
     "text": [
      "\n",
      "\n",
      "Testing model with learning rate: 0.000001\n",
      "\n",
      "24/24 [==============================] - 0s 913us/step - loss: 44.6114\n",
      "\n",
      "\n",
      "Testing model with learning rate: 0.010000\n",
      "\n",
      "24/24 [==============================] - 0s 913us/step - loss: 3.4827\n",
      "\n",
      "\n",
      "Testing model with learning rate: 1.000000\n",
      "\n",
      "24/24 [==============================] - 0s 914us/step - loss: 8.1685\n"
     ]
    }
   ],
   "source": [
    "# Create list of learning rates: lr_to_test\n",
    "lr_to_test = [.000001, 0.01, 1]\n",
    "\n",
    "# Loop over learning rates\n",
    "for lr in lr_to_test:\n",
    "    print('\\n\\nTesting model with learning rate: %f\\n'%lr )\n",
    "    \n",
    "    # Build new model to test, unaffected by previous models\n",
    "    model = get_model()\n",
    "    \n",
    "    # Create SGD optimizer with specified learning rate: my_optimizer\n",
    "    my_optimizer = Adam(learning_rate=lr)\n",
    "    \n",
    "    # Compile the model\n",
    "    model.compile(optimizer=my_optimizer, loss='binary_crossentropy')\n",
    "    \n",
    "    # Fit the model\n",
    "    model.fit(X, y)"
   ]
  },
  {
   "cell_type": "markdown",
   "metadata": {},
   "source": [
    "## Try Yourself\n",
    "Tune the Model. Change the configuration of the model or training process and see if you can improve the performance of the model, e.g., achieve better than 76% accuracy.\n",
    "Some hints:\n",
    "- Add layers\n",
    "- Find the optimal learning rate\n",
    "- ..."
   ]
  },
  {
   "cell_type": "code",
   "execution_count": 35,
   "metadata": {},
   "outputs": [],
   "source": [
    "# Write your code here\n",
    "\n",
    "#https://machinelearningmastery.com/improve-deep-learning-performance/\n",
    "\n",
    "\n"
   ]
  }
 ],
 "metadata": {
  "kernelspec": {
   "display_name": "Python 3 (ipykernel)",
   "language": "python",
   "name": "python3"
  },
  "language_info": {
   "codemirror_mode": {
    "name": "ipython",
    "version": 3
   },
   "file_extension": ".py",
   "mimetype": "text/x-python",
   "name": "python",
   "nbconvert_exporter": "python",
   "pygments_lexer": "ipython3",
   "version": "3.9.7"
  }
 },
 "nbformat": 4,
 "nbformat_minor": 2
}
