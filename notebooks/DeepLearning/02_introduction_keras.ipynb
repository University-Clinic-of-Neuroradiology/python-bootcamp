{
 "cells": [
  {
   "cell_type": "markdown",
   "metadata": {},
   "source": [
    "# Building deep learning models with keras\n",
    "You'll use the Keras library to build deep learning models for classification. By the end of the chapter, you'll have all the tools necessary to build deep neural networks.\n",
    "\n",
    "This demo is a jupyter notebook, i.e. intended to be run step by step.\n",
    "\n",
    "Author: Eric Einspänner\n",
    "<br>\n",
    "Contributor: Nastaran Takmilhomayouni\n",
    "\n",
    "First version: 6th of July 2023\n",
    "\n",
    "\n",
    "Copyright 2023 Clinic of Neuroradiology, Magdeburg, Germany\n",
    "\n",
    "License: Apache-2.0\n",
    "\n",
    "*This notebook is inspired by: https://machinelearningmastery.com/tutorial-first-neural-network-python-keras/*"
   ]
  },
  {
   "cell_type": "markdown",
   "metadata": {},
   "source": [
    "## Table Of Contents\n",
    "0. [Initial Set-Up for Google Colab](#initial-set-up-for-google-colab)\n",
    "1. [Initial Set-Up (offline)](#initial-set-up-offline)\n",
    "2. [Load Data](#Load-Data)\n",
    "    - [The Dataset](#The-Dataset)\n",
    "    - [Details](#Details)\n",
    "3. [Define Keras Model](#Define-Keras-Model)\n",
    "    - [Summarize model](#Summarize-Model)\n",
    "    - [Visualize model](#Visualize-Model)\n",
    "4. [Compile Keras Model](#Compile-Keras-Model)\n",
    "5. [Fit Keras Model](#Fit-Keras-Model)\n",
    "6. [Evaluate Keras Model](#Evaluate-Keras-Model)\n",
    "    - [Visualize Model Training History](#Visualize-Model-Training-History-in-Keras)\n",
    "7. [Save a Keras Model](#Save-a-Keras-Model)\n",
    "8. [Load a Keras Model](#Load-a-Keras-Model)\n",
    "9. [Make Predictions](#Make-Predictions)\n",
    "10. [Changing Optimization Parameters](#Changing-Optimization-Parameters)\n",
    "11. [Try Yourself](#Try-Yourself)"
   ]
  },
  {
   "cell_type": "markdown",
   "metadata": {},
   "source": [
    "## Initial Set-Up for Google Colab\n",
    "<u> Execute these code blocks just in Google Colab! </u>"
   ]
  },
  {
   "cell_type": "code",
   "execution_count": null,
   "metadata": {},
   "outputs": [],
   "source": [
    "!git clone https://github.com/University-Clinic-of-Neuroradiology/python-bootcamp.git"
   ]
  },
  {
   "cell_type": "code",
   "execution_count": null,
   "metadata": {},
   "outputs": [],
   "source": [
    "import os\n",
    "import sys\n",
    "from google.colab import output\n",
    "output.enable_custom_widget_manager()\n",
    "\n",
    "sys.path.insert(0,'/content/python-bootcamp/notebooks/DeepLearning')\n",
    "os.chdir(sys.path[0])"
   ]
  },
  {
   "cell_type": "code",
   "execution_count": null,
   "metadata": {},
   "outputs": [],
   "source": [
    "%pip install -q ipympl numpy matplotlib tensorflow keras"
   ]
  },
  {
   "cell_type": "code",
   "execution_count": null,
   "metadata": {},
   "outputs": [],
   "source": [
    "import numpy as np\n",
    "import matplotlib.pyplot as plt\n",
    "\n",
    "from tensorflow.keras.models import Sequential\n",
    "from tensorflow.keras.layers import Dense\n",
    "from keras.utils import plot_model\n",
    "from tensorflow.keras.models import load_model\n",
    "from tensorflow.keras.optimizers import Adam"
   ]
  },
  {
   "cell_type": "markdown",
   "metadata": {},
   "source": [
    "## Initial Set-Up (offline)"
   ]
  },
  {
   "cell_type": "code",
   "execution_count": 18,
   "metadata": {},
   "outputs": [],
   "source": [
    "# Make sure figures appears inline and animations works\n",
    "# Edit this to \"\"%matplotlib notebook\" when using the \"classic\" jupyter notebook interface\n",
    "%matplotlib widget"
   ]
  },
  {
   "cell_type": "code",
   "execution_count": 19,
   "metadata": {},
   "outputs": [],
   "source": [
    "import numpy as np\n",
    "import matplotlib.pyplot as plt\n",
    "\n",
    "from tensorflow.keras.models import Sequential\n",
    "from tensorflow.keras.layers import Dense\n",
    "from keras.utils import plot_model\n",
    "from tensorflow.keras.models import load_model\n",
    "from tensorflow.keras.optimizers import Adam"
   ]
  },
  {
   "cell_type": "markdown",
   "metadata": {},
   "source": [
    "## --- Start notebook ---"
   ]
  },
  {
   "cell_type": "markdown",
   "metadata": {},
   "source": [
    "The following function `format_and_render_plot()` is just a simplify formatting method for the plots in this notebook."
   ]
  },
  {
   "cell_type": "code",
   "execution_count": 20,
   "metadata": {},
   "outputs": [],
   "source": [
    "def format_and_render_plot():\n",
    "    '''\n",
    "    Custom function to simplify common formatting operations for exercises. Operations include: \n",
    "    1. Turning off axis grids.\n",
    "    2. Calling `plt.tight_layout` to improve subplot spacing.\n",
    "    3. Calling `plt.show()` to render plot.\n",
    "    '''\n",
    "    fig = plt.gcf()\n",
    "    for ax in fig.axes:\n",
    "        ax.legend(loc='center right')\n",
    "    plt.show()"
   ]
  },
  {
   "cell_type": "markdown",
   "metadata": {},
   "source": [
    "## Load Data\n",
    "We will use the `NumPy` library to load the dataset and two classes from the Keras library to define the model."
   ]
  },
  {
   "cell_type": "markdown",
   "metadata": {},
   "source": [
    "### The Dataset\n",
    "In this Keras tutorial, we will use the Pima Indians onset of diabetes dataset. This is a standard machine learning dataset from the UCI Machine Learning repository. It describes patient medical record data for Pima Indians and whether they had an onset of diabetes within five years.\n",
    "\n",
    "As such, it is a binary classification problem (onset of diabetes as 1 or not as 0). All of the input variables that describe each patient are numerical. This makes it easy to use directly with neural networks that expect numerical input and output values and is an ideal choice for our first neural network in Keras.\n",
    "\n",
    "The dataset is available here:\n",
    "\n",
    "- [Dataset CSV File (pima-indians-diabetes.csv)](/notebooks/DeepLearning/Data/pima-indians-diabetes.csv)\n",
    "- [Dataset Details](/notebooks/DeepLearning/Data/details_pima-indians-diabetes.txt)"
   ]
  },
  {
   "cell_type": "code",
   "execution_count": 21,
   "metadata": {},
   "outputs": [
    {
     "name": "stdout",
     "output_type": "stream",
     "text": [
      "[[  6.    148.     72.    ...   0.627  50.      1.   ]\n",
      " [  1.     85.     66.    ...   0.351  31.      0.   ]\n",
      " [  8.    183.     64.    ...   0.672  32.      1.   ]\n",
      " ...\n",
      " [  5.    121.     72.    ...   0.245  30.      0.   ]\n",
      " [  1.    126.     60.    ...   0.349  47.      1.   ]\n",
      " [  1.     93.     70.    ...   0.315  23.      0.   ]]\n",
      "(768, 9)\n"
     ]
    }
   ],
   "source": [
    "data_path = 'Data/pima-indians-diabetes.csv'\n",
    "\n",
    "# load the dataset\n",
    "dataset = np.loadtxt(data_path, delimiter=',')\n",
    "print(dataset)\n",
    "print(np.shape(dataset))"
   ]
  },
  {
   "cell_type": "markdown",
   "metadata": {},
   "source": [
    "### Details\n",
    "There are eight input variables and one output variable (the last column). You will be learning a model to map rows of input variables (X) to an output variable (y), which is often summarized as *y = f(X)*.\n",
    "\n",
    "The variables can be summarized as follows:\n",
    "\n",
    "Input Variables (X):\n",
    "\n",
    "- Number of times pregnant\n",
    "- Plasma glucose concentration at 2 hours in an oral glucose tolerance test\n",
    "- Diastolic blood pressure (mm Hg)\n",
    "- Triceps skin fold thickness (mm)\n",
    "- 2-hour serum insulin (mu U/ml)\n",
    "- Body mass index (weight in kg/(height in m)^2)\n",
    "- Diabetes pedigree function\n",
    "- Age (years)\n",
    "\n",
    "Output Variables (y):\n",
    "\n",
    "- Class variable (0 or 1)\n",
    "\n",
    "Once the CSV file is loaded into memory, you can split the columns of data into input and output variables.\n",
    "\n",
    "The data will be stored in a 2D array where the first dimension is rows and the second dimension is columns, e.g., [rows, columns].\n",
    "\n",
    "You can split the array into two arrays by selecting subsets of columns using the standard NumPy slice operator or `:`. You can select the first eight columns from index 0 to index 7 via the slice 0:8. We can then select the output column (the 9th variable) via index 8."
   ]
  },
  {
   "cell_type": "code",
   "execution_count": 22,
   "metadata": {},
   "outputs": [
    {
     "name": "stdout",
     "output_type": "stream",
     "text": [
      "[1. 0. 1. 0. 1. 0. 1. 0. 1. 1. 0. 1. 0. 1. 1. 1. 1. 1. 0. 1. 0. 0. 1. 1.\n",
      " 1. 1. 1. 0. 0. 0. 0. 1. 0. 0. 0. 0. 0. 1. 1. 1. 0. 0. 0. 1. 0. 1. 0. 0.\n",
      " 1. 0. 0. 0. 0. 1. 0. 0. 1. 0. 0. 0. 0. 1. 0. 0. 1. 0. 1. 0. 0. 0. 1. 0.\n",
      " 1. 0. 0. 0. 0. 0. 1. 0. 0. 0. 0. 0. 1. 0. 0. 0. 1. 0. 0. 0. 0. 1. 0. 0.\n",
      " 0. 0. 0. 1. 1. 0. 0. 0. 0. 0. 0. 0. 0. 1. 1. 1. 0. 0. 1. 1. 1. 0. 0. 0.\n",
      " 1. 0. 0. 0. 1. 1. 0. 0. 1. 1. 1. 1. 1. 0. 0. 0. 0. 0. 0. 0. 0. 0. 0. 1.\n",
      " 0. 0. 0. 0. 0. 0. 0. 0. 1. 0. 1. 1. 0. 0. 0. 1. 0. 0. 0. 0. 1. 1. 0. 0.\n",
      " 0. 0. 1. 1. 0. 0. 0. 1. 0. 1. 0. 1. 0. 0. 0. 0. 0. 1. 1. 1. 1. 1. 0. 0.\n",
      " 1. 1. 0. 1. 0. 1. 1. 1. 0. 0. 0. 0. 0. 0. 1. 1. 0. 1. 0. 0. 0. 1. 1. 1.\n",
      " 1. 0. 1. 1. 1. 1. 0. 0. 0. 0. 0. 1. 0. 0. 1. 1. 0. 0. 0. 1. 1. 1. 1. 0.\n",
      " 0. 0. 1. 1. 0. 1. 0. 0. 0. 0. 0. 0. 0. 0. 1. 1. 0. 0. 0. 1. 0. 1. 0. 0.\n",
      " 1. 0. 1. 0. 0. 1. 1. 0. 0. 0. 0. 0. 1. 0. 0. 0. 1. 0. 0. 1. 1. 0. 0. 1.\n",
      " 0. 0. 0. 1. 1. 1. 0. 0. 1. 0. 1. 0. 1. 1. 0. 1. 0. 0. 1. 0. 1. 1. 0. 0.\n",
      " 1. 0. 1. 0. 0. 1. 0. 1. 0. 1. 1. 1. 0. 0. 1. 0. 1. 0. 0. 0. 1. 0. 0. 0.\n",
      " 0. 1. 1. 1. 0. 0. 0. 0. 0. 0. 0. 0. 0. 1. 0. 0. 0. 0. 0. 1. 1. 1. 0. 1.\n",
      " 1. 0. 0. 1. 0. 0. 1. 0. 0. 1. 1. 0. 0. 0. 0. 1. 0. 0. 1. 0. 0. 0. 0. 0.\n",
      " 0. 0. 1. 1. 1. 0. 0. 1. 0. 0. 1. 0. 0. 1. 0. 1. 1. 0. 1. 0. 1. 0. 1. 0.\n",
      " 1. 1. 0. 0. 0. 0. 1. 1. 0. 1. 0. 1. 0. 0. 0. 0. 1. 1. 0. 1. 0. 1. 0. 0.\n",
      " 0. 0. 0. 1. 0. 0. 0. 0. 1. 0. 0. 1. 1. 1. 0. 0. 1. 0. 0. 1. 0. 0. 0. 1.\n",
      " 0. 0. 1. 0. 0. 0. 0. 0. 0. 0. 0. 0. 1. 0. 0. 0. 0. 0. 0. 0. 1. 0. 0. 0.\n",
      " 1. 0. 0. 0. 1. 1. 0. 0. 0. 0. 0. 0. 0. 1. 0. 0. 0. 0. 1. 0. 0. 0. 1. 0.\n",
      " 0. 0. 1. 0. 0. 0. 1. 0. 0. 0. 0. 1. 1. 0. 0. 0. 0. 0. 0. 1. 0. 0. 0. 0.\n",
      " 0. 0. 0. 0. 0. 0. 0. 1. 0. 0. 0. 1. 1. 1. 1. 0. 0. 1. 1. 0. 0. 0. 0. 0.\n",
      " 0. 0. 0. 0. 0. 0. 0. 0. 1. 1. 0. 0. 0. 0. 0. 0. 0. 1. 0. 0. 0. 0. 0. 0.\n",
      " 0. 1. 0. 1. 1. 0. 0. 0. 1. 0. 1. 0. 1. 0. 1. 0. 1. 0. 0. 1. 0. 0. 1. 0.\n",
      " 0. 0. 0. 1. 1. 0. 1. 0. 0. 0. 0. 1. 1. 0. 1. 0. 0. 0. 1. 1. 0. 0. 0. 0.\n",
      " 0. 0. 0. 0. 0. 0. 1. 0. 0. 0. 0. 1. 0. 0. 1. 0. 0. 0. 1. 0. 0. 0. 1. 1.\n",
      " 1. 0. 0. 0. 0. 0. 0. 1. 0. 0. 0. 1. 0. 1. 1. 1. 1. 0. 1. 1. 0. 0. 0. 0.\n",
      " 0. 0. 0. 1. 1. 0. 1. 0. 0. 1. 0. 1. 0. 0. 0. 0. 0. 1. 0. 1. 0. 1. 0. 1.\n",
      " 1. 0. 0. 0. 0. 1. 1. 0. 0. 0. 1. 0. 1. 1. 0. 0. 1. 0. 0. 1. 1. 0. 0. 1.\n",
      " 0. 0. 1. 0. 0. 0. 0. 0. 0. 0. 1. 1. 1. 0. 0. 0. 0. 0. 0. 1. 1. 0. 0. 1.\n",
      " 0. 0. 1. 0. 1. 1. 1. 0. 0. 1. 1. 1. 0. 1. 0. 1. 0. 1. 0. 0. 0. 0. 1. 0.]\n",
      "768\n"
     ]
    }
   ],
   "source": [
    "# split into input (X) and output (y) variables\n",
    "X = dataset[:,0:8]\n",
    "y = dataset[:,8]\n",
    "print(y)\n",
    "print(len(y))"
   ]
  },
  {
   "cell_type": "markdown",
   "metadata": {},
   "source": [
    "## Define Keras Model\n",
    "Models in Keras are defined as a sequence of layers.\n",
    "\n",
    "We create a Sequential model and add layers one at a time until we are happy with our network architecture.\n",
    "\n",
    "The first thing to get right is to ensure the input layer has the correct number of input features. This can be specified when creating the first layer with the `input_shape` argument and setting it to (8,) for presenting the eight input variables as a vector.\n",
    "\n",
    "How do we know the number of layers and their types?\n",
    "\n",
    "This is a tricky question. There are heuristics that you can use, and often the best network structure is found through a process of trial and error experimentation (I explain more about this here). Generally, you need a network large enough to capture the structure of the problem.\n",
    "\n",
    "In this example, let’s use a fully-connected network structure with three layers.\n",
    "\n",
    "Fully connected layers are defined using the Dense class. You can specify the number of neurons or nodes in the layer as the first argument and the activation function using the activation argument.\n",
    "\n",
    "Also, you will use the rectified linear unit activation function referred to as ReLU on the first two layers and the Sigmoid function in the output layer.\n",
    "\n",
    "It used to be the case that Sigmoid and Tanh activation functions were preferred for all layers. These days, better performance is achieved using the ReLU activation function. Using a sigmoid on the output layer ensures your network output is between 0 and 1 and is easy to map to either a probability of class 1 or snap to a hard classification of either class with a default threshold of 0.5.\n",
    "\n",
    "You can piece it all together by adding each layer:\n",
    "\n",
    "The model expects rows of data with 8 variables (the `input_shape=(8,)` argument).\n",
    "- The first hidden layer has 12 nodes and uses the relu activation function.\n",
    "- The second hidden layer has 8 nodes and uses the relu activation function.\n",
    "- The output layer has one node and uses the sigmoid activation function."
   ]
  },
  {
   "cell_type": "code",
   "execution_count": 23,
   "metadata": {},
   "outputs": [],
   "source": [
    "# define the keras model\n",
    "def get_model():\n",
    "    model = Sequential()\n",
    "    model.add(Dense(12, input_shape=(8,), activation='relu'))\n",
    "    model.add(Dense(8, activation='relu'))\n",
    "    model.add(Dense(1, activation='sigmoid'))\n",
    "    return model"
   ]
  },
  {
   "cell_type": "markdown",
   "metadata": {},
   "source": [
    "### Summarize Model\n",
    "Keras provides a way to summarize a model.\n",
    "\n",
    "The summary is textual and includes information about:\n",
    "- The layers and their order in the model.\n",
    "- The output shape of each layer.\n",
    "- The number of parameters (weights) in each layer.\n",
    "- The total number of parameters (weights) in the model.\n",
    "- The summary can be created by calling the `summary()` function on the model that returns a string that in turn can be printed.\n"
   ]
  },
  {
   "cell_type": "code",
   "execution_count": 24,
   "metadata": {},
   "outputs": [
    {
     "name": "stdout",
     "output_type": "stream",
     "text": [
      "Model: \"sequential_5\"\n",
      "_________________________________________________________________\n",
      " Layer (type)                Output Shape              Param #   \n",
      "=================================================================\n",
      " dense_15 (Dense)            (None, 12)                108       \n",
      "                                                                 \n",
      " dense_16 (Dense)            (None, 8)                 104       \n",
      "                                                                 \n",
      " dense_17 (Dense)            (None, 1)                 9         \n",
      "                                                                 \n",
      "=================================================================\n",
      "Total params: 221\n",
      "Trainable params: 221\n",
      "Non-trainable params: 0\n",
      "_________________________________________________________________\n",
      "None\n"
     ]
    }
   ],
   "source": [
    "model = get_model()\n",
    "print(model.summary())"
   ]
  },
  {
   "cell_type": "markdown",
   "metadata": {},
   "source": [
    "### Visualize Model\n",
    "The summary is useful for simple models, but can be confusing for models that have multiple inputs or outputs.\n",
    "\n",
    "Keras also provides a function to create a plot of the network neural network graph that can make more complex models easier to understand.\n",
    "\n",
    "The `plot_model()` function in Keras will create a plot of your network. This function takes a few useful arguments:\n",
    "- model: (required) The model that you wish to plot.\n",
    "- to_file: (required) The name of the file to which to save the plot.\n",
    "- show_shapes: (optional, defaults to False) Whether or not to show the output shapes of each layer.\n",
    "- show_layer_names: (optional, defaults to True) Whether or not to show the name for each layer."
   ]
  },
  {
   "cell_type": "code",
   "execution_count": 25,
   "metadata": {},
   "outputs": [
    {
     "data": {
      "image/png": "[encoded data removed]",
      "text/plain": [
       "<IPython.core.display.Image object>"
      ]
     },
     "execution_count": 25,
     "metadata": {},
     "output_type": "execute_result"
    }
   ],
   "source": [
    "import graphviz\n",
    "import pydot\n",
    "plot_model(model, to_file='Images/model_plot.png', show_shapes=True, show_layer_names=True)"
   ]
  },
  {
   "cell_type": "markdown",
   "metadata": {},
   "source": [
    "## Compile Keras Model"
   ]
  },
  {
   "cell_type": "markdown",
   "metadata": {},
   "source": [
    "Now that the model is defined, you can compile it.\n",
    "\n",
    "Compiling the model uses the efficient numerical libraries under the covers (the so-called backend) such as Theano or TensorFlow. The backend automatically chooses the best way to represent the network for training and making predictions to run on your hardware, such as CPU, GPU, or even distributed.\n",
    "\n",
    "When compiling, you must specify some additional properties required when training the network. Remember training a network means finding the best set of weights to map inputs to outputs in your dataset.\n",
    "\n",
    "You must specify the loss function to use to evaluate a set of weights, the optimizer used to search through different weights for the network, and any optional metrics you want to collect and report during training.\n",
    "\n",
    "In this case, use cross entropy as the loss argument. This loss is for a binary classification problems and is defined in Keras as “binary_crossentropy“.\n",
    "\n",
    "We will define the optimizer as the efficient stochastic gradient descent algorithm “adam“. This is a popular version of gradient descent because it automatically tunes itself and gives good results in a wide range of problems.\n",
    "\n",
    "Finally, because it is a classification problem, you will collect and report the classification accuracy defined via the metrics argument."
   ]
  },
  {
   "cell_type": "code",
   "execution_count": 26,
   "metadata": {},
   "outputs": [],
   "source": [
    "# compile the keras model\n",
    "model.compile(loss='binary_crossentropy', optimizer='adam', metrics=['accuracy'])"
   ]
  },
  {
   "cell_type": "markdown",
   "metadata": {},
   "source": [
    "## Fit Keras Model\n",
    "ou have defined your model and compiled it to get ready for efficient computation.\n",
    "\n",
    "Now it is time to execute the model on some data.\n",
    "\n",
    "You can train or fit your model on your loaded data by calling the fit() function on the model.\n",
    "\n",
    "Training occurs over epochs, and each epoch is split into batches.\n",
    "- Epoch: One pass through all of the rows in the training dataset\n",
    "- Batch: One or more samples considered by the model within an epoch before weights are updated\n",
    "\n",
    "One epoch comprises one or more batches, based on the chosen batch size, and the model is fit for many epochs.\n",
    "\n",
    "The training process will run for a fixed number of epochs (iterations) through the dataset that you must specify using the epochs argument. You must also set the number of dataset rows that are considered before the model weights are updated within each epoch, called the batch size, and set using the `batch_size` argument.\n",
    "\n",
    "This problem will run for a small number of epochs (150) and use a relatively small batch size of 10.\n",
    "\n",
    "These configurations can be chosen experimentally by trial and error. You want to train the model enough so that it learns a good (or good enough) mapping of rows of input data to the output classification. The model will always have some error, but the amount of error will level out after some point for a given model configuration. This is called model convergence."
   ]
  },
  {
   "cell_type": "code",
   "execution_count": 27,
   "metadata": {},
   "outputs": [
    {
     "name": "stdout",
     "output_type": "stream",
     "text": [
      "Epoch 1/150\n",
      "77/77 [==============================] - 0s 864us/step - loss: 4.6129 - accuracy: 0.6120\n",
      "Epoch 2/150\n",
      "77/77 [==============================] - 0s 829us/step - loss: 2.2488 - accuracy: 0.6445\n",
      "Epoch 3/150\n",
      "77/77 [==============================] - 0s 794us/step - loss: 1.6138 - accuracy: 0.6198\n",
      "Epoch 4/150\n",
      "77/77 [==============================] - 0s 836us/step - loss: 1.3128 - accuracy: 0.5898\n",
      "Epoch 5/150\n",
      "77/77 [==============================] - 0s 842us/step - loss: 1.1211 - accuracy: 0.6354\n",
      "Epoch 6/150\n",
      "77/77 [==============================] - 0s 843us/step - loss: 1.0383 - accuracy: 0.6445\n",
      "Epoch 7/150\n",
      "77/77 [==============================] - 0s 832us/step - loss: 0.9952 - accuracy: 0.6263\n",
      "Epoch 8/150\n",
      "77/77 [==============================] - 0s 829us/step - loss: 0.8836 - accuracy: 0.6419\n",
      "Epoch 9/150\n",
      "77/77 [==============================] - 0s 823us/step - loss: 0.8373 - accuracy: 0.6654\n",
      "Epoch 10/150\n",
      "77/77 [==============================] - 0s 823us/step - loss: 0.8319 - accuracy: 0.6510\n",
      "Epoch 11/150\n",
      "77/77 [==============================] - 0s 829us/step - loss: 0.7827 - accuracy: 0.6888\n",
      "Epoch 12/150\n",
      "77/77 [==============================] - 0s 856us/step - loss: 0.7841 - accuracy: 0.6628\n",
      "Epoch 13/150\n",
      "77/77 [==============================] - 0s 809us/step - loss: 0.7004 - accuracy: 0.6979\n",
      "Epoch 14/150\n",
      "77/77 [==============================] - 0s 816us/step - loss: 0.6904 - accuracy: 0.6888\n",
      "Epoch 15/150\n",
      "77/77 [==============================] - 0s 810us/step - loss: 0.7120 - accuracy: 0.6823\n",
      "Epoch 16/150\n",
      "77/77 [==============================] - 0s 816us/step - loss: 0.6890 - accuracy: 0.6862\n",
      "Epoch 17/150\n",
      "77/77 [==============================] - 0s 803us/step - loss: 0.6869 - accuracy: 0.6654\n",
      "Epoch 18/150\n",
      "77/77 [==============================] - 0s 782us/step - loss: 0.6306 - accuracy: 0.7057\n",
      "Epoch 19/150\n",
      "77/77 [==============================] - 0s 803us/step - loss: 0.6668 - accuracy: 0.6862\n",
      "Epoch 20/150\n",
      "77/77 [==============================] - 0s 796us/step - loss: 0.6876 - accuracy: 0.6888\n",
      "Epoch 21/150\n",
      "77/77 [==============================] - 0s 796us/step - loss: 0.6509 - accuracy: 0.6914\n",
      "Epoch 22/150\n",
      "77/77 [==============================] - 0s 789us/step - loss: 0.6288 - accuracy: 0.7005\n",
      "Epoch 23/150\n",
      "77/77 [==============================] - 0s 809us/step - loss: 0.5970 - accuracy: 0.7122\n",
      "Epoch 24/150\n",
      "77/77 [==============================] - 0s 834us/step - loss: 0.6175 - accuracy: 0.6966\n",
      "Epoch 25/150\n",
      "77/77 [==============================] - 0s 816us/step - loss: 0.6699 - accuracy: 0.6836\n",
      "Epoch 26/150\n",
      "77/77 [==============================] - 0s 783us/step - loss: 0.5951 - accuracy: 0.6979\n",
      "Epoch 27/150\n",
      "77/77 [==============================] - 0s 795us/step - loss: 0.6148 - accuracy: 0.6979\n",
      "Epoch 28/150\n",
      "77/77 [==============================] - 0s 789us/step - loss: 0.5901 - accuracy: 0.7044\n",
      "Epoch 29/150\n",
      "77/77 [==============================] - 0s 796us/step - loss: 0.5832 - accuracy: 0.7292\n",
      "Epoch 30/150\n",
      "77/77 [==============================] - 0s 789us/step - loss: 0.6053 - accuracy: 0.7031\n",
      "Epoch 31/150\n",
      "77/77 [==============================] - 0s 830us/step - loss: 0.6118 - accuracy: 0.7031\n",
      "Epoch 32/150\n",
      "77/77 [==============================] - 0s 796us/step - loss: 0.5911 - accuracy: 0.7044\n",
      "Epoch 33/150\n",
      "77/77 [==============================] - 0s 825us/step - loss: 0.5988 - accuracy: 0.6992\n",
      "Epoch 34/150\n",
      "77/77 [==============================] - 0s 790us/step - loss: 0.5798 - accuracy: 0.7109\n",
      "Epoch 35/150\n",
      "77/77 [==============================] - 0s 821us/step - loss: 0.5853 - accuracy: 0.7188\n",
      "Epoch 36/150\n",
      "77/77 [==============================] - 0s 882us/step - loss: 0.5780 - accuracy: 0.7279\n",
      "Epoch 37/150\n",
      "77/77 [==============================] - 0s 968us/step - loss: 0.6143 - accuracy: 0.7057\n",
      "Epoch 38/150\n",
      "77/77 [==============================] - 0s 940us/step - loss: 0.5814 - accuracy: 0.7279\n",
      "Epoch 39/150\n",
      "77/77 [==============================] - 0s 862us/step - loss: 0.5984 - accuracy: 0.7109\n",
      "Epoch 40/150\n",
      "77/77 [==============================] - 0s 816us/step - loss: 0.6230 - accuracy: 0.6927\n",
      "Epoch 41/150\n",
      "77/77 [==============================] - 0s 805us/step - loss: 0.6039 - accuracy: 0.7148\n",
      "Epoch 42/150\n",
      "77/77 [==============================] - 0s 803us/step - loss: 0.5814 - accuracy: 0.7357\n",
      "Epoch 43/150\n",
      "77/77 [==============================] - 0s 803us/step - loss: 0.6082 - accuracy: 0.7122\n",
      "Epoch 44/150\n",
      "77/77 [==============================] - 0s 809us/step - loss: 0.5606 - accuracy: 0.7357\n",
      "Epoch 45/150\n",
      "77/77 [==============================] - 0s 829us/step - loss: 0.5649 - accuracy: 0.7344\n",
      "Epoch 46/150\n",
      "77/77 [==============================] - 0s 809us/step - loss: 0.5667 - accuracy: 0.7266\n",
      "Epoch 47/150\n",
      "77/77 [==============================] - 0s 795us/step - loss: 0.5832 - accuracy: 0.7161\n",
      "Epoch 48/150\n",
      "77/77 [==============================] - 0s 803us/step - loss: 0.6093 - accuracy: 0.7174\n",
      "Epoch 49/150\n",
      "77/77 [==============================] - 0s 809us/step - loss: 0.5871 - accuracy: 0.7357\n",
      "Epoch 50/150\n",
      "77/77 [==============================] - 0s 803us/step - loss: 0.5797 - accuracy: 0.7331\n",
      "Epoch 51/150\n",
      "77/77 [==============================] - 0s 803us/step - loss: 0.6027 - accuracy: 0.7201\n",
      "Epoch 52/150\n",
      "77/77 [==============================] - 0s 803us/step - loss: 0.5702 - accuracy: 0.7318\n",
      "Epoch 53/150\n",
      "77/77 [==============================] - 0s 821us/step - loss: 0.5513 - accuracy: 0.7331\n",
      "Epoch 54/150\n",
      "77/77 [==============================] - 0s 763us/step - loss: 0.5562 - accuracy: 0.7344\n",
      "Epoch 55/150\n",
      "77/77 [==============================] - 0s 757us/step - loss: 0.5714 - accuracy: 0.7344\n",
      "Epoch 56/150\n",
      "77/77 [==============================] - 0s 763us/step - loss: 0.5568 - accuracy: 0.7135\n",
      "Epoch 57/150\n",
      "77/77 [==============================] - 0s 751us/step - loss: 0.5686 - accuracy: 0.7240\n",
      "Epoch 58/150\n",
      "77/77 [==============================] - 0s 764us/step - loss: 0.5704 - accuracy: 0.7240\n",
      "Epoch 59/150\n",
      "77/77 [==============================] - 0s 763us/step - loss: 0.5291 - accuracy: 0.7552\n",
      "Epoch 60/150\n",
      "77/77 [==============================] - 0s 770us/step - loss: 0.5308 - accuracy: 0.7435\n",
      "Epoch 61/150\n",
      "77/77 [==============================] - 0s 776us/step - loss: 0.5434 - accuracy: 0.7331\n",
      "Epoch 62/150\n",
      "77/77 [==============================] - 0s 770us/step - loss: 0.5289 - accuracy: 0.7253\n",
      "Epoch 63/150\n",
      "77/77 [==============================] - 0s 770us/step - loss: 0.5715 - accuracy: 0.7096\n",
      "Epoch 64/150\n",
      "77/77 [==============================] - 0s 776us/step - loss: 0.5234 - accuracy: 0.7396\n",
      "Epoch 65/150\n",
      "77/77 [==============================] - 0s 757us/step - loss: 0.5286 - accuracy: 0.7526\n",
      "Epoch 66/150\n",
      "77/77 [==============================] - 0s 790us/step - loss: 0.5575 - accuracy: 0.7305\n",
      "Epoch 67/150\n",
      "77/77 [==============================] - 0s 789us/step - loss: 0.5709 - accuracy: 0.7135\n",
      "Epoch 68/150\n",
      "77/77 [==============================] - 0s 783us/step - loss: 0.5500 - accuracy: 0.7448\n",
      "Epoch 69/150\n",
      "77/77 [==============================] - 0s 790us/step - loss: 0.5328 - accuracy: 0.7500\n",
      "Epoch 70/150\n",
      "77/77 [==============================] - 0s 782us/step - loss: 0.5541 - accuracy: 0.7448\n",
      "Epoch 71/150\n",
      "77/77 [==============================] - 0s 783us/step - loss: 0.5148 - accuracy: 0.7617\n",
      "Epoch 72/150\n",
      "77/77 [==============================] - 0s 750us/step - loss: 0.5154 - accuracy: 0.7487\n",
      "Epoch 73/150\n",
      "77/77 [==============================] - 0s 764us/step - loss: 0.5300 - accuracy: 0.7474\n",
      "Epoch 74/150\n",
      "77/77 [==============================] - 0s 759us/step - loss: 0.5351 - accuracy: 0.7344\n",
      "Epoch 75/150\n",
      "77/77 [==============================] - 0s 757us/step - loss: 0.5406 - accuracy: 0.7539\n",
      "Epoch 76/150\n",
      "77/77 [==============================] - 0s 778us/step - loss: 0.5297 - accuracy: 0.7409\n",
      "Epoch 77/150\n",
      "77/77 [==============================] - 0s 763us/step - loss: 0.5551 - accuracy: 0.7474\n",
      "Epoch 78/150\n",
      "77/77 [==============================] - 0s 767us/step - loss: 0.5306 - accuracy: 0.7357\n",
      "Epoch 79/150\n",
      "77/77 [==============================] - 0s 763us/step - loss: 0.5564 - accuracy: 0.7435\n",
      "Epoch 80/150\n",
      "77/77 [==============================] - 0s 750us/step - loss: 0.5228 - accuracy: 0.7591\n",
      "Epoch 81/150\n",
      "77/77 [==============================] - 0s 770us/step - loss: 0.5385 - accuracy: 0.7435\n",
      "Epoch 82/150\n",
      "77/77 [==============================] - 0s 750us/step - loss: 0.5288 - accuracy: 0.7474\n",
      "Epoch 83/150\n",
      "77/77 [==============================] - 0s 770us/step - loss: 0.5234 - accuracy: 0.7461\n",
      "Epoch 84/150\n",
      "77/77 [==============================] - 0s 764us/step - loss: 0.5112 - accuracy: 0.7487\n",
      "Epoch 85/150\n",
      "77/77 [==============================] - 0s 763us/step - loss: 0.5331 - accuracy: 0.7448\n",
      "Epoch 86/150\n",
      "77/77 [==============================] - 0s 756us/step - loss: 0.5419 - accuracy: 0.7396\n",
      "Epoch 87/150\n",
      "77/77 [==============================] - 0s 750us/step - loss: 0.5126 - accuracy: 0.7643\n",
      "Epoch 88/150\n",
      "77/77 [==============================] - 0s 757us/step - loss: 0.5049 - accuracy: 0.7552\n",
      "Epoch 89/150\n",
      "77/77 [==============================] - 0s 755us/step - loss: 0.5171 - accuracy: 0.7617\n",
      "Epoch 90/150\n",
      "77/77 [==============================] - 0s 763us/step - loss: 0.5160 - accuracy: 0.7435\n",
      "Epoch 91/150\n",
      "77/77 [==============================] - 0s 759us/step - loss: 0.5319 - accuracy: 0.7344\n",
      "Epoch 92/150\n",
      "77/77 [==============================] - 0s 776us/step - loss: 0.5363 - accuracy: 0.7526\n",
      "Epoch 93/150\n",
      "77/77 [==============================] - 0s 779us/step - loss: 0.5299 - accuracy: 0.7409\n",
      "Epoch 94/150\n",
      "77/77 [==============================] - 0s 777us/step - loss: 0.5245 - accuracy: 0.7474\n",
      "Epoch 95/150\n",
      "77/77 [==============================] - 0s 763us/step - loss: 0.5334 - accuracy: 0.7461\n",
      "Epoch 96/150\n",
      "77/77 [==============================] - 0s 783us/step - loss: 0.4984 - accuracy: 0.7630\n",
      "Epoch 97/150\n",
      "77/77 [==============================] - 0s 776us/step - loss: 0.5295 - accuracy: 0.7526\n",
      "Epoch 98/150\n",
      "77/77 [==============================] - 0s 770us/step - loss: 0.4943 - accuracy: 0.7773\n",
      "Epoch 99/150\n",
      "77/77 [==============================] - 0s 778us/step - loss: 0.5121 - accuracy: 0.7669\n",
      "Epoch 100/150\n",
      "77/77 [==============================] - 0s 763us/step - loss: 0.5168 - accuracy: 0.7500\n",
      "Epoch 101/150\n",
      "77/77 [==============================] - 0s 757us/step - loss: 0.5009 - accuracy: 0.7500\n",
      "Epoch 102/150\n",
      "77/77 [==============================] - 0s 770us/step - loss: 0.5444 - accuracy: 0.7448\n",
      "Epoch 103/150\n",
      "77/77 [==============================] - 0s 763us/step - loss: 0.5114 - accuracy: 0.7526\n",
      "Epoch 104/150\n",
      "77/77 [==============================] - 0s 753us/step - loss: 0.5083 - accuracy: 0.7591\n",
      "Epoch 105/150\n",
      "77/77 [==============================] - 0s 750us/step - loss: 0.4918 - accuracy: 0.7760\n",
      "Epoch 106/150\n",
      "77/77 [==============================] - 0s 757us/step - loss: 0.5102 - accuracy: 0.7591\n",
      "Epoch 107/150\n",
      "77/77 [==============================] - 0s 757us/step - loss: 0.5067 - accuracy: 0.7682\n",
      "Epoch 108/150\n",
      "77/77 [==============================] - 0s 763us/step - loss: 0.5845 - accuracy: 0.7422\n",
      "Epoch 109/150\n",
      "77/77 [==============================] - 0s 766us/step - loss: 0.5244 - accuracy: 0.7500\n",
      "Epoch 110/150\n",
      "77/77 [==============================] - 0s 763us/step - loss: 0.5524 - accuracy: 0.7396\n",
      "Epoch 111/150\n",
      "77/77 [==============================] - 0s 783us/step - loss: 0.5201 - accuracy: 0.7695\n",
      "Epoch 112/150\n",
      "77/77 [==============================] - 0s 796us/step - loss: 0.4937 - accuracy: 0.7604\n",
      "Epoch 113/150\n",
      "77/77 [==============================] - 0s 816us/step - loss: 0.5238 - accuracy: 0.7461\n",
      "Epoch 114/150\n",
      "77/77 [==============================] - 0s 768us/step - loss: 0.5134 - accuracy: 0.7539\n",
      "Epoch 115/150\n",
      "77/77 [==============================] - 0s 750us/step - loss: 0.4952 - accuracy: 0.7643\n",
      "Epoch 116/150\n",
      "77/77 [==============================] - 0s 750us/step - loss: 0.5004 - accuracy: 0.7604\n",
      "Epoch 117/150\n",
      "77/77 [==============================] - 0s 764us/step - loss: 0.5141 - accuracy: 0.7318\n",
      "Epoch 118/150\n",
      "77/77 [==============================] - 0s 763us/step - loss: 0.5072 - accuracy: 0.7513\n",
      "Epoch 119/150\n",
      "77/77 [==============================] - 0s 756us/step - loss: 0.5151 - accuracy: 0.7552\n",
      "Epoch 120/150\n",
      "77/77 [==============================] - 0s 750us/step - loss: 0.5138 - accuracy: 0.7539\n",
      "Epoch 121/150\n",
      "77/77 [==============================] - 0s 776us/step - loss: 0.5140 - accuracy: 0.7617\n",
      "Epoch 122/150\n",
      "77/77 [==============================] - 0s 764us/step - loss: 0.4859 - accuracy: 0.7695\n",
      "Epoch 123/150\n",
      "77/77 [==============================] - 0s 763us/step - loss: 0.4879 - accuracy: 0.7630\n",
      "Epoch 124/150\n",
      "77/77 [==============================] - 0s 744us/step - loss: 0.4935 - accuracy: 0.7708\n",
      "Epoch 125/150\n",
      "77/77 [==============================] - 0s 744us/step - loss: 0.5051 - accuracy: 0.7539\n",
      "Epoch 126/150\n",
      "77/77 [==============================] - 0s 763us/step - loss: 0.4903 - accuracy: 0.7604\n",
      "Epoch 127/150\n",
      "77/77 [==============================] - 0s 779us/step - loss: 0.5204 - accuracy: 0.7448\n",
      "Epoch 128/150\n",
      "77/77 [==============================] - 0s 750us/step - loss: 0.5350 - accuracy: 0.7422\n",
      "Epoch 129/150\n",
      "77/77 [==============================] - 0s 757us/step - loss: 0.4981 - accuracy: 0.7617\n",
      "Epoch 130/150\n",
      "77/77 [==============================] - 0s 757us/step - loss: 0.4853 - accuracy: 0.7721\n",
      "Epoch 131/150\n",
      "77/77 [==============================] - 0s 763us/step - loss: 0.4924 - accuracy: 0.7695\n",
      "Epoch 132/150\n",
      "77/77 [==============================] - 0s 756us/step - loss: 0.5101 - accuracy: 0.7643\n",
      "Epoch 133/150\n",
      "77/77 [==============================] - 0s 750us/step - loss: 0.5168 - accuracy: 0.7500\n",
      "Epoch 134/150\n",
      "77/77 [==============================] - 0s 757us/step - loss: 0.5017 - accuracy: 0.7539\n",
      "Epoch 135/150\n",
      "77/77 [==============================] - 0s 764us/step - loss: 0.5022 - accuracy: 0.7539\n",
      "Epoch 136/150\n",
      "77/77 [==============================] - 0s 763us/step - loss: 0.4848 - accuracy: 0.7617\n",
      "Epoch 137/150\n",
      "77/77 [==============================] - 0s 757us/step - loss: 0.5004 - accuracy: 0.7604\n",
      "Epoch 138/150\n",
      "77/77 [==============================] - 0s 776us/step - loss: 0.4965 - accuracy: 0.7669\n",
      "Epoch 139/150\n",
      "77/77 [==============================] - 0s 757us/step - loss: 0.5249 - accuracy: 0.7383\n",
      "Epoch 140/150\n",
      "77/77 [==============================] - 0s 764us/step - loss: 0.4923 - accuracy: 0.7682\n",
      "Epoch 141/150\n",
      "77/77 [==============================] - 0s 763us/step - loss: 0.4966 - accuracy: 0.7539\n",
      "Epoch 142/150\n",
      "77/77 [==============================] - 0s 777us/step - loss: 0.4922 - accuracy: 0.7526\n",
      "Epoch 143/150\n",
      "77/77 [==============================] - 0s 750us/step - loss: 0.4926 - accuracy: 0.7630\n",
      "Epoch 144/150\n",
      "77/77 [==============================] - 0s 769us/step - loss: 0.4784 - accuracy: 0.7643\n",
      "Epoch 145/150\n",
      "77/77 [==============================] - 0s 757us/step - loss: 0.4888 - accuracy: 0.7695\n",
      "Epoch 146/150\n",
      "77/77 [==============================] - 0s 763us/step - loss: 0.4868 - accuracy: 0.7617\n",
      "Epoch 147/150\n",
      "77/77 [==============================] - 0s 744us/step - loss: 0.4899 - accuracy: 0.7591\n",
      "Epoch 148/150\n",
      "77/77 [==============================] - 0s 776us/step - loss: 0.4860 - accuracy: 0.7656\n",
      "Epoch 149/150\n",
      "77/77 [==============================] - 0s 757us/step - loss: 0.4729 - accuracy: 0.7708\n",
      "Epoch 150/150\n",
      "77/77 [==============================] - 0s 752us/step - loss: 0.4841 - accuracy: 0.7643\n"
     ]
    },
    {
     "data": {
      "text/plain": [
       "<keras.callbacks.History at 0x24a25fabc70>"
      ]
     },
     "execution_count": 27,
     "metadata": {},
     "output_type": "execute_result"
    }
   ],
   "source": [
    "# fit the keras model on the dataset\n",
    "model.fit(X, y, epochs=150, batch_size=10)"
   ]
  },
  {
   "cell_type": "markdown",
   "metadata": {},
   "source": [
    "## Evaluate Keras Model\n",
    "You have trained our neural network on the entire dataset, and you can evaluate the performance of the network on the same dataset.\n",
    "\n",
    "This will only give you an idea of how well you have modeled the dataset (e.g., train accuracy), but no idea of how well the algorithm might perform on new data. This was done for simplicity, but ideally, you could separate your data into train and test datasets for training and evaluation of your model.\n",
    "\n",
    "You can evaluate your model on your training dataset using the `evaluate()` function and pass it the same input and output used to train the model.\n",
    "\n",
    "This will generate a prediction for each input and output pair and collect scores, including the average loss and any metrics you have configured, such as accuracy.\n",
    "\n",
    "The `evaluate()` function will return a list with two values. The first will be the loss of the model on the dataset, and the second will be the accuracy of the model on the dataset."
   ]
  },
  {
   "cell_type": "code",
   "execution_count": 28,
   "metadata": {},
   "outputs": [
    {
     "name": "stdout",
     "output_type": "stream",
     "text": [
      "24/24 [==============================] - 0s 837us/step - loss: 0.4765 - accuracy: 0.7669\n",
      "Accuracy: 0.77\n",
      "Loss: 0.48\n"
     ]
    }
   ],
   "source": [
    "# evaluate the keras model\n",
    "scores = model.evaluate(X, y)\n",
    "print('Accuracy: %.2f' % (scores[1]))\n",
    "print('Loss: %.2f' % (scores[0]))"
   ]
  },
  {
   "cell_type": "markdown",
   "metadata": {},
   "source": [
    "### Visualize Model Training History in Keras\n",
    "Keras provides the capability to register callbacks when training a deep learning model.\n",
    "\n",
    "One of the default callbacks registered when training all deep learning models is the History callback. It records training metrics for each epoch. This includes the loss and the accuracy (for classification problems) and the loss and accuracy for the validation dataset if one is set.\n",
    "\n",
    "The history object is returned from calls to the fit() function used to train the model. Metrics are stored in a dictionary in the history member of the object returned.\n",
    "\n",
    "The example collects the history returned from training the model and creates two charts:\n",
    "- A plot of accuracy on the training and validation datasets over training epochs\n",
    "- A plot of loss on the training and validation datasets over training epochs\n",
    "\n",
    "*One more thing:*\n",
    "\n",
    "With the `validation_split` option it is possible to split our data into two different datasets: one for training and the other for validation."
   ]
  },
  {
   "cell_type": "code",
   "execution_count": 29,
   "metadata": {},
   "outputs": [
    {
     "name": "stdout",
     "output_type": "stream",
     "text": [
      "dict_keys(['loss', 'accuracy', 'val_loss', 'val_accuracy'])\n"
     ]
    }
   ],
   "source": [
    "model = get_model()\n",
    "model.compile(loss='binary_crossentropy', optimizer='adam', metrics=['accuracy'])\n",
    "\n",
    "# Fit the model\n",
    "history = model.fit(X, y, validation_split=0.33, epochs=150, batch_size=10, verbose=0)\n",
    "\n",
    "# list all data in history\n",
    "print(history.history.keys())"
   ]
  },
  {
   "cell_type": "code",
   "execution_count": 30,
   "metadata": {},
   "outputs": [
    {
     "data": {
      "application/vnd.jupyter.widget-view+json": {
       "model_id": "7aafbed234c64782b0461db4d385c07b",
       "version_major": 2,
       "version_minor": 0
      },
      "image/png": "[encoded data removed]",
      "text/html": [
       "\n",
       "            <div style=\"display: inline-block;\">\n",
       "                <div class=\"jupyter-widgets widget-label\" style=\"text-align: center;\">\n",
       "                    Figure\n",
       "                </div>\n",
       "                <img src='data:image/png;base64,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' width=640.0/>\n",
       "            </div>\n",
       "        "
      ],
      "text/plain": [
       "Canvas(toolbar=Toolbar(toolitems=[('Home', 'Reset original view', 'home', 'home'), ('Back', 'Back to previous …"
      ]
     },
     "metadata": {},
     "output_type": "display_data"
    }
   ],
   "source": [
    "# summarize history for accuracy and loss\n",
    "fig, axes = plt.subplots(2, 1, sharex=True)\n",
    "axes[0].plot(history.history['accuracy'], label='accuracy')\n",
    "axes[0].plot(history.history['val_accuracy'], label='val_accuracy')\n",
    "axes[0].set_title('model accuracy', fontweight =\"bold\")\n",
    "axes[0].set_ylabel('accuracy')\n",
    "axes[0].set_ylim([0, 1])\n",
    "\n",
    "axes[1].plot(history.history['loss'], label='loss')\n",
    "axes[1].plot(history.history['val_loss'], label='val_loss')\n",
    "axes[1].set_title('model loss', fontweight =\"bold\")\n",
    "axes[1].set_ylabel('val_loss')\n",
    "axes[1].set_xlabel('epoch')\n",
    "axes[1].set_ylim([0, max(history.history['loss'])])\n",
    "format_and_render_plot()"
   ]
  },
  {
   "cell_type": "markdown",
   "metadata": {},
   "source": [
    "The plots can provide an indication of useful things about the training of the model, such as:\n",
    "- Its speed of convergence over epochs (slope)\n",
    "- Whether the model may have already converged (plateau of the line)\n",
    "- Whether the mode may be over-learning the training data (inflection for validation line)"
   ]
  },
  {
   "cell_type": "markdown",
   "metadata": {},
   "source": [
    "## Save a Keras Model\n",
    "You can save your model by calling the save() function on the model and specifying the filename."
   ]
  },
  {
   "cell_type": "code",
   "execution_count": 31,
   "metadata": {},
   "outputs": [
    {
     "name": "stdout",
     "output_type": "stream",
     "text": [
      "Saved model to disk\n"
     ]
    }
   ],
   "source": [
    "# save model and architecture to single file\n",
    "model.save(\"model.h5\")\n",
    "print(\"Saved model to disk\")"
   ]
  },
  {
   "cell_type": "markdown",
   "metadata": {},
   "source": [
    "## Load a Keras Model\n",
    "Your saved model can then be loaded later by calling the load_model() function and passing the filename. The function returns the model with the same architecture and weights."
   ]
  },
  {
   "cell_type": "code",
   "execution_count": 32,
   "metadata": {},
   "outputs": [
    {
     "name": "stdout",
     "output_type": "stream",
     "text": [
      "Model: \"sequential_6\"\n",
      "_________________________________________________________________\n",
      " Layer (type)                Output Shape              Param #   \n",
      "=================================================================\n",
      " dense_18 (Dense)            (None, 12)                108       \n",
      "                                                                 \n",
      " dense_19 (Dense)            (None, 8)                 104       \n",
      "                                                                 \n",
      " dense_20 (Dense)            (None, 1)                 9         \n",
      "                                                                 \n",
      "=================================================================\n",
      "Total params: 221\n",
      "Trainable params: 221\n",
      "Non-trainable params: 0\n",
      "_________________________________________________________________\n",
      "accuracy: 74.87%\n"
     ]
    }
   ],
   "source": [
    "# load model\n",
    "model = load_model('model.h5')\n",
    "# summarize model.\n",
    "model.summary()\n",
    "\n",
    "# evaluate the model\n",
    "score = model.evaluate(X, y, verbose=0)\n",
    "print(\"%s: %.2f%%\" % (model.metrics_names[1], score[1]*100))"
   ]
  },
  {
   "cell_type": "markdown",
   "metadata": {},
   "source": [
    "## Make Predictions\n",
    "The number one question I get asked is: *After I train my model, how can I use it to make predictions on new data?*\n",
    "\n",
    "You can adapt the above example and use it to generate predictions on the training dataset, pretending it is a new dataset you have not seen before.\n",
    "\n",
    "Making predictions is as easy as calling the `predict()` function on the model. You are using a sigmoid activation function on the output layer, so the predictions will be a probability in the range between 0 and 1. You can easily convert them into a crisp binary prediction for this classification task by rounding them."
   ]
  },
  {
   "cell_type": "code",
   "execution_count": 33,
   "metadata": {},
   "outputs": [
    {
     "name": "stdout",
     "output_type": "stream",
     "text": [
      "24/24 [==============================] - 0s 743us/step\n",
      "[6.0, 148.0, 72.0, 35.0, 0.0, 33.6, 0.627, 50.0] => 0 (expected 1)\n",
      "[1.0, 85.0, 66.0, 29.0, 0.0, 26.6, 0.351, 31.0] => 0 (expected 0)\n",
      "[8.0, 183.0, 64.0, 0.0, 0.0, 23.3, 0.672, 32.0] => 1 (expected 1)\n",
      "[1.0, 89.0, 66.0, 23.0, 94.0, 28.1, 0.167, 21.0] => 0 (expected 0)\n",
      "[0.0, 137.0, 40.0, 35.0, 168.0, 43.1, 2.288, 33.0] => 1 (expected 1)\n"
     ]
    }
   ],
   "source": [
    "# make probability predictions with the model\n",
    "predictions = (model.predict(X) > 0.5).astype(int)\n",
    "\n",
    "# summarize the first 5 cases\n",
    "for i in range(5):\n",
    "    print('%s => %d (expected %d)' % (X[i].tolist(), predictions[i], y[i]))"
   ]
  },
  {
   "cell_type": "markdown",
   "metadata": {},
   "source": [
    "## Changing Optimization Parameters\n",
    "We'll now try optimizing a model at different learning rates. You'll want to look at the results after running this exercise, remembering that a low value for the loss function is good."
   ]
  },
  {
   "cell_type": "code",
   "execution_count": 34,
   "metadata": {},
   "outputs": [
    {
     "name": "stdout",
     "output_type": "stream",
     "text": [
      "\n",
      "\n",
      "Testing model with learning rate: 0.000001\n",
      "\n",
      "24/24 [==============================] - 0s 913us/step - loss: 44.6114\n",
      "\n",
      "\n",
      "Testing model with learning rate: 0.010000\n",
      "\n",
      "24/24 [==============================] - 0s 913us/step - loss: 3.4827\n",
      "\n",
      "\n",
      "Testing model with learning rate: 1.000000\n",
      "\n",
      "24/24 [==============================] - 0s 914us/step - loss: 8.1685\n"
     ]
    }
   ],
   "source": [
    "# Create list of learning rates: lr_to_test\n",
    "lr_to_test = [.000001, 0.01, 1]\n",
    "\n",
    "# Loop over learning rates\n",
    "for lr in lr_to_test:\n",
    "    print('\\n\\nTesting model with learning rate: %f\\n'%lr )\n",
    "    \n",
    "    # Build new model to test, unaffected by previous models\n",
    "    model = get_model()\n",
    "    \n",
    "    # Create SGD optimizer with specified learning rate: my_optimizer\n",
    "    my_optimizer = Adam(learning_rate=lr)\n",
    "    \n",
    "    # Compile the model\n",
    "    model.compile(optimizer=my_optimizer, loss='binary_crossentropy')\n",
    "    \n",
    "    # Fit the model\n",
    "    model.fit(X, y)"
   ]
  },
  {
   "cell_type": "markdown",
   "metadata": {},
   "source": [
    "## Try Yourself\n",
    "Tune the Model. Change the configuration of the model or training process and see if you can improve the performance of the model, e.g., achieve better than 76% accuracy.\n",
    "Some hints:\n",
    "- Add layers\n",
    "- Find the optimal learning rate\n",
    "- ..."
   ]
  },
  {
   "cell_type": "code",
   "execution_count": 35,
   "metadata": {},
   "outputs": [],
   "source": [
    "# Write your code here\n",
    "\n",
    "#https://machinelearningmastery.com/improve-deep-learning-performance/\n",
    "\n",
    "\n"
   ]
  }
 ],
 "metadata": {
  "kernelspec": {
   "display_name": "Python 3 (ipykernel)",
   "language": "python",
   "name": "python3"
  },
  "language_info": {
   "codemirror_mode": {
    "name": "ipython",
    "version": 3
   },
   "file_extension": ".py",
   "mimetype": "text/x-python",
   "name": "python",
   "nbconvert_exporter": "python",
   "pygments_lexer": "ipython3",
   "version": "3.9.7"
  }
 },
 "nbformat": 4,
 "nbformat_minor": 2
}
