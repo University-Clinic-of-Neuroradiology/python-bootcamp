{
 "cells": [
  {
   "attachments": {},
   "cell_type": "markdown",
   "metadata": {},
   "source": [
    "# Demonstration of Measurement\n",
    "You'll using a a 4D time series in this notebook. Along the way, you'll learn the fundamentals of image segmentation, object labeling, and morphological measurement. \n",
    "\n",
    "This demo is a jupyter notebook, i.e. intended to be run step by step.\n",
    "\n",
    "Author: Eric Einspänner\n",
    "\n",
    "First version: 6th of July 2023\n",
    "\n",
    "\n",
    "Copyright 2023 Clinic of Neuroradiology, Magdeburg, Germany\n",
    "\n",
    "License: Apache-2.0"
   ]
  },
  {
   "cell_type": "markdown",
   "metadata": {},
   "source": [
    "## Table of contents\n",
    "1. [Initial set-up](#initial-set-up)\n",
    "2. [Load image/volume](#load-the-imagevolume)\n",
    "3. [Segmentation](#segmentation)\n",
    "4. [Select objects](#select-objects)\n",
    "5. [Extract objects](#extract-objects)\n",
    "6. [Measure variance](#measure-variance)\n",
    "7. [Separate histograms](#separate-histograms)\n",
    "8. [Calculate distances](#calculate-distance)\n",
    "9. [COM](#center-of-mass-com)\n"
   ]
  },
  {
   "attachments": {},
   "cell_type": "markdown",
   "metadata": {},
   "source": [
    "## Initial set-up"
   ]
  },
  {
   "cell_type": "code",
   "execution_count": null,
   "metadata": {},
   "outputs": [],
   "source": [
    "# Make sure figures appears inline and animations works\n",
    "# Edit this to \"\"%matplotlib notebook\" when using the \"classic\" jupyter notebook interface\n",
    "%matplotlib widget"
   ]
  },
  {
   "cell_type": "code",
   "execution_count": null,
   "metadata": {},
   "outputs": [],
   "source": [
    "# Initial imports etc\n",
    "import pydicom\n",
    "from pydicom.data import get_testdata_file\n",
    "import imageio\n",
    "import numpy as np\n",
    "import scipy.ndimage as ndi\n",
    "import matplotlib.pyplot as plt"
   ]
  },
  {
   "cell_type": "code",
   "execution_count": null,
   "metadata": {},
   "outputs": [],
   "source": [
    "def format_and_render_plot():\n",
    "    '''Custom function to simplify common formatting operations for exercises. Operations include: \n",
    "    1. Turning off axis grids.\n",
    "    2. Calling `plt.tight_layout` to improve subplot spacing.\n",
    "    3. Calling `plt.show()` to render plot.'''\n",
    "    fig = plt.gcf()\n",
    "    for ax in fig.axes:\n",
    "        ax.axis('off')    \n",
    "    plt.tight_layout()\n",
    "    plt.show()"
   ]
  },
  {
   "attachments": {},
   "cell_type": "markdown",
   "metadata": {},
   "source": [
    "## Load the image/volume"
   ]
  },
  {
   "cell_type": "code",
   "execution_count": null,
   "metadata": {},
   "outputs": [],
   "source": [
    "# Load the directory (volume)\n",
    "folder_path = 'C:/Users/einspaen/Downloads/Biomedical-Image-Analysis-in-Python-master/Biomedical-Image-Analysis-in-Python-master/Data/Brain/SE000001/MR000000'\n",
    "vol = imageio.volread(folder_path)\n",
    "\n",
    "# save the middle slice as separat image\n",
    "im = vol[13,:,:]"
   ]
  },
  {
   "cell_type": "code",
   "execution_count": null,
   "metadata": {},
   "outputs": [],
   "source": [
    "# min-max normalisation\n",
    "im_old = im\n",
    "im = (im - im.min()) / (im.max() - im.min())\n",
    "\n",
    "# Print the image's data type, minimum and maximum intensity\n",
    "print('Data type:', im.dtype)\n",
    "print('Min. value:', im.min())\n",
    "print('Max value:', im.max())\n",
    "\n",
    "# Plot the grayscale images\n",
    "fig, axes = plt.subplots(1, 2, sharex=True)\n",
    "axes[0].imshow(im_old, cmap='gray')\n",
    "axes[0].set_title('without normalization', fontweight =\"bold\")\n",
    "axes[1].imshow(im, cmap='gray')\n",
    "axes[1].set_title('with normalization', fontweight =\"bold\")\n",
    "format_and_render_plot()"
   ]
  },
  {
   "attachments": {},
   "cell_type": "markdown",
   "metadata": {},
   "source": [
    "## Segmentation\n",
    "In this chapter, we'll work with magnetic resonance (MR) imaging data. The full image is a 3D time series spanning ..."
   ]
  },
  {
   "cell_type": "code",
   "execution_count": null,
   "metadata": {},
   "outputs": [],
   "source": [
    "# Smooth intensity values\n",
    "im_filt = ndi.median_filter(im, size=3)\n",
    "\n",
    "# Select high-intensity pixels\n",
    "mask_start = np.where(im_filt > 0.3, 1, 0)\n",
    "mask = ndi.binary_closing(mask_start)\n",
    "\n",
    "# Label the objects in \"mask\"\n",
    "labels, nlabels = ndi.label(mask)\n",
    "print('Num. Labels:', nlabels)"
   ]
  },
  {
   "cell_type": "code",
   "execution_count": null,
   "metadata": {},
   "outputs": [],
   "source": [
    "# Create a `labels` overlay\n",
    "overlay = np.where(labels > 0, labels, np.nan)\n",
    "\n",
    "# Use imshow to plot the overlay\n",
    "plt.imshow(overlay, cmap='rainbow', alpha=0.75)\n",
    "format_and_render_plot()"
   ]
  },
  {
   "attachments": {},
   "cell_type": "markdown",
   "metadata": {},
   "source": [
    "## Select objects\n",
    "Labels are like object \"handles\" - they give you a way to pick up whole sets of pixels at a time. To select a particular object:\n",
    "\n",
    "1. Find the label value associated with the object.\n",
    "2. Create a mask of matching pixels."
   ]
  },
  {
   "cell_type": "code",
   "execution_count": null,
   "metadata": {},
   "outputs": [],
   "source": [
    "# Label the image \"mask\"\n",
    "labels, nlabels = ndi.label(mask)\n",
    "\n",
    "# Select gray matter (gm)\n",
    "gm_val = labels[113, 90]\n",
    "gm_mask = np.where(labels == gm_val, 1, np.nan)\n",
    "\n",
    "# Overlay selected label\n",
    "plt.imshow(gm_mask, cmap='rainbow')\n",
    "plt.show()"
   ]
  },
  {
   "attachments": {},
   "cell_type": "markdown",
   "metadata": {},
   "source": [
    "## Extract objects\n",
    "Extracting objects from the original image eliminates unrelated pixels and provides new images that can be analyzed independently.\n",
    "\n",
    "The key is to crop images so that they only include the object of interest. The range of pixel indices that encompass the object is the bounding box."
   ]
  },
  {
   "cell_type": "code",
   "execution_count": null,
   "metadata": {},
   "outputs": [],
   "source": [
    "print(gm_mask)\n",
    "# Find bounding box\n",
    "bboxes =ndi.find_objects(gm_mask)\n",
    "print('Number of objects:', len(bboxes))\n",
    "print('Indices for first box:', bboxes[0])\n",
    "\n",
    "# Crop to index 0\n",
    "im_gm = im[bboxes[0]]\n",
    "\n",
    "# Plot the cropped image\n",
    "plt.imshow(im_gm)\n",
    "format_and_render_plot()"
   ]
  },
  {
   "attachments": {},
   "cell_type": "markdown",
   "metadata": {},
   "source": [
    "## Measure variance\n",
    "SciPy measurement functions allow you to tailor measurements to specific sets of pixels:\n",
    "\n",
    "- Specifying `labels` restricts the mask to non-zero pixels.\n",
    "- Specifying `index` value(s) returns a measure for each label value.\n",
    "\n",
    "For this exercise, calculate the intensity variance of `vol` with respect to different pixel sets. We have provided the 3D segmented image as `labels`: label 1 is the left ventricle and label 2 is a circular sample of tissue."
   ]
  },
  {
   "cell_type": "code",
   "execution_count": null,
   "metadata": {},
   "outputs": [],
   "source": [
    "# Variance for all pixels\n",
    "var_all = ndi.variance(vol, labels=None, index=None)\n",
    "print('All pixels:', var_all)\n",
    "\n",
    "# Variance for labeled pixels\n",
    "var_labels = ndi.variance(vol, labels, index=None)\n",
    "print('Labeled pixels:', var_labels)\n",
    "\n",
    "# Variance for each object\n",
    "var_objects = ndi.variance(vol, labels, index=[1,2])\n",
    "print('Gray matter:', var_objects[0])\n",
    "print('Other tissue:', var_objects[1])"
   ]
  },
  {
   "attachments": {},
   "cell_type": "markdown",
   "metadata": {},
   "source": [
    "## Separate histograms\n",
    "A poor tissue segmentation includes multiple tissue types, leading to a wide distribution of intensity values and more variance."
   ]
  },
  {
   "cell_type": "code",
   "execution_count": null,
   "metadata": {},
   "outputs": [],
   "source": [
    "# Create histograms for selected pixels\n",
    "hist1 = ndi.histogram(vol, min=0, max=255, bins=256)\n",
    "hist2 = ndi.histogram(vol, 0, 255, 256, labels=labels)\n",
    "hist3 = ndi.histogram(vol, 0, 255, 256, labels=labels, index=1)\n",
    "\n",
    "# Plot the histogram density\n",
    "plt.plot(hist1 / hist1.sum(), label='All pixels')\n",
    "plt.plot(hist2 / hist2.sum(), label='All labeled pixels')\n",
    "plt.plot(hist3 / hist3.sum(), label='Left ventricle')\n",
    "format_and_render_plot()"
   ]
  },
  {
   "attachments": {},
   "cell_type": "markdown",
   "metadata": {},
   "source": [
    "## Calculate distance\n",
    "A distance transformation calculates the distance from each pixel to a given point, usually the nearest background pixel. This allows you to determine which points in the object are more interior and which are closer to edges.\n",
    "\n",
    "In this exercise, use the Euclidian distance transform."
   ]
  },
  {
   "cell_type": "code",
   "execution_count": null,
   "metadata": {},
   "outputs": [],
   "source": [
    "# Calculate distances\n",
    "gm = np.where(labels == 1, 1, 0)\n",
    "dists = ndi.distance_transform_edt(gm, sampling=vol.meta['sampling'])\n",
    "\n",
    "# Report on distances\n",
    "print('Max distance (mm):', ndi.maximum(dists))\n",
    "print('Max location:', ndi.maximum_position(dists))\n",
    "\n",
    "# Plot overlay of distances\n",
    "overlay = np.where(dists[5] > 0, dists[5], np.nan) \n",
    "plt.imshow(overlay, cmap='hot')\n",
    "format_and_render_plot()"
   ]
  },
  {
   "attachments": {},
   "cell_type": "markdown",
   "metadata": {},
   "source": [
    "## Center-Of-Mass (COM)\n",
    "The distance transformation reveals the most embedded portions of an object. On the other hand, `ndi.center_of_mass()` returns the coordinates for the center of an object.\n",
    "\n",
    "The \"mass\" corresponds to intensity values, with higher values pulling the center closer to it."
   ]
  },
  {
   "cell_type": "code",
   "execution_count": null,
   "metadata": {},
   "outputs": [],
   "source": [
    "# Extract centers of mass for objects 1 and 2\n",
    "coms = ndi.center_of_mass(vol, labels, index=[1,2])\n",
    "print('Label 1 center:', coms[0])\n",
    "print('Label 2 center:', coms[1])\n",
    "\n",
    "# Add marks to plot\n",
    "for c0, c1, c2 in coms:\n",
    "    plt.scatter(c2, c1, s=100, marker='o')\n",
    "plt.show()"
   ]
  }
 ],
 "metadata": {
  "kernelspec": {
   "display_name": "bootcamp",
   "language": "python",
   "name": "python3"
  },
  "language_info": {
   "codemirror_mode": {
    "name": "ipython",
    "version": 3
   },
   "file_extension": ".py",
   "mimetype": "text/x-python",
   "name": "python",
   "nbconvert_exporter": "python",
   "pygments_lexer": "ipython3",
   "version": "3.9.17"
  },
  "orig_nbformat": 4
 },
 "nbformat": 4,
 "nbformat_minor": 2
}
