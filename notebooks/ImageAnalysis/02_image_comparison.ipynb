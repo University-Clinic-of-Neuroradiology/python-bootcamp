{
 "cells": [
  {
   "cell_type": "markdown",
   "metadata": {},
   "source": [
    "# Demonstration of Image Comparison\n",
    "This notebook discusses basics of registration, resampling, and image comparison.\n",
    "\n",
    "This demo is a jupyter notebook, i.e. intended to be run step by step.\n",
    "\n",
    "Author: Eric Einspänner\n",
    "<br>\n",
    "Contributor: Nastaran Takmilhomayouni\n",
    "\n",
    "First version: 6th of July 2023\n",
    "\n",
    "\n",
    "Copyright 2023 Clinic of Neuroradiology, Magdeburg, Germany\n",
    "\n",
    "License: Apache-2.0"
   ]
  },
  {
   "cell_type": "markdown",
   "metadata": {},
   "source": [
    "## Table of contents\n",
    "1. [Initial set-up](#Initial-Set-Up)\n",
    "2. [Load image/volume](#Load-the-Image/Volume)\n",
    "3. [Translation](#Translation)\n",
    "    - [Exercise (Translation)](#exercise-translation)\n",
    "    - [Exercise (Translation - difficult)](#exercise-translation---difficult)\n",
    "4. [Rotation](#Rotations)\n",
    "    - [Exercise (Rotation)](#exercise-rotation)\n",
    "5. [Affine Transformation](#Affine-Transformation)\n",
    "6. [Resampling](#Resampling)\n",
    "7. [Interpolation](#Interpolation)\n",
    "8. [MAE](#Mean-Absolute-Error-MAE)\n",
    "9. [SSIM](#Structural-Similarity-SSIM)\n",
    "10. [IoU](#Intersection-of-The-Union-IOU)\n",
    "11. [Testing group differences](#Testing-Group-Differences)\n",
    "12. [Normalizing metrics](#Normalizing-Metrics)"
   ]
  },
  {
   "cell_type": "markdown",
   "metadata": {},
   "source": [
    "## Initial Set-Up"
   ]
  },
  {
   "cell_type": "code",
   "execution_count": null,
   "metadata": {},
   "outputs": [],
   "source": [
    "# Make sure figures appears inline and animations works\n",
    "# Edit this to \"\"%matplotlib notebook\" when using the \"classic\" jupyter notebook interface\n",
    "%matplotlib widget\n"
   ]
  },
  {
   "cell_type": "code",
   "execution_count": null,
   "metadata": {},
   "outputs": [],
   "source": [
    "# Initial imports etc\n",
    "import imageio\n",
    "import pandas as pd\n",
    "import numpy as np\n",
    "import scipy.ndimage as ndi\n",
    "import matplotlib.pyplot as plt\n",
    "from Utilities.downloaddata import fetch_data as fdata\n",
    "import SimpleITK as sitk\n",
    "import Utilities.gui"
   ]
  },
  {
   "cell_type": "code",
   "execution_count": null,
   "metadata": {},
   "outputs": [],
   "source": [
    "def format_and_render_plot():\n",
    "    '''\n",
    "    Custom function to simplify common formatting operations for exercises. Operations include: \n",
    "    1. Turning off axis grids.\n",
    "    2. Calling `plt.tight_layout` to improve subplot spacing.\n",
    "    3. Calling `plt.show()` to render plot.\n",
    "    '''\n",
    "    fig = plt.gcf()\n",
    "    for ax in fig.axes:\n",
    "        ax.axis('off')    \n",
    "    plt.tight_layout()\n",
    "    plt.show()"
   ]
  },
  {
   "cell_type": "markdown",
   "metadata": {},
   "source": [
    "## Load the Image/Volume\n",
    "In this chapter, we'll leverage data use data from the OASIS to compare the brains of different populations: young and old, male and female, healthy and diseased."
   ]
  },
  {
   "cell_type": "code",
   "execution_count": null,
   "metadata": {},
   "outputs": [],
   "source": [
    "# Load the directory (volume)\n",
    "folder_path = 'Data/Brain/SE000001/MR000000'\n",
    "\n",
    "# Load the volume\n",
    "vol = imageio.volread(folder_path)\n",
    "print(vol.shape)\n",
    "\n",
    "# save the middle slice as separat image\n",
    "middle_slice = vol.shape[0] // 2\n",
    "im = vol[middle_slice,:,:]"
   ]
  },
  {
   "cell_type": "markdown",
   "metadata": {},
   "source": [
    "## Translation\n",
    "Image translation is like shifting or moving an image from one place to another within a picture. Just like sliding a puzzle piece on a table, image translation shifts the whole picture in different directions—left, right, up, or down.\n",
    "\n",
    "The line `xfm = ndi.shift(im, shift=(10, 15))` is the magic. It shifts the brain picture 10 steps to the right and 15 steps down. It's like sliding the brain within the picture."
   ]
  },
  {
   "cell_type": "code",
   "execution_count": null,
   "metadata": {},
   "outputs": [],
   "source": [
    "# Translate the brain towards the center\n",
    "xfm = ndi.shift(im, shift=(10, 15))\n",
    "\n",
    "# Plot the original and adjusted images\n",
    "fig, axes = plt.subplots(nrows=1, ncols=2)\n",
    "axes[0].imshow(im)\n",
    "axes[1].imshow(xfm)\n",
    "format_and_render_plot()"
   ]
  },
  {
   "cell_type": "markdown",
   "metadata": {},
   "source": [
    "### Exercise (Translation)\n",
    "Now move the picture 12 steps to the left and 8 steps up and plot both images!"
   ]
  },
  {
   "cell_type": "code",
   "execution_count": null,
   "metadata": {},
   "outputs": [],
   "source": [
    "# Write your code here (the solution is below)\n",
    "\n",
    "\n",
    "\n",
    "\n",
    "\n"
   ]
  },
  {
   "cell_type": "code",
   "execution_count": null,
   "metadata": {},
   "outputs": [],
   "source": [
    "### Solution\n",
    "# Translate the brain towards the center\n",
    "xfm = ndi.shift(im, shift=(-12, -8))\n",
    "\n",
    "# Plot the original and adjusted images\n",
    "fig, axes = plt.subplots(nrows=1, ncols=2)\n",
    "axes[0].imshow(im)\n",
    "axes[1].imshow(xfm)\n",
    "format_and_render_plot()"
   ]
  },
  {
   "cell_type": "markdown",
   "metadata": {},
   "source": [
    "### Exercise (Translation - difficult)\n",
    "First, find the center point in the image array and the center of mass (COM) of the brain. Then, translate the image to the center.\n",
    "\n",
    "Note: You need the `ndi.center_of_mass()` function to find the COM (x and y coordinate)."
   ]
  },
  {
   "cell_type": "code",
   "execution_count": null,
   "metadata": {},
   "outputs": [],
   "source": [
    "# Write your code here (the solution is below)\n",
    "\n",
    "\n",
    "\n",
    "\n",
    "\n"
   ]
  },
  {
   "cell_type": "code",
   "execution_count": null,
   "metadata": {},
   "outputs": [],
   "source": [
    "# Find image center of mass\n",
    "com = ndi.center_of_mass(im)\n",
    "\n",
    "# Calculate amount of shift needed\n",
    "d0 = 128 - com[0]\n",
    "d1 = 128 - com[1]\n",
    "\n",
    "print(f'COM: {com}, d0: {d0}, d1: {d1}')\n",
    "\n",
    "# Translate the brain towards the center\n",
    "xfm = ndi.shift(im, shift=(d0, d1))\n",
    "\n",
    "# Plot the original and adjusted images\n",
    "fig, axes = plt.subplots(nrows=1, ncols=2)\n",
    "axes[0].imshow(im)\n",
    "axes[1].imshow(xfm)\n",
    "format_and_render_plot()"
   ]
  },
  {
   "cell_type": "markdown",
   "metadata": {},
   "source": [
    "## Rotations\n",
    "In cases where an object is angled or flipped, the image can be rotated. Using `ndi.rotate()`, the image is rotated from its center by the specified degrees from the right horizontal axis."
   ]
  },
  {
   "cell_type": "code",
   "execution_count": null,
   "metadata": {},
   "outputs": [],
   "source": [
    "# Rotate the shifted image\n",
    "xfm = ndi.rotate(xfm, angle=-30, reshape=False)\n",
    "\n",
    "# Plot the original and transformed images\n",
    "fig, axes = plt.subplots(1, 2)\n",
    "axes[0].imshow(im)\n",
    "axes[1].imshow(xfm)\n",
    "format_and_render_plot()"
   ]
  },
  {
   "cell_type": "markdown",
   "metadata": {},
   "source": [
    "### Exercise (Rotation)\n",
    "First move the image 20 steps to the left and upwards. Then rotate the shifted image counterclockwise by 45°."
   ]
  },
  {
   "cell_type": "code",
   "execution_count": null,
   "metadata": {},
   "outputs": [],
   "source": [
    "# Write your code here (the solution is below)\n",
    "\n",
    "\n",
    "\n",
    "\n",
    "\n"
   ]
  },
  {
   "cell_type": "code",
   "execution_count": null,
   "metadata": {},
   "outputs": [],
   "source": [
    "### Solution\n",
    "# Shift the image towards the center\n",
    "xfm = ndi.shift(im, shift=(-20, -20))\n",
    "\n",
    "# Rotate the shifted image\n",
    "xfm = ndi.rotate(xfm, angle=45, reshape=False)\n",
    "\n",
    "# Plot the original and transformed images\n",
    "fig, axes = plt.subplots(1, 2)\n",
    "axes[0].imshow(im)\n",
    "axes[1].imshow(xfm)\n",
    "format_and_render_plot()"
   ]
  },
  {
   "cell_type": "markdown",
   "metadata": {},
   "source": [
    "## Affine Transformation\n",
    "Affine transformation is a way to change the shape, size, and position of an image. It's like using a special set of rules to stretch, shrink, rotate, or skew an image, while keeping its lines straight and parallel.\n",
    "\n",
    "- What is Affine Transformation?\n",
    "\n",
    "It's a mathematical way to adjust images using operations like scaling (changing size), rotation, translation (shifting), and shearing (changing angles).\n",
    "\n",
    "- How Does It Work?\n",
    "\n",
    "Affine transformations use matrix multiplication to alter an image. Each transformation, like scaling or rotating, is represented by a matrix that applies specific changes to the image.\n",
    "\n",
    "![Affine Transformation matrices](../ImageAnalysis/Data/Images/affine_transform.png)\n",
    "\n",
    "Experiment with the values in the matrix and observe the changes."
   ]
  },
  {
   "cell_type": "code",
   "execution_count": null,
   "metadata": {},
   "outputs": [],
   "source": [
    "# Define the affine transform matrix\n",
    "mat = np.array([[0.8, -0.4, 90], [0.4, 0.8, -6.0], [0, 0, 1]])\n",
    "print(mat)\n",
    "\n",
    "# Apply the affine transform matrix to image data\n",
    "xfm = ndi.affine_transform(im, mat)\n",
    "\n",
    "# Plot the original and transformed images\n",
    "fig, axes = plt.subplots(1, 2)\n",
    "axes[0].imshow(im)\n",
    "axes[1].imshow(xfm)\n",
    "format_and_render_plot()"
   ]
  },
  {
   "cell_type": "markdown",
   "metadata": {},
   "source": [
    "## Resampling\n",
    "Images can be collected in a variety of shapes and sizes. Resampling is a useful tool when these shapes need to be made consistent. Two common applications are:\n",
    "\n",
    "- Downsampling: combining pixel data to decrease size\n",
    "- Upsampling: distributing pixel data to increase size"
   ]
  },
  {
   "cell_type": "code",
   "execution_count": null,
   "metadata": {},
   "outputs": [],
   "source": [
    "# Resample image\n",
    "im_dn = ndi.zoom(im, zoom=0.25)\n",
    "im_up = ndi.zoom(im, zoom=4.00)\n",
    "\n",
    "# Plot the images\n",
    "fig, axes = plt.subplots(1, 2)\n",
    "axes[0].imshow(im_dn)\n",
    "axes[1].imshow(im_up)\n",
    "format_and_render_plot()"
   ]
  },
  {
   "cell_type": "markdown",
   "metadata": {},
   "source": [
    "## Interpolation\n",
    "Interpolation is how new pixel intensities are estimated when an image transformation is applied. It is implemented in SciPy using sets of spline functions.\n",
    "\n",
    "Editing the interpolation `order` when using a function such as `ndi.zoom()` modifies the resulting estimate: higher orders provide more flexible estimates but take longer to compute."
   ]
  },
  {
   "cell_type": "code",
   "execution_count": null,
   "metadata": {},
   "outputs": [],
   "source": [
    "# Upsample \"im\" by a factor of 4\n",
    "up0 = ndi.zoom(im, zoom=512/128, order=0)\n",
    "up5 = ndi.zoom(im, zoom=512/128, order=5)\n",
    "\n",
    "# Print original and new shape\n",
    "print('Original shape:', im.shape)\n",
    "print('Upsampled shape:', up5.shape)\n",
    "\n",
    "# Plot close-ups of the new images\n",
    "fig, axes = plt.subplots(1, 2)\n",
    "axes[0].imshow(up0[128:256, 128:256])\n",
    "axes[1].imshow(up5[128:256, 128:256])\n",
    "format_and_render_plot()"
   ]
  },
  {
   "cell_type": "markdown",
   "metadata": {},
   "source": [
    "## Mean Absolute Error (MAE)\n",
    "Cost functions and objective functions output a single value that summarizes how well two images match.\n",
    "\n",
    "The MAE, for example, summarizes intensity differences between two images, with higher values indicating greater divergence."
   ]
  },
  {
   "cell_type": "code",
   "execution_count": null,
   "metadata": {},
   "outputs": [],
   "source": [
    "# Load the dcm file (image)\n",
    "im1 = im\n",
    "\n",
    "# Apply the affine transform matrix to image data\n",
    "xfm = ndi.shift(im, shift=(-12, -8))\n",
    "im2 = xfm\n",
    "\n",
    "# Calculate image difference\n",
    "err = im1 - im2\n",
    "\n",
    "# Plot the difference\n",
    "fig, axes = plt.subplots(1, 3)\n",
    "axes[0].imshow(im)\n",
    "axes[1].imshow(xfm)\n",
    "axes[2].imshow(err, cmap='seismic', vmin=-200, vmax=200)\n",
    "format_and_render_plot()\n",
    "\n",
    "# Calculate absolute image difference\n",
    "abs_err = np.absolute(im1 - im2)\n",
    "\n",
    "# Plot the difference\n",
    "fig, axes = plt.subplots(1, 3)\n",
    "axes[0].imshow(im)\n",
    "axes[1].imshow(xfm)\n",
    "axes[2].imshow(abs_err, cmap='seismic', vmin=-200, vmax=200)\n",
    "format_and_render_plot()\n",
    "\n",
    "# Calculate mean absolute error\n",
    "mean_abs_err = np.mean(np.abs(im1 - im2))\n",
    "print('MAE:', mean_abs_err)"
   ]
  },
  {
   "cell_type": "markdown",
   "metadata": {},
   "source": [
    "## Structural Similarity (SSIM)\n",
    "The Structural Similarity Index (SSIM) is a metric used to measure the similarity between two images. It evaluates how much one image is structurally similar to another, considering perceived changes in structural information, luminance, and contrast that humans typically notice.\n",
    "\n",
    "- Luminance Comparison: Measures the difference in average luminance (brightness) between the two images.\n",
    "- Contrast Comparison: Evaluates differences in contrast between corresponding image patches.\n",
    "- Structure Comparison: Considers the structural information by comparing similarities in image structures using local mean, standard deviation, and cross-correlation.\n",
    "\n",
    "The SSIM index ranges from -1 to 1. A value of 1 indicates perfect similarity, implying the two images are exactly the same. A value of -1 implies perfect dissimilarity."
   ]
  },
  {
   "cell_type": "code",
   "execution_count": null,
   "metadata": {},
   "outputs": [],
   "source": [
    "from skimage.metrics import structural_similarity as ssim\n",
    "\n",
    "# Compute SSIM between im and xfm\n",
    "data_range=xfm.max() - xfm.min()\n",
    "ssim_index = ssim(im, xfm, data_range=data_range)\n",
    "\n",
    "print(f'SSIM: {ssim_index}')"
   ]
  },
  {
   "cell_type": "markdown",
   "metadata": {},
   "source": [
    "## Intersection of The Union (IoU)\n",
    "\n",
    "Another cost function is the IoU. The IoU is the number of pixels filled in both images (the intersection) out of the number of pixels filled in either image (the union)."
   ]
  },
  {
   "cell_type": "code",
   "execution_count": null,
   "metadata": {},
   "outputs": [],
   "source": [
    "def intersection_of_union(im1, im2):\n",
    "    i = np.logical_and(im1, im2)\n",
    "    u = np.logical_or(im1, im2)\n",
    "    return i.sum() / u.sum()"
   ]
  },
  {
   "cell_type": "code",
   "execution_count": null,
   "metadata": {},
   "outputs": [],
   "source": [
    "# Try some other paramters by yourself\n",
    "xfm = ndi.shift(im, shift=(-10, -10))\n",
    "xfm = ndi.rotate(xfm, angle=-15, reshape=False)\n",
    "intersection_of_union(xfm, im)"
   ]
  },
  {
   "cell_type": "markdown",
   "metadata": {},
   "source": [
    "## ---------------------------------------------------------------------------------------------------------"
   ]
  },
  {
   "cell_type": "markdown",
   "metadata": {},
   "source": [
    "## Testing Group Differences\n",
    "Once measures have been extracted, double-check for dependencies within your data. This is especially true if any image parameters (sampling rate, field of view) might differ between subjects, or you pull multiple measures from a single image.\n",
    "\n",
    "For the final exercises, we have combined demographic and brain volume measures into a pandas DataFrame (df)."
   ]
  },
  {
   "cell_type": "code",
   "execution_count": 60,
   "metadata": {},
   "outputs": [],
   "source": [
    "# Load OASIS csv file\n",
    "df = pd.read_csv('Data/Brain/oasis_all_volumes.csv', index_col=0)"
   ]
  },
  {
   "cell_type": "code",
   "execution_count": 66,
   "metadata": {},
   "outputs": [
    {
     "name": "stdout",
     "output_type": "stream",
     "text": [
      "               age sex  alzheimers  brain_vol    skull_vol  gray_matter_vol  \\\n",
      "ID                                                                            \n",
      "OAS1_0001_MR1   74   F       False    807.935  1347.497879          470.698   \n",
      "OAS1_0002_MR1   55   F       False    808.760  1151.269287          450.571   \n",
      "OAS1_0003_MR1   73   F        True    860.255  1403.415054          492.974   \n",
      "OAS1_0004_MR1   28   M       False   1058.202  1593.284910          585.270   \n",
      "OAS1_0005_MR1   18   M       False   1263.391  1733.779281          732.734   \n",
      "\n",
      "               white_matter_vol  csf_vol  \n",
      "ID                                        \n",
      "OAS1_0001_MR1           337.237   57.058  \n",
      "OAS1_0002_MR1           358.189    9.478  \n",
      "OAS1_0003_MR1           367.281   46.159  \n",
      "OAS1_0004_MR1           472.932   32.609  \n",
      "OAS1_0005_MR1           530.657   14.887  \n",
      "alzheimers\n",
      "False    332\n",
      "True      93\n",
      "Name: count, dtype: int64\n",
      "                       age  brain_vol  skull_vol  gray_matter_vol  \\\n",
      "age               1.000000  -0.719211  -0.141576        -0.776362   \n",
      "brain_vol        -0.719211   1.000000   0.654829         0.957842   \n",
      "skull_vol        -0.141576   0.654829   1.000000         0.558978   \n",
      "gray_matter_vol  -0.776362   0.957842   0.558978         1.000000   \n",
      "white_matter_vol -0.550801   0.925833   0.696038         0.778223   \n",
      "csf_vol           0.650422  -0.371726   0.297889        -0.397840   \n",
      "\n",
      "                  white_matter_vol   csf_vol  \n",
      "age                      -0.550801  0.650422  \n",
      "brain_vol                 0.925833 -0.371726  \n",
      "skull_vol                 0.696038  0.297889  \n",
      "gray_matter_vol           0.778223 -0.397840  \n",
      "white_matter_vol          1.000000 -0.289189  \n",
      "csf_vol                  -0.289189  1.000000  \n"
     ]
    }
   ],
   "source": [
    "# Print random sample of rows\n",
    "print(df.head())\n",
    "\n",
    "# Print prevalence of Alzheimer's Disease\n",
    "print(df.alzheimers.value_counts())\n",
    "\n",
    "# Print a correlation table excluding non-numeric columns\n",
    "print(df.select_dtypes(include='number').corr())"
   ]
  },
  {
   "cell_type": "markdown",
   "metadata": {},
   "source": [
    "Let's test the hypothesis that Alzheimer's Disease is characterized by reduced brain volume.\n",
    "\n",
    "We can perform a two-sample t-test between the brain volumes of elderly adults with and without Alzheimer's Disease. In this case, the two population samples are independent from each other because they are all separate subjects."
   ]
  },
  {
   "cell_type": "code",
   "execution_count": 67,
   "metadata": {},
   "outputs": [
    {
     "name": "stdout",
     "output_type": "stream",
     "text": [
      "t =  -10.27076306169677\n",
      "p =  3.043550344658516e-22\n"
     ]
    },
    {
     "data": {
      "application/vnd.jupyter.widget-view+json": {
       "model_id": "4cefec25c6894efaa44c54f2a76bd2f2",
       "version_major": 2,
       "version_minor": 0
      },
      "image/png": "[encoded data removed]",
      "text/html": [
       "\n",
       "            <div style=\"display: inline-block;\">\n",
       "                <div class=\"jupyter-widgets widget-label\" style=\"text-align: center;\">\n",
       "                    Figure\n",
       "                </div>\n",
       "                <img src='data:image/png;base64,iVBORw0KGgoAAAANSUhEUgAAAoAAAAHgCAYAAAA10dzkAAAAOXRFWHRTb2Z0d2FyZQBNYXRwbG90bGliIHZlcnNpb24zLjguMCwgaHR0cHM6Ly9tYXRwbG90bGliLm9yZy81sbWrAAAACXBIWXMAAA9hAAAPYQGoP6dpAABSQklEQVR4nO3deVwW5cL/8S/rzaKAuLCc3FIT94VOSrmmgrikZplp7mlPiR6102Kn3Fo4LplLptUpNbXyVGbnWCmYu6EpRampaeHyqIimiIDiDczvDx/m1y2QFsstzuf9et0vnJlrrrmGYeDrNTPXuBiGYQgAAACW4ersBgAAAKBsEQABAAAshgAIAABgMQRAAAAAiyEAAgAAWAwBEAAAwGIIgAAAABZDAAQAALAYAiAAAIDFEACBcsDFxUVTpkxxdjNueZs2bZKLi4s2bdr0u+WmTJkiFxcXnT17tmwadh1Dhw5VrVq1/tA6S5YskYuLi3bv3l1i7cj/vgC4+REAYWn5fwR/+6lWrZo6duyoL7/80tnNK7Yff/xRU6ZM0ZEjR5zdFADATYQACEiaNm2ali1bpvfee09PP/20zpw5o27dumnNmjXOblqx/Pjjj5o6dSoBEGXi+eef16VLl5zdDAA3wN3ZDQBuBtHR0brzzjvN6REjRigoKEgffPCBevTo4cSWlR85OTnKy8uTp6ens5sCJ3F3d5e7+83zZyUzM1O+vr7ObgZwU6IHEChEQECAvL29C/wxy8zM1JNPPqnq1avLZrOpfv36mjVrlgzDkCRdunRJYWFhCgsLc+gJOXfunEJCQnT33XcrNzdX0tX7tipUqKBffvlFUVFR8vX1VWhoqKZNm2bW93u+++47RUdHy8/PTxUqVFCnTp20Y8cOc/mSJUv04IMPSpI6duxoXuK+3v1tH330kRo2bCgvLy81btxYn376aYF7zI4cOSIXFxfNmjVLc+bMUZ06dWSz2fTjjz9KkjZs2KC2bdvK19dXAQEB6tWrl/bv3++wnaLuWyvsPjIXFxfFxMRoxYoVql+/vry8vBQeHq4tW7YUWP/EiRMaPny4goKCZLPZ1KhRI7377rsFyv3v//6vevfuLV9fX1WrVk3jx49Xdnb2735vrnX27Fn169dPfn5+qly5sv72t7/p8uXL5vL27durWbNmha5bv359RUVF/W79n332mbp3767Q0FDZbDbVqVNHL774ovkzVJQOHToUuLUh/7NkyRKHstnZ2ZowYYKqVq0qX19f9enTR2fOnClQ55dffmke04oVK6p79+7at2+fQ5nfO3b5P1fe3t6KiIjQnj17JElvvvmm6tatKy8vL3Xo0KHQ3uqdO3eqa9eu8vf3l4+Pj9q3b6/t27cXuu0ff/xRAwYMUKVKldSmTRtJUkpKioYNG6bbbrtNNptNISEh6tWrFz3jsLSb579qgBNduHBBZ8+elWEYSk1N1fz585WRkaFHHnnELGMYhu677z5t3LhRI0aMUPPmzbVu3To99dRTOnHihF577TV5e3tr6dKluueee/SPf/xDs2fPliSNHj1aFy5c0JIlS+Tm5mbWmZubq65du6p169aaMWOG1q5dq8mTJysnJ0fTpk0rsr379u1T27Zt5efnp6effloeHh5688031aFDB23evFmtWrVSu3btNHbsWM2bN0/PPfecGjRoIEnm18J8/vnneuihh9SkSRPFxsbq/PnzGjFihP7yl78UWn7x4sW6fPmyRo0aJZvNpsDAQK1fv17R0dG6/fbbNWXKFF26dEnz58/XPffco2+//fYPP6yQb/PmzVq5cqXGjh0rm82mN954Q127dtU333yjxo0bS5JOnz6t1q1bm6GjatWq+vLLLzVixAilp6dr3Lhxkq4G9U6dOunYsWMaO3asQkNDtWzZMm3YsOEPtalfv36qVauWYmNjtWPHDs2bN0/nz5/Xe++9J0kaNGiQRo4cqb1795ptlKRdu3bpp59+0vPPP/+79S9ZskQVKlTQhAkTVKFCBW3YsEGTJk1Senq6Zs6cWeR6//jHP/Too486zFu+fLnWrVunatWqOcwfM2aMKlWqpMmTJ+vIkSOaM2eOYmJitHLlSrPMsmXLNGTIEEVFRWn69OnKysrSwoUL1aZNG3333XfXPaZbt27Vf/7zH40ePVqSFBsbqx49eujpp5/WG2+8oSeeeELnz5/XjBkzNHz4cIfjsGHDBkVHRys8PFyTJ0+Wq6urFi9erHvvvVdbt27VXXfd5bCtBx98UPXq1dMrr7xi/keqb9++2rdvn8aMGaNatWopNTVV8fHxOnbs2J/+eQTKPQOwsMWLFxuSCnxsNpuxZMkSh7KrV682JBkvvfSSw/wHHnjAcHFxMQ4fPmzOmzhxouHq6mps2bLF+OijjwxJxpw5cxzWGzJkiCHJGDNmjDkvLy/P6N69u+Hp6WmcOXPGnC/JmDx5sjndu3dvw9PT0/j555/NeSdPnjQqVqxotGvXzpyXv+2NGzfe0PejSZMmxm233WZcvHjRnLdp0yZDklGzZk1zXnJysiHJ8PPzM1JTUx3qaN68uVGtWjXj119/Ned9//33hqurqzF48GCH/f9tnfkmT55sXPurKf+47N6925x39OhRw8vLy+jTp485b8SIEUZISIhx9uxZh/X79+9v+Pv7G1lZWYZhGMacOXMMSca///1vs0xmZqZRt27dG/p+5bfxvvvuc5j/xBNPGJKM77//3jAMw0hLSzO8vLyMZ555xqHc2LFjDV9fXyMjI+N3t5Pf3t967LHHDB8fH+Py5cvmvKK+l/m2b99ueHh4GMOHDzfn5f/sd+7c2cjLyzPnjx8/3nBzczPS0tIMwzCMixcvGgEBAcbIkSMd6kxJSTH8/f0d5hd17Gw2m5GcnGzOe/PNNw1JRnBwsJGenm7OnzhxoiHJLJuXl2fUq1fPiIqKcmhjVlaWUbt2baNLly4Ftv3www87bP/8+fOGJGPmzJlFfn8AK+ISMCBpwYIFio+PV3x8vJYvX66OHTvq0Ucf1apVq8wyX3zxhdzc3DR27FiHdZ988kkZhuHw1PCUKVPUqFEjDRkyRE888YTat29fYL18MTEx5r/ze66uXLmi9evXF1o+NzdXcXFx6t27t26//XZzfkhIiAYMGKBt27YpPT39D38PTp48qT179mjw4MGqUKGCOb99+/Zq0qRJoev07dtXVatWNadPnTqlpKQkDR06VIGBgeb8pk2bqkuXLvriiy/+cLvyRUREKDw83JyuUaOGevXqpXXr1ik3N1eGYeiTTz5Rz549ZRiGzp49a36ioqJ04cIFffvtt5KuHsuQkBA98MADZn0+Pj4aNWrUH2pTfo9WvjFjxpj1S5K/v7969eqlDz74wOyNys3N1cqVK83Lz7/H29vb/PfFixd19uxZtW3bVllZWTpw4MANtTElJUUPPPCAmjdvrjfeeKPA8lGjRjlctm3btq1yc3N19OhRSVJ8fLzS0tL08MMPO3xP3dzc1KpVK23cuPG6bejUqZNDT1urVq0kXf35qVixYoH5v/zyiyQpKSlJhw4d0oABA/Trr7+a287MzFSnTp20ZcsW5eXlOWzrf/7nfxymvb295enpqU2bNun8+fPXbStgFVwCBiTdddddDg+BPPzww2rRooViYmLUo0cPeXp66ujRowoNDXX4gyX9/0uq+X8wJcnT01Pvvvuu/vrXv8rLy0uLFy8udHw0V1dXhxAnSXfccYckFXl/0pkzZ5SVlaX69esXWNagQQPl5eXp+PHjatSo0Y3t/P/Jb3/dunULLKtbt64Znn6rdu3ahdZRVNvWrVv3p2/Mr1evXoF5d9xxh7KysnTmzBm5uroqLS1Nb731lt56661C60hNTTXbWbdu3QLHpLB2/5E21alTR66urg7HbvDgwVq5cqW2bt2qdu3aaf369Tp9+rQGDRp03fr37dun559/Xhs2bCgQ6i9cuHDd9XNyctSvXz/l5uZq1apVstlsBcrUqFHDYbpSpUqSZIalQ4cOSZLuvffeQrfh5+d33XZcuw1/f39JUvXq1Qudf+22hwwZUmTdFy5cMNssFfyZtNlsmj59up588kkFBQWpdevW6tGjhwYPHqzg4ODrth24VREAgUK4urqqY8eOmjt3rg4dOvSHw5QkrVu3TpJ0+fJlHTp0qMAfplvBb3uo/qiiBgy+3gMORcnvCXrkkUeKDAxNmzb9U3XfqML2KSoqSkFBQVq+fLnatWun5cuXKzg4WJ07d/7dutLS0tS+fXv5+flp2rRpqlOnjry8vPTtt9/qmWeeKdDzVZinnnpKCQkJWr9+vW677bZCy/z2ntTfyu+xzN/OsmXLCg1MN/LUb1HbuNFtz5w5U82bNy+07G97q6XCfybHjRunnj17avXq1Vq3bp1eeOEFxcbGasOGDWrRosV12w/cigiAQBFycnIkSRkZGZKkmjVrav369bp48aJDL2D+pbiaNWua83744QdNmzZNw4YNU1JSkh599FHt2bPH7OHIl5eXp19++cXs9ZOkn376SZKKvDm9atWq8vHx0cGDBwssO3DggFxdXc2elT/yVob89h8+fLjAssLm/V4dRbWtSpUqZu9fpUqVlJaWVqDcb3tSfyu/N+i3fvrpJ/n4+JiXoStWrKjc3NzrhquaNWtq7969MgzD4XtUWLt/z7XB/vDhw8rLy3M4dm5ubhowYICWLFmi6dOna/Xq1Ro5cmSR4Sffpk2b9Ouvv2rVqlVq166dOT85OfmG2vbhhx9qzpw5mjNnjtq3b/+H9uu36tSpI0mqVq3adb+vJS1/235+fsXedp06dfTkk0/qySef1KFDh9S8eXO9+uqrWr58eUk0FSh3uAcQKITdbldcXJw8PT3NS7zdunVTbm6uXn/9dYeyr732mlxcXBQdHW2uO3ToUIWGhmru3LlasmSJTp8+rfHjxxe6rd/WZxiGXn/9dXl4eKhTp06Flndzc1NkZKQ+++wzh0uNp0+f1vvvv682bdqYl+Xyw1ZhQetaoaGhaty4sd577z0z9EpXn77NH7LjekJCQtS8eXMtXbrUYZt79+5VXFycunXrZs6rU6eOLly4oB9++MGcd+rUKX366aeF1p2QkOBwGfr48eP67LPPFBkZKTc3N7m5ualv37765JNPtHfv3gLr/3Zok27duunkyZP6+OOPzXlZWVlFXjouyoIFCxym58+fL0nmz0K+QYMG6fz583rssccKPF1elPyAaPxmSKArV64Ueh/ftfbu3atHH31UjzzyiP72t79dt/zviYqKkp+fn1555RXZ7fYCywsbMqakhIeHq06dOpo1a5bDz+Qf2XZWVpbD0DzS1Z+9ihUr/uFhf4BbCT2AgK6OcZbfk5eamqr3339fhw4d0rPPPmuGqZ49e6pjx476xz/+oSNHjqhZs2aKi4vTZ599pnHjxpm9FS+99JKSkpL01VdfqWLFimratKkmTZqk559/Xg888IBDCPLy8tLatWs1ZMgQtWrVSl9++aU+//xzPffccw4PV1zrpZdeUnx8vNq0aaMnnnhC7u7uevPNN5Wdna0ZM2aY5Zo3by43NzdNnz5dFy5ckM1m07333ltgKJB8r7zyinr16qV77rlHw4YN0/nz5/X666+rcePGhf4BLszMmTMVHR2tiIgIjRgxwhwGxt/f3+F9xv3799czzzyjPn36aOzYsebQInfccUeh9xs2btxYUVFRDsPASNLUqVPNMv/85z+1ceNGtWrVSiNHjlTDhg117tw5ffvtt1q/fr3OnTsnSRo5cqRef/11DR48WImJiQoJCdGyZcvk4+NzQ/uYLzk5Wffdd5+6du2qhIQELV++XAMGDCgw9l+LFi3UuHFjffTRR2rQoIFatmx53brvvvtuVapUSUOGDNHYsWPl4uKiZcuW3dAYkcOGDZMk85LztfVee9/p7/Hz89PChQs1aNAgtWzZUv3791fVqlV17Ngxff7557rnnnsK/KeopLi6uupf//qXoqOj1ahRIw0bNkx/+ctfdOLECW3cuFF+fn7673//+7t1/PTTT+rUqZP69eunhg0byt3dXZ9++qlOnz6t/v37l0q7gXLBWY8fAzeDwoaB8fLyMpo3b24sXLjQYegJw7g6JMb48eON0NBQw8PDw6hXr54xc+ZMs1xiYqLh7u7uMLSLYRhGTk6O8de//tUIDQ01zp8/bxjG1aE7fH19jZ9//tmIjIw0fHx8jKCgIGPy5MlGbm6uw/q6ZhgYwzCMb7/91oiKijIqVKhg+Pj4GB07djS+/vrrAvv49ttvG7fffrvh5uZ2Q0OcfPjhh0ZYWJhhs9mMxo0bG//5z3+Mvn37GmFhYWaZ/GFgihpaY/369cY999xjeHt7G35+fkbPnj2NH3/8sUC5uLg4o3Hjxoanp6dRv359Y/ny5UUOJTJ69Ghj+fLlRr169QybzWa0aNGi0H05ffq0MXr0aKN69eqGh4eHERwcbHTq1Ml46623HModPXrUuO+++wwfHx+jSpUqxt/+9jdj7dq1f2gYmB9//NF44IEHjIoVKxqVKlUyYmJijEuXLhW6zowZMwxJxiuvvPK7df/W9u3bjdatWxve3t5GaGio8fTTTxvr1q0r0MZrh4GpWbNmocMbSTIWL15sGMb//9nftWuXwzY3btxY6Pdg48aNRlRUlOHv7294eXkZderUMYYOHeowNM/vHbvfKurnJ3/bH330kcP87777zrj//vuNypUrGzabzahZs6bRr18/46uvviqw7d8On2QYhnH27Flj9OjRRlhYmOHr62v4+/sbrVq1chgCCLAiF8O4gf9OAihxQ4cO1ccff3zDPWvO1Lx5c1WtWlXx8fFO2b6Li4tGjx5daj1NZWHu3LkaP368jhw5UuCpWAAoa9wDCMBkt9vNh1/ybdq0Sd9//706dOjgnEbdAgzD0DvvvKP27dsT/gDcFAiAAEwnTpxQWFiYpkyZorfeeksTJkxQt27dFBwcXGCA3T8j/32tZ8+eLYHW/r5atWpp6NChpb6d35OZmakPPvhAjz32mPbs2VPkg0BLliyRi4sL76YFUGZ4CASAqVKlSgoPD9e//vUvnTlzRr6+vurevbv++c9/qnLlys5uXrlz5swZDRgwQAEBAXruued03333ObtJACCJAAg4zZIlS7RkyRJnN8OBv7+/Vq5c6exmFPBnblU+ePCgXF2de5GjVq1af6rtAFDauAQM4KaXl5dXYCy367HZbPLw8CilFgFA+UYABFDmzp49q379+snPz0+VK1fW3/72N4eA5+LiopiYGK1YsUKNGjWSzWbT2rVrJUmzZs3S3XffrcqVK8vb21vh4eEOAzrnu/YewPz77LZv364JEyaoatWq8vX1VZ8+ff7QYMYff/yxXFxctHnz5gLL3nzzTbm4uDgMRL1hwwa1bdtWvr6+CggIUK9evbR///4b3h4AlAYCIIAy169fP12+fFmxsbHq1q2b5s2bp1GjRjmU2bBhg8aPH6+HHnpIc+fONV+vNnfuXLVo0ULTpk3TK6+8Ind3dz344IP6/PPPb2jbY8aM0ffff6/Jkyfr8ccf13//+1/FxMTccNu7d++uChUq6N///neBZStXrlSjRo3UuHFjSdL69esVFRWl1NRUTZkyRRMmTNDXX3+te+65hwc+ADgV9wACKHO1a9fWZ599JkkaPXq0/Pz89MYbb+jvf/+7mjZtKunqPXx79uxRw4YNHdb96aef5O3tbU7HxMSoZcuWmj17trp3737dbVeuXFlxcXHmO4Dz8vI0b948XbhwocC7mgvj7e2tnj176uOPP9a8efPMV7alpKRo8+bNDm87eeqppxQYGKiEhAQFBgZKknr37q0WLVpo8uTJWrp06XW3BwClgR5AAGVu9OjRDtNjxoyRJH3xxRfmvPbt2xcIf5Icwt/58+d14cIFtW3bttDXxxVm1KhRZviTpLZt2yo3N1dHjx694fY/9NBDSk1N1aZNm8x5H3/8sfLy8vTQQw9Juvpe46SkJA0dOtQMf5LUtGlTdenSxWFfAaCsEQABlLl69eo5TNepU0eurq4Ol0Vr165d6Lpr1qxR69at5eXlpcDAQFWtWlULFy7UhQsXbmjb1w7EXKlSJUlXw+SN6tq1a4EnpleuXKnmzZvrjjvukCQzUNavX7/A+g0aNNDZs2eVmZl5w9sEgJJEAATgdL/tkcv3256+fFu3btV9990nLy8vvfHGG/riiy8UHx+vAQMG3PBwK/mXbK/1R4Zrsdls6t27tz799FPl5OToxIkT2r59u9n7BwA3O+4BBFDmDh065NDDd/jwYeXl5ZkPehTlk08+kZeXl9atWyebzWbOX7x4cWk1tUgPPfSQli5dqq+++kr79++XYRgOAbBmzZqSrt7LeK0DBw6oSpUq8vX1LbP2AsBv0QMIoMwtWLDAYXr+/PmSpOjo6N9dz83NTS4uLsrNzTXnHTlyRKtXry7xNl5P586dFRgYqJUrV2rlypW66667HEJtSEiImjdvrqVLlyotLc2cv3fvXsXFxalbt25l3mYAyEcPIIAyl5ycrPvuu09du3ZVQkKCli9frgEDBqhZs2a/u1737t01e/Zsde3aVQMGDFBqaqoWLFigunXr6ocffiij1l/l4eGh+++/Xx9++KEyMzM1a9asAmVmzpyp6OhoRUREaMSIEbp06ZLmz58vf39/h6eFAaCs0QMIoMytXLlSNptNzz77rD7//HPFxMTonXfeue569957r9555x2lpKRo3Lhx+uCDDzR9+nT16dOnDFpd0EMPPaSMjAxJV8c2vFbnzp21du1aVa5cWZMmTdKsWbPUunVrbd++vciHXACgLLgYvKgSAADAUugBBAAAsBjuAQSA/5ORkWFe0i1K1apVixxKBgDKCwIgAPyfWbNmaerUqb9bJjk5+brD1QDAzY57AAHg//zyyy/65ZdffrdMmzZt5OXlVUYtAoDSQQAEAACwGB4CAQAAsBhL3wOYl5enkydPqmLFioW+ixQAANx6DMPQxYsXFRoaKldXi/aFGaVg8+bNRo8ePYyQkBBDkvHpp58WWfaxxx4zJBmvvfaaw/xff/3VGDBggFGxYkXD39/fGD58uHHx4kWHMt9//73Rpk0bw2azGbfddpsxffr0P9TO48ePG5L48OHDhw8fPhb8HD9+/A/lhltJqfQAZmZmqlmzZho+fLjuv//+Ist9+umn2rFjh0JDQwssGzhwoE6dOqX4+HjZ7XYNGzZMo0aN0vvvvy9JSk9PV2RkpDp37qxFixZpz549Gj58uAICAjRq1KgbamfFihUlScePH5efn9+f2FOUZ3a7XXFxcYqMjJSHh4ezmwOgDHH+W1t6erqqV69u5gArKpUAGB0dfd2Xup84cUJjxozRunXr1L17d4dl+/fv19q1a7Vr1y7deeedkq6+LL5bt26aNWuWQkNDtWLFCl25ckXvvvuuPD091ahRIyUlJWn27Nk3HADzL/v6+fkRAC3IbrfLx8dHfn5+/AEALIbzH5IsffuXU+4BzMvL06BBg/TUU0+pUaNGBZYnJCQoICDADH/S1Xdqurq6aufOnerTp48SEhLUrl07eXp6mmWioqI0ffp0nT9/XpUqVSpQb3Z2trKzs83p9PR0SVd/Edjt9pLcRZQD+cecYw9YD+e/tXHcnRQAp0+fLnd3d40dO7bQ5SkpKapWrZrDPHd3dwUGBiolJcUsc+3L1IOCgsxlhQXA2NjYQgd5jYuLk4+Pz5/aF5R/8fHxzm4CACfh/LemrKwsZzfB6co8ACYmJmru3Ln69ttvy7zrdeLEiZowYYI5nX8PQGRkJJeALchutys+Pl5dunThEhBgMZz/1pZ/BdDKyjwAbt26VampqapRo4Y5Lzc3V08++aTmzJmjI0eOKDg4WKmpqQ7r5eTk6Ny5cwoODpYkBQcH6/Tp0w5l8qfzy1zLZrPJZrMVmO/h4cEvAAvj+APWxflvTRxzJwwEPWjQIP3www9KSkoyP6GhoXrqqae0bt06SVJERITS0tKUmJhorrdhwwbl5eWpVatWZpktW7Y4XMePj49X/fr1C738CwAAgKtKpQcwIyNDhw8fNqeTk5OVlJSkwMBA1ahRQ5UrV3Yo7+HhoeDgYNWvX1+S1KBBA3Xt2lUjR47UokWLZLfbFRMTo/79+5tDxgwYMEBTp07ViBEj9Mwzz2jv3r2aO3euXnvttdLYJQAAgFtGqQTA3bt3q2PHjuZ0/n13Q4YM0ZIlS26ojhUrVigmJkadOnWSq6ur+vbtq3nz5pnL/f39FRcXp9GjRys8PFxVqlTRpEmTbngIGAAAAKsqlQDYoUMHGYZxw+WPHDlSYF5gYKA56HNRmjZtqq1bt/7R5gEAAFiaRV+ABwAAYF0EQAAAAIshAAIAAFgMARAAAMBinPIqOKA0ZWVl6cCBA9ctl3EpW1/v+VmVquxWBe+CA4RfKywsjFcGAgBuCQRA3HIOHDig8PDwGy4/4wbLJSYmqmXLln+uUQAA3EQIgLjlhIWFObxFpigHT6Vpwkd7NPvBJqofEnBD9QIAcCsgAOKW4+Pjc0M9da5Hf5Vt6yU1aNxMzWtWvm55AABuFTwEAgAAYDEEQAAAAIshAAIAAFgMARAAAMBiCIAAAAAWQwAEAACwGAIgAACAxRAAAQAALIYACAAAYDEEQAAAAIshAAIAAFgMARAAAMBiCIAAAAAWQwAEAACwGAIgAACAxRAAAQAALIYACAAAYDEEQAAAAIshAAIAAFgMARAAAMBiCIAAAAAWQwAEAACwGAIgAACAxRAAAQAALIYACAAAYDEEQAAAAIsplQC4ZcsW9ezZU6GhoXJxcdHq1asdlk+ZMkVhYWHy9fVVpUqV1LlzZ+3cudOhzLlz5zRw4ED5+fkpICBAI0aMUEZGhkOZH374QW3btpWXl5eqV6+uGTNmlMbuAAAA3FJKJQBmZmaqWbNmWrBgQaHL77jjDr3++uvas2ePtm3bplq1aikyMlJnzpwxywwcOFD79u1TfHy81qxZoy1btmjUqFHm8vT0dEVGRqpmzZpKTEzUzJkzNWXKFL311lulsUsAAAC3DPfSqDQ6OlrR0dFFLh8wYIDD9OzZs/XOO+/ohx9+UKdOnbR//36tXbtWu3bt0p133ilJmj9/vrp166ZZs2YpNDRUK1as0JUrV/Tuu+/K09NTjRo1UlJSkmbPnu0QFAEAAOCoVALgH3HlyhW99dZb8vf3V7NmzSRJCQkJCggIMMOfJHXu3Fmurq7auXOn+vTpo4SEBLVr106enp5mmaioKE2fPl3nz59XpUqVCmwrOztb2dnZ5nR6erokyW63y263l9Yu4iaVk5NjfuX4A9aSf85z7lsTx92JAXDNmjXq37+/srKyFBISovj4eFWpUkWSlJKSomrVqjmUd3d3V2BgoFJSUswytWvXdigTFBRkLissAMbGxmrq1KkF5sfFxcnHx6dE9gvlx/EMSXLXjh07dGKvs1sDwBni4+Od3QQ4QVZWlrOb4HROC4AdO3ZUUlKSzp49q7ffflv9+vXTzp07CwS/kjRx4kRNmDDBnE5PT1f16tUVGRkpPz+/Utsubk7fHzsn7dmt1q1bq1mNQGc3B0AZstvtio+PV5cuXeTh4eHs5qCM5V8BtDKnBUBfX1/VrVtXdevWVevWrVWvXj298847mjhxooKDg5WamupQPicnR+fOnVNwcLAkKTg4WKdPn3Yokz+dX+ZaNptNNputwHwPDw9+AViQu7u7+ZXjD1gTv/+tiWN+E40DmJeXZ96fFxERobS0NCUmJprLN2zYoLy8PLVq1coss2XLFofr+PHx8apfv36hl38BAABwVakEwIyMDCUlJSkpKUmSlJycrKSkJB07dkyZmZl67rnntGPHDh09elSJiYkaPny4Tpw4oQcffFCS1KBBA3Xt2lUjR47UN998o+3btysmJkb9+/dXaGiopKtPEnt6emrEiBHat2+fVq5cqblz5zpc4gUAAEBBpXIJePfu3erYsaM5nR/KhgwZokWLFunAgQNaunSpzp49q8qVK+uvf/2rtm7dqkaNGpnrrFixQjExMerUqZNcXV3Vt29fzZs3z1zu7++vuLg4jR49WuHh4apSpYomTZrEEDAAAADXUSoBsEOHDjIMo8jlq1atum4dgYGBev/993+3TNOmTbV169Y/3D4AAAAru2nuAQQAAEDZIAACAABYDAEQAADAYgiAAAAAFkMABAAAsBgCIAAAgMUQAAEAACyGAAgAAGAxBEAAAACLIQACAABYDAEQAADAYgiAAAAAFkMABAAAsBgCIAAAgMUQAAEAACyGAAgAAGAxBEAAAACLIQACAABYDAEQAADAYgiAAAAAFkMABAAAsBgCIAAAgMUQAAEAACyGAAgAAGAxBEAAAACLIQACAABYDAEQAADAYgiAAAAAFkMABAAAsBgCIAAAgMUQAAEAACyGAAgAAGAxBEAAAACLKZUAuGXLFvXs2VOhoaFycXHR6tWrzWV2u13PPPOMmjRpIl9fX4WGhmrw4ME6efKkQx3nzp3TwIED5efnp4CAAI0YMUIZGRkOZX744Qe1bdtWXl5eql69umbMmFEauwMAAHBLKZUAmJmZqWbNmmnBggUFlmVlZenbb7/VCy+8oG+//VarVq3SwYMHdd999zmUGzhwoPbt26f4+HitWbNGW7Zs0ahRo8zl6enpioyMVM2aNZWYmKiZM2dqypQpeuutt0pjlwAAAG4Z7qVRaXR0tKKjowtd5u/vr/j4eId5r7/+uu666y4dO3ZMNWrU0P79+7V27Vrt2rVLd955pyRp/vz56tatm2bNmqXQ0FCtWLFCV65c0bvvvitPT081atRISUlJmj17tkNQBAAAgKOb4h7ACxcuyMXFRQEBAZKkhIQEBQQEmOFPkjp37ixXV1ft3LnTLNOuXTt5enqaZaKionTw4EGdP3++TNsPAABQnpRKD+AfcfnyZT3zzDN6+OGH5efnJ0lKSUlRtWrVHMq5u7srMDBQKSkpZpnatWs7lAkKCjKXVapUqcC2srOzlZ2dbU6np6dLunpfot1uL7mdQrmQk5NjfuX4A9aSf85z7lsTx93JAdBut6tfv34yDEMLFy4s9e3FxsZq6tSpBebHxcXJx8en1LePm8vxDEly144dO3Rir7NbA8AZrr0lCdaQlZXl7CY4ndMCYH74O3r0qDZs2GD2/klScHCwUlNTHcrn5OTo3LlzCg4ONsucPn3aoUz+dH6Za02cOFETJkwwp9PT01W9enVFRkY6bB/W8P2xc9Ke3WrdurWa1Qh0dnMAlCG73a74+Hh16dJFHh4ezm4Oylj+FUArc0oAzA9/hw4d0saNG1W5cmWH5REREUpLS1NiYqLCw8MlSRs2bFBeXp5atWpllvnHP/4hu91unrzx8fGqX79+oZd/Jclms8lmsxWY7+HhwS8AC3J3dze/cvwBa+L3vzVxzEvpIZCMjAwlJSUpKSlJkpScnKykpCQdO3ZMdrtdDzzwgHbv3q0VK1YoNzdXKSkpSklJ0ZUrVyRJDRo0UNeuXTVy5Eh988032r59u2JiYtS/f3+FhoZKkgYMGCBPT0+NGDFC+/bt08qVKzV37lyHHj4AAAAUVCo9gLt371bHjh3N6fxQNmTIEE2ZMkX/+c9/JEnNmzd3WG/jxo3q0KGDJGnFihWKiYlRp06d5Orqqr59+2revHlmWX9/f8XFxWn06NEKDw9XlSpVNGnSJIaAAQAAuI5SCYAdOnSQYRhFLv+9ZfkCAwP1/vvv/26Zpk2bauvWrX+4fQAAAFZ2U4wDCAAAgLJDAAQAALAYAiAAAIDFEAABAAAshgAIAABgMQRAAAAAiyEAAgAAWAwBEAAAwGIIgAAAABZDAAQAALAYAiAAAIDFEAABAAAshgAIALCU3Nxcbd68WVu2bNHmzZuVm5vr7CYBZY4ACACwjFWrVqlu3brq0qWLZs+erS5duqhu3bpatWqVs5sGlCkCIADAElatWqUHHnhATZo00datW/XBBx9o69atatKkiR544AFCICyFAAgAuOXl5ubqySefVI8ePbR69Wq1atVK3t7eatWqlVavXq0ePXro73//O5eDYRkEQADALW/r1q06cuSInnvuObm6Ov7pc3V11cSJE5WcnKytW7c6qYVA2SIAAgBueadOnZIkNW7cuNDl+fPzywG3OgIgAOCWFxISIknau3dvocvz5+eXA251BEAAwC2vbdu2qlWrll555RXl5eU5LMvLy1NsbKxq166ttm3bOqmFQNkiAAIAbnlubm569dVXtWbNGvXu3Vs7duzQpUuXtGPHDvXu3Vtr1qzRrFmz5Obm5uymAmXC3dkNAACgLNx///36+OOP9eSTT6pdu3bm/Nq1a+vjjz/W/fff78TWAWWLAAgAsIz7779fvXr10saNG/Xll18qOjpaHTt2pOcPlkMABABYipubm9q3b6/MzEy1b9+e8AdL4h5AAAAAiyEAAgAAWAwBEAAAwGIIgAAAABZDAAQAALAYAiAAAIDFEAABAAAshgAIAABgMQwEjXIn+WymMrNzil3Pz2cyza/u7sU/FXxt7qpdxbfY9QAAUNoIgChXks9mquOsTSVa55Mf7ymxujb+vQMhEABw0yuVALhlyxbNnDlTiYmJOnXqlD799FP17t3bXL5q1SotWrRIiYmJOnfunL777js1b97coY7Lly/rySef1Icffqjs7GxFRUXpjTfeUFBQkFnm2LFjevzxx7Vx40ZVqFBBQ4YMUWxsbIn05uDmlN/zN+eh5qpbrULx6rqUrTWbEtSjQ4R8vW3FqutwaobGrUwqkZ5JAABKW6kkpczMTDVr1kzDhw/X/fffX+jyNm3aqF+/fho5cmShdYwfP16ff/65PvroI/n7+ysmJkb333+/tm/fLknKzc1V9+7dFRwcrK+//lqnTp3S4MGD5eHhoVdeeaU0dgs3kbrVKqjxX/yLVYfdbldKVallzUry8PAooZYBAHDzK5UAGB0drejo6CKXDxo0SJJ05MiRQpdfuHBB77zzjt5//33de++9kqTFixerQYMG2rFjh1q3bq24uDj9+OOPWr9+vYKCgtS8eXO9+OKLeuaZZzRlyhR5enqW+H4BAADcCm7Kp4ATExNlt9vVuXNnc15YWJhq1KihhIQESVJCQoKaNGnicEk4KipK6enp2rdvX5m3GQAAoLy4KW+WS0lJkaenpwICAhzmBwUFKSUlxSzz2/CXvzx/WWGys7OVnZ1tTqenp0u6einQbreXVPNRinJycsyvxT1m+euXxLEvyXYBKH0lef6j/OG436QBsLTExsZq6tSpBebHxcXJx8fHCS3CH3U8Q5LctW3bNh0t3jMgpvj4+GLXURrtAlD6SuL8R/mTlZXl7CY43U0ZAIODg3XlyhWlpaU59AKePn1awcHBZplvvvnGYb3Tp0+bywozceJETZgwwZxOT09X9erVFRkZKT8/vxLeC5SGfSfTNWvPDrVp00aNQot3zOx2u+Lj49WlS5diPwRSku0CUPpK8vxH+ZN/BdDKbsoAGB4eLg8PD3311Vfq27evJOngwYM6duyYIiIiJEkRERF6+eWXlZqaqmrVqkm6+j85Pz8/NWzYsNB6bTabbLaCw314eHjwC6CcyB/ix93dvcSOWUkc/9JoF4DSx+9/a+KYl1IAzMjI0OHDh83p5ORkJSUlKTAwUDVq1NC5c+d07NgxnTx5UtLVcCdd7bkLDg6Wv7+/RowYoQkTJigwMFB+fn4aM2aMIiIi1Lp1a0lSZGSkGjZsqEGDBmnGjBlKSUnR888/r9GjRxca8gAAAHBVqTwFvHv3brVo0UItWrSQJE2YMEEtWrTQpEmTJEn/+c9/1KJFC3Xv3l2S1L9/f7Vo0UKLFi0y63jttdfUo0cP9e3bV+3atVNwcLBWrVplLndzc9OaNWvk5uamiIgIPfLIIxo8eLCmTZtWGrsEAABwyyiVHsAOHTrIMIwilw8dOlRDhw793Tq8vLy0YMECLViwoMgyNWvW1BdffPFnmwkAAGBJN+U4gAAAACg9BEAAAACLIQACAABYDAEQAADAYgiAAAAAFnNTDgQNAMCfkZWVpQMHDly3XMalbH2952dVqrJbFbyvP3ZsWFgYrwzFLYUACAC4ZRw4cEDh4eE3XH7GDZZLTExUy5Yt/1yjgJsQARAAcMsICwtTYmLidcsdPJWmCR/t0ewHm6h+SMAN1QvcSgiAAIBbho+Pzw311Lke/VW2rZfUoHEzNa9ZuQxaBtxceAgEAADAYgiAAAAAFkMABAAAsBgCIAAAgMUQAAEAACyGAAgAAGAxBEAAAACLIQACAABYDAEQAADAYgiAAAAAFkMABAAAsBgCIAAAgMUQAAEAACyGAAgAAGAxBEAAAACLIQACAABYDAEQAADAYgiAAAAAFkMABAAAsBgCIAAAgMW4O7sBwB/l4p6u5PSDcvWqUKx6cnJydDLnpPaf2y939+KdCsnpGXJxTy9WHQAAlBUCIModj4Cdeu6bV0qsvjfWvlEi9XgEdJLUrUTqAgCgNBEAUe7Y01rp1e4DVKda8XsAt2/brnva3FPsHsCfUzM0dsXPxaoDAICyQgBEuWPk+Km2X301rOxfrHrsdruS3ZPVILCBPDw8ilVX3uULMnLOFKsOAADKCg+BAAAAWEypBMAtW7aoZ8+eCg0NlYuLi1avXu2w3DAMTZo0SSEhIfL29lbnzp116NAhhzLnzp3TwIED5efnp4CAAI0YMUIZGRkOZX744Qe1bdtWXl5eql69umbMmFEauwMAAHBLKZUAmJmZqWbNmmnBggWFLp8xY4bmzZunRYsWaefOnfL19VVUVJQuX75slhk4cKD27dun+Ph4rVmzRlu2bNGoUaPM5enp6YqMjFTNmjWVmJiomTNnasqUKXrrrbdKY5cAAABuGaVyD2B0dLSio6MLXWYYhubMmaPnn39evXr1kiS99957CgoK0urVq9W/f3/t379fa9eu1a5du3TnnXdKkubPn69u3bpp1qxZCg0N1YoVK3TlyhW9++678vT0VKNGjZSUlKTZs2c7BEUAAAA4KvOHQJKTk5WSkqLOnTub8/z9/dWqVSslJCSof//+SkhIUEBAgBn+JKlz585ydXXVzp071adPHyUkJKhdu3by9PQ0y0RFRWn69Ok6f/68KlWqVGDb2dnZys7ONqfT06+O22a322W320tjd1HCcnJyzK/FPWb565fEsS/JdgEofZyz1sYxd0IATElJkSQFBQU5zA8KCjKXpaSkqFq1ag7L3d3dFRgY6FCmdu3aBerIX1ZYAIyNjdXUqVMLzI+Li5OPj8+f3COUpeMZkuSubdu26WjxRoExxcfHF7uO0mgXgNKTf87u2LFDJ/Y6uzUoa1lZWc5ugtNZahiYiRMnasKECeZ0enq6qlevrsjISPn5+TmxZbhR+06ma9aeHWrTpo0ahRbvmNntdsXHx6tLly7FHgamJNsFoPR9f+yctGe3WrdurWY1Ap3dHJSx/CuAVlbmATA4OFiSdPr0aYWEhJjzT58+rebNm5tlUlNTHdbLycnRuXPnzPWDg4N1+vRphzL50/llrmWz2WSz2QrM9/DwKHYAQNnIH7DZ3d29xI5ZSRz/0mgXgNLDOWttHHMnjANYu3ZtBQcH66uvvjLnpaena+fOnYqIiJAkRUREKC0tTYmJiWaZDRs2KC8vT61atTLLbNmyxeE6fnx8vOrXr1/o5V8AAABcVSoBMCMjQ0lJSUpKSpJ09cGPpKQkHTt2TC4uLho3bpxeeukl/ec//9GePXs0ePBghYaGqnfv3pKkBg0aqGvXrho5cqS++eYbbd++XTExMerfv79CQ0MlSQMGDJCnp6dGjBihffv2aeXKlZo7d67DJV4AAAAUVCqXgHfv3q2OHTua0/mhbMiQIVqyZImefvppZWZmatSoUUpLS1ObNm20du1aeXl5meusWLFCMTEx6tSpk1xdXdW3b1/NmzfPXO7v76+4uDiNHj1a4eHhqlKliiZNmsQQMAAAANdRKgGwQ4cOMgyjyOUuLi6aNm2apk2bVmSZwMBAvf/++7+7naZNm2rr1q1/up0AAABWxLuAAQAALIYACAAAYDEEQAAAAIshAAIAAFgMARAAAMBiCIAAAAAWQwAEAACwGAIgAACAxRAAAQAALIYACAAAYDEEQAAAAIshAAIAAFgMARAAAMBiCIAAAAAWQwAEAACwGAIgAACAxRAAAQAALIYACAAAYDEEQAAAAIshAAIAAFgMARAAAMBiCIAAAAAW4+7sBgAAcKOSz2YqMzun2PX8fCbT/OruXvw/hb42d9Wu4lvseoCyQgAEAJQLyWcz1XHWphKt88mP95RYXRv/3oEQiHKDAAgAKBfye/7mPNRcdatVKF5dl7K1ZlOCenSIkK+3rVh1HU7N0LiVSSXSMwmUFQIgAKBcqVutghr/xb9YddjtdqVUlVrWrCQPD48SahlQfhAAUa5csudKkvaeuFDsujIvZWv3GSn46PkS6QEAAKC8IACiXPn5/4LWs6tK6r4ddy07vKuE6rp6IzgAADc7/lqhXIlsFCxJqlOtgrw93IpV18FTF/Tkx3v06gNNVD+keJeTJJ4CBACUHwRAlCuBvp7qf1eNEqkrJ+fqDdt1qvoW+34iAADKEwaCBgAAsBgCIAAAgMUQAAEAACyGAAgAAGAxTguAFy9e1Lhx41SzZk15e3vr7rvv1q5d/384DsMwNGnSJIWEhMjb21udO3fWoUOHHOo4d+6cBg4cKD8/PwUEBGjEiBHKyGA8NgAAgN/jtAD46KOPKj4+XsuWLdOePXsUGRmpzp0768SJE5KkGTNmaN68eVq0aJF27twpX19fRUVF6fLly2YdAwcO1L59+xQfH681a9Zoy5YtGjVqlLN2CQAAoFxwSgC8dOmSPvnkE82YMUPt2rVT3bp1NWXKFNWtW1cLFy6UYRiaM2eOnn/+efXq1UtNmzbVe++9p5MnT2r16tWSpP3792vt2rX617/+pVatWqlNmzaaP3++PvzwQ508edIZuwUAAFAuOGUcwJycHOXm5srLy8thvre3t7Zt26bk5GSlpKSoc+fO5jJ/f3+1atVKCQkJ6t+/vxISEhQQEKA777zTLNO5c2e5urpq586d6tOnT4HtZmdnKzs725xOT0+XdPWdkHa7vaR3Eze5/HEAc3JyOP5AOVCS52z++iVx7vO7pPzhODkpAFasWFERERF68cUX1aBBAwUFBemDDz5QQkKC6tatq5SUFElSUFCQw3pBQUHmspSUFFWrVs1hubu7uwIDA80y14qNjdXUqVMLzI+Li5OPj09J7BrKkeMZkuSuHTt26MReZ7cGwPXkn7Pbtm3T0QolU2d8fHyx6yiNdqF0ZWVlObsJTue0N4EsW7ZMw4cP11/+8he5ubmpZcuWevjhh5WYmFhq25w4caImTJhgTqenp6t69eqKjIyUn59fqW0XN6fvj52T9uxW69at1axGoLObA+A69p1M16w9O9SmTRs1Ci3e72y73a74+Hh16dJFHh4eN027UDbyrwBamdMCYJ06dbR582ZlZmYqPT1dISEheuihh3T77bcrOPjq+15Pnz6tkJAQc53Tp0+refPmkqTg4GClpqY61JmTk6Nz586Z61/LZrPJZrMVmO/h4VHsXwAof9zd3c2vHH/g5lca52xJ/P7nd0n5w3G6CcYB9PX1VUhIiM6fP69169apV69eql27toKDg/XVV1+Z5dLT07Vz505FRERIkiIiIpSWlubQY7hhwwbl5eWpVatWZb4fAAAA5YXTegDXrVsnwzBUv359HT58WE899ZTCwsI0bNgwubi4aNy4cXrppZdUr1491a5dWy+88IJCQ0PVu3dvSVKDBg3UtWtXjRw5UosWLZLdbldMTIz69++v0NBQZ+0WAADATc9pAfDChQuaOHGi/vd//1eBgYHq27evXn75ZbNb9umnn1ZmZqZGjRqltLQ0tWnTRmvXrnV4cnjFihWKiYlRp06d5Orqqr59+2revHnO2iUAAIBywWkBsF+/furXr1+Ry11cXDRt2jRNmzatyDKBgYF6//33S6N5AAAAtyyn3wMIAACAskUABAAAsBgCIAAAgMUQAAEAACyGAAgAAGAxBEAAAACLIQACAABYDAEQAADAYgiAAAAAFuO0N4EAAPBHubinKzn9oFy9KhSrnpycHJ3MOan95/bL3b14fwqT0zPk4p5erDqAskYABACUGx4BO/XcN6+UWH1vrH2jROrxCOgkqVuJ1AWUBQIgAKDcsKe10qvdB6hOteL3AG7ftl33tLmn2D2AP6dmaOyKn4tVB1DWCIAAgHLDyPFTbb/6aljZv1j12O12Jbsnq0FgA3l4eBSrrrzLF2TknClWHUBZ4yEQAAAAiyEAAgAAWAwBEAAAwGIIgAAAABZDAAQAALAYAiAAAIDFEAABAAAshgAIAABgMQRAAAAAiyEAAgAAWAwBEAAAwGIIgAAAABZDAAQAALAYAiAAAIDFEAABAAAshgAIAABgMQRAAAAAiyEAAgAAWAwBEAAAwGLcnd0AAABuxCV7riRp74kLxa4r81K2dp+Rgo+el6+3rVh1HU7NKHZ7gLLmlACYm5urKVOmaPny5UpJSVFoaKiGDh2q559/Xi4uLpIkwzA0efJkvf3220pLS9M999yjhQsXql69emY9586d05gxY/Tf//5Xrq6u6tu3r+bOnasKFSo4Y7cAAKXo5/8LWs+u2lNCNbpr2eFdJVSX5GujTwXlh1N+WqdPn66FCxdq6dKlatSokXbv3q1hw4bJ399fY8eOlSTNmDFD8+bN09KlS1W7dm298MILioqK0o8//igvLy9J0sCBA3Xq1CnFx8fLbrdr2LBhGjVqlN5//31n7BYAoBRFNgqWJNWpVkHeHm7FquvgqQt68uM9evWBJqof4l/stvna3FW7im+x6wHKilMC4Ndff61evXqpe/fukqRatWrpgw8+0DfffCPpau/fnDlz9Pzzz6tXr16SpPfee09BQUFavXq1+vfvr/3792vt2rXatWuX7rzzTknS/Pnz1a1bN82aNUuhoaHO2DUAQCkJ9PVU/7tqlEhdOTk5kqQ6VX3V+C/FD4BAeeOUh0DuvvtuffXVV/rpp58kSd9//722bdum6OhoSVJycrJSUlLUuXNncx1/f3+1atVKCQkJkqSEhAQFBASY4U+SOnfuLFdXV+3cubMM9wYAAKB8cUoP4LPPPqv09HSFhYXJzc1Nubm5evnllzVw4EBJUkpKiiQpKCjIYb2goCBzWUpKiqpVq+aw3N3dXYGBgWaZa2VnZys7O9ucTk9PlyTZ7XbZ7faS2TmUG/k9ADk5ORx/wGI4/62NY+6kAPjvf/9bK1as0Pvvv69GjRopKSlJ48aNU2hoqIYMGVJq242NjdXUqVMLzI+Li5OPj0+pbRc3p+MZkuSuHTt26MReZ7cGQFni/Le2rKwsZzfB6ZwSAJ966ik9++yz6t+/vySpSZMmOnr0qGJjYzVkyBAFB1+90ff06dMKCQkx1zt9+rSaN28uSQoODlZqaqpDvTk5OTp37py5/rUmTpyoCRMmmNPp6emqXr26IiMj5efnV5K7iHLg+2PnpD271bp1azWrEejs5gAoQ5z/1pZ/BdDKnBIAs7Ky5OrqePuhm5ub8vLyJEm1a9dWcHCwvvrqKzPwpaena+fOnXr88cclSREREUpLS1NiYqLCw8MlSRs2bFBeXp5atWpV6HZtNptstoLjPXl4eMjDw6Okdg/lhLu7u/mV4w9YC+e/tXHMnRQAe/bsqZdfflk1atRQo0aN9N1332n27NkaPny4JMnFxUXjxo3TSy+9pHr16pnDwISGhqp3796SpAYNGqhr164aOXKkFi1aJLvdrpiYGPXv358ngAEAAH6HUwLg/Pnz9cILL+iJJ55QamqqQkND9dhjj2nSpElmmaefflqZmZkaNWqU0tLS1KZNG61du9YcA1CSVqxYoZiYGHXq1MkcCHrevHnO2CUAAIByw8UwDMPZjXCW9PR0+fv768KFC9wDaEFJR39V74U7tPrx1mpes7KzmwOgDHH+Wxt//500DiAAAACchwAIAABgMQRAAAAAiyEAAgAAWAwBEAAAwGIIgAAAABZDAAQAALAYAiAAAIDFEAABAAAshgAIAABgMQRAAAAAiyEAAgAAWAwBEAAAwGIIgAAAABZDAAQAALAYAiAAAIDFEAABAAAshgAIAABgMQRAAAAAiyEAAgAAWAwBEAAAwGIIgAAAABZDAAQAALAYAiAAAIDFEAABAAAshgAIAABgMQRAAAAAiyEAAgAAWAwBEAAAwGIIgAAAABZDAAQAALAYAiAAAIDFEAABAAAshgAIAABgMU4JgLVq1ZKLi0uBz+jRoyVJly9f1ujRo1W5cmVVqFBBffv21enTpx3qOHbsmLp37y4fHx9Vq1ZNTz31lHJycpyxOwAAAOWKUwLgrl27dOrUKfMTHx8vSXrwwQclSePHj9d///tfffTRR9q8ebNOnjyp+++/31w/NzdX3bt315UrV/T1119r6dKlWrJkiSZNmuSM3QEAAChXnBIAq1atquDgYPOzZs0a1alTR+3bt9eFCxf0zjvvaPbs2br33nsVHh6uxYsX6+uvv9aOHTskSXFxcfrxxx+1fPlyNW/eXNHR0XrxxRe1YMECXblyxRm7BAAAUG44/R7AK1euaPny5Ro+fLhcXFyUmJgou92uzp07m2XCwsJUo0YNJSQkSJISEhLUpEkTBQUFmWWioqKUnp6uffv2lfk+AAAAlCfuzm7A6tWrlZaWpqFDh0qSUlJS5OnpqYCAAIdyQUFBSklJMcv8NvzlL89fVpTs7GxlZ2eb0+np6ZIku90uu91e3F1BOZN/z2hOTg7HH7AYzn9r45jfBAHwnXfeUXR0tEJDQ0t9W7GxsZo6dWqB+XFxcfLx8Sn17ePmcjxDkty1Y8cOndjr7NYAKEuc/9aWlZXl7CY4nVMD4NGjR7V+/XqtWrXKnBccHKwrV64oLS3NoRfw9OnTCg4ONst88803DnXlPyWcX6YwEydO1IQJE8zp9PR0Va9eXZGRkfLz8yuJXUI58v2xc9Ke3WrdurWa1Qh0dnMAlCHOf2vLvwJoZU4NgIsXL1a1atXUvXt3c154eLg8PDz01VdfqW/fvpKkgwcP6tixY4qIiJAkRURE6OWXX1ZqaqqqVasmSYqPj5efn58aNmxY5PZsNptsNluB+R4eHvLw8CjJXUM54O7ubn7l+APWwvlvbRxzJwbAvLw8LV68WEOGDDFPREny9/fXiBEjNGHCBAUGBsrPz09jxoxRRESEWrduLUmKjIxUw4YNNWjQIM2YMUMpKSl6/vnnNXr06EIDHgAAAP4/pwXA9evX69ixYxo+fHiBZa+99ppcXV3Vt29fZWdnKyoqSm+88Ya53M3NTWvWrNHjjz+uiIgI+fr6asiQIZo2bVpZ7gIAAEC55LQAGBkZKcMwCl3m5eWlBQsWaMGCBUWuX7NmTX3xxRel1TwAAIBbltPHAQQAAEDZIgACAABYDAEQAADAYgiAAAAAFkMABAAAsBgCIAAAgMU4/V3AQEnLysrSgQMHrlvu4Kk0Zacc1v693sr7NeC65cPCwnhnNADglkAAxC3nwIEDCg8Pv+HyA5beWLnExES1bNnyT7YKAICbBwEQt5ywsDAlJiZet1zGpWx9vjFB3TtGqIL39V8hGBYWVhLNAwDA6QiAuOX4+PjcUE+d3W7X+bOpirjrTl4MDgCwFB4CAQAAsBgCIAAAgMUQAAEAACyGAAgAAGAxBEAAAACLIQACAABYDAEQAADAYgiAAAAAFkMABAAAsBjeBAIAuGVkZWXpwIED1y138FSaslMOa/9eb+X9GnDd8mFhYfLx8SmBFgI3BwIgAOCWceDAAYWHh99w+QFLb6xcYmLiDb1iEigvCIAAgFtGWFiYEhMTr1su41K2Pt+YoO4dI1TB23ZD9QK3EgIgAOCW4ePjc0M9dXa7XefPpirirjvl4eFRBi0Dbi48BAIAAGAxBEAAAACLIQACAABYDAEQAADAYgiAAAAAFkMABAAAsBgCIAAAgMUQAAEAACyGAAgAAGAxBEAAAACLIQACAABYDAEQAADAYtyd3QBnMgxDkpSenu7klsAZ7Ha7srKylJ6ezsvgAYvh/Le2/L/7+TnAiiwdAC9evChJql69upNbAgAAytrFixfl7+/v7GY4hYth4fibl5enkydPqmLFinJxcXF2c1DG0tPTVb16dR0/flx+fn7Obg6AMsT5b22GYejixYsKDQ2Vq6s174azdA+gq6urbrvtNmc3A07m5+fHHwDAojj/rcuqPX/5rBl7AQAALIwACAAAYDEEQFiWzWbT5MmTZbPZnN0UAGWM8x9WZ+mHQAAAAKyIHkAAAACLIQACAABYDAEQAADAYgiAsKQlS5YoICDA2c0AAMApCIAo14YOHSoXF5cCn8OHDzu7aQDKQGHn/28/U6ZMcXYTgZuSpd8EgltD165dtXjxYod5VatWdVJrAJSlU6dOmf9euXKlJk2apIMHD5rzKlSoYP7bMAzl5ubK3Z0/fQA9gCj3bDabgoODHT5z585VkyZN5Ovrq+rVq+uJJ55QRkZGkXV8//336tixoypWrCg/Pz+Fh4dr9+7d5vJt27apbdu28vb2VvXq1TV27FhlZmaWxe4B+B2/Pe/9/f3l4uJiTh84cEAVK1bUl19+qfDwcNlsNm3btk1Dhw5V7969HeoZN26cOnToYE7n5eUpNjZWtWvXlre3t5o1a6aPP/64bHcOKEUEQNySXF1dNW/ePO3bt09Lly7Vhg0b9PTTTxdZfuDAgbrtttu0a9cuJSYm6tlnn5WHh4ck6eeff1bXrl3Vt29f/fDDD1q5cqW2bdummJiYstodAMXw7LPP6p///Kf279+vpk2b3tA6sbGxeu+997Ro0SLt27dP48eP1yOPPKLNmzeXcmuBskE/OMq9NWvWOFzmiY6O1kcffWRO16pVSy+99JL+53/+R2+88UahdRw7dkxPPfWUwsLCJEn16tUzl8XGxmrgwIEaN26cuWzevHlq3769Fi5cKC8vr1LYKwAlZdq0aerSpcsNl8/OztYrr7yi9evXKyIiQpJ0++23a9u2bXrzzTfVvn370moqUGYIgCj3OnbsqIULF5rTvr6+Wr9+vWJjY3XgwAGlp6crJydHly9fVlZWlnx8fArUMWHCBD366KNatmyZOnfurAcffFB16tSRdPXy8A8//KAVK1aY5Q3DUF5enpKTk9WgQYPS30kAf9qdd975h8ofPnxYWVlZBULjlStX1KJFi5JsGuA0BECUe76+vqpbt645feTIEfXo0UOPP/64Xn75ZQUGBmrbtm0aMWKErly5UmgAnDJligYMGKDPP/9cX375pSZPnqwPP/xQffr0UUZGhh577DGNHTu2wHo1atQo1X0DUHy+vr4O066urrr2Lah2u938d/79wp9//rn+8pe/OJTj3cG4VRAAcctJTExUXl6eXn31Vbm6Xr3N9d///vd117vjjjt0xx13aPz48Xr44Ye1ePFi9enTRy1bttSPP/7oEDIBlF9Vq1bV3r17HeYlJSWZ9/02bNhQNptNx44d43Ivblk8BIJbTt26dWW32zV//nz98ssvWrZsmRYtWlRk+UuXLikmJkabNm3S0aNHtX37du3atcu8tPvMM8/o66+/VkxMjJKSknTo0CF99tlnPAQClFP33nuvdu/erffee0+HDh3S5MmTHQJhxYoV9fe//13jx4/X0qVL9fPPP+vbb7/V/PnztXTpUie2HCg5BEDccpo1a6bZs2dr+vTpaty4sVasWKHY2Ngiy7u5uenXX3/V4MGDdccdd6hfv36Kjo7W1KlTJUlNmzbV5s2b9dNPP6lt27Zq0aKFJk2apNDQ0LLaJQAlKCoqSi+88IKefvpp/fWvf9XFixc1ePBghzIvvviiXnjhBcXGxqpBgwbq2rWrPv/8c9WuXdtJrQZKlotx7Y0QAAAAuKXRAwgAAGAxBEAAAACLIQACAABYDAEQAADAYgiAAAAAFkMABAAAsBgCIAAAgMUQAAHcFI4cOSIXFxclJSXdUPlatWppzpw5xdrm0KFD1bt372LVAQDlEe8CBmBZc+fOFWPhA7AiAiAAy/L393fKdq9cuSJPT0+nbBsAJC4BAyhDa9euVZs2bRQQEKDKlSurR48e+vnnnwstO3ToULm4uBT4bNq0ySyTlZWl4cOHq2LFiqpRo4beeusthzqOHz+ufv36KSAgQIGBgerVq5eOHDnisI3fXgLu0KGDxowZo3HjxqlSpUoKCgrS22+/rczMTA0bNkwVK1ZU3bp19eWXXzpsZ+/evYqOjlaFChUUFBSkQYMG6ezZsw71xsTEaNy4capSpYqioqJkGIamTJmiGjVqyGazKTQ0VGPHjv3z31wA+AMIgADKTGZmpiZMmKDdu3frq6++kqurq/r06aO8vLwCZefOnatTp06Zn7/97W+qVq2awsLCzDKvvvqq7rzzTn333Xd64okn9Pjjj+vgwYOSJLvdrqioKFWsWFFbt27V9u3bVaFCBXXt2lVXrlwpso1Lly5VlSpV9M0332jMmDF6/PHH9eCDD+ruu+/Wt99+q8jISA0aNEhZWVmSpLS0NN17771q0aKFdu/erbVr1+r06dPq169fgXo9PT21fft2LVq0SJ988olee+01vfnmmzp06JBWr16tJk2alMS3GQCuzwAAJzlz5owhydizZ4+RnJxsSDK+++67AuU++eQTw8vLy9i2bZs5r2bNmsYjjzxiTufl5RnVqlUzFi5caBiGYSxbtsyoX7++kZeXZ5bJzs42vL29jXXr1hmGYRhDhgwxevXqZS5v37690aZNG3M6JyfH8PX1NQYNGmTOO3XqlCHJSEhIMAzDMF588UUjMjLSob3Hjx83JBkHDx40623RooVDmVdffdW44447jCtXrtzQ9woAShI9gADKzKFDh/Twww/r9ttvl5+fn2rVqiVJOnbsWJHrfPfddxo0aJBef/113XPPPQ7LmjZtav7bxcVFwcHBSk1NlSR9//33Onz4sCpWrKgKFSqoQoUKCgwM1OXLl4u87HxtnW5ubqpcubJDz1xQUJAkOWxn48aN5jYqVKhg9lL+djvh4eEO23nwwQd16dIl3X777Ro5cqQ+/fRT5eTkFNkuAChJPAQCoMz07NlTNWvW1Ntvv63Q0FDl5eWpcePGRV6STUlJ0X333adHH31UI0aMKLDcw8PDYdrFxcW8nJyRkaHw8HCtWLGiwHpVq1Ytso2F1fnbeS4uLpLksJ2ePXtq+vTpBeoKCQkx/+3r6+uwrHr16jp48KDWr1+v+Ph4PfHEE5o5c6Y2b95coA0AUNIIgADKxK+//qqDBw/q7bffVtu2bSVJ27ZtK7L85cuX1atXL4WFhWn27Nl/eHstW7bUypUrVa1aNfn5+f3pdt/Idj755BPVqlVL7u5/7Feqt7e3evbsqZ49e2r06NEKCwvTnj171LJly1JqLQBcxSVgAGWiUqVKqly5st566y0dPnxYGzZs0IQJE4os/9hjj+n48eOaN2+ezpw5o5SUFKWkpPzuAxy/NXDgQFWpUkW9evXS1q1blZycrE2bNmns2LH63//935LaLY0ePVrnzp3Tww8/rF27dunnn3/WunXrNGzYMOXm5ha53pIlS/TOO+9o7969+uWXX7R8+XJ5e3urZs2aJdY2ACgKARBAmXB1ddWHH36oxMRENW7cWOPHj9fMmTOLLL9582adOnVKDRs2VEhIiPn5+uuvb2h7Pj4+2rJli2rUqKH7779fDRo00IgRI3T58uUS7REMDQ3V9u3blZubq8jISDVp0kTjxo1TQECAXF2L/hUbEBCgt99+W/fcc4+aNm2q9evX67///a8qV65cYm0DgKK4GAbD4AMAAFgJPYAAAAAWQwAEAACwGAIgAACAxRAAAQAALIYACAAAYDEEQAAAAIshAAIAAFgMARAAAMBiCIAAAAAWQwAEAACwGAIgAACAxRAAAQAALIYACAAAYDEEQAAAAIshAAIAAFgMARAAAMBiCIAAAAAWQwAEAACwGAIgAACAxRAAAQAALIYACAAAYDEEQAAAAIshAAIAAFgMARAAAMBiCIAAAAAWQwAEAACwGAIgAACAxRAAAQAALIYACAAAYDEEQAAAAIshAAIAAFjM/wOhuGgKiskwBAAAAABJRU5ErkJggg==' width=640.0/>\n",
       "            </div>\n",
       "        "
      ],
      "text/plain": [
       "Canvas(toolbar=Toolbar(toolitems=[('Home', 'Reset original view', 'home', 'home'), ('Back', 'Back to previous …"
      ]
     },
     "metadata": {},
     "output_type": "display_data"
    }
   ],
   "source": [
    "# Import independent two-sample t-test\n",
    "from scipy.stats import ttest_ind\n",
    "\n",
    "# Select data from \"alzheimers\" and \"typical\" groups\n",
    "brain_alz = df.loc[df.alzheimers == True, 'brain_vol']\n",
    "brain_typ = df.loc[df.alzheimers == False, 'brain_vol']\n",
    "\n",
    "# Perform t-test of \"alz\" > \"typ\"\n",
    "results = ttest_ind(brain_alz, brain_typ)\n",
    "print('t = ', results.statistic)\n",
    "print('p = ', results.pvalue)\n",
    "\n",
    "# Show boxplot of brain_vol differences\n",
    "df.boxplot(column='brain_vol', by='alzheimers')\n",
    "plt.show()"
   ]
  },
  {
   "cell_type": "markdown",
   "metadata": {},
   "source": [
    "## Normalizing Metrics\n",
    "We previously saw that there was not a significant difference between the brain volumes of elderly individuals with and without Alzheimer's Disease.\n",
    "\n",
    "But could a correlated measure, such as \"skull volume\" be masking the differences?"
   ]
  },
  {
   "cell_type": "code",
   "execution_count": 71,
   "metadata": {},
   "outputs": [
    {
     "name": "stdout",
     "output_type": "stream",
     "text": [
      "t =  -15.311391823926579\n",
      "p =  2.019286086120867e-42\n"
     ]
    }
   ],
   "source": [
    "# Adjust `brain_vol` by `skull_vol`\n",
    "df['adj_brain_vol'] = df.brain_vol / df.skull_vol\n",
    "\n",
    "# Select brain measures by group\n",
    "brain_alz = df.loc[df.alzheimers == True, 'adj_brain_vol']\n",
    "brain_typ = df.loc[df.alzheimers == False, 'adj_brain_vol']\n",
    "\n",
    "# Evaluate null hypothesis\n",
    "results = ttest_ind(brain_alz, brain_typ)\n",
    "print('t = ', results.statistic)\n",
    "print('p = ', results.pvalue)"
   ]
  },
  {
   "cell_type": "markdown",
   "metadata": {},
   "source": [
    "## Combining Two Images"
   ]
  },
  {
   "cell_type": "markdown",
   "metadata": {},
   "source": [
    "There are a variety of ways we can overlay two (partially) overlapping images onto each other. The common approaches include:\n",
    "1. Use of alpha blending.\n",
    "2. Use of a checkerboard pattern with the pixel values in adjacent squares/boxes taken from each of the images.\n",
    "3. When the pixel values are scalars (gray scale images), combine the two images in different channels, resulting in a color image.\n",
    "\n",
    "We will start by loading two images whose content luckily overlaps in physical space. Before we can combine the two, we need to resample one of them so that they both occupy the same spatial region. In addition we should also rescale the intensities so that they occupy the same range. In our case we will map them to [0,255], based on the desired windowing."
   ]
  },
  {
   "cell_type": "code",
   "execution_count": null,
   "metadata": {},
   "outputs": [],
   "source": [
    "img1 = sitk.ReadImage(fdata(\"training_001_mr_T1.mha\"))\n",
    "img2_original = sitk.ReadImage(fdata(\"training_001_ct.mha\"))\n",
    "img2 = sitk.Resample(img2_original, img1)\n",
    "\n",
    "# Obtain foreground masks for the two images using Otsu thresholding, we use these later on.\n",
    "msk1 = sitk.OtsuThreshold(img1,0,1)\n",
    "msk2 = sitk.OtsuThreshold(img2,0,1)\n",
    "\n",
    "Utilities.gui.MultiImageDisplay(image_list = [img1, img2],                   \n",
    "                      title_list = ['image1', 'image2'],\n",
    "                      figure_size=(9,3));"
   ]
  },
  {
   "cell_type": "code",
   "execution_count": null,
   "metadata": {},
   "outputs": [],
   "source": [
    "# Having identified the desired intensity range for each of the \n",
    "# images using the GUI above, we use these values to perform intensity windowing and map the intensity values\n",
    "# to [0,255] and cast to 8-bit unsigned int\n",
    "img1_255 = sitk.Cast(sitk.IntensityWindowing(img1, windowMinimum=2, windowMaximum=657, \n",
    "                                             outputMinimum=0.0, outputMaximum=255.0), sitk.sitkUInt8)\n",
    "img2_255 = sitk.Cast(sitk.IntensityWindowing(img2, windowMinimum=-1018, windowMaximum=1126, \n",
    "                                             outputMinimum=0.0, outputMaximum=255.0), sitk.sitkUInt8)"
   ]
  },
  {
   "cell_type": "code",
   "execution_count": null,
   "metadata": {},
   "outputs": [],
   "source": []
  }
 ],
 "metadata": {
  "kernelspec": {
   "display_name": "Python 3 (ipykernel)",
   "language": "python",
   "name": "python3"
  },
  "language_info": {
   "codemirror_mode": {
    "name": "ipython",
    "version": 3
   },
   "file_extension": ".py",
   "mimetype": "text/x-python",
   "name": "python",
   "nbconvert_exporter": "python",
   "pygments_lexer": "ipython3",
   "version": "3.9.18"
  }
 },
 "nbformat": 4,
 "nbformat_minor": 2
}
