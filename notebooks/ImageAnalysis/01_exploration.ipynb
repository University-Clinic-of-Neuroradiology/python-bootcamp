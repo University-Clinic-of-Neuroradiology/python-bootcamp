{
 "cells": [
  {
   "cell_type": "markdown",
   "metadata": {},
   "source": [
    "# Demonstration of Exploration\n",
    "You'll learn how to load, build and navigate N-dimensional images using a CT image of the human brain. \n",
    "\n",
    "This demo is a jupyter notebook, i.e. intended to be run step by step.\n",
    "\n",
    "Author: Eric Einspänner\n",
    "<br>\n",
    "Contributor: Nastaran Takmilhomayouni\n",
    "\n",
    "First version: 6th of July 2023\n",
    "\n",
    "\n",
    "Copyright 2023 Clinic of Neuroradiology, Magdeburg, Germany\n",
    "\n",
    "License: Apache-2.0"
   ]
  },
  {
   "cell_type": "markdown",
   "metadata": {},
   "source": [
    "## Table of contents\n",
    "0. [Initial Set-Up for Google Colab](#initial-set-up-for-google-colab)\n",
    "1. [Initial Set-Up (offline)](#initial-set-up-offline)\n",
    "2. [Load images](#Load-Images)\n",
    "3. [Medical Image Metadata](#medical-image-metadata)\n",
    "    - [Exercise](#Exercise-1)\n",
    "4. [Plot images](#Plot-Images)\n",
    "    - [Exercise](#Exercise-2)\n",
    "5. [Load volumes](#Load-Volumes)\n",
    "    - [Exercise](#Exercise-3)\n",
    "    - [Slice 3D images](#Slice-3D-Images)\n",
    "    - [Plot other views](#Plot-Other-Views)\n",
    "    - [Exercise](#Exercise-4)\n"
   ]
  },
  {
   "cell_type": "markdown",
   "metadata": {},
   "source": [
    "## Initial Set-Up for Google Colab\n",
    "<u> Execute these code blocks just in Google Colab! </u>"
   ]
  },
  {
   "cell_type": "code",
   "execution_count": null,
   "metadata": {},
   "outputs": [],
   "source": [
    "!wget -q -O - https://github.com/University-Clinic-of-Neuroradiology/python-bootcamp/archive/refs/heads/main.tar.gz | tar -xzf - --strip-components=2 python-bootcamp-main/notebooks/ImageAnalysis"
   ]
  },
  {
   "cell_type": "code",
   "execution_count": null,
   "metadata": {},
   "outputs": [],
   "source": [
    "import os\n",
    "import sys\n",
    "from google.colab import output\n",
    "output.enable_custom_widget_manager()\n",
    "\n",
    "sys.path.insert(0,'ImageAnalysis')\n",
    "os.chdir(sys.path[0])"
   ]
  },
  {
   "cell_type": "code",
   "execution_count": null,
   "metadata": {},
   "outputs": [],
   "source": [
    "%pip install -q ipympl numpy matplotlib pydicom"
   ]
  },
  {
   "cell_type": "code",
   "execution_count": null,
   "metadata": {},
   "outputs": [],
   "source": [
    "%pip install git+https://github.com/imageio/imageio.git"
   ]
  },
  {
   "cell_type": "code",
   "execution_count": null,
   "metadata": {},
   "outputs": [],
   "source": [
    "import numpy as np\n",
    "import matplotlib.pyplot as plt\n",
    "\n",
    "import imageio\n",
    "import pydicom\n",
    "from pydicom.data import get_testdata_file"
   ]
  },
  {
   "cell_type": "markdown",
   "metadata": {},
   "source": [
    "## Initial Set-Up (offline)"
   ]
  },
  {
   "cell_type": "code",
   "execution_count": null,
   "metadata": {},
   "outputs": [],
   "source": [
    "# Make sure figures appears inline and animations works\n",
    "# Edit this to \"\"%matplotlib notebook\" when using the \"classic\" jupyter notebook interface\n",
    "%matplotlib widget"
   ]
  },
  {
   "cell_type": "code",
   "execution_count": null,
   "metadata": {},
   "outputs": [],
   "source": [
    "# Initial imports etc\n",
    "import os\n",
    "import numpy as np\n",
    "import matplotlib.pyplot as plt\n",
    "\n",
    "import imageio\n",
    "import pydicom\n",
    "from pydicom.data import get_testdata_file"
   ]
  },
  {
   "cell_type": "markdown",
   "metadata": {},
   "source": [
    "## --- Start notebook ---"
   ]
  },
  {
   "cell_type": "code",
   "execution_count": null,
   "metadata": {},
   "outputs": [],
   "source": [
    "#  now we load test data files (CT and MR)\n",
    "ct_file = get_testdata_file(\"CT_small.dcm\")\n",
    "mr_file = get_testdata_file(\"MR_small.dcm\")"
   ]
  },
  {
   "cell_type": "markdown",
   "metadata": {},
   "source": [
    "## Load Images\n",
    "In this chapter, we'll work with sections of a computed tomography (CT) scan.\n",
    "\n",
    "To warm up, use the `imageio` package to load a single DICOM image from the scan volume and check out a few of its attributes."
   ]
  },
  {
   "cell_type": "code",
   "execution_count": null,
   "metadata": {},
   "outputs": [],
   "source": [
    "# Load the images\n",
    "im_ct = imageio.imread(ct_file, progress=True) \n",
    "\n",
    "im_mr = imageio.imread(mr_file, progress=True)"
   ]
  },
  {
   "cell_type": "markdown",
   "metadata": {},
   "source": [
    "`im_ct` and `im_mr` are variables that probably contain data related to images. In programming, when we work with images, we often use variables to store information about them.\n",
    "\n",
    "So, for example `im_mr` is like a box where we keep all the information about an image. The code helps us understand what kind of box it is and what's inside it, like the image's colors, how big it is, and how the computer stores this information."
   ]
  },
  {
   "cell_type": "markdown",
   "metadata": {},
   "source": [
    "The `help()` function in Python is like having a built-in manual or guidebook. When you're unsure how to use something in Python—be it a function, module, class, or method—you can use `help()` to get information and examples on how that thing works.\n",
    "\n",
    "Let's try it out! Take a closer look at the output and try to understand what the `help()` function gives you."
   ]
  },
  {
   "cell_type": "code",
   "execution_count": null,
   "metadata": {},
   "outputs": [],
   "source": [
    "help(im_mr)"
   ]
  },
  {
   "cell_type": "markdown",
   "metadata": {},
   "source": [
    "We are now trying to output some attributes:"
   ]
  },
  {
   "cell_type": "code",
   "execution_count": null,
   "metadata": {},
   "outputs": [],
   "source": [
    "# Checking the data type of the image array\n",
    "print(f'Image type: {type(im_mr)}')\n",
    "\n",
    "# Displaying statistical information of the image data\n",
    "print(f'Mean pixel intensity: {im_mr.mean()}')                      # Calculating the mean value of pixel intensities\n",
    "print(f'Minimum pixel intensity: {im_mr.min()}')                    # Finding the minimum pixel intensity\n",
    "print(f'Maximum pixel intensity: {im_mr.max()}')                    # Finding the maximum pixel intensity\n",
    "print(f'Standard deviation of pixel intensities: {im_mr.std()}')    # Calculating the standard deviation of pixel intensities\n",
    "print(f'Data type of the image array: {im_mr.dtype}')               # Displaying the data type of the image array\n",
    "print(f'Shape of image array: {im_mr.shape}')                       # Displaying the shape of the image array\n",
    "print(f'Total number of elements in the array: {im_mr.size}')       # Showing the total number of elements in the array\n",
    "print(f'Number of dimensions of the array: {im_mr.ndim}')           # Displaying the number of dimensions of the array\n",
    "print(f'Underlying data of the image array: {im_mr.data}')          # Accessing the underlying data of the image array"
   ]
  },
  {
   "cell_type": "markdown",
   "metadata": {},
   "source": [
    "## Medical Image Metadata\n",
    "Metadata in medical images encompasses various crucial details, comprising:\n",
    "\n",
    "- Patient Demographics: This encompasses essential patient information like name, age, sex, and clinical details.\n",
    "- Acquisition Information: It encompasses technical aspects such as image shape, sampling rates, data type, and modality (like X-Ray, CT, or MRI).\n",
    "\n",
    "To access and retrieve this metadata, you'll be utilizing `pydicom`. Read and retrieve a dataset stored following the DICOM File Format."
   ]
  },
  {
   "cell_type": "code",
   "execution_count": null,
   "metadata": {},
   "outputs": [],
   "source": [
    "# read the DICOM files\n",
    "ds_ct = pydicom.dcmread(ct_file)\n",
    "ds_mr = pydicom.dcmread(mr_file)\n",
    "\n",
    "# print the DICOM header (metadata)\n",
    "print(ds_ct)"
   ]
  },
  {
   "cell_type": "markdown",
   "metadata": {},
   "source": [
    "Please note: We are not loading `im_ct` and `im_mr`(the image arrays), but the DICOM files consisting of header and image data. "
   ]
  },
  {
   "cell_type": "markdown",
   "metadata": {},
   "source": [
    "### Exercise 1\n",
    "Print and explore the metadata of the MR file.\n",
    "\n",
    "Try to answer the following questions:\n",
    "- When was the scan performed?\n",
    "- From which manufacturer was the device where the scan was performed?\n",
    "- What was the sex of the patient?"
   ]
  },
  {
   "cell_type": "code",
   "execution_count": null,
   "metadata": {},
   "outputs": [],
   "source": [
    "# Write your code here (the solution is below)\n",
    "\n",
    "\n",
    "\n",
    "\n",
    "\n",
    "\n",
    "\n",
    "\n",
    "\n",
    "\n",
    "\n",
    "\n",
    "\n"
   ]
  },
  {
   "cell_type": "code",
   "execution_count": null,
   "metadata": {},
   "outputs": [],
   "source": [
    "### Solution\n",
    "print(ds_mr)\n",
    "\n",
    "# Answers:\n",
    "# 28.06.2004 (see DICOM tag (0008, 0020) Study Date)\n",
    "# Toshiba (see DICOM tag (0008, 0070) Manufacturer)\n",
    "# 80.0 (see DICOM tag (0010, 1030) Patient's Weight)"
   ]
  },
  {
   "cell_type": "markdown",
   "metadata": {},
   "source": [
    "## Plot Images\n",
    "Perhaps the most critical principle of image analysis is: look at your images!\n",
    "\n",
    "Matplotlib's `imshow()` function gives you a simple way to do this. Knowing a few simple arguments will help:\n",
    "\n",
    "- `cmap` controls the color mappings for each value. The `gray` colormap is common, but many others are available.\n",
    "- `vmin` and `vmax` control the color contrast between values. Changing these can reduce the influence of extreme values."
   ]
  },
  {
   "cell_type": "code",
   "execution_count": null,
   "metadata": {},
   "outputs": [],
   "source": [
    "# Draw the image in grayscale\n",
    "plt.imshow(im_ct, cmap='gray')\n",
    "\n",
    "# Render the image\n",
    "plt.show()"
   ]
  },
  {
   "cell_type": "markdown",
   "metadata": {},
   "source": [
    "### Exercise 2\n",
    "Plot the CT scan and investigate the effect of a few different parameters, e.g. try the `rainbow` colormap. Also, set a range from -200 to 200 to increase the contrast."
   ]
  },
  {
   "cell_type": "code",
   "execution_count": null,
   "metadata": {},
   "outputs": [],
   "source": [
    "# Write your code here (the solution is below)\n",
    "\n",
    "\n",
    "\n",
    "\n",
    "\n",
    "\n",
    "\n",
    "\n",
    "\n",
    "\n",
    "\n",
    "\n",
    "\n",
    "\n",
    "\n"
   ]
  },
  {
   "cell_type": "code",
   "execution_count": null,
   "metadata": {},
   "outputs": [],
   "source": [
    "### Solution\n",
    "# Draw the image with greater contrast (from -200 to 200)\n",
    "plt.imshow(im_ct, cmap='rainbow', vmin=-200, vmax=200)\n",
    "\n",
    "# Render the image\n",
    "plt.show()"
   ]
  },
  {
   "cell_type": "markdown",
   "metadata": {},
   "source": [
    "# Load volumes\n",
    "We would like to understand how 3D data can now be loaded. Our data set (3D volume) consists of 27 individual 2D slices. We now need to complete the following steps:\n",
    "- Read in the DICOM slices with `pydicom.dcmread()`\n",
    "- Sort by InstanceNumber (this ensures the correct order of the individual slices)\n",
    "- Read out the pixel values and then stack them together to form a 3D volume\n",
    "\n",
    "An alternative: ImageIO's `volread()` function can load multi-dimensional datasets and create 3D volumes from a folder of images. It can also aggregate metadata across these multiple images."
   ]
  },
  {
   "cell_type": "code",
   "execution_count": null,
   "metadata": {},
   "outputs": [],
   "source": [
    "# Path to the folder containing the DICOM files\n",
    "folder_path = 'Data/Brain/SE000001'\n",
    "\n",
    "# Read all DICOM files into a list\n",
    "dicoms = [pydicom.dcmread(os.path.join(folder_path, f)) for f in os.listdir(folder_path) if f.endswith('.dcm')]\n",
    "\n",
    "# Sort the list by InstanceNumber\n",
    "dicoms.sort(key=lambda x: int(x.InstanceNumber))\n",
    "\n",
    "# Initialize an empty list to hold all slices\n",
    "slices = []\n",
    "\n",
    "# Save the pixel data slice by slice\n",
    "for dcm in dicoms:\n",
    "    pixel_data = dcm.pixel_array\n",
    "    slices.append(pixel_data)\n",
    "\n",
    "# Convert the list of slices into a 3D numpy array\n",
    "vol = np.stack(slices)\n",
    "\n",
    "# Print image attributes (similar to pydicom)\n",
    "print('Shape of image array:', vol.shape)"
   ]
  },
  {
   "cell_type": "markdown",
   "metadata": {},
   "source": [
    "Since we need the code again in later notebooks, a function would be useful."
   ]
  },
  {
   "cell_type": "code",
   "execution_count": null,
   "metadata": {},
   "outputs": [],
   "source": [
    "def read_dicom_volume(folder_path):\n",
    "    # Read all DICOM files into a list\n",
    "    dicoms = [pydicom.dcmread(os.path.join(folder_path, f)) for f in os.listdir(folder_path) if f.endswith('.dcm')]\n",
    "\n",
    "    # Sort the list by InstanceNumber\n",
    "    dicoms.sort(key=lambda x: int(x.InstanceNumber))\n",
    "\n",
    "    # Initialize an empty list to hold all slices\n",
    "    slices = []\n",
    "\n",
    "    # Save the pixel data slice by slice\n",
    "    for dcm in dicoms:\n",
    "        pixel_data = dcm.pixel_array\n",
    "        slices.append(pixel_data)\n",
    "\n",
    "    # Convert the list of slices into a 3D numpy array\n",
    "    vol = np.stack(slices)\n",
    "\n",
    "    return vol\n",
    "\n",
    "vol = read_dicom_volume(folder_path)"
   ]
  },
  {
   "cell_type": "markdown",
   "metadata": {},
   "source": [
    "### Exercise 3\n",
    "There are other ways to load a volume. We want to try out another one using the `.volread()` function from the `imageio` package. Look for it in the documentation of `imageio` and load the dataset. Then compare the shape of the volume with the previous one!"
   ]
  },
  {
   "cell_type": "code",
   "execution_count": null,
   "metadata": {},
   "outputs": [],
   "source": [
    "# Write your code here (the solution is below)\n",
    "\n",
    "\n",
    "\n",
    "\n",
    "\n",
    "\n",
    "\n",
    "\n",
    "\n"
   ]
  },
  {
   "cell_type": "code",
   "execution_count": null,
   "metadata": {},
   "outputs": [],
   "source": [
    "### Solution\n",
    "vol2 = imageio.volread(folder_path, 'DICOM')\n",
    "\n",
    "print('Shape of image array:', vol2.shape)"
   ]
  },
  {
   "cell_type": "markdown",
   "metadata": {},
   "source": [
    "## Slice 3D Images\n",
    "The simplest way to plot 3D and 4D images by slicing them into many 2D frames. Plotting many slices sequentially can create a \"fly-through\" effect that helps you understand the image as a whole.\n",
    "\n",
    "To select a 2D frame, pick a frame for the first slice and select all data from the remaining two: `vol[0, :, :]`.\n",
    "\n",
    "Try to show more slices and experiment with it."
   ]
  },
  {
   "cell_type": "code",
   "execution_count": null,
   "metadata": {},
   "outputs": [],
   "source": [
    "# Plot the first slice of the volume\n",
    "plt.imshow(vol[0, :, :], cmap='gray')\n",
    "\n",
    "# Render the image\n",
    "plt.show()"
   ]
  },
  {
   "cell_type": "markdown",
   "metadata": {},
   "source": [
    "Now we want to slice through the image in one direction:"
   ]
  },
  {
   "cell_type": "code",
   "execution_count": null,
   "metadata": {},
   "outputs": [],
   "source": [
    "# Plot the images on a subplots array \n",
    "fig, axes = plt.subplots(nrows=3, ncols=3)\n",
    "\n",
    "# Flatten the 2D axes array to make indexing easier\n",
    "axes = axes.flatten()\n",
    "\n",
    "# Loop through subplots and draw image\n",
    "# plot every 3rd slice of vol on a separate subplot\n",
    "for ii in range(9):\n",
    "    im = vol[ii*3, :, :]\n",
    "    axes[ii].imshow(im, cmap='gray')\n",
    "    axes[ii].axis('off')\n",
    "\n",
    "plt.tight_layout() # Adjust the subplots to fit into the figure area\n",
    "\n",
    "# Render the figure\n",
    "plt.show()"
   ]
  },
  {
   "cell_type": "markdown",
   "metadata": {},
   "source": [
    "## Plot Other Views\n",
    "Any two dimensions of an array can form an image, and slicing along different axes can provide a useful perspective.\n",
    "\n",
    "Changing the aspect ratio can address this by increasing the width of one of the dimensions."
   ]
  },
  {
   "cell_type": "code",
   "execution_count": null,
   "metadata": {},
   "outputs": [],
   "source": [
    "# Select coronal frame from \"vol\"\n",
    "im1 = vol[:, 128, :]\n",
    "\n",
    "# Compute aspect ratios\n",
    "d0 = dicoms[0].SliceThickness\n",
    "d1, d2 = dicoms[0].PixelSpacing\n",
    "asp1 = d0 / d2\n",
    "\n",
    "# Plot the coronal image\n",
    "plt.imshow(im1, cmap='gray', aspect=asp1)\n",
    "\n",
    "plt.show()"
   ]
  },
  {
   "cell_type": "markdown",
   "metadata": {},
   "source": [
    "### Exercise 4\n",
    "Repeat what you have just learnt and plot the picture with respect to the sagittal axis."
   ]
  },
  {
   "cell_type": "code",
   "execution_count": null,
   "metadata": {},
   "outputs": [],
   "source": [
    "# Write your code here (the solution is below)\n",
    "\n",
    "\n",
    "\n",
    "\n",
    "\n",
    "\n",
    "\n",
    "\n",
    "\n",
    "\n",
    "\n",
    "\n"
   ]
  },
  {
   "cell_type": "code",
   "execution_count": null,
   "metadata": {},
   "outputs": [],
   "source": [
    "### Solution\n",
    "# Select sagittal frame from \"vol\"\n",
    "im2 = vol[:, : , 128]\n",
    "\n",
    "# Compute aspect ratios\n",
    "asp2 = d0 / d1\n",
    "\n",
    "# Plot the sagittal image\n",
    "plt.imshow(im2, cmap='gray', aspect=asp2)\n",
    "\n",
    "plt.show()"
   ]
  }
 ],
 "metadata": {
  "kernelspec": {
   "display_name": "Python 3 (ipykernel)",
   "language": "python",
   "name": "python3"
  },
  "language_info": {
   "codemirror_mode": {
    "name": "ipython",
    "version": 3
   },
   "file_extension": ".py",
   "mimetype": "text/x-python",
   "name": "python",
   "nbconvert_exporter": "python",
   "pygments_lexer": "ipython3",
   "version": "undefined.undefined.undefined"
  }
 },
 "nbformat": 4,
 "nbformat_minor": 2
}
