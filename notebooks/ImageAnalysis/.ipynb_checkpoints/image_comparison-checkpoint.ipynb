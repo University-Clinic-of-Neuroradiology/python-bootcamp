{
 "cells": [
  {
   "cell_type": "markdown",
   "metadata": {},
   "source": [
    "# Demonstration of Image Comparison\n",
    "This notebook discusses basics of registration, resampling, and image comparison.\n",
    "\n",
    "This demo is a jupyter notebook, i.e. intended to be run step by step.\n",
    "\n",
    "Author: Eric Einspänner\n",
    "First version: 6th of July 2023\n",
    "\n",
    "\n",
    "Copyright 2023 Clinic of Neuroradiology, Magdeburg, Germany\n",
    "\n",
    "License: Apache-2.0"
   ]
  },
  {
   "cell_type": "markdown",
   "metadata": {},
   "source": [
    "## Table of contents\n",
    "1. [Initial set-up](#Initial-Set-Up)\n",
    "2. [Load image/volume](#Load-the-Image/Volume)\n",
    "3. [Translation](#Translation)\n",
    "4. [Rotation](#Rotations)\n",
    "5. [Affine Transformation](#Affine-Transformation)\n",
    "6. [Resampling](#Resampling)\n",
    "7. [Interpolation](#Interpolation)\n",
    "8. [MAE](#Mean-Absolute-Error-MAE)\n",
    "9. [SSIM](#Structural-Similarity-SSIM)\n",
    "10. [IoU](#Intersection-of-The-Union-IOU)\n",
    "11. [Testing group differences](#Testing-Group-Differences)\n",
    "12. [Normalizing metrics](#Normalizing-Metrics)"
   ]
  },
  {
   "cell_type": "markdown",
   "metadata": {},
   "source": [
    "## Initial Set-Up"
   ]
  },
  {
   "cell_type": "code",
   "execution_count": null,
   "metadata": {},
   "outputs": [],
   "source": [
    "# Make sure figures appears inline and animations works\n",
    "# Edit this to \"\"%matplotlib notebook\" when using the \"classic\" jupyter notebook interface\n",
    "%matplotlib widget"
   ]
  },
  {
   "cell_type": "code",
   "execution_count": null,
   "metadata": {},
   "outputs": [],
   "source": [
    "# Initial imports etc\n",
    "import imageio\n",
    "import pandas as pd\n",
    "import numpy as np\n",
    "import scipy.ndimage as ndi\n",
    "import matplotlib.pyplot as plt"
   ]
  },
  {
   "cell_type": "code",
   "execution_count": null,
   "metadata": {},
   "outputs": [],
   "source": [
    "def format_and_render_plot():\n",
    "    '''Custom function to simplify common formatting operations for exercises. Operations include: \n",
    "    1. Turning off axis grids.\n",
    "    2. Calling `plt.tight_layout` to improve subplot spacing.\n",
    "    3. Calling `plt.show()` to render plot.'''\n",
    "    fig = plt.gcf()\n",
    "    for ax in fig.axes:\n",
    "        ax.axis('off')    \n",
    "    plt.tight_layout()\n",
    "    plt.show()"
   ]
  },
  {
   "cell_type": "markdown",
   "metadata": {},
   "source": [
    "## Load the Image/Volume"
   ]
  },
  {
   "cell_type": "code",
   "execution_count": null,
   "metadata": {},
   "outputs": [],
   "source": [
    "# Load the directory (volume)\n",
    "folder_path = 'C:/Users/einspaen/Downloads/Biomedical-Image-Analysis-in-Python-master/Biomedical-Image-Analysis-in-Python-master/Data/Brain/SE000001/MR000000'\n",
    "vol = imageio.volread(folder_path)\n",
    "\n",
    "# save the middle slice as separat image\n",
    "im = vol[13,:,:]"
   ]
  },
  {
   "cell_type": "markdown",
   "metadata": {},
   "source": [
    "## Translation\n",
    "In this chapter, we'll leverage data use data from the Open Access Series of Imaging Studies to compare the brains of different populations: young and old, male and female, healthy and diseased.\n",
    "\n",
    "To start, center a single slice of a 3D brain volume (im). First, find the center point in the image array and the center of mass of the brain. Then, translate the image to the center."
   ]
  },
  {
   "cell_type": "code",
   "execution_count": null,
   "metadata": {},
   "outputs": [],
   "source": [
    "# Find image center of mass\n",
    "com = ndi.center_of_mass(im)\n",
    "\n",
    "# Calculate amount of shift needed\n",
    "d0 = 128 - com[0]\n",
    "d1 = 128 - com[1]\n",
    "\n",
    "# Translate the brain towards the center\n",
    "xfm = ndi.shift(im, shift=(d0, d1))\n",
    "\n",
    "# Plot the original and adjusted images\n",
    "fig, axes = plt.subplots(nrows=2, ncols=1)\n",
    "axes[0].imshow(im)\n",
    "axes[1].imshow(xfm)\n",
    "format_and_render_plot()"
   ]
  },
  {
   "cell_type": "markdown",
   "metadata": {},
   "source": [
    "## Rotations\n",
    "In cases where an object is angled or flipped, the image can be rotated. Using `ndi.rotate()`, the image is rotated from its center by the specified degrees from the right horizontal axis."
   ]
  },
  {
   "cell_type": "code",
   "execution_count": null,
   "metadata": {},
   "outputs": [],
   "source": [
    "# Shift the image towards the center\n",
    "xfm = ndi.shift(im, shift=(-20, -20))\n",
    "\n",
    "# Rotate the shifted image\n",
    "xfm = ndi.rotate(xfm, angle=-30, reshape=False)\n",
    "\n",
    "# Plot the original and transformed images\n",
    "fig, axes = plt.subplots(2, 1)\n",
    "axes[0].imshow(im)\n",
    "axes[1].imshow(xfm)\n",
    "format_and_render_plot()"
   ]
  },
  {
   "cell_type": "markdown",
   "metadata": {},
   "source": [
    "## Affine Transformation\n",
    "An affine transformation matrix provides directions for up to four types of changes: translating, rotating, rescaling and shearing. The elements of the matrix map the coordinates from the input array to the output."
   ]
  },
  {
   "cell_type": "code",
   "execution_count": null,
   "metadata": {},
   "outputs": [],
   "source": [
    "mat = np.array([[0.8, -0.4, 90], [0.4, 0.8, -6.0], [0, 0, 1]])\n",
    "xfm = ndi.affine_transform(im, mat)\n",
    "plt.imshow(xfm)\n",
    "plt.show()"
   ]
  },
  {
   "cell_type": "markdown",
   "metadata": {},
   "source": [
    "## Resampling\n",
    "Images can be collected in a variety of shapes and sizes. Resampling is a useful tool when these shapes need to be made consistent. Two common applications are:\n",
    "\n",
    "- Downsampling: combining pixel data to decrease size\n",
    "- Upsampling: distributing pixel data to increase size"
   ]
  },
  {
   "cell_type": "code",
   "execution_count": null,
   "metadata": {},
   "outputs": [],
   "source": [
    "# Center and level image\n",
    "xfm = ndi.shift(im, shift=(-20, -20))\n",
    "xfm = ndi.rotate(xfm, angle=-35, reshape=False)\n",
    "\n",
    "# Resample image\n",
    "im_dn = ndi.zoom(xfm, zoom=0.25)\n",
    "im_up = ndi.zoom(xfm, zoom=4.00)\n",
    "\n",
    "# Plot the images\n",
    "fig, axes = plt.subplots(2, 1)\n",
    "axes[0].imshow(im_dn)\n",
    "axes[1].imshow(im_up)\n",
    "format_and_render_plot()"
   ]
  },
  {
   "cell_type": "markdown",
   "metadata": {},
   "source": [
    "## Interpolation\n",
    "Interpolation is how new pixel intensities are estimated when an image transformation is applied. It is implemented in SciPy using sets of spline functions.\n",
    "\n",
    "Editing the interpolation `order` when using a function such as `ndi.zoom()` modifies the resulting estimate: higher orders provide more flexible estimates but take longer to compute."
   ]
  },
  {
   "cell_type": "code",
   "execution_count": null,
   "metadata": {},
   "outputs": [],
   "source": [
    "# Upsample \"im\" by a factor of 4\n",
    "up0 = ndi.zoom(im, zoom=512/128, order=0)\n",
    "up5 = ndi.zoom(im, zoom=512/128, order=5)\n",
    "\n",
    "# Print original and new shape\n",
    "print('Original shape:', im.shape)\n",
    "print('Upsampled shape:', up5.shape)\n",
    "\n",
    "# Plot close-ups of the new images\n",
    "fig, axes = plt.subplots(1, 2)\n",
    "axes[0].imshow(up0[128:256, 128:256])\n",
    "axes[1].imshow(up5[128:256, 128:256])\n",
    "format_and_render_plot()"
   ]
  },
  {
   "cell_type": "markdown",
   "metadata": {},
   "source": [
    "## Mean Absolute Error (MAE)\n",
    "Cost functions and objective functions output a single value that summarizes how well two images match.\n",
    "\n",
    "The MAE, for example, summarizes intensity differences between two images, with higher values indicating greater divergence."
   ]
  },
  {
   "cell_type": "code",
   "execution_count": null,
   "metadata": {},
   "outputs": [],
   "source": [
    "# Load the dcm file (image)\n",
    "im1 = im\n",
    "im2 = xfm\n",
    "\n",
    "# Calculate image difference\n",
    "err = im1 - im2\n",
    "\n",
    "# Plot the difference\n",
    "plt.imshow(err, cmap='seismic', vmin=-200, vmax=200)\n",
    "format_and_render_plot()\n",
    "\n",
    "# Calculate absolute image difference\n",
    "abs_err = np.absolute(im1 - im2)\n",
    "\n",
    "# Plot the difference\n",
    "plt.imshow(abs_err, cmap='seismic', vmin=-200, vmax=200)\n",
    "format_and_render_plot()\n",
    "\n",
    "# Calculate mean absolute error\n",
    "mean_abs_err = np.mean(np.abs(im1 - im2))\n",
    "print('MAE:', mean_abs_err)"
   ]
  },
  {
   "cell_type": "markdown",
   "metadata": {},
   "source": [
    "## Structural Similarity (SSIM)"
   ]
  },
  {
   "cell_type": "code",
   "execution_count": null,
   "metadata": {},
   "outputs": [],
   "source": []
  },
  {
   "cell_type": "markdown",
   "metadata": {},
   "source": [
    "## Intersection of The Union (IoU)\n",
    "\n",
    "Another cost function is the IoU. The IoU is the number of pixels filled in both images (the intersection) out of the number of pixels filled in either image (the union)."
   ]
  },
  {
   "cell_type": "code",
   "execution_count": null,
   "metadata": {},
   "outputs": [],
   "source": [
    "def intersection_of_union(im1, im2):\n",
    "    i = np.logical_and(im1, im2)\n",
    "    u = np.logical_or(im1, im2)\n",
    "    return i.sum() / u.sum()"
   ]
  },
  {
   "cell_type": "code",
   "execution_count": null,
   "metadata": {},
   "outputs": [],
   "source": [
    "# Try some other paramters by yourself\n",
    "xfm = ndi.shift(im1, shift=(-10, -10))\n",
    "xfm = ndi.rotate(xfm, angle=-15, reshape=False)\n",
    "intersection_of_union(xfm, im2)"
   ]
  },
  {
   "cell_type": "markdown",
   "metadata": {},
   "source": [
    "## Testing Group Differences\n",
    "Once measures have been extracted, double-check for dependencies within your data. This is especially true if any image parameters (sampling rate, field of view) might differ between subjects, or you pull multiple measures from a single image.\n",
    "\n",
    "For the final exercises, we have combined demographic and brain volume measures into a pandas DataFrame (df)."
   ]
  },
  {
   "cell_type": "code",
   "execution_count": null,
   "metadata": {},
   "outputs": [],
   "source": [
    "# Print random sample of rows\n",
    "print(df.sample(3))\n",
    "\n",
    "# Print prevalence of Alzheimer's Disease\n",
    "print(df.alzheimers.value_counts())\n",
    "\n",
    "# Print a correlation table\n",
    "print(df.corr())"
   ]
  },
  {
   "cell_type": "markdown",
   "metadata": {},
   "source": [
    "Let's test the hypothesis that Alzheimer's Disease is characterized by reduced brain volume.\n",
    "\n",
    "We can perform a two-sample t-test between the brain volumes of elderly adults with and without Alzheimer's Disease. In this case, the two population samples are independent from each other because they are all separate subjects."
   ]
  },
  {
   "cell_type": "code",
   "execution_count": null,
   "metadata": {},
   "outputs": [],
   "source": [
    "# Import independent two-sample t-test\n",
    "from scipy.stats import ttest_ind\n",
    "\n",
    "# Select data from \"alzheimers\" and \"typical\" groups\n",
    "brain_alz = df.loc[df.alzheimers == True, 'brain_vol']\n",
    "brain_typ = df.loc[df.alzheimers == False, 'brain_vol']\n",
    "\n",
    "# Perform t-test of \"alz\" > \"typ\"\n",
    "results = ttest_ind(brain_alz, brain_typ)\n",
    "print('t = ', results.statistic)\n",
    "print('p = ', results.pvalue)\n",
    "\n",
    "# Show boxplot of brain_vol differences\n",
    "df.boxplot(column='brain_vol', by='alzheimers')\n",
    "plt.show()"
   ]
  },
  {
   "cell_type": "markdown",
   "metadata": {},
   "source": [
    "## Normalizing Metrics\n",
    "We previously saw that there was not a significant difference between the brain volumes of elderly individuals with and without Alzheimer's Disease.\n",
    "\n",
    "But could a correlated measure, such as \"skull volume\" be masking the differences?"
   ]
  },
  {
   "cell_type": "code",
   "execution_count": null,
   "metadata": {},
   "outputs": [],
   "source": [
    "# Adjust `brain_vol` by `skull_vol`\n",
    "df['adj_brain_vol'] = df.brain_vol / df.skull_vol\n",
    "\n",
    "# Select brain measures by group\n",
    "brain_alz = df.loc[df.alzheimers == True, 'adj_brain_vol']\n",
    "brain_typ = df.loc[df.alzheimers == False, 'adj_brain_vol']\n",
    "\n",
    "# Evaluate null hypothesis\n",
    "results = ttest_ind(brain_alz, brain_typ)"
   ]
  }
 ],
 "metadata": {
  "kernelspec": {
   "display_name": "Python 3 (ipykernel)",
   "language": "python",
   "name": "python3"
  },
  "language_info": {
   "codemirror_mode": {
    "name": "ipython",
    "version": 3
   },
   "file_extension": ".py",
   "mimetype": "text/x-python",
   "name": "python",
   "nbconvert_exporter": "python",
   "pygments_lexer": "ipython3",
   "version": "3.11.5"
  }
 },
 "nbformat": 4,
 "nbformat_minor": 2
}
