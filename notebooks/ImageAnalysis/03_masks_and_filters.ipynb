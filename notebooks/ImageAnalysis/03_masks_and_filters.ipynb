{
 "cells": [
  {
   "cell_type": "markdown",
   "metadata": {},
   "source": [
    "# Demonstration of Masks and Filters\n",
    "You'll learn how to exploit intensity patterns to select sub-regions of an array, and you'll use convolutional filters to detect interesting features. \n",
    "\n",
    "This demo is a jupyter notebook, i.e. intended to be run step by step.\n",
    "\n",
    "Author: Eric Einspänner\n",
    "<br>\n",
    "Contributor: Nastaran Takmilhomayouni\n",
    "\n",
    "First version: 6th of July 2023\n",
    "\n",
    "\n",
    "Copyright 2023 Clinic of Neuroradiology, Magdeburg, Germany\n",
    "\n",
    "License: Apache-2.0"
   ]
  },
  {
   "cell_type": "markdown",
   "metadata": {},
   "source": [
    "## Table of contents\n",
    "0. [Initial Set-Up for Google Colab](#initial-set-up-for-google-colab)\n",
    "1. [Initial Set-Up (offline)](#initial-set-up-offline)\n",
    "2. [Load images](#Load-Images)\n",
    "3. [Intensity](#Intensity)\n",
    "4. [Histograms](#Histograms)\n",
    "5. [Create a mask](#Create-a-Mask)\n",
    "6. [Tune a mask](#Tune-a-Mask)\n",
    "    - [Exercise (Tune mask)](#exercise-tune-mask)\n",
    "7. [Filter convolutions](#Filter-convolutions)\n",
    "    - [Exercise (Filtering)](#exercise-filtering)\n",
    "8. [Smoothing](#Smoothing)\n",
    "8. [Detect edges](#Detect-Edges)\n",
    "    - [Exercise](#Exercise-2)"
   ]
  },
  {
   "cell_type": "markdown",
   "metadata": {},
   "source": [
    "## Initial Set-Up for Google Colab\n",
    "<u> Execute these code blocks just in Google Colab! </u>"
   ]
  },
  {
   "cell_type": "code",
   "execution_count": null,
   "metadata": {},
   "outputs": [],
   "source": [
    "!git clone https://github.com/University-Clinic-of-Neuroradiology/python-bootcamp.git"
   ]
  },
  {
   "cell_type": "code",
   "execution_count": null,
   "metadata": {},
   "outputs": [],
   "source": [
    "import os\n",
    "import sys\n",
    "from google.colab import output\n",
    "output.enable_custom_widget_manager()\n",
    "\n",
    "sys.path.insert(0,'/content/python-bootcamp/notebooks/ImageAnalysis')\n",
    "os.chdir(sys.path[0])"
   ]
  },
  {
   "cell_type": "code",
   "execution_count": null,
   "metadata": {},
   "outputs": [],
   "source": [
    "%pip install -q ipympl numpy matplotlib imageio pydicom SciPy"
   ]
  },
  {
   "cell_type": "code",
   "execution_count": null,
   "metadata": {},
   "outputs": [],
   "source": [
    "import numpy as np\n",
    "import matplotlib.pyplot as plt\n",
    "\n",
    "import imageio\n",
    "import scipy.ndimage as ndi\n",
    "import pydicom\n",
    "from pydicom.data import get_testdata_file"
   ]
  },
  {
   "cell_type": "markdown",
   "metadata": {},
   "source": [
    "## Initial Set-Up (offline)"
   ]
  },
  {
   "cell_type": "code",
   "execution_count": null,
   "metadata": {},
   "outputs": [],
   "source": [
    "# Make sure figures appears inline and animations works\n",
    "# Edit this to \"\"%matplotlib notebook\" when using the \"classic\" jupyter notebook interface\n",
    "%matplotlib widget"
   ]
  },
  {
   "cell_type": "code",
   "execution_count": null,
   "metadata": {},
   "outputs": [],
   "source": [
    "# Initial imports etc\n",
    "import numpy as np\n",
    "import matplotlib.pyplot as plt\n",
    "\n",
    "import imageio\n",
    "import scipy.ndimage as ndi\n",
    "import pydicom\n",
    "from pydicom.data import get_testdata_file"
   ]
  },
  {
   "cell_type": "markdown",
   "metadata": {},
   "source": [
    "## --- Start notebook ---"
   ]
  },
  {
   "cell_type": "markdown",
   "metadata": {},
   "source": [
    "## Load Images"
   ]
  },
  {
   "cell_type": "code",
   "execution_count": null,
   "metadata": {},
   "outputs": [],
   "source": [
    "#  now we load test data files (CT and MR)\n",
    "ct_file = get_testdata_file(\"CT_small.dcm\")\n",
    "\n",
    "# Load the CT file (image)\n",
    "im = imageio.imread(ct_file)"
   ]
  },
  {
   "cell_type": "markdown",
   "metadata": {},
   "source": [
    "## Intensity\n",
    "X-ray absorption is highest in dense tissue such as bone, so the resulting intensities should be high.\n",
    "\n",
    "The image datatype determines the range of possible intensities: e.g., 8-bit unsigned integers (`uint8`) can take values in the range of 0 to 255 or 16-bit signed integers (`int16`) with a range of -32768 to 32767. A colorbar can be helpful for connecting these values to the visualized image."
   ]
  },
  {
   "cell_type": "code",
   "execution_count": null,
   "metadata": {},
   "outputs": [],
   "source": [
    "# Print the image's data type, minimum and maximum intensity\n",
    "print('Data type:', im.dtype)\n",
    "print('Min. value:', im.min())\n",
    "print('Max value:', im.max())"
   ]
  },
  {
   "cell_type": "markdown",
   "metadata": {},
   "source": [
    "You can see, that we have an `int16` datatype with a wide range of intensity values. For better representation and uniform values, we perform min-max normalisation:"
   ]
  },
  {
   "cell_type": "code",
   "execution_count": null,
   "metadata": {},
   "outputs": [],
   "source": [
    "# min-max normalisation\n",
    "im_old = im                                     # save original image\n",
    "im = (im - im.min()) / (im.max() - im.min())    # normalise to 0-1 range\n",
    "\n",
    "# Print the image's data type, minimum and maximum intensity\n",
    "print('Data type:', im.dtype)\n",
    "print('Min. value:', im.min())\n",
    "print('Max value:', im.max())"
   ]
  },
  {
   "cell_type": "markdown",
   "metadata": {},
   "source": [
    "The following function `format_and_render_plot()` is just a simplify formatting method for the plots in this notebook. In the next cells we will modify the the function a little bit. Try to understand what we changed and why. Change the arguments and explore what happens!"
   ]
  },
  {
   "cell_type": "code",
   "execution_count": null,
   "metadata": {},
   "outputs": [],
   "source": [
    "def format_and_render_plot(axis=False, legend=False):\n",
    "    '''\n",
    "    Custom function to simplify common formatting operations for exercises. Operations include: \n",
    "    1. Turning off axis grids and legends, if not explicitly requested.\n",
    "    2. Calling `plt.tight_layout` to improve subplot spacing.\n",
    "    3. Calling `plt.show()` to render plot.\n",
    "    '''\n",
    "    fig = plt.gcf()\n",
    "    for ax in fig.axes:\n",
    "        if not axis:\n",
    "            ax.axis('off')\n",
    "        if legend:  \n",
    "            ax.legend(loc='center right')  \n",
    "    plt.tight_layout()\n",
    "    plt.show()"
   ]
  },
  {
   "cell_type": "code",
   "execution_count": null,
   "metadata": {},
   "outputs": [],
   "source": [
    "# Plot the grayscale images\n",
    "fig, axes = plt.subplots(1, 2, sharex=True)\n",
    "axes[0].imshow(im_old, cmap='gray')\n",
    "axes[0].set_title('without normalization', fontweight =\"bold\")\n",
    "axes[1].imshow(im, cmap='gray')\n",
    "axes[1].set_title('with normalization', fontweight =\"bold\")\n",
    "format_and_render_plot()"
   ]
  },
  {
   "cell_type": "markdown",
   "metadata": {},
   "source": [
    "## Histograms\n",
    "Histograms display the distribution of values in your image by binning each element by its intensity then measuring the size of each bin.\n",
    "\n",
    "The area under a histogram is called the cumulative distribution function. It measures the frequency with which a given range of pixel intensities occurs."
   ]
  },
  {
   "cell_type": "code",
   "execution_count": null,
   "metadata": {},
   "outputs": [],
   "source": [
    "# Create a 256-bin histogram, binned at each possible value\n",
    "hist = ndi.histogram(im, min=im.min(), max=im.max(), bins=256)\n",
    "\n",
    "# Create a cumulative distribution function\n",
    "cdf = hist.cumsum() / hist.sum()\n",
    "\n",
    "# Plot the histogram and CDF\n",
    "fig, axes = plt.subplots(2, 1, sharex=True)         # sharex=True shares the x-axis between the top and bottom subplot\n",
    "axes[0].plot(hist, label='Histogram')               # label='Histogram' labels this line as \"Histogram\" for the legend\n",
    "axes[1].plot(cdf, label='CDF')                      # label='CDF' labels this line as \"CDF\" for the legend\n",
    "format_and_render_plot(axis=True, legend=True)      # axis=True turns on axis grids for the plot; legend=True turns on the legend"
   ]
  },
  {
   "cell_type": "markdown",
   "metadata": {},
   "source": [
    "## Create a Mask\n",
    "Masks are the primary method for removing or selecting specific parts of an image. They are binary arrays that indicate whether a value should be included in an analysis. Typically, masks are created by applying one or more logical operations to an image.\n",
    "\n",
    "In this exercise, you use a simple intensity threshold to differentiate between soft tissue and bone.\n",
    "\n",
    "<ins>Exercise:</ins> Try different intervals/thresholds by yourself!"
   ]
  },
  {
   "cell_type": "code",
   "execution_count": null,
   "metadata": {},
   "outputs": [],
   "source": [
    "# Create soft tissue (st) and bone masks\n",
    "# Try different intervals by yourself\n",
    "mask_st = (im >= 0.2) & (im < 0.52)     # soft tissue mask\n",
    "mask_bone = im >= 0.53                  # bone mask\n",
    "\n",
    "# Plot the skin (0) and bone (1) masks\n",
    "fig, axes = plt.subplots(1,2)\n",
    "axes[0].imshow(mask_st, cmap='gray')\n",
    "axes[0].set_title('soft tissue map', fontweight =\"bold\")\n",
    "axes[1].imshow(mask_bone, cmap='gray')\n",
    "axes[1].set_title('bone map', fontweight =\"bold\")\n",
    "format_and_render_plot()"
   ]
  },
  {
   "cell_type": "markdown",
   "metadata": {},
   "source": [
    "## Apply a Mask\n",
    "Although masks are binary, they can be applied to images to filter out pixels where the mask is `False`.\n",
    "\n",
    "NumPy's `where()` function is a flexible way of applying masks. It takes three arguments:\n",
    "\n",
    "    np.where(condition, x, y)\n",
    "\n",
    "`condition`, `x` and `y` can be either arrays or single values. This allows you to pass through original image values while setting masked values to 0."
   ]
  },
  {
   "cell_type": "code",
   "execution_count": null,
   "metadata": {},
   "outputs": [],
   "source": [
    "# Screen out non-bone pixels from \"im\"\n",
    "im_bone = np.where(mask_bone, im, 0)\n",
    "\n",
    "# Get the histogram of bone intensities\n",
    "hist = ndi.histogram(im_bone, min=im_bone.min()+0.01, max=im_bone.max(), bins=255)\n",
    "\n",
    "# Plot masked image and histogram\n",
    "fig, axes = plt.subplots(2,1)\n",
    "axes[0].imshow(im_bone, cmap='gray', label='Bone pixels')\n",
    "axes[0].axis('off')\n",
    "axes[1].plot(hist, label='Histogram')\n",
    "format_and_render_plot(axis=True, legend=True)"
   ]
  },
  {
   "cell_type": "markdown",
   "metadata": {},
   "source": [
    "## Tune a Mask\n",
    "Imperfect masks can be tuned through the addition and subtraction of pixels. SciPy includes several useful methods for accomplishing these ends. These include:\n",
    "\n",
    "- `binary_dilation`: Add pixels along edges\n",
    "- `binary_erosion`: Remove pixels along edges\n",
    "- `binary_opening`: Erode then dilate, \"opening\" areas near edges\n",
    "- `binary_closing`: Dilate then erode, \"filling in\" holes"
   ]
  },
  {
   "cell_type": "code",
   "execution_count": null,
   "metadata": {},
   "outputs": [],
   "source": [
    "# Create and tune bone mask\n",
    "mask_dilate = ndi.binary_dilation(mask_bone, iterations=5)\n",
    "mask_closed = ndi.binary_closing(mask_bone, iterations=5)\n",
    "\n",
    "# Plot masked images\n",
    "fig, axes = plt.subplots(1,3)\n",
    "axes[0].imshow(mask_bone)\n",
    "axes[0].set_title('original', fontweight =\"bold\")\n",
    "axes[1].imshow(mask_dilate)\n",
    "axes[1].set_title('dilated', fontweight =\"bold\")\n",
    "axes[2].imshow(mask_closed)\n",
    "axes[2].set_title('closed', fontweight =\"bold\")\n",
    "format_and_render_plot()"
   ]
  },
  {
   "cell_type": "markdown",
   "metadata": {},
   "source": [
    "### Exercise (Tune mask)\n",
    "Try some other paramters and observe the changes:"
   ]
  },
  {
   "cell_type": "code",
   "execution_count": null,
   "metadata": {},
   "outputs": [],
   "source": [
    "# Write your code here\n",
    "\n",
    "\n",
    "\n",
    "\n"
   ]
  },
  {
   "cell_type": "code",
   "execution_count": null,
   "metadata": {},
   "outputs": [],
   "source": [
    "### Solution - just an example, try your own\n",
    "# Let's create a funny mask ;)\n",
    "mask_erosion = ndi.binary_erosion(mask_bone, iterations=5)\n",
    "mask_opening = ndi.binary_opening(mask_bone, iterations=5)\n",
    "\n",
    "# Plot masked images\n",
    "fig, axes = plt.subplots(1,3)\n",
    "axes[0].imshow(mask_bone)\n",
    "axes[0].set_title('original', fontweight =\"bold\")\n",
    "axes[1].imshow(mask_erosion)\n",
    "axes[1].set_title('erosion', fontweight =\"bold\")\n",
    "axes[2].imshow(mask_opening)\n",
    "axes[2].set_title('opening', fontweight =\"bold\")\n",
    "format_and_render_plot()"
   ]
  },
  {
   "cell_type": "markdown",
   "metadata": {},
   "source": [
    "## Filter Convolutions\n",
    "Filters are an essential tool in image processing. They allow you to transform images based on intensity values surrounding a pixel, rather than globally.\n",
    "\n",
    "This step is also an important part in the most common DeepLearning models, calles convolutional layer."
   ]
  },
  {
   "cell_type": "code",
   "execution_count": null,
   "metadata": {},
   "outputs": [],
   "source": [
    "# Set filter weights\n",
    "weights = [[0.11, 0.11, 0.11],\n",
    "           [0.11, 0.11, 0.11], \n",
    "           [0.11, 0.11, 0.11]]\n",
    "\n",
    "# Convolve the image with the filter\n",
    "im_filt = ndi.convolve(im, weights)\n",
    "\n",
    "# Plot the images\n",
    "fig, axes = plt.subplots(1,2)\n",
    "axes[0].imshow(im, cmap='gray')\n",
    "axes[0].set_title('original', fontweight =\"bold\")\n",
    "axes[1].imshow(im_filt, cmap='gray')\n",
    "axes[1].set_title('with filter', fontweight =\"bold\")\n",
    "format_and_render_plot()"
   ]
  },
  {
   "cell_type": "markdown",
   "metadata": {},
   "source": [
    "### Exercise (Filtering)\n",
    "Try some new filters and observe the changes.\n",
    "\n",
    "<ins>Optional:</ins> Try to apply a sharpening filter! "
   ]
  },
  {
   "cell_type": "code",
   "execution_count": null,
   "metadata": {},
   "outputs": [],
   "source": [
    "# Write your code here\n",
    "\n",
    "\n",
    "\n",
    "\n"
   ]
  },
  {
   "cell_type": "code",
   "execution_count": null,
   "metadata": {},
   "outputs": [],
   "source": [
    "### Solution\n",
    "# Set filter weights for sharpening the image\n",
    "weights = [[-1, -1, -1],\n",
    "           [-1, 9, -1],\n",
    "           [-1, -1, -1]]\n",
    "\n",
    "# Convolve the image with the filter\n",
    "im_filt = ndi.convolve(im, weights)\n",
    "\n",
    "# Plot the images\n",
    "fig, axes = plt.subplots(1,2)\n",
    "axes[0].imshow(im, cmap='gray')\n",
    "axes[0].set_title('original', fontweight =\"bold\")\n",
    "axes[1].imshow(im_filt, cmap='gray')\n",
    "axes[1].set_title('with filter', fontweight =\"bold\")\n",
    "format_and_render_plot()"
   ]
  },
  {
   "cell_type": "markdown",
   "metadata": {},
   "source": [
    "## Smoothing\n",
    "Smoothing can improve the signal-to-noise ratio of your image by blurring out small variations in intensity. The Gaussian filter is excellent for this: it is a circular (or spherical) smoothing kernel that weights nearby pixels higher than distant ones.\n",
    "\n",
    "The width of the distribution is controlled by the sigma argument, with higher values leading to larger smoothing effects.\n",
    "\n",
    "<ins>Exercise:</ins> Try different sigmas by yourself!"
   ]
  },
  {
   "cell_type": "code",
   "execution_count": null,
   "metadata": {},
   "outputs": [],
   "source": [
    "# Smooth \"im\" with Gaussian filters\n",
    "# Try different sigmas  by yourself\n",
    "im_s1 = ndi.gaussian_filter(im, sigma=1)\n",
    "im_s3 = ndi.gaussian_filter(im, sigma=3)\n",
    "\n",
    "# Draw bone masks of each image\n",
    "fig, axes = plt.subplots(1,3)\n",
    "axes[0].imshow(im, cmap='gray')\n",
    "axes[0].set_title('original', fontweight =\"bold\")\n",
    "axes[1].imshow(im_s1, cmap='gray')\n",
    "axes[1].set_title('Gaussian (sigma=1)', fontweight =\"bold\")\n",
    "axes[2].imshow(im_s3, cmap='gray')\n",
    "axes[2].set_title('Gaussian (sigma=3)', fontweight =\"bold\")\n",
    "format_and_render_plot()"
   ]
  },
  {
   "cell_type": "markdown",
   "metadata": {},
   "source": [
    "## Detect Edges\n",
    "Filters can also be used as \"detectors.\" If a part of the image fits the weighting pattern, the returned value will be very high (or very low).\n",
    "\n",
    "In the case of edge detection, that pattern is a change in intensity along a plane."
   ]
  },
  {
   "cell_type": "code",
   "execution_count": null,
   "metadata": {},
   "outputs": [],
   "source": [
    "# Set weights to detect vertical edges\n",
    "weights = [[1, 0, -1],\n",
    "           [1, 0, -1],\n",
    "           [1, 0, -1]]\n",
    "\n",
    "# Convolve \"im\" with filter weights\n",
    "edges = ndi.convolve(im, weights)\n",
    "\n",
    "# Draw the image in color\n",
    "fig, axes = plt.subplots(1,2)\n",
    "axes[0].imshow(im, cmap='gray')\n",
    "axes[0].set_title('original', fontweight =\"bold\")\n",
    "axes[1].imshow(edges, cmap='seismic', vmin=-0.8, vmax=0.8)\n",
    "axes[1].set_title('edge filter', fontweight =\"bold\")\n",
    "format_and_render_plot()"
   ]
  },
  {
   "cell_type": "markdown",
   "metadata": {},
   "source": [
    "### Exercise 2\n",
    "A filter detecting horizontal edges might look like this:\n",
    "\n",
    "    weights = [[+1, +1, +1],\n",
    "            [ 0,  0,  0],\n",
    "            [-1, -1, -1]]\n",
    "\n",
    "\n",
    "Apply the new filter to the image!"
   ]
  },
  {
   "cell_type": "code",
   "execution_count": null,
   "metadata": {},
   "outputs": [],
   "source": [
    "# Write your code here (the solution is below)\n",
    "\n",
    "\n",
    "\n",
    "\n"
   ]
  },
  {
   "cell_type": "code",
   "execution_count": null,
   "metadata": {},
   "outputs": [],
   "source": [
    "### Solution\n",
    "# Set weights to detect vertical edges\n",
    "weights = [[ 1,  1,  1], \n",
    "           [ 0,  0,  0],\n",
    "           [-1, -1, -1]]\n",
    "\n",
    "# Convolve \"im\" with filter weights\n",
    "edges = ndi.convolve(im, weights)\n",
    "\n",
    "# Draw the image in color\n",
    "fig, axes = plt.subplots(1,2)\n",
    "axes[0].imshow(im, cmap='gray')\n",
    "axes[0].set_title('original', fontweight =\"bold\")\n",
    "axes[1].imshow(edges, cmap='seismic', vmin=-0.8, vmax=0.8)\n",
    "axes[1].set_title('Sobel filter', fontweight =\"bold\")\n",
    "format_and_render_plot()"
   ]
  }
 ],
 "metadata": {
  "kernelspec": {
   "display_name": "Python 3 (ipykernel)",
   "language": "python",
   "name": "python3"
  },
  "language_info": {
   "codemirror_mode": {
    "name": "ipython",
    "version": 3
   },
   "file_extension": ".py",
   "mimetype": "text/x-python",
   "name": "python",
   "nbconvert_exporter": "python",
   "pygments_lexer": "ipython3",
   "version": "3.9.7"
  }
 },
 "nbformat": 4,
 "nbformat_minor": 2
}
