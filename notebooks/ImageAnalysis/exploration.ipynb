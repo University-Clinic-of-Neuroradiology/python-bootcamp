{
 "cells": [
  {
   "cell_type": "markdown",
   "metadata": {},
   "source": [
    "# Demonstration of Exploration\n",
    "You'll learn how to load, build and navigate N-dimensional images using a CT image of the human brain. \n",
    "\n",
    "This demo is a jupyter notebook, i.e. intended to be run step by step.\n",
    "\n",
    "Author: Eric Einspänner\n",
    "Contributor: Nastaran Takmilhomayouni\n",
    "\n",
    "First version: 6th of July 2023\n",
    "\n",
    "\n",
    "Copyright 2023 Clinic of Neuroradiology, Magdeburg, Germany\n",
    "\n",
    "License: Apache-2.0"
   ]
  },
  {
   "cell_type": "markdown",
   "metadata": {},
   "source": [
    "## Table of contents\n",
    "1. [Initial set-up](#Initial-Set-Up)\n",
    "2. [Load images](#Load-Images)\n",
    "3. [Metadata](#Metadata)\n",
    "    - [Exercise](#Exercise-1)\n",
    "4. [Plot images](#Plot-Images)\n",
    "    - [Exercise](#Exercise-2)\n",
    "5. [Load volumes](#Load-Volumes)\n",
    "    - [Slice 3D images](#Slice-3D-Images)\n",
    "    - [Plot other views](#Plot-Other-Views)\n",
    "    - [Exercise](#Exercise-3)\n"
   ]
  },
  {
   "cell_type": "markdown",
   "metadata": {},
   "source": [
    "## Initial Set-Up"
   ]
  },
  {
   "cell_type": "code",
   "execution_count": 1,
   "metadata": {},
   "outputs": [],
   "source": [
    "# Make sure figures appears inline and animations works\n",
    "# Edit this to \"\"%matplotlib notebook\" when using the \"classic\" jupyter notebook interface\n",
    "%matplotlib widget"
   ]
  },
  {
   "cell_type": "code",
   "execution_count": 2,
   "metadata": {},
   "outputs": [],
   "source": [
    "# Initial imports etc\n",
    "import imageio\n",
    "import pydicom\n",
    "from pydicom.data import get_testdata_file\n",
    "import numpy as np\n",
    "import matplotlib.pyplot as plt"
   ]
  },
  {
   "cell_type": "code",
   "execution_count": 3,
   "metadata": {},
   "outputs": [],
   "source": [
    "#  now we load test data files (CT and MR)\n",
    "ct_file = get_testdata_file(\"CT_small.dcm\")\n",
    "mr_file = get_testdata_file(\"MR_small.dcm\")"
   ]
  },
  {
   "cell_type": "markdown",
   "metadata": {},
   "source": [
    "## Load Images\n",
    "In this chapter, we'll work with sections of a computed tomography (CT) scan.\n",
    "\n",
    "To warm up, use the `imageio` package to load a single DICOM image from the scan volume and check out a few of its attributes."
   ]
  },
  {
   "cell_type": "code",
   "execution_count": 4,
   "metadata": {},
   "outputs": [
    {
     "name": "stdout",
     "output_type": "stream",
     "text": [
      "Image type: <class 'imageio.core.util.Array'>\n",
      "Shape of image array: (64, 64)\n"
     ]
    },
    {
     "name": "stderr",
     "output_type": "stream",
     "text": [
      "C:\\Temp\\einspaen\\ipykernel_596\\1573999393.py:2: DeprecationWarning: Starting with ImageIO v3 the behavior of this function will switch to that of iio.v3.imread. To keep the current behavior (and make this warning disappear) use `import imageio.v2 as imageio` or call `imageio.v2.imread` directly.\n",
      "  im_ct = imageio.imread(ct_file)\n",
      "C:\\Temp\\einspaen\\ipykernel_596\\1573999393.py:3: DeprecationWarning: Starting with ImageIO v3 the behavior of this function will switch to that of iio.v3.imread. To keep the current behavior (and make this warning disappear) use `import imageio.v2 as imageio` or call `imageio.v2.imread` directly.\n",
      "  im_mr = imageio.imread(mr_file)\n"
     ]
    }
   ],
   "source": [
    "# Load the images\n",
    "im_ct = imageio.imread(ct_file)\n",
    "im_mr = imageio.imread(mr_file)\n",
    "\n",
    "# Print image attributes\n",
    "print('Image type:', type(im_mr))\n",
    "print('Shape of image array:', im_mr.shape)"
   ]
  },
  {
   "cell_type": "code",
   "execution_count": null,
   "metadata": {},
   "outputs": [],
   "source": [
    "#add some attributes"
   ]
  },
  {
   "cell_type": "markdown",
   "metadata": {},
   "source": [
    "## Metadata\n",
    "Metadata can be quite rich in medical images and can include:\n",
    "- Patient demographics: name, age, sex, clinical information\n",
    "- Acquisition information: image shape, sampling rates, data type, modality (such as X-Ray, CT or MRI)\n",
    "\n",
    "You'll using `pydicom` for this. Read and return a dataset stored in accordance with the DICOM File Format:"
   ]
  },
  {
   "cell_type": "code",
   "execution_count": null,
   "metadata": {},
   "outputs": [],
   "source": [
    "# read the DICOM files\n",
    "ds_ct = pydicom.dcmread(ct_file)\n",
    "ds_mr = pydicom.dcmread(mr_file)\n",
    "\n",
    "# print the DICOM header (metadata)\n",
    "print(ds_ct)\n"
   ]
  },
  {
   "cell_type": "markdown",
   "metadata": {},
   "source": [
    "### Exercise 1\n",
    "Print and explore the metadata of the MR file.\n",
    "\n",
    "Try to answer the following questions:\n",
    "- When was the scan performed?\n",
    "- From which manufacturer was the device where the scan was performed?\n",
    "- What was the sex of the patient?"
   ]
  },
  {
   "cell_type": "code",
   "execution_count": null,
   "metadata": {},
   "outputs": [],
   "source": [
    "# Write your code here (the solution is below)\n",
    "\n",
    "\n",
    "\n",
    "\n",
    "\n",
    "\n",
    "\n",
    "\n",
    "\n",
    "\n",
    "\n",
    "\n",
    "\n"
   ]
  },
  {
   "cell_type": "code",
   "execution_count": null,
   "metadata": {},
   "outputs": [],
   "source": [
    "### Solution\n",
    "print(ds_mr)\n",
    "\n",
    "# Answers:\n",
    "# 28.06.2004 (see DICOM tag (0008, 0020) Study Date)\n",
    "# Toshiba (see DICOM tag (0008, 0070) Manufacturer)\n",
    "# 80.0 (see DICOM tag (0010, 1030) Patient's Weight)"
   ]
  },
  {
   "cell_type": "markdown",
   "metadata": {},
   "source": [
    "## Plot Images\n",
    "Perhaps the most critical principle of image analysis is: look at your images!\n",
    "\n",
    "Matplotlib's `imshow()` function gives you a simple way to do this. Knowing a few simple arguments will help:\n",
    "\n",
    "- `cmap` controls the color mappings for each value. The `gray` colormap is common, but many others are available.\n",
    "- `vmin` and `vmax` control the color contrast between values. Changing these can reduce the influence of extreme values."
   ]
  },
  {
   "cell_type": "code",
   "execution_count": null,
   "metadata": {},
   "outputs": [],
   "source": [
    "# Draw the image in grayscale\n",
    "plt.imshow(im_ct, cmap='gray')\n",
    "\n",
    "# Render the image\n",
    "plt.show()"
   ]
  },
  {
   "cell_type": "markdown",
   "metadata": {},
   "source": [
    "### Exercise 2\n",
    "Plot the CT scan and investigate the effect of a few different parameters, e.g. try the `rainbow` colormap. Also, set a range from -200 to 200 to increase the contrast."
   ]
  },
  {
   "cell_type": "code",
   "execution_count": null,
   "metadata": {},
   "outputs": [],
   "source": [
    "# Write your code here (the solution is below)\n",
    "\n",
    "\n",
    "\n",
    "\n",
    "\n",
    "\n",
    "\n",
    "\n",
    "\n",
    "\n",
    "\n",
    "\n",
    "\n",
    "\n",
    "\n"
   ]
  },
  {
   "cell_type": "code",
   "execution_count": null,
   "metadata": {},
   "outputs": [],
   "source": [
    "### Solution\n",
    "# Draw the image with greater contrast (from -200 to 200)\n",
    "plt.imshow(im_ct, cmap='rainbow', vmin=-200, vmax=200)\n",
    "\n",
    "# Render the image\n",
    "plt.show()"
   ]
  },
  {
   "cell_type": "markdown",
   "metadata": {},
   "source": [
    "# Load volumes\n",
    "`ImageIO's volread()` function can load multi-dimensional datasets and create 3D volumes from a folder of images. It can also aggregate metadata across these multiple images.\n",
    "\n",
    "For this exercise, read in an entire volume of brain data from the \"brain-ct\" folder, which contains ?? DICOM images."
   ]
  },
  {
   "cell_type": "code",
   "execution_count": null,
   "metadata": {},
   "outputs": [],
   "source": [
    "folder_path = 'C:/Users/einspaen/Downloads/Biomedical-Image-Analysis-in-Python-master/Biomedical-Image-Analysis-in-Python-master/Data/Brain/SE000001/MR000000'\n",
    "\n",
    "# Load the brain data folder\n",
    "vol = imageio.volread(folder_path)\n",
    "\n",
    "# Print image attributes (similar to pydicom)\n",
    "print('Shape of image array:', vol.shape)\n",
    "print('Available metadata:', vol.meta)"
   ]
  },
  {
   "cell_type": "markdown",
   "metadata": {},
   "source": [
    "## Slice 3D Images\n",
    "The simplest way to plot 3D and 4D images by slicing them into many 2D frames. Plotting many slices sequentially can create a \"fly-through\" effect that helps you understand the image as a whole.\n",
    "\n",
    "To select a 2D frame, pick a frame for the first slice and select all data from the remaining two: `vol[0, :, :]`."
   ]
  },
  {
   "cell_type": "code",
   "execution_count": null,
   "metadata": {},
   "outputs": [],
   "source": [
    "# Plot the images on a subplots array \n",
    "fig, axes = plt.subplots(nrows=1,ncols=4)\n",
    "\n",
    "# Loop through subplots and draw image\n",
    "# plot every 30th slice of vol on a separate subplot\n",
    "for ii in range(4):\n",
    "    im = vol[ii*3, :, :]\n",
    "    axes[ii].imshow(im, cmap='gray')\n",
    "    axes[ii].axis('off')\n",
    "    \n",
    "# Render the figure\n",
    "plt.show()"
   ]
  },
  {
   "cell_type": "markdown",
   "metadata": {},
   "source": [
    "## Plot Other Views\n",
    "Any two dimensions of an array can form an image, and slicing along different axes can provide a useful perspective.\n",
    "\n",
    "Changing the aspect ratio can address this by increasing the width of one of the dimensions."
   ]
  },
  {
   "cell_type": "code",
   "execution_count": null,
   "metadata": {},
   "outputs": [],
   "source": [
    "# Select coronal frame from \"vol\"\n",
    "im1 = vol[:, 128, :]\n",
    "\n",
    "# Compute aspect ratios\n",
    "d0, d1, d2 = vol.meta['sampling']\n",
    "asp1 = d0 / d2\n",
    "\n",
    "# Plot the coronal image\n",
    "plt.imshow(im1, cmap='gray', aspect=asp1)\n",
    "\n",
    "plt.show()"
   ]
  },
  {
   "cell_type": "markdown",
   "metadata": {},
   "source": [
    "### Exercise 3\n",
    "Repeat what you have just learnt and plot the picture with respect to the sagittal axis."
   ]
  },
  {
   "cell_type": "code",
   "execution_count": null,
   "metadata": {},
   "outputs": [],
   "source": [
    "# Write your code here (the solution is below)\n",
    "\n",
    "\n",
    "\n",
    "\n",
    "\n",
    "\n",
    "\n",
    "\n",
    "\n",
    "\n",
    "\n",
    "\n"
   ]
  },
  {
   "cell_type": "code",
   "execution_count": null,
   "metadata": {},
   "outputs": [],
   "source": [
    "### Solution\n",
    "# Select sagittal frame from \"vol\"\n",
    "im2 = vol[:, : , 128]\n",
    "\n",
    "# Compute aspect ratios\n",
    "asp2 = d0 / d1\n",
    "\n",
    "# Plot the sagittal image\n",
    "plt.imshow(im2, cmap='gray', aspect=asp2)\n",
    "\n",
    "plt.show()"
   ]
  }
 ],
 "metadata": {
  "kernelspec": {
   "display_name": "Python 3 (ipykernel)",
   "language": "python",
   "name": "python3"
  },
  "language_info": {
   "codemirror_mode": {
    "name": "ipython",
    "version": 3
   },
   "file_extension": ".py",
   "mimetype": "text/x-python",
   "name": "python",
   "nbconvert_exporter": "python",
   "pygments_lexer": "ipython3",
   "version": "3.9.7"
  }
 },
 "nbformat": 4,
 "nbformat_minor": 2
}
