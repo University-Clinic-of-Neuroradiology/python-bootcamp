{
 "cells": [
  {
   "cell_type": "code",
   "execution_count": null,
   "id": "dc27be09",
   "metadata": {},
   "outputs": [],
   "source": [
    "record = wfdb.rdrecord('../input/apneaecg/apnea-ecg/a01') \n",
    "wfdb.plot_wfdb(record, title='Record a01 from Physionet Apnea ECG') \n",
    "display(record.__dict__)"
   ]
  },
  {
   "cell_type": "code",
   "execution_count": null,
   "id": "99944dbc",
   "metadata": {},
   "outputs": [],
   "source": [
    "https://pypi.org/project/ecg-plot/"
   ]
  }
 ],
 "metadata": {
  "kernelspec": {
   "display_name": "Python 3 (ipykernel)",
   "language": "python",
   "name": "python3"
  },
  "language_info": {
   "codemirror_mode": {
    "name": "ipython",
    "version": 3
   },
   "file_extension": ".py",
   "mimetype": "text/x-python",
   "name": "python",
   "nbconvert_exporter": "python",
   "pygments_lexer": "ipython3",
   "version": "3.9.7"
  }
 },
 "nbformat": 4,
 "nbformat_minor": 5
}
