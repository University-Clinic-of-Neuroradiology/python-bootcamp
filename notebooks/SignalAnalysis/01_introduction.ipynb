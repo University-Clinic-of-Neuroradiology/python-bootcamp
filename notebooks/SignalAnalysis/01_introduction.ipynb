{
 "cells": [
  {
   "cell_type": "markdown",
   "id": "a96dc21e",
   "metadata": {},
   "source": [
    "## Medical signal\n",
    "| Signal Type | File Extension       | Origin                                         |\n",
    "|-------------|----------------------|------------------------------------------------|\n",
    "| EEG         | .fif                 | Fractal Image Format                           |  \n",
    "|             | .edf                 | European data Format                           |\n",
    "|             | .eeg                 | BrainVision                                    |\n",
    "|             | .vhdr                | BrainVision                                    |\n",
    "|             | .vmrk                | BrainVision                                    |      \n",
    "|             | .bdf                 | BioSemi data Format                            |\n",
    "|             | .gdf                 | General data Format                            |\n",
    "|             | .cnt                 | Neuroscan CNT                                  |\n",
    "|             | .egi                 | EGI simple binary                              |\n",
    "|             | .mff                 | EGI MFF                                        |\n",
    "|             | .set,.fdt            | EEGLAB files                                   |\n",
    "|             | .data                | Nicolet                                        |\n",
    "|             | .nxe                 | eXimia EEG data                                |\n",
    "|             | .lay .dat            | Persyst EEG data                               |\n",
    "|             | .eeg,.21e,.pnt,.log  | Nihon Kohden EEG data                          |\n",
    "|             | .xdf,.xdfz)          | XDF data                                       |\n",
    "| ECG         | .fif                 | Fractal Image Format                           |  \n",
    "|             | .edf                 | European data Format                           |\n",
    "|             | .eeg                 | BrainVision                                    |\n",
    "|             | .vhdr                | BrainVision                                    |\n",
    "|             | .vmrk                | BrainVision                                    |      \n",
    "|             | .bdf                 | BioSemi data Format                            |\n",
    "|             | .gdf                 | General data Format                            |\n",
    "|             | .cnt                 | Neuroscan CNT                                  |"
   ]
  },
  {
   "cell_type": "markdown",
   "id": "4e1e1f2e",
   "metadata": {},
   "source": [
    "https://medium.com/@lalesena/how-to-analyze-ecgs-with-python-396e34ece937"
   ]
  },
  {
   "cell_type": "code",
   "execution_count": null,
   "id": "ac563671",
   "metadata": {},
   "outputs": [],
   "source": []
  }
 ],
 "metadata": {
  "kernelspec": {
   "display_name": "Python 3 (ipykernel)",
   "language": "python",
   "name": "python3"
  },
  "language_info": {
   "codemirror_mode": {
    "name": "ipython",
    "version": 3
   },
   "file_extension": ".py",
   "mimetype": "text/x-python",
   "name": "python",
   "nbconvert_exporter": "python",
   "pygments_lexer": "ipython3",
   "version": "3.9.7"
  }
 },
 "nbformat": 4,
 "nbformat_minor": 5
}
