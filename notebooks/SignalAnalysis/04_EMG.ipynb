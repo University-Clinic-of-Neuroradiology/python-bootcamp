{
 "cells": [
  {
   "cell_type": "markdown",
   "id": "412f8d87",
   "metadata": {},
   "source": [
    "https://physionet.org/content/emgdb/1.0.0/"
   ]
  },
  {
   "cell_type": "markdown",
   "id": "f3f6cf24",
   "metadata": {},
   "source": [
    "https://stackoverflow.com/questions/66727140/how-can-i-read-a-dat-file-together-with-a-hea-file"
   ]
  },
  {
   "cell_type": "markdown",
   "id": "54d889ae",
   "metadata": {},
   "source": [
    "https://github.com/MIT-LCP/wfdb-python/tree/main/sample-data"
   ]
  },
  {
   "cell_type": "code",
   "execution_count": null,
   "id": "9d30987d",
   "metadata": {},
   "outputs": [],
   "source": []
  }
 ],
 "metadata": {
  "kernelspec": {
   "display_name": "Python 3 (ipykernel)",
   "language": "python",
   "name": "python3"
  },
  "language_info": {
   "codemirror_mode": {
    "name": "ipython",
    "version": 3
   },
   "file_extension": ".py",
   "mimetype": "text/x-python",
   "name": "python",
   "nbconvert_exporter": "python",
   "pygments_lexer": "ipython3",
   "version": "3.9.7"
  }
 },
 "nbformat": 4,
 "nbformat_minor": 5
}
