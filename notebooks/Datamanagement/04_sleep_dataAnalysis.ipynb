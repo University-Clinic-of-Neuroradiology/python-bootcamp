{
 "cells": [
  {
   "cell_type": "code",
   "execution_count": null,
   "id": "60e1409a",
   "metadata": {},
   "outputs": [],
   "source": [
    "#how to open sleep data"
   ]
  },
  {
   "cell_type": "code",
   "execution_count": 8,
   "id": "f0913a6a",
   "metadata": {},
   "outputs": [],
   "source": [
    "import tarfile\n",
    "tar = tarfile.open('Data/smni_eeg_data/a_1_co2a0000364.tar.gz', \"r:gz\")\n",
    "tar.extractall()\n",
    "tar.close()"
   ]
  },
  {
   "cell_type": "code",
   "execution_count": 9,
   "id": "74aad4bd",
   "metadata": {},
   "outputs": [
    {
     "name": "stdout",
     "output_type": "stream",
     "text": [
      "<tarfile.TarFile object at 0x0000017D11BC4310>\n"
     ]
    }
   ],
   "source": [
    "print(tar)"
   ]
  },
  {
   "cell_type": "code",
   "execution_count": 11,
   "id": "ff92b0da",
   "metadata": {},
   "outputs": [],
   "source": [
    "import shutil\n",
    "\n",
    "shutil.unpack_archive('Data/smni_eeg_data/a_1_co2a0000364.tar.gz', 'Data/smni_eeg_data')"
   ]
  },
  {
   "cell_type": "code",
   "execution_count": 26,
   "id": "553faa61",
   "metadata": {},
   "outputs": [],
   "source": [
    "import os\n",
    "\n",
    "import gzip\n",
    "\n",
    "\n",
    "\n",
    "sleepdata_path='Data/smni_eeg_data/'\n",
    "for tar_filename in os.listdir(sleepdata_path):\n",
    "     if 'tar.gz' in tar_filename: \n",
    "        shutil.unpack_archive(sleepdata_path+tar_filename,sleepdata_path)\n",
    "        \n",
    "        for gz_filename in os.listdir(sleepdata_path+tar_filename.split('.')[0]):\n",
    "            \n",
    "            with gzip.open(sleepdata_path+tar_filename.split('.')[0]+'/'+gz_filename, 'rb') as f_in:\n",
    "                \n",
    "                with open(sleepdata_path+tar_filename.split('.')[0]+'/'+gz_filename.split('.gz')[0], 'wb') as f_out:\n",
    "                    shutil.copyfileobj(f_in, f_out)\n",
    "                \n",
    "            #shutil.unpack_archive(,sleepdata_path+tar_filename.split('.')[0])\n",
    "            "
   ]
  },
  {
   "cell_type": "code",
   "execution_count": 22,
   "id": "07d8eabb",
   "metadata": {},
   "outputs": [
    {
     "name": "stdout",
     "output_type": "stream",
     "text": [
      "['co2a0000364.rd.000', '']\n"
     ]
    }
   ],
   "source": [
    "str='co2a0000364.rd.000.gz'\n",
    "print(str.split('.gz'))"
   ]
  },
  {
   "cell_type": "code",
   "execution_count": 28,
   "id": "d8d765f9",
   "metadata": {},
   "outputs": [
    {
     "ename": "ModuleNotFoundError",
     "evalue": "No module named 'rpy'",
     "output_type": "error",
     "traceback": [
      "\u001b[1;31m---------------------------------------------------------------------------\u001b[0m",
      "\u001b[1;31mModuleNotFoundError\u001b[0m                       Traceback (most recent call last)",
      "\u001b[1;32m~\\AppData\\Local\\Temp/ipykernel_2552/856140442.py\u001b[0m in \u001b[0;36m<module>\u001b[1;34m\u001b[0m\n\u001b[1;32m----> 1\u001b[1;33m \u001b[1;32mfrom\u001b[0m \u001b[0mrpy\u001b[0m \u001b[1;32mimport\u001b[0m \u001b[1;33m*\u001b[0m\u001b[1;33m\u001b[0m\u001b[1;33m\u001b[0m\u001b[0m\n\u001b[0m\u001b[0;32m      2\u001b[0m \u001b[0mr\u001b[0m\u001b[1;33m.\u001b[0m\u001b[0mload\u001b[0m\u001b[1;33m(\u001b[0m\u001b[1;34m\"/Users/nasta/Downloads/smni_eeg_data/c_m_co2c0000337/c_m_co2c0000337/co2c0000337.rd.071\"\u001b[0m\u001b[1;33m)\u001b[0m\u001b[1;33m\u001b[0m\u001b[1;33m\u001b[0m\u001b[0m\n",
      "\u001b[1;31mModuleNotFoundError\u001b[0m: No module named 'rpy'"
     ]
    }
   ],
   "source": [
    "from rpy import *\n",
    "r.load(\"/Users/nasta/Downloads/smni_eeg_data/c_m_co2c0000337/c_m_co2c0000337/co2c0000337.rd.071\")"
   ]
  },
  {
   "cell_type": "code",
   "execution_count": null,
   "id": "df949cfe",
   "metadata": {},
   "outputs": [],
   "source": []
  }
 ],
 "metadata": {
  "kernelspec": {
   "display_name": "Python 3 (ipykernel)",
   "language": "python",
   "name": "python3"
  },
  "language_info": {
   "codemirror_mode": {
    "name": "ipython",
    "version": 3
   },
   "file_extension": ".py",
   "mimetype": "text/x-python",
   "name": "python",
   "nbconvert_exporter": "python",
   "pygments_lexer": "ipython3",
   "version": "3.9.7"
  }
 },
 "nbformat": 4,
 "nbformat_minor": 5
}
