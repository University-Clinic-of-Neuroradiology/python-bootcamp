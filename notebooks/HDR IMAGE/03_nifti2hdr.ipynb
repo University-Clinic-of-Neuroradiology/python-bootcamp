{
 "cells": [
  {
   "cell_type": "code",
   "execution_count": 19,
   "id": "a651a9fc",
   "metadata": {},
   "outputs": [
    {
     "name": "stdout",
     "output_type": "stream",
     "text": [
      "<class 'nibabel.nifti1.Nifti1Image'>\n",
      "[[  -1.     0.     0.    87.5]\n",
      " [   0.     1.     0.  -103.5]\n",
      " [   0.     0.     1.   -87.5]\n",
      " [   0.     0.     0.     1. ]]\n"
     ]
    }
   ],
   "source": [
    "import nibabel as nib\n",
    "import numpy as np\n",
    "import os\n",
    "np.bool = np.bool_\n",
    "\n",
    "\n",
    "\n",
    "img = nib.load('img2niftiOAS1_0001_MR1_mpr_n4_anon_111_t88_masked_gfc_fseg.nii')\n",
    "print(type(img))\n",
    "print(img.affine)\n",
    "\n",
    "nib.nifti1.save(img, os.getcwd()+'{}'.format(r'\\nifti2imgOAS1_0001_MR1_mpr_n4_anon_111_t88_masked_gfc_fseg.img'))\n",
    "nib.nifti1.save(img, os.getcwd()+'{}'.format(r'\\nifti2imgOAS1_0001_MR1_mpr_n4_anon_111_t88_masked_gfc_fseg.hdr'))"
   ]
  },
  {
   "cell_type": "code",
   "execution_count": null,
   "id": "5ece7a5f",
   "metadata": {},
   "outputs": [],
   "source": []
  }
 ],
 "metadata": {
  "kernelspec": {
   "display_name": "Python 3 (ipykernel)",
   "language": "python",
   "name": "python3"
  },
  "language_info": {
   "codemirror_mode": {
    "name": "ipython",
    "version": 3
   },
   "file_extension": ".py",
   "mimetype": "text/x-python",
   "name": "python",
   "nbconvert_exporter": "python",
   "pygments_lexer": "ipython3",
   "version": "3.9.7"
  }
 },
 "nbformat": 4,
 "nbformat_minor": 5
}
