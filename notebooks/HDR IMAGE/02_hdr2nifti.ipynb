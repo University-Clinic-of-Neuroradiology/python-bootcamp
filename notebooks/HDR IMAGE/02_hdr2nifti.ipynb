{
 "cells": [
  {
   "cell_type": "code",
   "execution_count": 12,
   "id": "40969d04",
   "metadata": {},
   "outputs": [
    {
     "name": "stdout",
     "output_type": "stream",
     "text": [
      "<class 'nibabel.spm2analyze.Spm2AnalyzeImage'>\n"
     ]
    }
   ],
   "source": [
    "import nibabel as nb\n",
    "np.bool = np.bool_\n",
    "import imageio\n",
    "import numpy as np\n",
    "import matplotlib.pyplot as plt\n",
    "fname = 'OAS1_0001_MR1_mpr_n4_anon_111_t88_masked_gfc_fseg.img'\n",
    "img = nb.load(fname)\n",
    "print(type(img))\n",
    "nb.save(img, 'img2nifti'+fname.replace('.img', '.nii')) #save nibabel.spm2analyze.Spm2AnalyzeImage as nifti"
   ]
  },
  {
   "cell_type": "code",
   "execution_count": 20,
   "id": "8ad4a2dd",
   "metadata": {},
   "outputs": [
    {
     "name": "stdout",
     "output_type": "stream",
     "text": [
      "<class 'imageio.core.util.Array'>\n",
      "<class 'nibabel.spm2analyze.Spm2AnalyzeImage'>\n"
     ]
    }
   ],
   "source": [
    "hdr_path='OAS1_0001_MR1_mpr_n4_anon_111_t88_masked_gfc_fseg.hdr'\n",
    "img = imageio.imread(hdr_path, 'ITK') # returns a tuple\n",
    "print(type(img))\n",
    "\n",
    "hdr = nb.load(hdr_path)\n",
    "print(type(hdr))\n",
    "\n",
    "nb.save(hdr, 'hdr2nifti'+fname.replace('.hdr', '.nii'))"
   ]
  },
  {
   "cell_type": "code",
   "execution_count": null,
   "id": "de0fbedb",
   "metadata": {},
   "outputs": [],
   "source": []
  }
 ],
 "metadata": {
  "kernelspec": {
   "display_name": "Python 3 (ipykernel)",
   "language": "python",
   "name": "python3"
  },
  "language_info": {
   "codemirror_mode": {
    "name": "ipython",
    "version": 3
   },
   "file_extension": ".py",
   "mimetype": "text/x-python",
   "name": "python",
   "nbconvert_exporter": "python",
   "pygments_lexer": "ipython3",
   "version": "3.9.7"
  }
 },
 "nbformat": 4,
 "nbformat_minor": 5
}
