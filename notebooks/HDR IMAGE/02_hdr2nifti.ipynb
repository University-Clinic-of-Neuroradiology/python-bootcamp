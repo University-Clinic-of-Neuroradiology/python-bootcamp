{
 "cells": [
  {
   "cell_type": "markdown",
   "id": "189a9c27",
   "metadata": {},
   "source": [
    "# Introduction to Deep Learning in Python\n",
    "Learn the fundamentals concepts and terminology used working with converting HDR to nifti images.\n",
    "This demo is a jupyter notebook, i.e. intended to be run step by step.\n",
    "\n",
    "Author: Eric Einspänner\n",
    "<br>\n",
    "Contributor: Nastaran Takmilhomayouni\n",
    "\n",
    "First version: 6th of July 2023\n",
    "\n",
    "\n",
    "Copyright 2023 Clinic of Neuroradiology, Magdeburg, Germany\n",
    "\n",
    "License: Apache-2.0\n",
    "    \n",
    "*This dataset used in this tutorial can be found her: https://github.com/GinZhu/RDST/tree/main/data/OASIS/example/OAS1_0001_MR1/FSL_SEG*"
   ]
  },
  {
   "cell_type": "markdown",
   "id": "9555aa71",
   "metadata": {},
   "source": [
    "To convert hdr file you can use load function from python nibabel module to load the image and then save funtion to save it as nifti."
   ]
  },
  {
   "cell_type": "code",
   "execution_count": 28,
   "id": "bc366dff",
   "metadata": {},
   "outputs": [
    {
     "name": "stdout",
     "output_type": "stream",
     "text": [
      "<class 'nibabel.spm2analyze.Spm2AnalyzeImage'>\n"
     ]
    }
   ],
   "source": [
    "# both img and hdr files should be in the folder but you can work with .img file\n",
    "import nibabel as nb\n",
    "import numpy as np\n",
    "np.bool = np.bool_\n",
    "import imageio\n",
    "import numpy as np\n",
    "import matplotlib.pyplot as plt\n",
    "fname = 'Data/img2nifti/OAS1_0001_MR1_mpr_n4_anon_111_t88_masked_gfc_fseg.img'\n",
    "img = nb.load(fname)\n",
    "print(type(img))\n",
    "nb.save(img, fname.replace('.img', '.nii')) #save nibabel.spm2analyze.Spm2AnalyzeImage as nifti\n",
    "#nb.save(img, 'img2nifti'+fname.replace('.img', '.nii')) #save nibabel.spm2analyze.Spm2AnalyzeImage as nifti"
   ]
  },
  {
   "cell_type": "code",
   "execution_count": 30,
   "id": "8ad4a2dd",
   "metadata": {},
   "outputs": [
    {
     "name": "stdout",
     "output_type": "stream",
     "text": [
      "<class 'nibabel.spm2analyze.Spm2AnalyzeImage'>\n"
     ]
    }
   ],
   "source": [
    "# both img and hdr files should be in the folder but you can work with .img file\n",
    "hdr_path='Data/hdr2nifti/OAS1_0001_MR1_mpr_n4_anon_111_t88_masked_gfc_fseg.hdr'\n",
    "#img = imageio.imread('test.hdr', 'ITK') # returns a tuple\n",
    "#print(type(img))\n",
    "\n",
    "hdr = nb.load(hdr_path)\n",
    "print(type(hdr))\n",
    "\n",
    "nb.save(hdr,hdr_path.replace('.hdr', '.nii'))"
   ]
  },
  {
   "cell_type": "code",
   "execution_count": null,
   "id": "de0fbedb",
   "metadata": {},
   "outputs": [],
   "source": []
  }
 ],
 "metadata": {
  "kernelspec": {
   "display_name": "Python 3 (ipykernel)",
   "language": "python",
   "name": "python3"
  },
  "language_info": {
   "codemirror_mode": {
    "name": "ipython",
    "version": 3
   },
   "file_extension": ".py",
   "mimetype": "text/x-python",
   "name": "python",
   "nbconvert_exporter": "python",
   "pygments_lexer": "ipython3",
   "version": "3.9.7"
  }
 },
 "nbformat": 4,
 "nbformat_minor": 5
}
