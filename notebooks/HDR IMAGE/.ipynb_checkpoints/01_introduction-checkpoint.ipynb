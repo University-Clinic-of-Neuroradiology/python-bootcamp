{
 "cells": [
  {
   "cell_type": "markdown",
   "id": "424e5f7b",
   "metadata": {},
   "source": [
    "# Introduction to Deep Learning in Python\n",
    "Learn the fundamentals concepts and terminology used working with HDR images.\n",
    "This demo is a jupyter notebook, i.e. intended to be run step by step.\n",
    "\n",
    "Author: Eric Einspänner\n",
    "<br>\n",
    "Contributor: Nastaran Takmilhomayouni\n",
    "\n",
    "First version: 6th of July 2023\n",
    "\n",
    "\n",
    "Copyright 2023 Clinic of Neuroradiology, Magdeburg, Germany\n",
    "\n",
    "License: Apache-2.0\n",
    "    \n",
    "*This dataset used in this tutorial can be found her: https://github.com/GinZhu/RDST/tree/main/data/OASIS/example/OAS1_0001_MR1/FSL_SEG*"
   ]
  },
  {
   "cell_type": "markdown",
   "id": "0cde9972",
   "metadata": {},
   "source": [
    "## Table Of Contents\n",
    "1. [Intial set-up](#Initial-Set-Up)\n",
    "2. [Load Data](#Load-Data)\n",
    "3. [Plot_Image](#Plot-Image)\n"
   ]
  },
  {
   "cell_type": "markdown",
   "id": "323b0bf8",
   "metadata": {},
   "source": [
    "## Initial Set-up\n",
    "\n",
    "To work with HDR image, you can use python imageio and/or nibabel package.\n",
    "HDR files can come with both header(.hdr) and image files(.img) or only the image file.\n"
   ]
  },
  {
   "cell_type": "markdown",
   "id": "99314739",
   "metadata": {},
   "source": [
    "## Load Data\n",
    "In order to load HDR image file through header, you can use imread function from imageio module."
   ]
  },
  {
   "cell_type": "code",
   "execution_count": 7,
   "id": "7fb30814",
   "metadata": {},
   "outputs": [
    {
     "name": "stdout",
     "output_type": "stream",
     "text": [
      "<class 'imageio.core.util.Array'>\n",
      "<class 'numpy.ndarray'>\n",
      "(176, 208, 176)\n"
     ]
    },
    {
     "data": {
      "text/plain": [
       "<matplotlib.image.AxesImage at 0x275d75bc1c0>"
      ]
     },
     "execution_count": 7,
     "metadata": {},
     "output_type": "execute_result"
    },
    {
     "data": {
      "image/png": "[encoded data removed]",
      "text/plain": [
       "<Figure size 432x288 with 1 Axes>"
      ]
     },
     "metadata": {
      "needs_background": "light"
     },
     "output_type": "display_data"
    }
   ],
   "source": [
    "import imageio\n",
    "import nibabel as nib\n",
    "import numpy as np\n",
    "np.bool = np.bool_\n",
    "\n",
    "import matplotlib.pyplot as plt\n",
    "from nilearn import plotting\n",
    "hdr_path='OAS1_0001_MR1_mpr_n4_anon_111_t88_masked_gfc_fseg.hdr'\n",
    "img = imageio.imread(hdr_path,'ITK') # returns a tuple\n",
    "print(type(img))\n",
    "img = np.array(img) # transforms to numpy array\n",
    "print(type(img))\n",
    "print(np.shape(img))\n",
    "plt.imshow(img[:,100,:],cmap='gray')"
   ]
  },
  {
   "cell_type": "code",
   "execution_count": 8,
   "id": "9c364f91",
   "metadata": {},
   "outputs": [],
   "source": [
    "import nibabel as nb\n",
    "img = nb.load(\"OAS1_0001_MR1_mpr_n4_anon_111_t88_masked_gfc_fseg.img\")\n",
    "hdr = nb.load(\"OAS1_0001_MR1_mpr_n4_anon_111_t88_masked_gfc_fseg.hdr\")"
   ]
  },
  {
   "cell_type": "markdown",
   "id": "3139dbc3",
   "metadata": {},
   "source": [
    "In order to load HDR image file if you only have the image file, you can use load function from nibabel module."
   ]
  },
  {
   "cell_type": "code",
   "execution_count": 5,
   "id": "faff50fe",
   "metadata": {},
   "outputs": [
    {
     "name": "stdout",
     "output_type": "stream",
     "text": [
      "<class 'nibabel.spm2analyze.Spm2AnalyzeImage'>\n",
      "data shape (176, 208, 176, 1)\n",
      "affine: \n",
      "[[  -1.     0.     0.    87.5]\n",
      " [   0.     1.     0.  -103.5]\n",
      " [   0.     0.     1.   -87.5]\n",
      " [   0.     0.     0.     1. ]]\n",
      "metadata:\n",
      "<class 'nibabel.spm2analyze.Spm2AnalyzeHeader'> object, endian='>'\n",
      "sizeof_hdr     : 348\n",
      "data_type      : b'\\x00B\\x00\\x00YA\\x00\\x00\\xe8@'\n",
      "db_name        : b'\\x00\\x00\\x14@\\x00\\x00\\x9d?\\x00\\x00\\xbf>\\x00\\x005>'\n",
      "extents        : 16384\n",
      "session_error  : 0\n",
      "regular        : b'r'\n",
      "hkey_un0       : b' '\n",
      "dim            : [  4 176 208 176   1   0   0   0]\n",
      "vox_units      : b'mm'\n",
      "cal_units      : b'7\\x00\\x00\\x006\\x16'\n",
      "unused1        : 0\n",
      "datatype       : uint8\n",
      "bitpix         : 8\n",
      "dim_un0        : 0\n",
      "pixdim         : [0.0000e+00 1.0000e+00 1.0000e+00 1.0000e+00 1.6531e-41 1.6066e-41\n",
      " 1.5561e-41 1.5082e-41]\n",
      "vox_offset     : 0.0\n",
      "scl_slope      : nan\n",
      "scl_inter      : 0.0\n",
      "funused3       : 0.0\n",
      "cal_max        : 0.0\n",
      "cal_min        : 0.0\n",
      "compressed     : 0\n",
      "verified       : 0\n",
      "glmax          : 3\n",
      "glmin          : 0\n",
      "descrip        : b'                                                                               '\n",
      "aux_file       : b'                       '\n",
      "orient         : b''\n",
      "origin         : [8224 8224 8224 8224 8192]\n",
      "generated      : b'         '\n",
      "scannum        : b'         '\n",
      "patient_id     : b'         '\n",
      "exp_date       : b'         '\n",
      "exp_time       : b'         '\n",
      "hist_un0       : b'  '\n",
      "views          : 0\n",
      "vols_added     : 0\n",
      "start_field    : 0\n",
      "field_skip     : 0\n",
      "omax           : 0\n",
      "omin           : 0\n",
      "smax           : 0\n",
      "smin           : 0\n"
     ]
    }
   ],
   "source": [
    "#if you only have the img file\n",
    "import nibabel as nib\n",
    "img = nib.load('./OAS1_0001_MR1_mpr_n4_anon_111_t88_masked_gfc_fseg.img')\n",
    "print(img)\n"
   ]
  },
  {
   "cell_type": "markdown",
   "id": "6110f758",
   "metadata": {},
   "source": [
    "## Plot Image\n",
    "to plot HDR images, you can use plot_anat function from python plotting module."
   ]
  },
  {
   "cell_type": "code",
   "execution_count": 7,
   "id": "b9378836",
   "metadata": {},
   "outputs": [
    {
     "data": {
      "text/plain": [
       "<nilearn.plotting.displays._slicers.OrthoSlicer at 0x20d8d9405b0>"
      ]
     },
     "execution_count": 7,
     "metadata": {},
     "output_type": "execute_result"
    },
    {
     "data": {
      "image/png": "[encoded data removed]",
      "text/plain": [
       "<Figure size 475.2x187.2 with 4 Axes>"
      ]
     },
     "metadata": {},
     "output_type": "display_data"
    }
   ],
   "source": [
    "from nilearn import plotting\n",
    "plotting.plot_anat(img, title=\"plot_anat\")"
   ]
  },
  {
   "cell_type": "code",
   "execution_count": 8,
   "id": "cf1ac549",
   "metadata": {},
   "outputs": [],
   "source": []
  },
  {
   "cell_type": "code",
   "execution_count": 20,
   "id": "5b438774",
   "metadata": {},
   "outputs": [],
   "source": []
  },
  {
   "cell_type": "code",
   "execution_count": null,
   "id": "4d19dc0e",
   "metadata": {},
   "outputs": [],
   "source": [
    "https://figshare.com/articles/dataset/Brain_MRI_Dataset_MINC_files_mnc_/4764853"
   ]
  }
 ],
 "metadata": {
  "kernelspec": {
   "display_name": "Python 3 (ipykernel)",
   "language": "python",
   "name": "python3"
  },
  "language_info": {
   "codemirror_mode": {
    "name": "ipython",
    "version": 3
   },
   "file_extension": ".py",
   "mimetype": "text/x-python",
   "name": "python",
   "nbconvert_exporter": "python",
   "pygments_lexer": "ipython3",
   "version": "3.9.7"
  }
 },
 "nbformat": 4,
 "nbformat_minor": 5
}
