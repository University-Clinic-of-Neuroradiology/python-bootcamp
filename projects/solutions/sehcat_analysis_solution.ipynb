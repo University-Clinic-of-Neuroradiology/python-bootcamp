{
 "cells": [
  {
   "cell_type": "markdown",
   "metadata": {},
   "source": [
    "# Solution: Measuring SeHCAT retention\n",
    "\n",
    "This is a jupyter notebook, i.e. intended to be run step by step.\n",
    "\n",
    "Author: Eric Einspänner\n",
    "\n",
    "First version: 17th of September 2024\n",
    "\n",
    "Copyright 2023 Clinic of Neuroradiology, Magdeburg, Germany\n",
    "\n",
    "License: Apache-2.0\n",
    "\n",
    "The data sets were provided by the University Clinic for Radiology and Nuclear Medicine Magdeburg."
   ]
  },
  {
   "cell_type": "markdown",
   "metadata": {},
   "source": [
    "## Initial Set-Up for Google Colab\n",
    "<u> Execute these code blocks just in Google Colab! </u>"
   ]
  },
  {
   "cell_type": "code",
   "execution_count": null,
   "metadata": {},
   "outputs": [],
   "source": [
    "!wget -q -O - https://github.com/University-Clinic-of-Neuroradiology/python-bootcamp/archive/refs/heads/main.tar.gz | tar -xzf - --strip-components=2 python-bootcamp-main/projects"
   ]
  },
  {
   "cell_type": "code",
   "execution_count": null,
   "metadata": {},
   "outputs": [],
   "source": [
    "import os\n",
    "import sys\n",
    "from google.colab import output\n",
    "output.enable_custom_widget_manager()\n",
    "\n",
    "sys.path.insert(0,'projects')\n",
    "os.chdir(sys.path[0])"
   ]
  },
  {
   "cell_type": "code",
   "execution_count": null,
   "metadata": {},
   "outputs": [],
   "source": [
    "%pip install -q ipympl os numpy pydicom matplotlib"
   ]
  },
  {
   "cell_type": "code",
   "execution_count": 1,
   "metadata": {},
   "outputs": [],
   "source": [
    "# Import packages\n",
    "import os\n",
    "import numpy as np\n",
    "import pydicom\n",
    "import matplotlib.pyplot as plt"
   ]
  },
  {
   "cell_type": "markdown",
   "metadata": {},
   "source": [
    "## --- Start notebook ---"
   ]
  },
  {
   "cell_type": "markdown",
   "metadata": {},
   "source": [
    "### 0. Load folder/dataset:"
   ]
  },
  {
   "cell_type": "code",
   "execution_count": null,
   "metadata": {},
   "outputs": [],
   "source": [
    "pat_folder = 'files/SehCAT/Pat1/'\n",
    "pat_data = os.listdir(pat_folder)\n",
    "print(pat_data)"
   ]
  },
  {
   "cell_type": "markdown",
   "metadata": {},
   "source": [
    "### 1. Load DICOM data:"
   ]
  },
  {
   "cell_type": "code",
   "execution_count": null,
   "metadata": {},
   "outputs": [],
   "source": [
    "# Read the DICOM file\n",
    "dcm_file = pydicom.dcmread(pat_folder + pat_data[3])\n",
    "\n",
    "# Print specific DICOM tags\n",
    "print(dcm_file[0x0054, 0x0400].value)\n",
    "print(dcm_file[0x0010, 0x1010].value)\n",
    "print(dcm_file[0x0010, 0x1020].value)\n",
    "print(dcm_file[0x0011, 0x100d].value)\n",
    "print(dcm_file[0x0011, 0x1012].value)\n",
    "\n",
    "# Get the pixel data\n",
    "dcm_pixel_data = dcm_file.pixel_array\n",
    "\n",
    "# Print the shape of the pixel data\n",
    "print(dcm_pixel_data.shape)"
   ]
  },
  {
   "cell_type": "markdown",
   "metadata": {},
   "source": [
    "### 2. Plot DICOMs"
   ]
  },
  {
   "cell_type": "code",
   "execution_count": null,
   "metadata": {},
   "outputs": [],
   "source": [
    "# Plot the pixel data\n",
    "fig, axs = plt.subplots(1, 4, figsize=(16, 5))\n",
    "\n",
    "# Subplots with subtitles\n",
    "axs[0].imshow(dcm_pixel_data[0], cmap='gray')\n",
    "axs[0].set_title('ANT_0d_EM1')\n",
    "\n",
    "axs[1].imshow(dcm_pixel_data[1], cmap='gray')\n",
    "axs[1].set_title('POST_0d_EM1')\n",
    "\n",
    "axs[2].imshow(dcm_pixel_data[2], cmap='gray')\n",
    "axs[2].set_title('ANT_0d_EM2')\n",
    "\n",
    "axs[3].imshow(dcm_pixel_data[3], cmap='gray')\n",
    "axs[3].set_title('POST_0d_EM2')\n",
    "\n",
    "plt.tight_layout()\n",
    "plt.show()"
   ]
  },
  {
   "cell_type": "markdown",
   "metadata": {},
   "source": [
    "### 3. Calculate the Retention"
   ]
  },
  {
   "cell_type": "code",
   "execution_count": null,
   "metadata": {},
   "outputs": [],
   "source": [
    "# Define the decay factor\n",
    "decay_factor = 1.04\n",
    "\n",
    "# Read the DICOM files and get the pixel data\n",
    "bg_0 = pydicom.dcmread(pat_folder + pat_data[0]).pixel_array\n",
    "bg_7 = pydicom.dcmread(pat_folder + pat_data[1]).pixel_array\n",
    "wb_0 = pydicom.dcmread(pat_folder + pat_data[2]).pixel_array\n",
    "wb_7 = pydicom.dcmread(pat_folder + pat_data[3]).pixel_array\n",
    "\n",
    "# Calculate the background and counts for the 0d and 7d images in the anterior and posterior views\n",
    "background_0d_ant = np.sum(bg_0[0]) / 1000\n",
    "background_0d_post = np.sum(bg_0[1]) / 1000\n",
    "background_7d_ant = np.sum(bg_7[0]) / 1000\n",
    "background_7d_post = np.sum(bg_7[1]) / 1000\n",
    "ant_counts_0d = np.sum(wb_0[0]) / 1000\n",
    "post_counts_0d = np.sum(wb_0[1]) / 1000\n",
    "ant_counts_7d = np.sum(wb_7[0]) / 1000\n",
    "post_counts_7d = np.sum(wb_7[1]) / 1000\n",
    "\n",
    "# Calculate the retention after 1 week\n",
    "retention_1w = decay_factor * (np.sqrt((ant_counts_7d - background_7d_ant)*(post_counts_7d - background_7d_post)) \\\n",
    "                               / np.sqrt((ant_counts_0d - background_0d_ant)*(post_counts_0d - background_0d_post))) * 100.\n",
    "\n",
    "print(f\"Retention after 1 week: {retention_1w}%\")"
   ]
  },
  {
   "cell_type": "markdown",
   "metadata": {},
   "source": [
    "#### 4. Function"
   ]
  },
  {
   "cell_type": "code",
   "execution_count": null,
   "metadata": {},
   "outputs": [],
   "source": [
    "def calculate_retention(pat_folder, decay_factor=1.04):\n",
    "    pat_data = os.listdir(pat_folder)\n",
    "\n",
    "    # Read DICOM files\n",
    "    bg_0 = pydicom.dcmread(pat_folder + pat_data[0]).pixel_array\n",
    "    bg_7 = pydicom.dcmread(pat_folder + pat_data[1]).pixel_array\n",
    "    wb_0 = pydicom.dcmread(pat_folder + pat_data[2]).pixel_array\n",
    "    wb_7 = pydicom.dcmread(pat_folder + pat_data[3]).pixel_array\n",
    "\n",
    "    # Calculate background and whole-body counts\n",
    "    background_0d_ant = np.sum(bg_0[0]) / 1000\n",
    "    background_0d_post = np.sum(bg_0[1]) / 1000\n",
    "    background_7d_ant = np.sum(bg_7[0]) / 1000\n",
    "    background_7d_post = np.sum(bg_7[1]) / 1000\n",
    "    ant_counts_0d = np.sum(wb_0[0]) / 1000\n",
    "    post_counts_0d = np.sum(wb_0[1]) / 1000\n",
    "    ant_counts_7d = np.sum(wb_7[0]) / 1000\n",
    "    post_counts_7d = np.sum(wb_7[1]) / 1000\n",
    "\n",
    "    # Calculate retention\n",
    "    retention_1w = round(decay_factor * (np.sqrt((ant_counts_7d - background_7d_ant)*(post_counts_7d - background_7d_post)) \\\n",
    "                                         / np.sqrt((ant_counts_0d - background_0d_ant)*(post_counts_0d - background_0d_post))) * 100., 2)\n",
    "    return retention_1w\n",
    "\n",
    "pat_folder = \"files/SehCAT/Pat2/\"\n",
    "retention_1w = calculate_retention(pat_folder)\n",
    "print(f\"Retention after 1 week: {retention_1w}%\")"
   ]
  }
 ],
 "metadata": {
  "kernelspec": {
   "display_name": "pvs",
   "language": "python",
   "name": "python3"
  },
  "language_info": {
   "codemirror_mode": {
    "name": "ipython",
    "version": 3
   },
   "file_extension": ".py",
   "mimetype": "text/x-python",
   "name": "python",
   "nbconvert_exporter": "python",
   "pygments_lexer": "ipython3",
   "version": "3.9.18"
  }
 },
 "nbformat": 4,
 "nbformat_minor": 2
}
