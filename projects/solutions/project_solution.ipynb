{
 "cells": [
  {
   "attachments": {},
   "cell_type": "markdown",
   "metadata": {},
   "source": [
    "# Solution - Project: ...\n",
    "For this project, let's assume that we have measured the brain volumes for all 400 images in the OASIS dataset and stored them in a csv file. We have also access to all image data sets.\n",
    "\n",
    "This demo is a jupyter notebook, i.e. intended to be run step by step.\n",
    "\n",
    "Author: Eric Einspänner\n",
    "<br>\n",
    "Contributor: Nastaran Takmilhomayouni\n",
    "\n",
    "First version: 6th of July 2023\n",
    "\n",
    "Copyright 2023 Clinic of Neuroradiology, Magdeburg, Germany\n",
    "\n",
    "License: Apache-2.0"
   ]
  },
  {
   "cell_type": "markdown",
   "metadata": {},
   "source": [
    "## Project description - Part I\n",
    "For this project part we are using the data stored in a csv file.\n",
    "\n",
    "With this data, we want to answer some crucial questions:\n",
    "- ...\n",
    "- ...\n",
    "\n",
    "\n",
    "For this question, we can use a two-sample t-test. We will test the null hypothesis that the mean brain volumes shrinks due to Alzheimer's. The likelihood of the null hypothesis being true is assessed by calculating the t-statistic. If the magnitude of t is very far from 0, then we can reject the null hypothesis that the groups are the same."
   ]
  },
  {
   "attachments": {},
   "cell_type": "markdown",
   "metadata": {},
   "source": [
    "### 1. Import Python libraries"
   ]
  },
  {
   "cell_type": "code",
   "execution_count": null,
   "metadata": {},
   "outputs": [],
   "source": [
    "# Make sure figures appears inline and animations works\n",
    "# Edit this to \"\"%matplotlib notebook\" when using the \"classic\" jupyter notebook interface\n",
    "%matplotlib widget"
   ]
  },
  {
   "cell_type": "code",
   "execution_count": null,
   "metadata": {},
   "outputs": [],
   "source": [
    "# Used to change filepaths\n",
    "from pathlib import Path\n",
    "\n",
    "# We set up matplotlib and the display function\n",
    "import matplotlib.pyplot as plt\n",
    "from IPython.display import display\n",
    "\n",
    "# import numpy, pandas, pydicom and ...\n",
    "import numpy as np\n",
    "import pandas as pd\n",
    "import pydicom"
   ]
  },
  {
   "cell_type": "markdown",
   "metadata": {},
   "source": [
    "### 2. Import and read the dataset"
   ]
  },
  {
   "cell_type": "code",
   "execution_count": null,
   "metadata": {},
   "outputs": [],
   "source": [
    "# Load OASIS csv file\n",
    "df = pd.read_csv('../files/oasis_all_volumes.csv', index_col=0)"
   ]
  },
  {
   "cell_type": "markdown",
   "metadata": {},
   "source": [
    "### 3. Check the dataset"
   ]
  },
  {
   "cell_type": "code",
   "execution_count": null,
   "metadata": {},
   "outputs": [],
   "source": [
    "# Print the first five rows of the table\n",
    "print(df.head())\n",
    "\n",
    "# Print prevalence of Alzheimer's Disease\n",
    "print(df.alzheimers.value_counts())\n",
    "\n",
    "# Print a correlation table excluding non-numeric columns\n",
    "print(df.select_dtypes(include='number').corr())"
   ]
  },
  {
   "cell_type": "markdown",
   "metadata": {},
   "source": [
    "### 4. Testing Group Differences\n",
    "Let's test the hypothesis that Alzheimer's Disease is characterized by reduced brain volume. To run the t-test, we need the brain volumes for all patients with diagnosed Alzheimer's and without in our sample. Select the 'alzheimers' values with `df.loc`, then specifying the column with \"brain volume\" values. For the healthy cohort, we change the selected value to 'False'. To run the t-test, import the `ttest_ind()` function from SciPy's stats module. Then, pass the two vectors as our first and second populations. The results object contains the test statistic and the p-value. The p-value corresponds to the probability that the null hypothesis is true.\n",
    "\n",
    "In this case, the two population samples are independent from each other because they are all separate subjects.\n",
    "\n",
    "For this exercise, use the OASIS dataset (`df`) and `ttest_ind` to evaluate the hypothesis."
   ]
  },
  {
   "cell_type": "code",
   "execution_count": null,
   "metadata": {},
   "outputs": [],
   "source": [
    "# Import independent two-sample t-test\n",
    "from scipy.stats import ttest_ind"
   ]
  },
  {
   "cell_type": "markdown",
   "metadata": {},
   "source": [
    "To better understand the function `ttest_ind` try to get more information about `ttest_ind` with the `help()` function. Which parameters does the function need? What is the output?"
   ]
  },
  {
   "cell_type": "code",
   "execution_count": null,
   "metadata": {},
   "outputs": [],
   "source": [
    "help(ttest_ind)"
   ]
  },
  {
   "cell_type": "markdown",
   "metadata": {},
   "source": [
    "Use DataFrame operations to extract brain volume data for Alzheimer's and typical groups for the column `brain_vol`."
   ]
  },
  {
   "cell_type": "code",
   "execution_count": null,
   "metadata": {},
   "outputs": [],
   "source": [
    "# Select data from \"alzheimers\" and \"typical\" groups\n",
    "brain_alz = df.loc[df.alzheimers == True, 'brain_vol']\n",
    "brain_typ = df.loc[df.alzheimers == False, 'brain_vol']"
   ]
  },
  {
   "cell_type": "markdown",
   "metadata": {},
   "source": [
    "We can now perform a two-sample t-test between the brain volumes of elderly adults with and without Alzheimer's Disease. Using `results.statistic` and `results.pvalue` as your guide, answer the question: Is there strong evidence that Alzheimer's Disease is marked by smaller brain size?"
   ]
  },
  {
   "cell_type": "code",
   "execution_count": null,
   "metadata": {},
   "outputs": [],
   "source": [
    "# Perform t-test of \"alz\" > \"typ\"\n",
    "results = ttest_ind(brain_alz, brain_typ)\n",
    "print('t = ', results.statistic)\n",
    "print('p = ', results.pvalue)"
   ]
  },
  {
   "cell_type": "markdown",
   "metadata": {},
   "source": [
    "Solution: There is some evidence for decreased brain volume in individuals with Alzheimer's Disease. Since the p-value for this t-test is greater than 0.05, we would not reject the null hypothesis that states the two groups are equal."
   ]
  },
  {
   "cell_type": "markdown",
   "metadata": {},
   "source": [
    "Visualize the distribution of brain volumes based on whether individuals have Alzheimer's disease or not."
   ]
  },
  {
   "cell_type": "code",
   "execution_count": null,
   "metadata": {},
   "outputs": [],
   "source": [
    "# Show boxplot of brain_vol differences\n",
    "df.boxplot(column='brain_vol', by='alzheimers')\n",
    "plt.show()"
   ]
  },
  {
   "cell_type": "markdown",
   "metadata": {},
   "source": [
    "### 5. Normalizing metrics\n",
    "We previously saw that there was not a significant difference between the brain volumes of elderly individuals with and without Alzheimer's Disease. To account for this potential confound, we can normalize brain volume with respect to skull size by calculating the brain to skull ratio.\n",
    "\n",
    "But could a correlated measure, such as \"skull volume\" be masking the differences?\n",
    "\n",
    "For this exercise, calculate a new test statistic for the comparison of brain volume between groups, after adjusting for the subject's skull size."
   ]
  },
  {
   "cell_type": "code",
   "execution_count": null,
   "metadata": {},
   "outputs": [],
   "source": [
    "# Adjust `brain_vol` by `skull_vol`\n",
    "df['adj_brain_vol'] = df.brain_vol / df.skull_vol"
   ]
  },
  {
   "cell_type": "markdown",
   "metadata": {},
   "source": [
    "Use DataFrame operations to extract brain volume data for Alzheimer's and typical groups for the new column `adj_brain_vol` and perform a two-sample t-test between the brain volumes of elderly adults with and without Alzheimer's Disease. The statistics and the p-value would be interesting here (print statistic and p value).\n",
    "\n",
    "Using `results.statistic` and `results.pvalue` as your guide, answer the question: Is there strong evidence that Alzheimer's Disease is marked by smaller brain size, relative to skull size?"
   ]
  },
  {
   "cell_type": "code",
   "execution_count": null,
   "metadata": {},
   "outputs": [],
   "source": [
    "# Select brain measures by group\n",
    "brain_alz = df.loc[df.alzheimers == True, 'adj_brain_vol']\n",
    "brain_typ = df.loc[df.alzheimers == False, 'adj_brain_vol']\n",
    "\n",
    "# Evaluate null hypothesis\n",
    "results = ttest_ind(brain_alz, brain_typ)\n",
    "print('t = ', results.statistic)\n",
    "print('p = ', results.pvalue)"
   ]
  },
  {
   "cell_type": "markdown",
   "metadata": {},
   "source": [
    "Solution: Yes, reject the null hypothesis! Based on the results.statistic and results.pvalue."
   ]
  },
  {
   "cell_type": "markdown",
   "metadata": {},
   "source": [
    "## Project description - Part II\n",
    "For this project part ..."
   ]
  },
  {
   "cell_type": "code",
   "execution_count": null,
   "metadata": {},
   "outputs": [],
   "source": []
  }
 ],
 "metadata": {
  "kernelspec": {
   "display_name": "bootcamp",
   "language": "python",
   "name": "python3"
  },
  "language_info": {
   "codemirror_mode": {
    "name": "ipython",
    "version": 3
   },
   "file_extension": ".py",
   "mimetype": "text/x-python",
   "name": "python",
   "nbconvert_exporter": "python",
   "pygments_lexer": "ipython3",
   "version": "3.9.18"
  },
  "orig_nbformat": 4
 },
 "nbformat": 4,
 "nbformat_minor": 2
}
