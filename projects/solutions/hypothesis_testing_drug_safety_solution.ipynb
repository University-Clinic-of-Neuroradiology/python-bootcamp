{
 "cells": [
  {
   "cell_type": "markdown",
   "metadata": {},
   "source": [
    "# Solution: Hypothesis Testing in Healthcare: Drug Safety\n",
    "\n",
    "This is a jupyter notebook, i.e. intended to be run step by step.\n",
    "\n",
    "Author: Eric Einspänner\n",
    "\n",
    "First version: 17th of September 2024\n",
    "\n",
    "Copyright 2023 Clinic of Neuroradiology, Magdeburg, Germany\n",
    "\n",
    "License: Apache-2.0\n",
    "\n",
    "The original dataset can be found [here](https://hbiostat.org/data/repo/safety.rda)."
   ]
  },
  {
   "cell_type": "markdown",
   "metadata": {},
   "source": [
    "## Initial Set-Up for Google Colab\n",
    "<u> Execute these code blocks just in Google Colab! </u>"
   ]
  },
  {
   "cell_type": "code",
   "execution_count": null,
   "metadata": {},
   "outputs": [],
   "source": [
    "!wget -q -O - https://github.com/University-Clinic-of-Neuroradiology/python-bootcamp/archive/refs/heads/main.tar.gz | tar -xzf - --strip-components=2 python-bootcamp-main/notebooks/projects"
   ]
  },
  {
   "cell_type": "code",
   "execution_count": null,
   "metadata": {},
   "outputs": [],
   "source": [
    "import os\n",
    "import sys\n",
    "from google.colab import output\n",
    "output.enable_custom_widget_manager()\n",
    "\n",
    "sys.path.insert(0,'projects')\n",
    "os.chdir(sys.path[0])"
   ]
  },
  {
   "cell_type": "code",
   "execution_count": null,
   "metadata": {},
   "outputs": [],
   "source": [
    "%pip install -q ipympl numpy pandas statsmodels pingouin matplotlib seaborn"
   ]
  },
  {
   "cell_type": "code",
   "execution_count": 3,
   "metadata": {},
   "outputs": [],
   "source": [
    "# Import packages\n",
    "import numpy as np\n",
    "import pandas as pd\n",
    "from statsmodels.stats.proportion import proportions_ztest\n",
    "import pingouin\n",
    "import seaborn as sns\n",
    "import matplotlib.pyplot as plt\n",
    "\n",
    "# Load the dataset\n",
    "drug_safety = pd.read_csv(\"files/drug_safety.csv\")"
   ]
  },
  {
   "cell_type": "markdown",
   "metadata": {},
   "source": [
    "## --- Start notebook ---"
   ]
  },
  {
   "cell_type": "code",
   "execution_count": null,
   "metadata": {},
   "outputs": [],
   "source": [
    "drug_safety.head()"
   ]
  },
  {
   "cell_type": "markdown",
   "metadata": {},
   "source": [
    "### 1. Two-sample proportions z-test:"
   ]
  },
  {
   "cell_type": "code",
   "execution_count": null,
   "metadata": {},
   "outputs": [],
   "source": [
    "# Count the adverse_effects column values for each trx group\n",
    "adv_eff_by_trx = drug_safety.groupby(\"trx\").adverse_effects.value_counts()\n",
    "\n",
    "# Compute total rows in each group\n",
    "adv_eff_by_trx_totals = adv_eff_by_trx.groupby(\"trx\").sum()\n",
    "\n",
    "print(adv_eff_by_trx)\n",
    "print(adv_eff_by_trx_totals)"
   ]
  },
  {
   "cell_type": "code",
   "execution_count": null,
   "metadata": {},
   "outputs": [],
   "source": [
    "# Create an array of the \"Yes\" counts for each group\n",
    "yeses = [adv_eff_by_trx[\"Drug\"][\"Yes\"], adv_eff_by_trx[\"Placebo\"][\"Yes\"]]\n",
    "\n",
    "# Create an array of the total number of rows in each group\n",
    "n = [adv_eff_by_trx_totals[\"Drug\"], adv_eff_by_trx_totals[\"Placebo\"]]\n",
    "\n",
    "# Perform a two-sided z-test on the two proportions\n",
    "two_sample_results = proportions_ztest(yeses, n)\n",
    "\n",
    "# Store the p-value\n",
    "two_sample_p_value = two_sample_results[1]"
   ]
  },
  {
   "cell_type": "markdown",
   "metadata": {},
   "source": [
    "### 2. Association between adverse effects and the groups:"
   ]
  },
  {
   "cell_type": "code",
   "execution_count": null,
   "metadata": {},
   "outputs": [],
   "source": [
    "# Determine if num_effects and trx are independent\n",
    "num_effects_groups = pingouin.chi2_independence(\n",
    "    data=drug_safety, x=\"num_effects\", y=\"trx\")\n",
    "\n",
    "# Extract the p-value\n",
    "num_effects_p_value = num_effects_groups[2][\"pval\"][0]"
   ]
  },
  {
   "cell_type": "markdown",
   "metadata": {},
   "source": [
    "### 3. Inspecting whether age is normally distributed:"
   ]
  },
  {
   "cell_type": "code",
   "execution_count": null,
   "metadata": {},
   "outputs": [],
   "source": [
    "# Create a histogram with Seaborn\n",
    "sns.histplot(data=drug_safety, x=\"age\", hue=\"trx\")"
   ]
  },
  {
   "cell_type": "markdown",
   "metadata": {},
   "source": [
    "#### Optional"
   ]
  },
  {
   "cell_type": "code",
   "execution_count": null,
   "metadata": {},
   "outputs": [],
   "source": [
    "# To choose between unpaired t-test and Wilcoxon-Mann-Whitney test\n",
    "normality = pingouin.normality(\n",
    "    data=drug_safety,\n",
    "    dv='age',\n",
    "    group='trx',\n",
    "    method='shapiro', # the default\n",
    "    alpha=0.05) # 0.05 is also the default"
   ]
  },
  {
   "cell_type": "markdown",
   "metadata": {},
   "source": [
    "### 4. Significant difference between the ages of both groups:"
   ]
  },
  {
   "cell_type": "code",
   "execution_count": null,
   "metadata": {},
   "outputs": [],
   "source": [
    "# Select the age of the Drug group\n",
    "age_trx = drug_safety.loc[drug_safety[\"trx\"] == \"Drug\", \"age\"]\n",
    "\n",
    "# Select the age of the Placebo group\n",
    "age_placebo = drug_safety.loc[drug_safety[\"trx\"] == \"Placebo\", \"age\"]\n",
    "\n",
    "# Since the data distribution is not normal\n",
    "# Conduct a two-sided Mann-Whitney U test\n",
    "age_group_effects = pingouin.mwu(age_trx, age_placebo)\n",
    "\n",
    "# Extract the p-value\n",
    "age_group_effects_p_value = age_group_effects[\"p-val\"]"
   ]
  }
 ],
 "metadata": {
  "kernelspec": {
   "display_name": "pvs",
   "language": "python",
   "name": "python3"
  },
  "language_info": {
   "codemirror_mode": {
    "name": "ipython",
    "version": 3
   },
   "file_extension": ".py",
   "mimetype": "text/x-python",
   "name": "python",
   "nbconvert_exporter": "python",
   "pygments_lexer": "ipython3",
   "version": "3.9.18"
  }
 },
 "nbformat": 4,
 "nbformat_minor": 2
}
