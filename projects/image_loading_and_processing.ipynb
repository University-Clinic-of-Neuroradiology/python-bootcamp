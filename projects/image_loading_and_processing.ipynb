{
 "cells": [
  {
   "attachments": {},
   "cell_type": "markdown",
   "metadata": {},
   "source": [
    "# Project: ...\n",
    "This project ...\n",
    "\n",
    "\n",
    "\n",
    "Author: Eric Einspänner\n",
    "First version: 6th of July 2023\n",
    "\n",
    "\n",
    "Copyright 2023 Clinic of Neuroradiology, Magdeburg, Germany\n",
    "License: Apache-2.0"
   ]
  },
  {
   "attachments": {},
   "cell_type": "markdown",
   "metadata": {},
   "source": [
    "## Project description"
   ]
  },
  {
   "attachments": {},
   "cell_type": "markdown",
   "metadata": {},
   "source": [
    "### 1. Import Python libraries"
   ]
  },
  {
   "cell_type": "code",
   "execution_count": null,
   "metadata": {},
   "outputs": [],
   "source": [
    "# Used to change filepaths\n",
    "from pathlib import Path\n",
    "\n",
    "# We set up matplotlib and the display function\n",
    "%matplotlib inline\n",
    "import matplotlib.pyplot as plt\n",
    "from IPython.display import display\n",
    "\n",
    "# import numpy, pydicom and ...\n",
    "# ... YOUR CODE FOR TASK 1 ..."
   ]
  },
  {
   "attachments": {},
   "cell_type": "markdown",
   "metadata": {},
   "source": [
    "### 2. Check the dataset"
   ]
  },
  {
   "cell_type": "code",
   "execution_count": null,
   "metadata": {},
   "outputs": [],
   "source": [
    "# \n",
    "# ... YOUR CODE FOR TASK 2 ..."
   ]
  },
  {
   "attachments": {},
   "cell_type": "markdown",
   "metadata": {},
   "source": [
    "### 3. Image manipulation\n",
    "For example, one may want to resize an image so that the file size is smaller. Or, perhaps, convert an image to black-and-white instead of color. Operations that Pillow provides include:\n",
    "\n",
    "- resizing\n",
    "- cropping\n",
    "- rotating\n",
    "- flipping\n",
    "- converting to greyscale (or other color modes)\n",
    "Often, these kinds of manipulations are part of the pipeline for turning a small number of images into more images to create training data for machine learning algorithms. This technique is called data augmentation, and it is a common technique for image classification.\n",
    "\n",
    "We'll try a couple of these operations and look at the results."
   ]
  },
  {
   "cell_type": "code",
   "execution_count": null,
   "metadata": {},
   "outputs": [],
   "source": [
    "# Crop the image to 25, 25, 75, 75\n",
    "img_cropped = ...\n",
    "display(img_cropped)\n",
    "\n",
    "# rotate the image by 45 degrees\n",
    "img_rotated = ...\n",
    "display(img_rotated)\n",
    "\n",
    "# flip the image left to right\n",
    "img_flipped = ...\n",
    "display(img_flipped)"
   ]
  },
  {
   "attachments": {},
   "cell_type": "markdown",
   "metadata": {},
   "source": [
    "### 4. Images as arrays of data"
   ]
  },
  {
   "cell_type": "code",
   "execution_count": null,
   "metadata": {},
   "outputs": [],
   "source": [
    "# Turn our image object into a NumPy array\n",
    "img_data = ...\n",
    "\n",
    "# get the shape of the resulting array\n",
    "img_data_shape = ...\n",
    "\n",
    "print(\"Our NumPy array has the shape: {}\".format(img_data_shape))\n",
    "\n",
    "# plot the data with `imshow` \n",
    "# ... YOUR CODE FOR TASK 4 ...\n",
    "plt.show()\n",
    "\n",
    "# plot the red channel\n",
    "plt.imshow(..., cmap=plt.cm.Reds_r)\n",
    "plt.show()\n",
    "\n",
    "# plot the green channel\n",
    "plt.imshow(..., cmap=plt.cm.Greens_r)\n",
    "plt.show()\n",
    "\n",
    "# plot the blue channel\n",
    "plt.imshow(..., cmap=plt.cm.Blues_r)\n",
    "plt.show()"
   ]
  },
  {
   "attachments": {},
   "cell_type": "markdown",
   "metadata": {},
   "source": [
    "### 5. Explore ..."
   ]
  }
 ],
 "metadata": {
  "kernelspec": {
   "display_name": "bootcamp",
   "language": "python",
   "name": "python3"
  },
  "language_info": {
   "name": "python",
   "version": "3.9.17"
  },
  "orig_nbformat": 4
 },
 "nbformat": 4,
 "nbformat_minor": 2
}
