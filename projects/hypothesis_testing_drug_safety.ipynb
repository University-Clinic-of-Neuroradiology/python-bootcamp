{
 "cells": [
  {
   "cell_type": "markdown",
   "metadata": {},
   "source": [
    "# Hypothesis Testing in Healthcare: Drug Safety\n",
    "\n",
    "A pharmaceutical company GlobalXYZ has just completed a randomized controlled drug trial. To promote transparency and reproducibility of the drug's outcome, they (GlobalXYZ) have presented the dataset to your organization, a non-profit that focuses primarily on drug safety.\n",
    "\n",
    "The dataset provided contained five adverse effects, demographic data, vital signs, etc. Your organization is primarily interested in the drug's adverse reactions. It wants to know if the adverse reactions, if any, are of significant proportions. It has asked you to explore and answer some questions from the data.\n",
    "\n",
    "The dataset `drug_safety.csv` was obtained from [Hbiostat](https://hbiostat.org/data/) courtesy of the Vanderbilt University Department of Biostatistics. It contained five adverse effects: headache, abdominal pain, dyspepsia, upper respiratory infection, chronic obstructive airway disease (COAD), demographic data, vital signs, lab measures, etc. The ratio of drug observations to placebo observations is 2 to 1.\n",
    "\n",
    "For this project, the dataset has been modified to reflect the presence and absence of adverse effects `adverse_effects` and the number of adverse effects in a single individual `num_effects`.\n",
    "\n",
    "The columns in the modified dataset are: \n",
    "\n",
    "| Column | Description |\n",
    "|--------|-------------|\n",
    "|`sex` | The gender of the individual |\n",
    "|`age` | The age of the individual |\n",
    "|`week` | The week of the drug testing |\n",
    "|`trx` | The treatment (Drug) and control (Placebo) groups | \n",
    "|`wbc` | The count of white blood cells |\n",
    "|`rbc` | The count of red blood cells |\n",
    "|`adverse_effects` | The presence of at least a single adverse effect |\n",
    "|`num_effects` | The number of adverse effects experienced by a single individual |\n",
    "\n",
    "The original dataset can be found [here](https://hbiostat.org/data/repo/safety.rda).\n",
    "\n",
    "This is a jupyter notebook, i.e. intended to be run step by step.\n",
    "\n",
    "Author: Eric Einspänner\n",
    "\n",
    "First version: 17th of September 2024\n",
    "\n",
    "Copyright 2023 Clinic of Neuroradiology, Magdeburg, Germany\n",
    "\n",
    "License: Apache-2.0"
   ]
  },
  {
   "cell_type": "markdown",
   "metadata": {},
   "source": [
    "## Initial Set-Up for Google Colab\n",
    "<u> Execute these code blocks just in Google Colab! </u>"
   ]
  },
  {
   "cell_type": "code",
   "execution_count": null,
   "metadata": {},
   "outputs": [],
   "source": [
    "!wget -q -O - https://github.com/University-Clinic-of-Neuroradiology/python-bootcamp/archive/refs/heads/main.tar.gz | tar -xzf - --strip-components=2 python-bootcamp-main/projects"
   ]
  },
  {
   "cell_type": "code",
   "execution_count": null,
   "metadata": {},
   "outputs": [],
   "source": [
    "import os\n",
    "import sys\n",
    "from google.colab import output\n",
    "output.enable_custom_widget_manager()\n",
    "\n",
    "sys.path.insert(0,'projects')\n",
    "os.chdir(sys.path[0])"
   ]
  },
  {
   "cell_type": "code",
   "execution_count": null,
   "metadata": {},
   "outputs": [],
   "source": [
    "%pip install -q ipympl numpy pandas statsmodels pingouin matplotlib seaborn"
   ]
  },
  {
   "cell_type": "code",
   "execution_count": 3,
   "metadata": {},
   "outputs": [],
   "source": [
    "# Import packages\n",
    "import numpy as np\n",
    "import pandas as pd\n",
    "from statsmodels.stats.proportion import proportions_ztest\n",
    "import pingouin\n",
    "import seaborn as sns\n",
    "import matplotlib.pyplot as plt\n",
    "\n",
    "# Load the dataset\n",
    "drug_safety = pd.read_csv(\"files/drug_safety.csv\")"
   ]
  },
  {
   "cell_type": "markdown",
   "metadata": {},
   "source": [
    "## --- Start notebook ---"
   ]
  },
  {
   "cell_type": "code",
   "execution_count": null,
   "metadata": {},
   "outputs": [],
   "source": [
    "drug_safety.head()"
   ]
  },
  {
   "cell_type": "markdown",
   "metadata": {},
   "source": [
    "### 1. Two-sample proportions z-test:\n",
    "Determine if the proportion of adverse_effects differs significantly between the trx groups to know if the pharmaceutical drug created statistically significant side effects.\n",
    "\n",
    "- Getting the count of successes and total counts:\n",
    "  - In this scenario, a \"success\" would be where \"adverse_effects\" is \"True\", and we want to compare the difference between the two \"trx\" groups - \"Drug\" and \"Placebo\".\n",
    "  - We can create a variable containing the frequency of \"adverse_effects\" for each group, which can be done using the chained pandas DataFrame `.groupby(\"group\").column.value_counts()` function.\n",
    "  - Using the variable you've created, you can get the total counts in each group by calculating the sum of successes and failures within each group. You may use `dataframe.groupby(\"group\").column.sum()` to get them."
   ]
  },
  {
   "cell_type": "code",
   "execution_count": null,
   "metadata": {},
   "outputs": [],
   "source": [
    "# Count the adverse_effects column values for each trx group\n",
    "adv_eff_by_trx = ...\n",
    "\n",
    "# Compute total rows in each group\n",
    "adv_eff_by_trx_totals = ...\n",
    "\n",
    "print(adv_eff_by_trx)\n",
    "print(adv_eff_by_trx_totals)"
   ]
  },
  {
   "cell_type": "markdown",
   "metadata": {},
   "source": [
    "- Performing a two-sample proportions z-test:\n",
    "  - Put the number of successes in each group in a list or numpy array.\n",
    "  - Also, put each group's total number of observations (rows) in a list or numpy array.\n",
    "  - The `proportions_ztest()` function takes the number of successes and total number of observations, returning a tuple containing the z-statistic and p-value.\n",
    "  - You can save the results of the test as the variable `two_sample_results` and subset the second element using `two_sample_results[1]`."
   ]
  },
  {
   "cell_type": "code",
   "execution_count": null,
   "metadata": {},
   "outputs": [],
   "source": [
    "# Create an array of the \"Yes\" counts for each group\n",
    "yeses = ...\n",
    "\n",
    "# Create an array of the total number of rows in each group\n",
    "n = ...\n",
    "\n",
    "# Perform a two-sided z-test on the two proportions\n",
    "two_sample_results = ...\n",
    "\n",
    "# Store the p-value\n",
    "two_sample_p_value = ..."
   ]
  },
  {
   "cell_type": "markdown",
   "metadata": {},
   "source": [
    "### 2. Association between adverse effects and the groups:\n",
    "Test if num_effects and trx are independent to determine whether trx influences the number of effects.\n",
    "\n",
    "- Performing a Chi-square test of independence\n",
    "  - Use the `pingouin.chi2_independence()` function to perform a Chi-square test of independence.\n",
    "  - This function requires three arguments - data, x, and y.\n",
    "  - The third element of the tuple returned by `pingouin.chi2_independence()` contains the test statistics.\n",
    "  - You can subset for the p-value of the test by extracting the third element, its p-value, then the first element, e.g. `num_effects_p_value = num_effects_groups[2][\"pval\"][0]`"
   ]
  },
  {
   "cell_type": "code",
   "execution_count": null,
   "metadata": {},
   "outputs": [],
   "source": [
    "# Determine if num_effects and trx are independent\n",
    "num_effects_groups = ...\n",
    "\n",
    "# Extract the p-value\n",
    "num_effects_p_value = ..."
   ]
  },
  {
   "cell_type": "markdown",
   "metadata": {},
   "source": [
    "### 3. Inspecting whether age is normally distributed:\n",
    "To determine what test to use to confirm whether age differs significantly between the trx groups you need to check if age is normally distributed in the trx groups. This can be done visually or by using a statistical test.\n",
    "\n",
    "- Creating a histogram\n",
    "  - Use the `sns.histplot()` function to create a histogram.\n",
    "  - Set the hue parameter to a group of interest if any."
   ]
  },
  {
   "cell_type": "code",
   "execution_count": null,
   "metadata": {},
   "outputs": [],
   "source": [
    "# Create a histogram with Seaborn\n",
    "sns.histplot(...)"
   ]
  },
  {
   "cell_type": "markdown",
   "metadata": {},
   "source": [
    "#### Optional\n",
    "- Testing for normality\n",
    "  - To formally test for a difference in distributions of age between the two trx groups you can perform a Shapiro-Wilks test using `pengouin.normality()`.\n",
    "  - This function takes three arguments - data, dv (dependent variable), and group."
   ]
  },
  {
   "cell_type": "code",
   "execution_count": null,
   "metadata": {},
   "outputs": [],
   "source": [
    "# To choose between unpaired t-test and Wilcoxon-Mann-Whitney test\n",
    "normality = pingouin.normality(...)"
   ]
  },
  {
   "cell_type": "markdown",
   "metadata": {},
   "source": [
    "### 4. Significant difference between the ages of both groups:\n",
    "To ensure age wasn't a confounder, conduct a Mann-Whitney test to determine if age differed significantly between the trx groups.\n",
    "\n",
    "- Perform Mann-Whitney test:\n",
    "  - Select the age data for the \"Drug\" and \"Placebo\" group, which can be done using `.loc[dataframe[\"column\"] == \"group\", \"data\"]` function.\n",
    "  - Perform the Mann-Whitney U test `pingouin.mwu()`.\n",
    "  - Extract the p-value (`p-val`) from the test result."
   ]
  },
  {
   "cell_type": "code",
   "execution_count": null,
   "metadata": {},
   "outputs": [],
   "source": [
    "# Select the age of the Drug group\n",
    "age_trx = ...\n",
    "\n",
    "# Select the age of the Placebo group\n",
    "age_placebo = ...\n",
    "\n",
    "# Since the data distribution is not normal\n",
    "# Conduct a two-sided Mann-Whitney U test\n",
    "age_group_effects = ...\n",
    "\n",
    "# Extract the p-value\n",
    "age_group_effects_p_value = ..."
   ]
  }
 ],
 "metadata": {
  "kernelspec": {
   "display_name": "pvs",
   "language": "python",
   "name": "python3"
  },
  "language_info": {
   "codemirror_mode": {
    "name": "ipython",
    "version": 3
   },
   "file_extension": ".py",
   "mimetype": "text/x-python",
   "name": "python",
   "nbconvert_exporter": "python",
   "pygments_lexer": "ipython3",
   "version": "3.9.18"
  }
 },
 "nbformat": 4,
 "nbformat_minor": 2
}
