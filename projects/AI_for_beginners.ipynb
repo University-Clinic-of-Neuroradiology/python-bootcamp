{
 "cells": [
  {
   "cell_type": "markdown",
   "metadata": {},
   "source": [
    "# AI Python for Beginners: Automating Tasks with Python\n",
    "In this exercise, you will solve various tasks using a chatbot or co-pilot. The tasks include for-loops, functions and error handling.\n",
    "\n",
    "This is a jupyter notebook, i.e. intended to be run step by step.\n",
    "\n",
    "Author: Eric Einspänner\n",
    "\n",
    "First version: 17th of September 2024\n",
    "\n",
    "Copyright 2023 Clinic of Neuroradiology, Magdeburg, Germany\n",
    "\n",
    "License: Apache-2.0"
   ]
  },
  {
   "cell_type": "markdown",
   "metadata": {},
   "source": [
    "## Initial Set-Up for Google Colab\n",
    "<u> Execute these code blocks just in Google Colab! </u>"
   ]
  },
  {
   "cell_type": "code",
   "execution_count": null,
   "metadata": {},
   "outputs": [],
   "source": [
    "!wget -q -O - https://github.com/University-Clinic-of-Neuroradiology/python-bootcamp/archive/refs/heads/main.tar.gz | tar -xzf - --strip-components=2 python-bootcamp-main/projects"
   ]
  },
  {
   "cell_type": "code",
   "execution_count": null,
   "metadata": {},
   "outputs": [],
   "source": [
    "import os\n",
    "import sys\n",
    "from google.colab import output\n",
    "output.enable_custom_widget_manager()"
   ]
  },
  {
   "cell_type": "code",
   "execution_count": null,
   "metadata": {},
   "outputs": [],
   "source": [
    "%pip install -q ipympl numpy matplotlib"
   ]
  },
  {
   "cell_type": "code",
   "execution_count": null,
   "metadata": {},
   "outputs": [],
   "source": [
    "# Import packages\n",
    "import numpy as np\n",
    "import matplotlib.pyplot as plt"
   ]
  },
  {
   "cell_type": "markdown",
   "metadata": {},
   "source": [
    "## --- Start notebook ---"
   ]
  },
  {
   "cell_type": "markdown",
   "metadata": {},
   "source": [
    "Use a chatbot (e.g. ChatGPT) to solve the following tasks. Think about a prompt that is as precise as possible in order to get exactly the result that is required. Sometimes it is necessary to solve the problem iteratively with the chatbot by refining the query based on the context."
   ]
  },
  {
   "cell_type": "markdown",
   "metadata": {},
   "source": [
    "### 1. For-loop:\n",
    "Write a function that outputs the numbers from 1 to n (inclusive). Use a for loop to iterate the numbers.\n",
    "\n",
    "Note: n should be a positive integer."
   ]
  },
  {
   "cell_type": "code",
   "execution_count": 1,
   "metadata": {},
   "outputs": [],
   "source": [
    "def print_numbers():\n",
    "    ..."
   ]
  },
  {
   "cell_type": "code",
   "execution_count": null,
   "metadata": {},
   "outputs": [],
   "source": [
    "# test\n",
    "try:\n",
    "    n = int(input(\"Enter a positive integer n: \"))\n",
    "    print_numbers(n)\n",
    "except ValueError as e:\n",
    "    print(f\"Error: {e}\")"
   ]
  },
  {
   "cell_type": "markdown",
   "metadata": {},
   "source": [
    "### 2. Function:\n",
    "Write a function that calculates the factorial of a number. The factorial of n (n!) is the product of all positive integers from 1 to n.\n",
    "\n",
    "Use a recursive function."
   ]
  },
  {
   "cell_type": "code",
   "execution_count": 4,
   "metadata": {},
   "outputs": [],
   "source": [
    "def factorial():\n",
    "    ..."
   ]
  },
  {
   "cell_type": "code",
   "execution_count": null,
   "metadata": {},
   "outputs": [],
   "source": [
    "# test\n",
    "try:\n",
    "    n = int(input(\"Enter a non-negative number n: \"))\n",
    "    print(f\"The factorial of {n} is {factorial(n)}.\")\n",
    "except ValueError as e:\n",
    "    print(f\"Error: {e}\")"
   ]
  },
  {
   "cell_type": "markdown",
   "metadata": {},
   "source": [
    "### 3. Error handling:\n",
    "Write a function that divides two numbers. Catch the error when the user tries to divide by zero."
   ]
  },
  {
   "cell_type": "code",
   "execution_count": 7,
   "metadata": {},
   "outputs": [],
   "source": [
    "def divide():\n",
    "    ..."
   ]
  },
  {
   "cell_type": "code",
   "execution_count": null,
   "metadata": {},
   "outputs": [],
   "source": [
    "# test\n",
    "try:\n",
    "    a = float(input(\"Enter the first number (numerator): \"))\n",
    "    b = float(input(\"Enter the second number (denominator): \"))\n",
    "    result = divide(a, b)\n",
    "    print(f\"The result of the division is: {result}\")\n",
    "except ValueError:\n",
    "    print(\"Error: Please enter valid numbers.\")"
   ]
  },
  {
   "cell_type": "markdown",
   "metadata": {},
   "source": [
    "### 4. Lists and for-loops:\n",
    "Write a function that calculates the sum of all even numbers in a list. Use a for loop to iterate through the list."
   ]
  },
  {
   "cell_type": "code",
   "execution_count": 10,
   "metadata": {},
   "outputs": [],
   "source": [
    "def sum_even_numbers():\n",
    "    ..."
   ]
  },
  {
   "cell_type": "code",
   "execution_count": null,
   "metadata": {},
   "outputs": [],
   "source": [
    "# test\n",
    "try:\n",
    "    numbers_input = input(\"Enter a list of numbers (separated by commas): \")\n",
    "    numbers = [int(num) for num in numbers_input.split(\",\")]\n",
    "    print(f\"The sum of the even numbers in the list is : {sum_even_numbers(numbers)}.\")\n",
    "except ValueError:\n",
    "    print(\"Error: Please enter valid numbers.\")"
   ]
  }
 ],
 "metadata": {
  "kernelspec": {
   "display_name": "gan_results",
   "language": "python",
   "name": "python3"
  },
  "language_info": {
   "codemirror_mode": {
    "name": "ipython",
    "version": 3
   },
   "file_extension": ".py",
   "mimetype": "text/x-python",
   "name": "python",
   "nbconvert_exporter": "python",
   "pygments_lexer": "ipython3",
   "version": "3.9.18"
  }
 },
 "nbformat": 4,
 "nbformat_minor": 2
}
