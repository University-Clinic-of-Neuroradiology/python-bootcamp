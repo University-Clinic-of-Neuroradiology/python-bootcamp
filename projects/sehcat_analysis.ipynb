{
 "cells": [
  {
   "cell_type": "markdown",
   "metadata": {},
   "source": [
    "# Measuring SeHCAT retention\n",
    "\n",
    "This is a jupyter notebook, i.e. intended to be run step by step.\n",
    "\n",
    "Author: Eric Einspänner\n",
    "\n",
    "First version: 17th of September 2024\n",
    "\n",
    "Copyright 2023 Clinic of Neuroradiology, Magdeburg, Germany\n",
    "\n",
    "License: Apache-2.0\n",
    "\n",
    "The data sets were provided by the University Clinic for Radiology and Nuclear Medicine Magdeburg."
   ]
  },
  {
   "cell_type": "markdown",
   "metadata": {},
   "source": [
    "## Initial Set-Up for Google Colab\n",
    "<u> Execute these code blocks just in Google Colab! </u>"
   ]
  },
  {
   "cell_type": "code",
   "execution_count": null,
   "metadata": {},
   "outputs": [],
   "source": [
    "!wget -q -O - https://github.com/University-Clinic-of-Neuroradiology/python-bootcamp/archive/refs/heads/main.tar.gz | tar -xzf - --strip-components=2 python-bootcamp-main/notebooks/projects"
   ]
  },
  {
   "cell_type": "code",
   "execution_count": null,
   "metadata": {},
   "outputs": [],
   "source": [
    "import os\n",
    "import sys\n",
    "from google.colab import output\n",
    "output.enable_custom_widget_manager()\n",
    "\n",
    "sys.path.insert(0,'projects')\n",
    "os.chdir(sys.path[0])"
   ]
  },
  {
   "cell_type": "code",
   "execution_count": null,
   "metadata": {},
   "outputs": [],
   "source": [
    "%pip install -q ipympl os numpy pydicom matplotlib"
   ]
  },
  {
   "cell_type": "code",
   "execution_count": 1,
   "metadata": {},
   "outputs": [],
   "source": [
    "# Import packages\n",
    "import os\n",
    "import numpy as np\n",
    "import pydicom\n",
    "import matplotlib.pyplot as plt"
   ]
  },
  {
   "cell_type": "markdown",
   "metadata": {},
   "source": [
    "## --- Start notebook ---"
   ]
  },
  {
   "cell_type": "markdown",
   "metadata": {},
   "source": [
    "### 0. Load folder/dataset:"
   ]
  },
  {
   "cell_type": "code",
   "execution_count": null,
   "metadata": {},
   "outputs": [],
   "source": [
    "pat_folder = 'files/SehCAT/Pat1/'\n",
    "pat_data = os.listdir(pat_folder)\n",
    "print(pat_data)"
   ]
  },
  {
   "cell_type": "markdown",
   "metadata": {},
   "source": [
    "### 1. Load DICOM data:\n",
    "To be able to work with DICOM data, we have to load and read it out accordingly.\n",
    "\n",
    "- Load DICOm data:\n",
    "  - First we have to read in the data set using `pydicom.dcmread()` and pass it to a variable.\n",
    "  - Read out the DICOM tags (0054, 0400), (0010, 1010), (0010, 1020), (0011, 100d) and (0011, 1012).\n",
    "  - To be able to work with the pixel values (counts per pixel) later, we have to save them in an array using zhe `.pixel_array` function on `dcm_file`.\n",
    "  - Look at the dimension with `.shape`."
   ]
  },
  {
   "cell_type": "code",
   "execution_count": null,
   "metadata": {},
   "outputs": [],
   "source": [
    "# Read the DICOM file\n",
    "dcm_file = ...\n",
    "\n",
    "# Print specific DICOM tags\n",
    "print(...)\n",
    "print(...)\n",
    "print(...)\n",
    "print(...)\n",
    "print(...)\n",
    "\n",
    "# Get the pixel data\n",
    "dcm_pixel_data = ...\n",
    "\n",
    "# Print the shape of the pixel data\n",
    "print(...)"
   ]
  },
  {
   "cell_type": "markdown",
   "metadata": {},
   "source": [
    "### 2. Plot DICOMs\n",
    "If you look at the shape carefully, you will notice that there are four individual images with the size (y,x). We now want to visualise all four pixel arrays."
   ]
  },
  {
   "cell_type": "code",
   "execution_count": null,
   "metadata": {},
   "outputs": [],
   "source": [
    "# Plot the pixel data\n",
    "fig, axs = plt.subplots(1, 4, figsize=(16, 5))\n",
    "\n",
    "# Subplots with subtitles\n",
    "axs[0].imshow(...)\n",
    "axs[0].set_title('ANT_0d_EM1')\n",
    "\n",
    "axs[1].imshow(...)\n",
    "axs[1].set_title('POST_0d_EM1')\n",
    "\n",
    "axs[2].imshow(...)\n",
    "axs[2].set_title('ANT_0d_EM2')\n",
    "\n",
    "axs[3].imshow(...)\n",
    "axs[3].set_title('POST_0d_EM2')\n",
    "\n",
    "plt.tight_layout()\n",
    "plt.show()"
   ]
  },
  {
   "cell_type": "markdown",
   "metadata": {},
   "source": [
    "### 3. Calculate the Retention\n",
    "Calculate the retention for an energy window (EM1) using the equation:\n",
    "\n",
    "$$ retention[\\%] = 1.04 * \\frac{\\sqrt{(\\text{Ant WB7} - \\text{Ant BG7}) \\times (\\text{Post WB7} - \\text{Post BG7})}}{\\sqrt{(\\text{Ant WB0} - \\text{Ant BG0}) \\times (\\text{Post WB0} - \\text{Post BG0})}} * 100 $$\n",
    "Ref: Notghi, Alp et al. Measuring SeHCAT retention: a technical note. Nuclear Medicine Communications 32(10):p 960-966, October 2011. | DOI: 10.1097/MNM.0b013e32834a36af\n",
    "\n",
    "- For the calculation of retention:\n",
    "  - Load the pixel data for all scans of a patient, with `pydicom.dcmread(dataset).pixel_array`\n",
    "  - Determine the sum (`np.sum()`) of the counts for all variables. Save the sum as kcts (division by 1000)\n",
    "  - Calculate the retention! Note the correct mathematical parenthesis."
   ]
  },
  {
   "cell_type": "code",
   "execution_count": null,
   "metadata": {},
   "outputs": [],
   "source": [
    "# Define the decay factor\n",
    "decay_factor = 1.04\n",
    "\n",
    "# Read the DICOM files and get the pixel data\n",
    "bg_0 = ...\n",
    "bg_7 = ...\n",
    "wb_0 = ...\n",
    "wb_7 = ...\n",
    "\n",
    "# Calculate the background and counts for the 0d and 7d images in the anterior and posterior views\n",
    "background_0d_ant = ...\n",
    "...\n",
    "\n",
    "# Calculate the retention after 1 week\n",
    "retention_1w = decay_factor * (...) * 100.\n",
    "\n",
    "print(f\"Retention after 1 week: {retention_1w}%\")"
   ]
  },
  {
   "cell_type": "markdown",
   "metadata": {},
   "source": [
    "#### 4. Function\n",
    "A function can be used to save time for repetitive/redundant tasks.\n",
    "\n",
    "- Create a function `calculate_retention` that takes the necessary parameters.\n",
    "- Move the existing code into the function.\n",
    "- Ensure the function returns the retention value."
   ]
  },
  {
   "cell_type": "code",
   "execution_count": null,
   "metadata": {},
   "outputs": [],
   "source": [
    "def calculate_retention(pat_folder, decay_factor=1.04):\n",
    "    pat_data = os.listdir(pat_folder)\n",
    "\n",
    "    ...\n",
    "\n",
    "    return retention_1w\n",
    "\n",
    "pat_folder = ...\n",
    "retention_1w = ...\n",
    "print(f\"Retention after 1 week: {retention_1w}%\")"
   ]
  }
 ],
 "metadata": {
  "kernelspec": {
   "display_name": "pvs",
   "language": "python",
   "name": "python3"
  },
  "language_info": {
   "codemirror_mode": {
    "name": "ipython",
    "version": 3
   },
   "file_extension": ".py",
   "mimetype": "text/x-python",
   "name": "python",
   "nbconvert_exporter": "python",
   "pygments_lexer": "ipython3",
   "version": "3.9.18"
  }
 },
 "nbformat": 4,
 "nbformat_minor": 2
}
